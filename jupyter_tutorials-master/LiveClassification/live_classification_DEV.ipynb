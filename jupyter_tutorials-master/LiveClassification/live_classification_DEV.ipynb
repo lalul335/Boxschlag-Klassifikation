{
 "cells": [
  {
   "cell_type": "markdown",
   "metadata": {},
   "source": [
    "# Live classification of punch-type and hand"
   ]
  },
  {
   "cell_type": "code",
   "execution_count": 41,
   "metadata": {},
   "outputs": [],
   "source": [
    "#import neccessary modules\n",
    "import json\n",
    "import pandas as pd\n",
    "import numpy as np\n",
    "\n",
    "# tsfresh modules (for feature extraction)\n",
    "from tsfresh import extract_features, extract_relevant_features, select_features\n",
    "from tsfresh.utilities.dataframe_functions import impute\n",
    "from tsfresh.feature_extraction.settings import ComprehensiveFCParameters, MinimalFCParameters, EfficientFCParameters\n",
    "\n",
    "import logging\n",
    "# Set logger-level to \"error\". Not recommed: Important warnings can be overseen\n",
    "logging.basicConfig(level=logging.ERROR)\n",
    "\n",
    "# import machine learning algorithms\n",
    "from sklearn.svm import SVC\n",
    "from sklearn import svm\n",
    "from sklearn.linear_model import LogisticRegression\n",
    "from sklearn.neighbors import KNeighborsClassifier\n",
    "from sklearn.ensemble import RandomForestClassifier\n",
    "\n",
    "from sklearn.metrics import accuracy_score\n",
    "\n",
    "import pickle\n",
    "\n",
    "import sys"
   ]
  },
  {
   "cell_type": "code",
   "execution_count": 42,
   "metadata": {},
   "outputs": [],
   "source": [
    "# helper functions\n",
    "from timeseries_helpers import datasetstorer\n",
    "from timeseries_helpers import dataset_importer\n",
    "from timeseries_helpers import database_importer\n",
    "from timeseries_helpers import standardizer"
   ]
  },
  {
   "cell_type": "markdown",
   "metadata": {},
   "source": [
    "## Import trained models (using the best ones)"
   ]
  },
  {
   "cell_type": "code",
   "execution_count": 43,
   "metadata": {},
   "outputs": [],
   "source": [
    "# Load from file\n",
    "with open(\"./Models/model_rndm_forest_clf_punchtype_periodMS2000_sampleUS1000_TrainSize70.pkl\", 'rb') as file:  \n",
    "    model_rndm_forest_clf_punchtype = pickle.load(file)\n",
    "    \n",
    "# Load from file\n",
    "with open(\"./Models/model_rndm_forest_clf_hand_periodMS2000_sampleUS1000_TrainSize70.pkl\", 'rb') as file:  \n",
    "    model_rndm_forest_clf_hand = pickle.load(file)"
   ]
  },
  {
   "cell_type": "code",
   "execution_count": null,
   "metadata": {},
   "outputs": [],
   "source": []
  },
  {
   "cell_type": "code",
   "execution_count": 44,
   "metadata": {},
   "outputs": [],
   "source": [
    "with open('./punch_data.json', 'r') as f:\n",
    "    jsnDataset = json.load(f)"
   ]
  },
  {
   "cell_type": "code",
   "execution_count": 47,
   "metadata": {},
   "outputs": [
    {
     "name": "stdout",
     "output_type": "stream",
     "text": [
      "<class 'list'>\n"
     ]
    }
   ],
   "source": [
    "# for debugging: output of input json data (live stream)\n",
    "print(type(jsnDataset))"
   ]
  },
  {
   "cell_type": "code",
   "execution_count": 28,
   "metadata": {},
   "outputs": [],
   "source": [
    "#convert dataset to timestamps in absolute us\n",
    "ds = database_importer.jsonData_to_dataset_in_timedifference_us(data=jsnDataset)"
   ]
  },
  {
   "cell_type": "code",
   "execution_count": 22,
   "metadata": {},
   "outputs": [
    {
     "ename": "AttributeError",
     "evalue": "'list' object has no attribute 'info'",
     "output_type": "error",
     "traceback": [
      "\u001b[0;31m---------------------------------------------------------------------------\u001b[0m",
      "\u001b[0;31mAttributeError\u001b[0m                            Traceback (most recent call last)",
      "\u001b[0;32m<ipython-input-22-1a2070579632>\u001b[0m in \u001b[0;36m<module>\u001b[0;34m\u001b[0m\n\u001b[0;32m----> 1\u001b[0;31m \u001b[0mds\u001b[0m\u001b[0;34m.\u001b[0m\u001b[0minfo\u001b[0m\u001b[0;34m(\u001b[0m\u001b[0;34m)\u001b[0m\u001b[0;34m\u001b[0m\u001b[0;34m\u001b[0m\u001b[0m\n\u001b[0m",
      "\u001b[0;31mAttributeError\u001b[0m: 'list' object has no attribute 'info'"
     ]
    }
   ],
   "source": []
  },
  {
   "cell_type": "code",
   "execution_count": 29,
   "metadata": {},
   "outputs": [],
   "source": [
    "ds_new = standardizer.normate_dataset_period(2000,1000,ds) \n",
    "ds = standardizer.change_strings_to_numbs(ds_new)\n",
    "#del ds['Unnamed: 0'] # remove the unnecessary column ... maybe this can be fixed in a later version of the dataset-exporter?! "
   ]
  },
  {
   "cell_type": "code",
   "execution_count": 14,
   "metadata": {},
   "outputs": [
    {
     "ename": "AttributeError",
     "evalue": "'list' object has no attribute 'info'",
     "output_type": "error",
     "traceback": [
      "\u001b[0;31m---------------------------------------------------------------------------\u001b[0m",
      "\u001b[0;31mAttributeError\u001b[0m                            Traceback (most recent call last)",
      "\u001b[0;32m<ipython-input-14-1a2070579632>\u001b[0m in \u001b[0;36m<module>\u001b[0;34m\u001b[0m\n\u001b[0;32m----> 1\u001b[0;31m \u001b[0mds\u001b[0m\u001b[0;34m.\u001b[0m\u001b[0minfo\u001b[0m\u001b[0;34m(\u001b[0m\u001b[0;34m)\u001b[0m\u001b[0;34m\u001b[0m\u001b[0;34m\u001b[0m\u001b[0m\n\u001b[0m",
      "\u001b[0;31mAttributeError\u001b[0m: 'list' object has no attribute 'info'"
     ]
    }
   ],
   "source": []
  },
  {
   "cell_type": "code",
   "execution_count": 30,
   "metadata": {},
   "outputs": [],
   "source": [
    "# converts the given list of dataframes to one dataframe\n",
    "df_list = []\n",
    "for idx,e in enumerate(ds):\n",
    "    df = e.assign(punch_id=idx)\n",
    "    df_list.append(df)\n",
    "df_res = pd.concat(df_list)\n",
    "df_new = df_res.reset_index(drop=True)\n",
    "df_new = df_new.rename(index=str, columns={\"x\": \"a_x\", \"y\": \"a_y\", \"z\":\"a_z\"})"
   ]
  },
  {
   "cell_type": "code",
   "execution_count": 33,
   "metadata": {},
   "outputs": [
    {
     "name": "stdout",
     "output_type": "stream",
     "text": [
      "<class 'pandas.core.frame.DataFrame'>\n",
      "Int64Index: 2001 entries, 0 to 2000\n",
      "Data columns (total 8 columns):\n",
      "x            2001 non-null object\n",
      "y            2001 non-null object\n",
      "z            2001 non-null object\n",
      "timestamp    2001 non-null int64\n",
      "label        0 non-null float64\n",
      "hand         0 non-null float64\n",
      "annotator    2001 non-null int64\n",
      "punch_id     2001 non-null int64\n",
      "dtypes: float64(2), int64(3), object(3)\n",
      "memory usage: 140.7+ KB\n"
     ]
    }
   ],
   "source": [
    "df_res.info()"
   ]
  },
  {
   "cell_type": "code",
   "execution_count": 35,
   "metadata": {},
   "outputs": [
    {
     "name": "stdout",
     "output_type": "stream",
     "text": [
      "<class 'pandas.core.frame.DataFrame'>\n",
      "Index: 2001 entries, 0 to 2000\n",
      "Data columns (total 8 columns):\n",
      "a_x          2001 non-null object\n",
      "a_y          2001 non-null object\n",
      "a_z          2001 non-null object\n",
      "timestamp    2001 non-null int64\n",
      "label        0 non-null float64\n",
      "hand         0 non-null float64\n",
      "annotator    2001 non-null int64\n",
      "punch_id     2001 non-null int64\n",
      "dtypes: float64(2), int64(3), object(3)\n",
      "memory usage: 140.7+ KB\n"
     ]
    }
   ],
   "source": [
    "df_new.info()"
   ]
  },
  {
   "cell_type": "code",
   "execution_count": 31,
   "metadata": {},
   "outputs": [
    {
     "data": {
      "text/plain": [
       "{'sum_values': None,\n",
       " 'median': None,\n",
       " 'mean': None,\n",
       " 'length': None,\n",
       " 'standard_deviation': None,\n",
       " 'variance': None,\n",
       " 'maximum': None,\n",
       " 'minimum': None}"
      ]
     },
     "execution_count": 31,
     "metadata": {},
     "output_type": "execute_result"
    }
   ],
   "source": [
    "# try to use the minimal feature settings\n",
    "settings_minimal = MinimalFCParameters() # only a few basic features\n",
    "settings_minimal"
   ]
  },
  {
   "cell_type": "code",
   "execution_count": 36,
   "metadata": {},
   "outputs": [
    {
     "name": "stderr",
     "output_type": "stream",
     "text": [
      "Feature Extraction: 100%|██████████| 3/3 [00:00<00:00, 34.50it/s]\n"
     ]
    }
   ],
   "source": [
    "# extract features for test dataset\n",
    "testds_for_extraction = df_new.drop(columns=['label','hand','annotator'])\n",
    "test_dataset_extracted = extract_features(testds_for_extraction, column_id=\"punch_id\",column_sort=\"timestamp\", impute_function=impute, default_fc_parameters = settings_minimal);"
   ]
  },
  {
   "cell_type": "code",
   "execution_count": 37,
   "metadata": {},
   "outputs": [
    {
     "name": "stdout",
     "output_type": "stream",
     "text": [
      "[0]\n"
     ]
    }
   ],
   "source": [
    "classified_label = model_rndm_forest_clf_punchtype.predict(test_dataset_extracted)\n",
    "print(classified_label);"
   ]
  },
  {
   "cell_type": "code",
   "execution_count": 38,
   "metadata": {},
   "outputs": [
    {
     "name": "stdout",
     "output_type": "stream",
     "text": [
      "[0]\n"
     ]
    }
   ],
   "source": [
    "classified_hand = model_rndm_forest_clf_hand.predict(test_dataset_extracted)\n",
    "print(classified_hand);"
   ]
  },
  {
   "cell_type": "code",
   "execution_count": null,
   "metadata": {},
   "outputs": [],
   "source": []
  }
 ],
 "metadata": {
  "kernelspec": {
   "display_name": "Python 3",
   "language": "python",
   "name": "python3"
  },
  "language_info": {
   "codemirror_mode": {
    "name": "ipython",
    "version": 3
   },
   "file_extension": ".py",
   "mimetype": "text/x-python",
   "name": "python",
   "nbconvert_exporter": "python",
   "pygments_lexer": "ipython3",
   "version": "3.7.1"
  }
 },
 "nbformat": 4,
 "nbformat_minor": 2
}
