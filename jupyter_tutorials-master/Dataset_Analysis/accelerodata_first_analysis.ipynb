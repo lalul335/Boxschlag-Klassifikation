{
 "cells": [
  {
   "cell_type": "markdown",
   "metadata": {},
   "source": [
    "# Data analysis: Raw dataset\n",
    "This notebook gives a overview of the raw dataset of the smartpunch data collection."
   ]
  },
  {
   "cell_type": "code",
   "execution_count": 1,
   "metadata": {
    "ExecuteTime": {
     "end_time": "2024-05-30T11:18:34.011206Z",
     "start_time": "2024-05-30T11:18:34.007414Z"
    }
   },
   "outputs": [],
   "source": [
    "import json\n",
    "import pandas as pd\n",
    "import seaborn as sns\n",
    "import matplotlib.pyplot as plt\n",
    "import numpy as np"
   ]
  },
  {
   "cell_type": "code",
   "execution_count": 2,
   "metadata": {
    "ExecuteTime": {
     "end_time": "2024-05-30T11:18:35.220975Z",
     "start_time": "2024-05-30T11:18:35.209601Z"
    }
   },
   "outputs": [],
   "source": [
    "from timeseries_helpers import timeseries_plotter\n",
    "import data_preprocessing as dp"
   ]
  },
  {
   "cell_type": "code",
   "execution_count": 4,
   "metadata": {
    "ExecuteTime": {
     "end_time": "2024-05-30T11:19:27.825890Z",
     "start_time": "2024-05-30T11:19:20.861572Z"
    }
   },
   "outputs": [],
   "source": [
    "with open('/Users/raouldoublan/Documents/GitHub/Boxschlag-Klassifikation/data/complete_smartpunch_dataset_7606punches.json', 'r') as f:\n",
    "    ds = json.load(f)"
   ]
  },
  {
   "cell_type": "code",
   "execution_count": 11,
   "outputs": [
    {
     "ename": "KeyError",
     "evalue": "1",
     "output_type": "error",
     "traceback": [
      "\u001B[0;31m---------------------------------------------------------------------------\u001B[0m",
      "\u001B[0;31mKeyError\u001B[0m                                  Traceback (most recent call last)",
      "File \u001B[0;32m~/opt/anaconda3/lib/python3.8/site-packages/pandas/core/indexes/base.py:3080\u001B[0m, in \u001B[0;36mIndex.get_loc\u001B[0;34m(self, key, method, tolerance)\u001B[0m\n\u001B[1;32m   3079\u001B[0m \u001B[38;5;28;01mtry\u001B[39;00m:\n\u001B[0;32m-> 3080\u001B[0m     \u001B[38;5;28;01mreturn\u001B[39;00m \u001B[38;5;28;43mself\u001B[39;49m\u001B[38;5;241;43m.\u001B[39;49m\u001B[43m_engine\u001B[49m\u001B[38;5;241;43m.\u001B[39;49m\u001B[43mget_loc\u001B[49m\u001B[43m(\u001B[49m\u001B[43mcasted_key\u001B[49m\u001B[43m)\u001B[49m\n\u001B[1;32m   3081\u001B[0m \u001B[38;5;28;01mexcept\u001B[39;00m \u001B[38;5;167;01mKeyError\u001B[39;00m \u001B[38;5;28;01mas\u001B[39;00m err:\n",
      "File \u001B[0;32mpandas/_libs/index.pyx:70\u001B[0m, in \u001B[0;36mpandas._libs.index.IndexEngine.get_loc\u001B[0;34m()\u001B[0m\n",
      "File \u001B[0;32mpandas/_libs/index.pyx:101\u001B[0m, in \u001B[0;36mpandas._libs.index.IndexEngine.get_loc\u001B[0;34m()\u001B[0m\n",
      "File \u001B[0;32mpandas/_libs/hashtable_class_helper.pxi:4554\u001B[0m, in \u001B[0;36mpandas._libs.hashtable.PyObjectHashTable.get_item\u001B[0;34m()\u001B[0m\n",
      "File \u001B[0;32mpandas/_libs/hashtable_class_helper.pxi:4562\u001B[0m, in \u001B[0;36mpandas._libs.hashtable.PyObjectHashTable.get_item\u001B[0;34m()\u001B[0m\n",
      "\u001B[0;31mKeyError\u001B[0m: 1",
      "\nThe above exception was the direct cause of the following exception:\n",
      "\u001B[0;31mKeyError\u001B[0m                                  Traceback (most recent call last)",
      "Cell \u001B[0;32mIn[11], line 16\u001B[0m\n\u001B[1;32m     12\u001B[0m merged_data\u001B[38;5;241m.\u001B[39mto_csv(\u001B[38;5;124m'\u001B[39m\u001B[38;5;124m/Users/raouldoublan/Documents/GitHub/Boxschlag-Klassifikation/data/Merged_Data.csv\u001B[39m\u001B[38;5;124m'\u001B[39m, index\u001B[38;5;241m=\u001B[39m\u001B[38;5;28;01mFalse\u001B[39;00m)\n\u001B[1;32m     13\u001B[0m json_data \u001B[38;5;241m=\u001B[39m dp\u001B[38;5;241m.\u001B[39mextract_accelerometer_data(\u001B[38;5;124m'\u001B[39m\u001B[38;5;124m/Users/raouldoublan/Documents/GitHub/Boxschlag-Klassifikation/data/Merged_Data.csv\u001B[39m\u001B[38;5;124m'\u001B[39m)\n\u001B[0;32m---> 16\u001B[0m \u001B[38;5;28mprint\u001B[39m(\u001B[43mjson_data\u001B[49m\u001B[43m[\u001B[49m\u001B[38;5;241;43m1\u001B[39;49m\u001B[43m]\u001B[49m)\n",
      "File \u001B[0;32m~/opt/anaconda3/lib/python3.8/site-packages/pandas/core/frame.py:3024\u001B[0m, in \u001B[0;36mDataFrame.__getitem__\u001B[0;34m(self, key)\u001B[0m\n\u001B[1;32m   3022\u001B[0m \u001B[38;5;28;01mif\u001B[39;00m \u001B[38;5;28mself\u001B[39m\u001B[38;5;241m.\u001B[39mcolumns\u001B[38;5;241m.\u001B[39mnlevels \u001B[38;5;241m>\u001B[39m \u001B[38;5;241m1\u001B[39m:\n\u001B[1;32m   3023\u001B[0m     \u001B[38;5;28;01mreturn\u001B[39;00m \u001B[38;5;28mself\u001B[39m\u001B[38;5;241m.\u001B[39m_getitem_multilevel(key)\n\u001B[0;32m-> 3024\u001B[0m indexer \u001B[38;5;241m=\u001B[39m \u001B[38;5;28;43mself\u001B[39;49m\u001B[38;5;241;43m.\u001B[39;49m\u001B[43mcolumns\u001B[49m\u001B[38;5;241;43m.\u001B[39;49m\u001B[43mget_loc\u001B[49m\u001B[43m(\u001B[49m\u001B[43mkey\u001B[49m\u001B[43m)\u001B[49m\n\u001B[1;32m   3025\u001B[0m \u001B[38;5;28;01mif\u001B[39;00m is_integer(indexer):\n\u001B[1;32m   3026\u001B[0m     indexer \u001B[38;5;241m=\u001B[39m [indexer]\n",
      "File \u001B[0;32m~/opt/anaconda3/lib/python3.8/site-packages/pandas/core/indexes/base.py:3082\u001B[0m, in \u001B[0;36mIndex.get_loc\u001B[0;34m(self, key, method, tolerance)\u001B[0m\n\u001B[1;32m   3080\u001B[0m         \u001B[38;5;28;01mreturn\u001B[39;00m \u001B[38;5;28mself\u001B[39m\u001B[38;5;241m.\u001B[39m_engine\u001B[38;5;241m.\u001B[39mget_loc(casted_key)\n\u001B[1;32m   3081\u001B[0m     \u001B[38;5;28;01mexcept\u001B[39;00m \u001B[38;5;167;01mKeyError\u001B[39;00m \u001B[38;5;28;01mas\u001B[39;00m err:\n\u001B[0;32m-> 3082\u001B[0m         \u001B[38;5;28;01mraise\u001B[39;00m \u001B[38;5;167;01mKeyError\u001B[39;00m(key) \u001B[38;5;28;01mfrom\u001B[39;00m \u001B[38;5;21;01merr\u001B[39;00m\n\u001B[1;32m   3084\u001B[0m \u001B[38;5;28;01mif\u001B[39;00m tolerance \u001B[38;5;129;01mis\u001B[39;00m \u001B[38;5;129;01mnot\u001B[39;00m \u001B[38;5;28;01mNone\u001B[39;00m:\n\u001B[1;32m   3085\u001B[0m     tolerance \u001B[38;5;241m=\u001B[39m \u001B[38;5;28mself\u001B[39m\u001B[38;5;241m.\u001B[39m_convert_tolerance(tolerance, np\u001B[38;5;241m.\u001B[39masarray(key))\n",
      "\u001B[0;31mKeyError\u001B[0m: 1"
     ]
    }
   ],
   "source": [
    "\n",
    "# Read the CSV files\n",
    "data_1 = pd.read_csv('/Users/raouldoublan/Documents/GitHub/Boxschlag-Klassifikation/data/Max_Gerade.csv')\n",
    "data_2 = pd.read_csv('/Users/raouldoublan/Documents/GitHub/Boxschlag-Klassifikation/data/Max_Kinnhacken.csv')\n",
    "data_3 = pd.read_csv('/Users/raouldoublan/Documents/GitHub/Boxschlag-Klassifikation/data/Max_Kopfhacken.csv')\n",
    "data_4 = pd.read_csv('/Users/raouldoublan/Documents/GitHub/Boxschlag-Klassifikation/data/Max_Gemischt_02.csv')\n",
    "data_5 = pd.read_csv('/Users/raouldoublan/Documents/GitHub/Boxschlag-Klassifikation/data/Max_Gemischt_01.csv')\n",
    "\n",
    "# Concatenate the dataframes\n",
    "merged_data = pd.concat([data_1, data_2, data_3, data_4, data_5])\n",
    "\n",
    "# Write the merged dataframe to a new CSV file\n",
    "merged_data.to_csv('/Users/raouldoublan/Documents/GitHub/Boxschlag-Klassifikation/data/Merged_Data.csv', index=False)\n",
    "json_data = dp.extract_accelerometer_data('/Users/raouldoublan/Documents/GitHub/Boxschlag-Klassifikation/data/Merged_Data.csv')\n",
    "\n",
    "\n",
    "print(json_data[1])\n"
   ],
   "metadata": {
    "collapsed": false,
    "ExecuteTime": {
     "end_time": "2024-05-30T09:19:00.045002Z",
     "start_time": "2024-05-30T09:18:50.885249Z"
    }
   }
  },
  {
   "cell_type": "code",
   "execution_count": null,
   "outputs": [],
   "source": [
    "with open('/Users/raouldoublan/Documents/GitHub/Boxschlag-Klassifikation/data/Merged_Data.csv', 'r') as f:\n",
    "    ds = json.load(f)"
   ],
   "metadata": {
    "collapsed": false
   }
  },
  {
   "cell_type": "code",
   "execution_count": 6,
   "outputs": [
    {
     "name": "stdout",
     "output_type": "stream",
     "text": [
      "{'_id': {'$oid': '5c5e933a6d627a480d243b88'}, 'label': 'upper-cut', 'hand': 'right', 'annotator': '0', 'count': 149, 'periodNS': 1489000000, 'raws': [{'_id': {'$oid': '5c5e933a6d627a480d243af3'}, 'timestamp': '0', 'x': 6.7932233810424805, 'y': -2.383251428604126, 'z': 2.9623143672943115}, {'_id': {'$oid': '5c5e933a6d627a480d243af4'}, 'timestamp': '2000000', 'x': 6.601797580718994, 'y': -2.871387243270874, 'z': 3.359523057937622}, {'_id': {'$oid': '5c5e933a6d627a480d243af5'}, 'timestamp': '14000000', 'x': 6.343372821807861, 'y': -3.129812002182007, 'z': 3.5581271648406982}, {'_id': {'$oid': '5c5e933a6d627a480d243af6'}, 'timestamp': '12000000', 'x': 5.962913990020752, 'y': -3.136990547180176, 'z': 3.625126361846924}, {'_id': {'$oid': '5c5e933a6d627a480d243af7'}, 'timestamp': '4000000', 'x': 5.582455158233643, 'y': -3.1034910678863525, 'z': 3.6083765029907227}, {'_id': {'$oid': '5c5e933a6d627a480d243af8'}, 'timestamp': '13000000', 'x': 5.134997367858887, 'y': -3.0173492431640625, 'z': 3.696911096572876}, {'_id': {'$oid': '5c5e933a6d627a480d243af9'}, 'timestamp': '5000000', 'x': 4.589433670043945, 'y': -2.864208698272705, 'z': 3.964907169342041}, {'_id': {'$oid': '5c5e933a6d627a480d243afa'}, 'timestamp': '12000000', 'x': 3.902693748474121, 'y': -2.713460922241211, 'z': 4.553541660308838}, {'_id': {'$oid': '5c5e933a6d627a480d243afb'}, 'timestamp': '9000000', 'x': 3.2039895057678223, 'y': -2.7182464599609375, 'z': 5.015356063842773}, {'_id': {'$oid': '5c5e933a6d627a480d243afc'}, 'timestamp': '13000000', 'x': 2.5770699977874756, 'y': -2.579462766647339, 'z': 5.8959150314331055}, {'_id': {'$oid': '5c5e933a6d627a480d243afd'}, 'timestamp': '45000000', 'x': 2.2444677352905273, 'y': -2.53399920463562, 'z': 6.577869415283203}, {'_id': {'$oid': '5c5e933a6d627a480d243afe'}, 'timestamp': '3000000', 'x': 2.4813570976257324, 'y': -2.6488547325134277, 'z': 6.668796539306641}, {'_id': {'$oid': '5c5e933a6d627a480d243aff'}, 'timestamp': '6000000', 'x': 3.1345977783203125, 'y': -2.794816732406616, 'z': 6.537191390991211}, {'_id': {'$oid': '5c5e933a6d627a480d243b00'}, 'timestamp': '1000000', 'x': 3.8835511207580566, 'y': -2.854637384414673, 'z': 6.486942291259766}, {'_id': {'$oid': '5c5e933a6d627a480d243b01'}, 'timestamp': '16000000', 'x': 3.524627685546875, 'y': -3.2518460750579834, 'z': 7.259823799133301}, {'_id': {'$oid': '5c5e933a6d627a480d243b02'}, 'timestamp': '6000000', 'x': 3.5509488582611084, 'y': -3.4887354373931885, 'z': 6.850651264190674}, {'_id': {'$oid': '5c5e933a6d627a480d243b03'}, 'timestamp': '10000000', 'x': 4.074976921081543, 'y': -4.043870449066162, 'z': 6.503692150115967}, {'_id': {'$oid': '5c5e933a6d627a480d243b04'}, 'timestamp': '4000000', 'x': 4.7712883949279785, 'y': -4.587040901184082, 'z': 6.39601469039917}, {'_id': {'$oid': '5c5e933a6d627a480d243b05'}, 'timestamp': '12000000', 'x': 5.54177713394165, 'y': -5.024927616119385, 'z': 6.032305717468262}, {'_id': {'$oid': '5c5e933a6d627a480d243b06'}, 'timestamp': '16000000', 'x': 6.020341873168945, 'y': -5.173282623291016, 'z': 5.395814895629883}, {'_id': {'$oid': '5c5e933a6d627a480d243b07'}, 'timestamp': '3000000', 'x': 5.92223596572876, 'y': -4.835894584655762, 'z': 4.752145767211914}, {'_id': {'$oid': '5c5e933a6d627a480d243b08'}, 'timestamp': '17000000', 'x': 5.690132141113281, 'y': -4.058227062225342, 'z': 4.3070807456970215}, {'_id': {'$oid': '5c5e933a6d627a480d243b09'}, 'timestamp': '1000000', 'x': 5.907878875732422, 'y': -3.1274192333221436, 'z': 3.8883368968963623}, {'_id': {'$oid': '5c5e933a6d627a480d243b0a'}, 'timestamp': '13000000', 'x': 6.498906135559082, 'y': -2.053041934967041, 'z': 3.871587038040161}, {'_id': {'$oid': '5c5e933a6d627a480d243b0b'}, 'timestamp': '5000000', 'x': 7.566105365753174, 'y': -0.9690931439399719, 'z': 4.268795490264893}, {'_id': {'$oid': '5c5e933a6d627a480d243b0c'}, 'timestamp': '13000000', 'x': 8.944371223449707, 'y': -0.4091726839542389, 'z': 4.7234320640563965}, {'_id': {'$oid': '5c5e933a6d627a480d243b0d'}, 'timestamp': '9000000', 'x': 10.00439167022705, 'y': -0.6317051649093628, 'z': 5.213960647583008}, {'_id': {'$oid': '5c5e933a6d627a480d243b0e'}, 'timestamp': '10000000', 'x': 10.475777626037598, 'y': -1.0911271572113037, 'z': 6.056233882904053}, {'_id': {'$oid': '5c5e933a6d627a480d243b0f'}, 'timestamp': '9000000', 'x': 10.626524925231934, 'y': -1.825723648071289, 'z': 7.133004188537598}, {'_id': {'$oid': '5c5e933a6d627a480d243b10'}, 'timestamp': '8000000', 'x': 10.447063446044922, 'y': -2.5292134284973145, 'z': 7.657032489776611}, {'_id': {'$oid': '5c5e933a6d627a480d243b11'}, 'timestamp': '15000000', 'x': 10.02592658996582, 'y': -2.7493531703948975, 'z': 7.499105930328369}, {'_id': {'$oid': '5c5e933a6d627a480d243b12'}, 'timestamp': '6000000', 'x': 9.573683738708496, 'y': -2.4813570976257324, 'z': 6.850651264190674}, {'_id': {'$oid': '5c5e933a6d627a480d243b13'}, 'timestamp': '11000000', 'x': 9.157332420349121, 'y': -2.0578274726867676, 'z': 6.020341873168945}, {'_id': {'$oid': '5c5e933a6d627a480d243b14'}, 'timestamp': '13000000', 'x': 8.676374435424805, 'y': -1.794616937637329, 'z': 5.388636589050293}, {'_id': {'$oid': '5c5e933a6d627a480d243b15'}, 'timestamp': '5000000', 'x': 8.336593627929688, 'y': -2.1607189178466797, 'z': 5.173282623291016}, {'_id': {'$oid': '5c5e933a6d627a480d243b16'}, 'timestamp': '15000000', 'x': 8.207381248474121, 'y': -2.998206853866577, 'z': 5.419743061065674}, {'_id': {'$oid': '5c5e933a6d627a480d243b17'}, 'timestamp': '3000000', 'x': 8.322237014770508, 'y': -3.7878382205963135, 'z': 5.807380676269531}, {'_id': {'$oid': '5c5e933a6d627a480d243b18'}, 'timestamp': '15000000', 'x': 8.554341316223145, 'y': -4.137190341949463, 'z': 6.017949104309082}, {'_id': {'$oid': '5c5e933a6d627a480d243b19'}, 'timestamp': '6000000', 'x': 8.719446182250977, 'y': -3.8883368968963623, 'z': 5.7547383308410645}, {'_id': {'$oid': '5c5e933a6d627a480d243b1a'}, 'timestamp': '12000000', 'x': 8.781659126281738, 'y': -3.108276605606079, 'z': 5.26181697845459}, {'_id': {'$oid': '5c5e933a6d627a480d243b1b'}, 'timestamp': '18000000', 'x': 8.796015739440918, 'y': -2.1367905139923096, 'z': 5.048855781555176}, {'_id': {'$oid': '5c5e933a6d627a480d243b1c'}, 'timestamp': '3000000', 'x': 8.7505521774292, 'y': -1.8999011516571045, 'z': 4.680361270904541}, {'_id': {'$oid': '5c5e933a6d627a480d243b1d'}, 'timestamp': '10000000', 'x': 8.975478172302246, 'y': -2.256431818008423, 'z': 4.342973232269287}, {'_id': {'$oid': '5c5e933a6d627a480d243b1e'}, 'timestamp': '4000000', 'x': 9.549755096435547, 'y': -2.9168508052825928, 'z': 4.54636287689209}, {'_id': {'$oid': '5c5e933a6d627a480d243b1f'}, 'timestamp': '13000000', 'x': 10.432706832885742, 'y': -3.8596229553222656, 'z': 5.017749309539795}, {'_id': {'$oid': '5c5e933a6d627a480d243b20'}, 'timestamp': '7000000', 'x': 11.3180513381958, 'y': -4.689932346343994, 'z': 5.312066078186035}, {'_id': {'$oid': '5c5e933a6d627a480d243b21'}, 'timestamp': '11000000', 'x': 12.227323532104492, 'y': -5.108676433563232, 'z': 4.957928657531738}, {'_id': {'$oid': '5c5e933a6d627a480d243b22'}, 'timestamp': '16000000', 'x': 13.086346626281738, 'y': -4.967499732971191, 'z': 3.9864425659179688}, {'_id': {'$oid': '5c5e933a6d627a480d243b23'}, 'timestamp': '2000000', 'x': 14.026726722717285, 'y': -4.12761926651001, 'z': 3.311666488647461}, {'_id': {'$oid': '5c5e933a6d627a480d243b24'}, 'timestamp': '12000000', 'x': 15.072389602661133, 'y': -3.297309637069702, 'z': 2.7804598808288574}, {'_id': {'$oid': '5c5e933a6d627a480d243b25'}, 'timestamp': '5000000', 'x': 16.015161514282227, 'y': -2.7326035499572754, 'z': 2.8689942359924316}, {'_id': {'$oid': '5c5e933a6d627a480d243b26'}, 'timestamp': '15000000', 'x': 16.713865280151367, 'y': -2.7876384258270264, 'z': 3.5581271648406982}, {'_id': {'$oid': '5c5e933a6d627a480d243b27'}, 'timestamp': '6000000', 'x': 17.154146194458008, 'y': -3.359523057937622, 'z': 4.883750915527344}, {'_id': {'$oid': '5c5e933a6d627a480d243b28'}, 'timestamp': '11000000', 'x': 17.788244247436523, 'y': -3.8907296657562256, 'z': 7.707281589508057}, {'_id': {'$oid': '5c5e933a6d627a480d243b29'}, 'timestamp': '13000000', 'x': 19.26940155029297, 'y': -5.694917678833008, 'z': 10.107282638549805}, {'_id': {'$oid': '5c5e933a6d627a480d243b2a'}, 'timestamp': '5000000', 'x': 21.695722579956055, 'y': -8.298309326171875, 'z': 11.96889877319336}, {'_id': {'$oid': '5c5e933a6d627a480d243b2b'}, 'timestamp': '16000000', 'x': 24.30150604248047, 'y': -9.425328254699707, 'z': 14.43350601196289}, {'_id': {'$oid': '5c5e933a6d627a480d243b2c'}, 'timestamp': '2000000', 'x': 24.880569458007812, 'y': -9.104690551757812, 'z': 16.75693702697754}, {'_id': {'$oid': '5c5e933a6d627a480d243b2d'}, 'timestamp': '14000000', 'x': 23.636302947998047, 'y': -8.025527000427246, 'z': 21.138195037841797}, {'_id': {'$oid': '5c5e933a6d627a480d243b2e'}, 'timestamp': '6000000', 'x': 21.28176498413086, 'y': -6.783652305603027, 'z': 27.091537475585938}, {'_id': {'$oid': '5c5e933a6d627a480d243b2f'}, 'timestamp': '12000000', 'x': 17.998811721801758, 'y': -5.515456199645996, 'z': 33.56890869140625}, {'_id': {'$oid': '5c5e933a6d627a480d243b30'}, 'timestamp': '9000000', 'x': 14.141581535339355, 'y': -5.017749309539795, 'z': 39.187255859375}, {'_id': {'$oid': '5c5e933a6d627a480d243b31'}, 'timestamp': '8000000', 'x': 10.179067611694336, 'y': -6.10169792175293, 'z': 43.53022766113281}, {'_id': {'$oid': '5c5e933a6d627a480d243b32'}, 'timestamp': '16000000', 'x': 6.262016773223877, 'y': -9.21715259552002, 'z': 46.86343002319336}, {'_id': {'$oid': '5c5e933a6d627a480d243b33'}, 'timestamp': '4000000', 'x': 2.1846470832824707, 'y': -13.02652645111084, 'z': 49.64628601074219}, {'_id': {'$oid': '5c5e933a6d627a480d243b34'}, 'timestamp': '14000000', 'x': -3.3786656856536865, 'y': -17.16132354736328, 'z': 51.29493713378906}, {'_id': {'$oid': '5c5e933a6d627a480d243b35'}, 'timestamp': '6000000', 'x': -11.320444107055664, 'y': -21.245872497558594, 'z': 53.209197998046875}, {'_id': {'$oid': '5c5e933a6d627a480d243b36'}, 'timestamp': '11000000', 'x': -20.09731674194336, 'y': -24.777677536010742, 'z': 55.104312896728516}, {'_id': {'$oid': '5c5e933a6d627a480d243b37'}, 'timestamp': '13000000', 'x': -26.816364288330078, 'y': -26.352155685424805, 'z': 55.982479095458984}, {'_id': {'$oid': '5c5e933a6d627a480d243b38'}, 'timestamp': '9000000', 'x': -32.70988464355469, 'y': -26.352155685424805, 'z': 54.451072692871094}, {'_id': {'$oid': '5c5e933a6d627a480d243b39'}, 'timestamp': '12000000', 'x': -37.83531188964844, 'y': -24.95953369140625, 'z': 51.42415237426758}, {'_id': {'$oid': '5c5e933a6d627a480d243b3a'}, 'timestamp': '2000000', 'x': -41.326438903808594, 'y': -22.482961654663086, 'z': 47.44728088378906}, {'_id': {'$oid': '5c5e933a6d627a480d243b3b'}, 'timestamp': '13000000', 'x': -43.74079895019531, 'y': -19.48714828491211, 'z': 42.537208557128906}, {'_id': {'$oid': '5c5e933a6d627a480d243b3c'}, 'timestamp': '5000000', 'x': -45.08317184448242, 'y': -15.278172492980957, 'z': 37.27299880981445}, {'_id': {'$oid': '5c5e933a6d627a480d243b3d'}, 'timestamp': '13000000', 'x': -46.595436096191406, 'y': -11.485548973083496, 'z': 32.477783203125}, {'_id': {'$oid': '5c5e933a6d627a480d243b3e'}, 'timestamp': '12000000', 'x': -48.22734069824219, 'y': -8.803194046020508, 'z': 27.34996223449707}, {'_id': {'$oid': '5c5e933a6d627a480d243b3f'}, 'timestamp': '6000000', 'x': -46.612186431884766, 'y': -6.599404811859131, 'z': 21.300907135009766}, {'_id': {'$oid': '5c5e933a6d627a480d243b40'}, 'timestamp': '15000000', 'x': -43.28376770019531, 'y': -4.9363932609558105, 'z': 15.18724536895752}, {'_id': {'$oid': '5c5e933a6d627a480d243b41'}, 'timestamp': '3000000', 'x': -39.866817474365234, 'y': -3.1106693744659424, 'z': 10.243673324584961}, {'_id': {'$oid': '5c5e933a6d627a480d243b42'}, 'timestamp': '14000000', 'x': -36.27519226074219, 'y': -1.454836130142212, 'z': 6.149554252624512}, {'_id': {'$oid': '5c5e933a6d627a480d243b43'}, 'timestamp': '6000000', 'x': -32.70270538330078, 'y': -1.1198409795761108, 'z': 2.3306093215942383}, {'_id': {'$oid': '5c5e933a6d627a480d243b44'}, 'timestamp': '11000000', 'x': -28.70908546447754, 'y': -1.196411371231079, 'z': -2.1583259105682373}, {'_id': {'$oid': '5c5e933a6d627a480d243b45'}, 'timestamp': '18000000', 'x': -24.49293327331543, 'y': -0.6125625967979431, 'z': -6.50608491897583}, {'_id': {'$oid': '5c5e933a6d627a480d243b46'}, 'timestamp': '17000000', 'x': -17.570497512817383, 'y': 1.5314065217971802, 'z': -9.722038269042969}, {'_id': {'$oid': '5c5e933a6d627a480d243b47'}, 'timestamp': '2000000', 'x': -14.694323539733887, 'y': 2.352144718170166, 'z': -9.796216011047363}, {'_id': {'$oid': '5c5e933a6d627a480d243b48'}, 'timestamp': '14000000', 'x': -12.21057415008545, 'y': 2.3497519493103027, 'z': -10.700702667236328}, {'_id': {'$oid': '5c5e933a6d627a480d243b49'}, 'timestamp': '6000000', 'x': -9.765109062194824, 'y': 2.1678972244262695, 'z': -11.397014617919922}, {'_id': {'$oid': '5c5e933a6d627a480d243b4a'}, 'timestamp': '11000000', 'x': -7.106683254241943, 'y': 2.335394859313965, 'z': -11.870793342590332}, {'_id': {'$oid': '5c5e933a6d627a480d243b4b'}, 'timestamp': '12000000', 'x': -4.737788677215576, 'y': 2.7637102603912354, 'z': -12.361321449279785}, {'_id': {'$oid': '5c5e933a6d627a480d243b4c'}, 'timestamp': '5000000', 'x': -2.830709218978882, 'y': 3.050848960876465, 'z': -11.913864135742188}, {'_id': {'$oid': '5c5e933a6d627a480d243b4d'}, 'timestamp': '15000000', 'x': -1.435693621635437, 'y': 3.2374889850616455, 'z': -10.939985275268555}, {'_id': {'$oid': '5c5e933a6d627a480d243b4e'}, 'timestamp': '4000000', 'x': -0.20578274130821228, 'y': 3.469592809677124, 'z': -9.734002113342285}, {'_id': {'$oid': '5c5e933a6d627a480d243b4f'}, 'timestamp': '13000000', 'x': 1.0887342691421509, 'y': 3.218346357345581, 'z': -8.693124771118164}, {'_id': {'$oid': '5c5e933a6d627a480d243b50'}, 'timestamp': '6000000', 'x': 2.5052852630615234, 'y': 2.517249345779419, 'z': -7.255038261413574}, {'_id': {'$oid': '5c5e933a6d627a480d243b51'}, 'timestamp': '12000000', 'x': 3.9601213932037354, 'y': 1.4644074440002441, 'z': -6.003592014312744}, {'_id': {'$oid': '5c5e933a6d627a480d243b52'}, 'timestamp': '9000000', 'x': 5.467599868774414, 'y': 0.5958128571510315, 'z': -4.9363932609558105}, {'_id': {'$oid': '5c5e933a6d627a480d243b53'}, 'timestamp': '8000000', 'x': 6.711867332458496, 'y': 0.32303106784820557, 'z': -4.400400638580322}, {'_id': {'$oid': '5c5e933a6d627a480d243b54'}, 'timestamp': '16000000', 'x': 7.350750923156738, 'y': 0.6436693072319031, 'z': -4.101297855377197}, {'_id': {'$oid': '5c5e933a6d627a480d243b55'}, 'timestamp': '3000000', 'x': 7.326822757720947, 'y': 1.4093725681304932, 'z': -3.7734813690185547}, {'_id': {'$oid': '5c5e933a6d627a480d243b56'}, 'timestamp': '14000000', 'x': 7.09711217880249, 'y': 2.2779672145843506, 'z': -3.067598581314087}, {'_id': {'$oid': '5c5e933a6d627a480d243b57'}, 'timestamp': '6000000', 'x': 6.977470874786377, 'y': 2.6177480220794678, 'z': -1.8448662757873535}, {'_id': {'$oid': '5c5e933a6d627a480d243b58'}, 'timestamp': '12000000', 'x': 7.04207706451416, 'y': 2.3330020904541016, 'z': -0.6436693072319031}, {'_id': {'$oid': '5c5e933a6d627a480d243b59'}, 'timestamp': '12000000', 'x': 7.436892986297607, 'y': 1.5337992906570435, 'z': 0.1698904037475586}, {'_id': {'$oid': '5c5e933a6d627a480d243b5a'}, 'timestamp': '6000000', 'x': 7.9968132972717285, 'y': 0.6364908218383789, 'z': 0.3278166949748993}, {'_id': {'$oid': '5c5e933a6d627a480d243b5b'}, 'timestamp': '15000000', 'x': 8.389236450195312, 'y': 0.19142581522464752, 'z': -0.02871387079358101}, {'_id': {'$oid': '5c5e933a6d627a480d243b5c'}, 'timestamp': '6000000', 'x': 8.606983184814453, 'y': 0.2632105052471161, 'z': -0.5096712112426758}, {'_id': {'$oid': '5c5e933a6d627a480d243b5d'}, 'timestamp': '12000000', 'x': 8.874979019165039, 'y': 0.48574298620224, 'z': -0.7680960893630981}, {'_id': {'$oid': '5c5e933a6d627a480d243b5e'}, 'timestamp': '12000000', 'x': 9.336793899536133, 'y': 0.48813581466674805, 'z': -1.332802176475525}, {'_id': {'$oid': '5c5e933a6d627a480d243b5f'}, 'timestamp': '6000000', 'x': 10.02592658996582, 'y': 0.2847459018230438, 'z': -1.4452649354934692}, {'_id': {'$oid': '5c5e933a6d627a480d243b60'}, 'timestamp': '17000000', 'x': 10.686346054077148, 'y': -0.13878370821475983, 'z': -1.3112667798995972}, {'_id': {'$oid': '5c5e933a6d627a480d243b61'}, 'timestamp': '12000000', 'x': 11.212766647338867, 'y': -1.2873386144638062, 'z': -0.47617170214653015}, {'_id': {'$oid': '5c5e933a6d627a480d243b62'}, 'timestamp': '7000000', 'x': 11.351551055908203, 'y': -1.2346965074539185, 'z': 0.038285162299871445}, {'_id': {'$oid': '5c5e933a6d627a480d243b63'}, 'timestamp': '13000000', 'x': 11.531012535095215, 'y': -0.7680960893630981, 'z': 0.363709032535553}, {'_id': {'$oid': '5c5e933a6d627a480d243b64'}, 'timestamp': '7000000', 'x': 11.755937576293945, 'y': -0.5120640397071838, 'z': 0.08135596662759781}, {'_id': {'$oid': '5c5e933a6d627a480d243b65'}, 'timestamp': '11000000', 'x': 11.870793342590332, 'y': -0.6556333899497986, 'z': -0.26081767678260803}, {'_id': {'$oid': '5c5e933a6d627a480d243b66'}, 'timestamp': '15000000', 'x': 11.952149391174316, 'y': -0.9451649188995361, 'z': -0.5407779216766357}, {'_id': {'$oid': '5c5e933a6d627a480d243b67'}, 'timestamp': '1000000', 'x': 12.105289459228516, 'y': -1.2203395366668701, 'z': -0.6771687865257263}, {'_id': {'$oid': '5c5e933a6d627a480d243b68'}, 'timestamp': '13000000', 'x': 12.090932846069336, 'y': -1.4069796800613403, 'z': -0.5431707501411438}, {'_id': {'$oid': '5c5e933a6d627a480d243b69'}, 'timestamp': '7000000', 'x': 11.820544242858887, 'y': -1.5936198234558105, 'z': -0.2799602448940277}, {'_id': {'$oid': '5c5e933a6d627a480d243b6a'}, 'timestamp': '9000000', 'x': 11.392229080200195, 'y': -1.734796404838562, 'z': -0.040677983313798904}, {'_id': {'$oid': '5c5e933a6d627a480d243b6b'}, 'timestamp': '8000000', 'x': 10.99741268157959, 'y': -1.8113667964935303, 'z': 0.2105683982372284}, {'_id': {'$oid': '5c5e933a6d627a480d243b6c'}, 'timestamp': '12000000', 'x': 10.724631309509277, 'y': -1.8640087842941284, 'z': 0.24885354936122894}, {'_id': {'$oid': '5c5e933a6d627a480d243b6d'}, 'timestamp': '16000000', 'x': 10.581061363220215, 'y': -1.7180466651916504, 'z': 0.059820566326379776}, {'_id': {'$oid': '5c5e933a6d627a480d243b6e'}, 'timestamp': '2000000', 'x': 10.437492370605469, 'y': -1.3830515146255493, 'z': -0.09571290761232376}, {'_id': {'$oid': '5c5e933a6d627a480d243b6f'}, 'timestamp': '16000000', 'x': 10.336994171142578, 'y': -1.0265209674835205, 'z': -0.1746760457754135}, {'_id': {'$oid': '5c5e933a6d627a480d243b70'}, 'timestamp': '17000000', 'x': 10.353743553161621, 'y': -0.7680960893630981, 'z': -0.14835500717163086}, {'_id': {'$oid': '5c5e933a6d627a480d243b71'}, 'timestamp': '17000000', 'x': 10.49970531463623, 'y': -0.8111668825149536, 'z': 0.3732803463935852}, {'_id': {'$oid': '5c5e933a6d627a480d243b72'}, 'timestamp': '5000000', 'x': 10.50209903717041, 'y': -1.1461620330810547, 'z': 0.8159525394439697}, {'_id': {'$oid': '5c5e933a6d627a480d243b73'}, 'timestamp': '8000000', 'x': 10.451848983764648, 'y': -1.466800332069397, 'z': 1.0217353105545044}, {'_id': {'$oid': '5c5e933a6d627a480d243b74'}, 'timestamp': '4000000', 'x': 10.363314628601074, 'y': -1.6534404754638672, 'z': 0.9020941257476807}, {'_id': {'$oid': '5c5e933a6d627a480d243b75'}, 'timestamp': '18000000', 'x': 10.325029373168945, 'y': -1.6007983684539795, 'z': 0.605384111404419}, {'_id': {'$oid': '5c5e933a6d627a480d243b76'}, 'timestamp': '5000000', 'x': 10.411170959472656, 'y': -1.3878371715545654, 'z': 0.26081767678260803}, {'_id': {'$oid': '5c5e933a6d627a480d243b77'}, 'timestamp': '11000000', 'x': 10.566704750061035, 'y': -1.196411371231079, 'z': 0.1339980661869049}, {'_id': {'$oid': '5c5e933a6d627a480d243b78'}, 'timestamp': '12000000', 'x': 10.628918647766113, 'y': -1.0552347898483276, 'z': 0.4019941985607147}, {'_id': {'$oid': '5c5e933a6d627a480d243b79'}, 'timestamp': '5000000', 'x': 10.518848419189453, 'y': -1.057627558708191, 'z': 0.7920243144035339}, {'_id': {'$oid': '5c5e933a6d627a480d243b7a'}, 'timestamp': '13000000', 'x': 10.29153060913086, 'y': -1.210768222808838, 'z': 1.062413215637207}, {'_id': {'$oid': '5c5e933a6d627a480d243b7b'}, 'timestamp': '6000000', 'x': 10.01156997680664, 'y': -1.4117653369903564, 'z': 1.1581261157989502}, {'_id': {'$oid': '5c5e933a6d627a480d243b7c'}, 'timestamp': '15000000', 'x': 9.812965393066406, 'y': -1.5122638940811157, 'z': 1.0863415002822876}, {'_id': {'$oid': '5c5e933a6d627a480d243b7d'}, 'timestamp': '6000000', 'x': 9.745966911315918, 'y': -1.466800332069397, 'z': 0.8590233325958252}, {'_id': {'$oid': '5c5e933a6d627a480d243b7e'}, 'timestamp': '16000000', 'x': 9.803394317626953, 'y': -1.3543375730514526, 'z': 0.5934200286865234}, {'_id': {'$oid': '5c5e933a6d627a480d243b7f'}, 'timestamp': '3000000', 'x': 9.20997428894043, 'y': -0.3158525824546814, 'z': -2.132004976272583}, {'_id': {'$oid': '5c5e933a6d627a480d243b80'}, 'timestamp': '9000000', 'x': 9.410971641540527, 'y': -1.1724830865859985, 'z': 1.3040883541107178}, {'_id': {'$oid': '5c5e933a6d627a480d243b81'}, 'timestamp': '16000000', 'x': 8.688339233398438, 'y': -0.6508477330207825, 'z': -0.8662018179893494}, {'_id': {'$oid': '5c5e933a6d627a480d243b82'}, 'timestamp': '1000000', 'x': 7.795815944671631, 'y': 1.9932212829589844, 'z': -0.2105683982372284}, {'_id': {'$oid': '5c5e933a6d627a480d243b83'}, 'timestamp': '13000000', 'x': 7.434499740600586, 'y': 2.9479575157165527, 'z': 0.43549370765686035}, {'_id': {'$oid': '5c5e933a6d627a480d243b84'}, 'timestamp': '9000000', 'x': 8.528019905090332, 'y': 0.7968099117279053, 'z': 1.153340458869934}, {'_id': {'$oid': '5c5e933a6d627a480d243b85'}, 'timestamp': '8000000', 'x': 11.212766647338867, 'y': -6.460621356964111, 'z': 2.3856441974639893}, {'_id': {'$oid': '5c5e933a6d627a480d243b86'}, 'timestamp': '9000000', 'x': 10.762916564941406, 'y': -6.3529438972473145, 'z': 2.6536402702331543}, {'_id': {'$oid': '5c5e933a6d627a480d243b87'}, 'timestamp': '30000000', 'x': 8.963513374328613, 'y': -3.6442689895629883, 'z': 0.7680960893630981}], 'createdAt': {'$date': '2019-02-09T08:45:46.602Z'}, 'updatedAt': {'$date': '2019-02-09T08:45:46.602Z'}, '__v': 0}\n"
     ]
    }
   ],
   "source": [
    "print(ds[0])"
   ],
   "metadata": {
    "collapsed": false,
    "ExecuteTime": {
     "end_time": "2024-05-30T11:20:27.563343Z",
     "start_time": "2024-05-30T11:20:27.549698Z"
    }
   }
  },
  {
   "cell_type": "code",
   "execution_count": null,
   "metadata": {
    "ExecuteTime": {
     "start_time": "2024-05-30T09:17:43.860545Z"
    }
   },
   "outputs": [],
   "source": [
    "def data_to_list(raws, axis='x'):\n",
    "    data = []\n",
    "    for e in raws:\n",
    "        data.append(e[axis])\n",
    "    return data"
   ]
  },
  {
   "cell_type": "code",
   "execution_count": null,
   "metadata": {
    "ExecuteTime": {
     "end_time": "2024-05-30T09:17:43.866932Z",
     "start_time": "2024-05-30T09:17:43.863224Z"
    }
   },
   "outputs": [],
   "source": [
    "def data_to_list2(raws, axis='x'):\n",
    "    return [e[axis] for e in raws]"
   ]
  },
  {
   "cell_type": "code",
   "execution_count": null,
   "metadata": {
    "ExecuteTime": {
     "start_time": "2024-05-30T09:17:43.866015Z"
    }
   },
   "outputs": [],
   "source": [
    "ds[0]"
   ]
  },
  {
   "cell_type": "code",
   "execution_count": null,
   "metadata": {
    "scrolled": true,
    "ExecuteTime": {
     "start_time": "2024-05-30T09:17:43.869019Z"
    }
   },
   "outputs": [],
   "source": [
    "ds[0].keys()\n",
    "buff = [(i,e['label'],e['hand'],e['periodNS']) for i,e in enumerate(ds)]"
   ]
  },
  {
   "cell_type": "code",
   "execution_count": null,
   "metadata": {
    "ExecuteTime": {
     "start_time": "2024-05-30T09:17:43.872100Z"
    }
   },
   "outputs": [],
   "source": [
    "buff[0][3]\n",
    "periodSum = 0\n",
    "minPeriod = 1000000000000\n",
    "shortestBorder = 50000000\n",
    "minIdx = 0\n",
    "for i,el in enumerate(buff):\n",
    "    periodSum += el[3]\n",
    "    if (el[3] < minPeriod) and (el[3] > shortestBorder):\n",
    "        minPeriod = el[3]\n",
    "        minIdx = i\n",
    "    if el[3] < shortestBorder:\n",
    "        print(\"Found irregular short period length of {}ms at index: {}\".format(el[3]/1000000,i))\n",
    "periodAve = periodSum/len(buff)\n",
    "periodAveMS = periodAve/1000000\n",
    "sampleAve = periodAveMS/10\n",
    "minPeriodMS = minPeriod/1000000\n",
    "print(\"Ave period len: {}ms with a ave of {} with the shortest period: {}ms (at index: {})\".format(periodAveMS,sampleAve,minPeriodMS,minIdx))"
   ]
  },
  {
   "cell_type": "code",
   "execution_count": null,
   "metadata": {
    "ExecuteTime": {
     "start_time": "2024-05-30T09:17:43.875086Z"
    }
   },
   "outputs": [],
   "source": [
    "ds[5953]"
   ]
  },
  {
   "cell_type": "code",
   "execution_count": null,
   "metadata": {
    "ExecuteTime": {
     "start_time": "2024-05-30T09:17:43.878215Z"
    }
   },
   "outputs": [],
   "source": [
    "def plot_ds_element(ds_e):\n",
    "    raws = ds_e['raws']\n",
    "    raws[0]\n",
    "    x = data_to_list2(raws, axis='x')\n",
    "    y = data_to_list2(raws, axis='y')\n",
    "    z = data_to_list2(raws, axis='z')\n",
    "    t = np.arange(0, len(x))\n",
    "\n",
    "    fig, ax = plt.subplots(figsize=(20,10))\n",
    "    ax.plot(t, x, label='x')\n",
    "    ax.plot(t, y, label='y')\n",
    "    ax.plot(t, z, label='z')\n",
    "\n",
    "    ax.set(xlabel='datastamps', ylabel='a (in m/s²)',\n",
    "           title='single dataset element of type: '+ds_e['label'])\n",
    "    ax.grid()\n",
    "    plt.legend()\n",
    "    plt.show()\n",
    "    titl = ds_e['annotator'] + '_'+ds_e['label']+'_'+ds_e['hand']+'.png';\n",
    "    fig.savefig(titl)"
   ]
  },
  {
   "cell_type": "code",
   "execution_count": null,
   "metadata": {
    "ExecuteTime": {
     "start_time": "2024-05-30T09:17:43.884224Z"
    }
   },
   "outputs": [],
   "source": [
    "def plot_ds(ds,saveImage=False,imageName=\"no_name\"):\n",
    "    x,y,z = [],[],[]\n",
    "    for ds_e in ds:\n",
    "        raws = ds_e['raws']\n",
    "        raws[0]\n",
    "        x += data_to_list2(raws, axis='x')\n",
    "        y += data_to_list2(raws, axis='y')\n",
    "        z += data_to_list2(raws, axis='z')\n",
    "    \n",
    "    t = np.arange(0, len(x))\n",
    "\n",
    "    fig, ax = plt.subplots(figsize=(20,10))\n",
    "    ax.plot(t, x, 'r.',label='x-Achse')\n",
    "    ax.plot(t, y, 'b*',label='y-Achse')\n",
    "    ax.plot(t, z, 'g^',label='z-Achse')\n",
    "\n",
    "    ax.set(xlabel='Abtastwerte', ylabel='a (in m/s²)',\n",
    "           title='Rohdaten eines Upper-Cuts')\n",
    "    ax.grid()\n",
    "    plt.legend()\n",
    "    if saveImage:\n",
    "        if imageName.endswith('.png'):\n",
    "            plt.savefig(imageName)\n",
    "        else:\n",
    "            name = imageName+'.png'\n",
    "            plt.savefig(name)\n",
    "    plt.show()"
   ]
  },
  {
   "cell_type": "code",
   "execution_count": null,
   "metadata": {
    "ExecuteTime": {
     "end_time": "2024-05-30T09:17:43.903709Z",
     "start_time": "2024-05-30T09:17:43.892641Z"
    }
   },
   "outputs": [],
   "source": [
    "plot_ds(ds[0:1],saveImage=True,imageName='accelero_punch_raw_data.png') # show only the first punch"
   ]
  },
  {
   "cell_type": "code",
   "execution_count": null,
   "metadata": {
    "ExecuteTime": {
     "start_time": "2024-05-30T09:17:43.892930Z"
    }
   },
   "outputs": [],
   "source": [
    "ds[0]['count']"
   ]
  },
  {
   "cell_type": "code",
   "execution_count": null,
   "metadata": {
    "scrolled": false,
    "ExecuteTime": {
     "start_time": "2024-05-30T09:17:43.895367Z"
    }
   },
   "outputs": [],
   "source": [
    "plot_ds_element(ds[11])"
   ]
  },
  {
   "cell_type": "code",
   "execution_count": null,
   "metadata": {
    "ExecuteTime": {
     "start_time": "2024-05-30T09:17:43.898511Z"
    }
   },
   "outputs": [],
   "source": [
    "plot_ds_element(ds[9])"
   ]
  },
  {
   "cell_type": "code",
   "execution_count": null,
   "metadata": {
    "ExecuteTime": {
     "start_time": "2024-05-30T09:17:43.901670Z"
    }
   },
   "outputs": [],
   "source": [
    "raws = ds[1]['raws']\n",
    "raws[2]\n",
    "print(raws[0])"
   ]
  },
  {
   "cell_type": "code",
   "execution_count": null,
   "metadata": {
    "ExecuteTime": {
     "end_time": "2024-05-30T09:17:43.999190Z",
     "start_time": "2024-05-30T09:17:43.904067Z"
    }
   },
   "outputs": [],
   "source": [
    "def print_label_stamp_ratio():\n",
    "    labels = []\n",
    "\n",
    "    # seperate unique labels and count ratio\n",
    "    for el in ds:\n",
    "        if not any(el['label'] in seperatedList for seperatedList in labels):\n",
    "                labels.append([el['label'],len(el['raws']),1])\n",
    "\n",
    "        else:\n",
    "                for label in labels:\n",
    "                    if  label[0] == el['label']:\n",
    "                        label[1] += len(el['raws'])\n",
    "                        label[2] += 1\n",
    "    for stamps in labels:\n",
    "        stamps[1] = stamps[1]/stamps[2]\n",
    "        \n",
    "   # convert list to dataframe for plotting the dataframe\n",
    "    df = pd.DataFrame(labels,columns=['label','datastamps avg','abs count']) \n",
    "    df.drop('abs count',axis=1,inplace =True)\n",
    "    print(df)\n",
    "  # plot label-stamp ratio\n",
    "    ax = sns.barplot(x=df['label'],y=df['datastamps avg'],data=df)\n",
    "    ax.set(xlabel='Klasse (links+rechts)', ylabel='Anzahl der durchschnittl. Abtastwerte pro Schlag')\n",
    "    plt.savefig('label_stamp_ratio.png')\n",
    "print_label_stamp_ratio()                    "
   ]
  },
  {
   "cell_type": "code",
   "execution_count": null,
   "metadata": {
    "ExecuteTime": {
     "start_time": "2024-05-30T09:17:43.906845Z"
    }
   },
   "outputs": [],
   "source": [
    "def print_label_period_ratio():\n",
    "    labels = []\n",
    "\n",
    "    # seperate unique labels and count ratio\n",
    "    for el in ds:\n",
    "        if not any(el['label'] in seperatedList for seperatedList in labels):\n",
    "                labels.append([el['label'],el['periodNS'],1])\n",
    "\n",
    "        else:\n",
    "                for label in labels:\n",
    "                    if  label[0] == el['label']:\n",
    "                        label[1] += el['periodNS']\n",
    "                        label[2] += 1\n",
    "    for period in labels:\n",
    "        period[1] = period[1]/period[2]\n",
    "        period[1] = period[1]/1000000\n",
    "        \n",
    "   # convert list to dataframe for plotting the dataframe\n",
    "    df = pd.DataFrame(labels,columns=['label','period (ms) avg','abs count']) \n",
    "    df.drop('abs count',axis=1,inplace =True)\n",
    "    print(df)\n",
    "  # plot label-stamp ratio\n",
    "    ax = sns.barplot(x=df['label'],y=df['period (ms) avg'],data=df)\n",
    "    ax.set(xlabel='Klasse (links+rechts)', ylabel='Durchschnittl. Periodendauer (in ms)')\n",
    "    plt.savefig('label_periodLength_ratio.png')\n",
    "print_label_period_ratio()  "
   ]
  },
  {
   "cell_type": "code",
   "execution_count": null,
   "metadata": {
    "ExecuteTime": {
     "start_time": "2024-05-30T09:17:43.910003Z"
    }
   },
   "outputs": [],
   "source": [
    "def extract_elementraws_from_dataset(ds):\n",
    "    x = []\n",
    "    y = []\n",
    "    z = []\n",
    "     \n",
    "    for el in ds:\n",
    "          for raw in el['raws']:\n",
    "                x.append(raw['x'])\n",
    "                y.append(raw['y'])\n",
    "                z.append(raw['z'])\n",
    "    # convert2Series\n",
    "    s_x = pd.Series(data=x,name='x')\n",
    "    s_y = pd.Series(data=y,name='y')\n",
    "    s_z = pd.Series(data=z,name='z')\n",
    "    return [s_x,s_y,s_z]\n",
    "    "
   ]
  },
  {
   "cell_type": "markdown",
   "metadata": {},
   "source": [
    "# Differences between left and right hand data\n",
    "The following section shows the accelerometer values depending on the boxers hand. It can be seen that the types vary in their sign.\n",
    "\n",
    "## Punch: Frontal with left hand"
   ]
  },
  {
   "cell_type": "code",
   "execution_count": null,
   "metadata": {
    "ExecuteTime": {
     "start_time": "2024-05-30T09:17:43.912475Z"
    }
   },
   "outputs": [],
   "source": [
    "raws = extract_elementraws_from_dataset(ds[0:1])\n",
    "sns.distplot(raws[0],axlabel=\"a (x-Achse) in m/s²\")"
   ]
  },
  {
   "cell_type": "markdown",
   "metadata": {},
   "source": [
    "## Punch: Frontal with right hand"
   ]
  },
  {
   "cell_type": "code",
   "execution_count": null,
   "metadata": {
    "ExecuteTime": {
     "start_time": "2024-05-30T09:17:43.914741Z"
    }
   },
   "outputs": [],
   "source": [
    "raws = extract_elementraws_from_dataset(ds[34:35])\n",
    "sns.distplot(raws[0])"
   ]
  },
  {
   "cell_type": "markdown",
   "metadata": {},
   "source": [
    "# Variation between the variables x,y,z\n"
   ]
  },
  {
   "cell_type": "code",
   "execution_count": null,
   "metadata": {
    "scrolled": false,
    "ExecuteTime": {
     "start_time": "2024-05-30T09:17:43.916954Z"
    }
   },
   "outputs": [],
   "source": [
    "raws = extract_elementraws_from_dataset(ds[1:2])\n",
    "plt.figure(figsize=(10,8))\n",
    "plt.subplot(1,3,1)\n",
    "raws[0].plot.box(grid=1)\n",
    "plt.subplot(1,3,2)\n",
    "raws[1].plot.box(grid=1)\n",
    "plt.subplot(1,3,3)\n",
    "raws[2].plot.box(grid=1)"
   ]
  },
  {
   "cell_type": "code",
   "execution_count": null,
   "metadata": {
    "ExecuteTime": {
     "start_time": "2024-05-30T09:17:43.919397Z"
    }
   },
   "outputs": [],
   "source": [
    "def universal_plotter_for_single_axis(list_of_datasets,\n",
    "                                                                       list_of_axis_to_plot,\n",
    "                                                                       list_of_dataset_legend_titles,\n",
    "                                                                       plot_title, y_axis_label, x_axis_label,\n",
    "                                                                       figSizeTupel = (20,10)):\n",
    "    \"\"\"Plots a specific axis of multiple datasets of an given array.\n",
    "           Converting mechanism is made for the notation style of the smartPunch project.\n",
    "\n",
    "    Args:\n",
    "        list_of_datasets (list): List of datasets\n",
    "        \n",
    "        list_of_axis_to_plot (list): List of strings containig the axis to plot for the dataset of specific array index\n",
    "    \n",
    "        list_of_dataset_legend_titles (list): List strings containing the legend titles for each dataset axis.\n",
    "        \n",
    "        plot_title, y_axis_label , x_axis_label (str): Plot title, x and y plot axis labels\n",
    "        \n",
    "        figSizeTupel (tupel): Figure size\n",
    "        \n",
    "    Returns:\n",
    "        void\n",
    "    \"\"\"   \n",
    "    \n",
    "    fig, ax = plt.subplots(figsize=figSizeTupel)\n",
    "\n",
    "    idx = 0;\n",
    "    for curDataSet in list_of_datasets:\n",
    "        ax.plot(curDataSet['raws']['timestamp'].values,curDataSet[list_of_axis_to_plot[idx]], label=list_of_dataset_legend_titles[idx])\n",
    "        idx+=1;\n",
    "    \n",
    "    ax.set(xlabel=x_axis_label, ylabel=y_axis_label,\n",
    "           title=plot_title)\n",
    "    ax.grid()\n",
    "    plt.legend()\n",
    "    plt.show()"
   ]
  },
  {
   "cell_type": "code",
   "execution_count": null,
   "metadata": {
    "ExecuteTime": {
     "start_time": "2024-05-30T09:17:43.921152Z"
    }
   },
   "outputs": [],
   "source": [
    "# timeseries_plotter.universal_plotter_for_single_axis(ds[0],['x'],['Legend title'],plot_title='Titel hier',y_axis_label='y-Achsen Label',x_axis_label='x-Achsen Label')"
   ]
  },
  {
   "cell_type": "code",
   "execution_count": null,
   "metadata": {
    "ExecuteTime": {
     "start_time": "2024-05-30T09:17:43.923017Z"
    }
   },
   "outputs": [],
   "source": [
    "universal_plotter_for_single_axis([ds[0]],['x'],['Legend title'],plot_title='Titel hier',y_axis_label='y-Achsen Label',x_axis_label='x-Achsen Label')"
   ]
  },
  {
   "cell_type": "code",
   "execution_count": null,
   "metadata": {
    "ExecuteTime": {
     "start_time": "2024-05-30T09:17:43.924965Z"
    }
   },
   "outputs": [],
   "source": [
    "ds[0]['timestamp'].values"
   ]
  },
  {
   "cell_type": "code",
   "execution_count": null,
   "metadata": {
    "ExecuteTime": {
     "start_time": "2024-05-30T09:17:43.926724Z"
    }
   },
   "outputs": [],
   "source": [
    "ds[0]"
   ]
  }
 ],
 "metadata": {
  "kernelspec": {
   "display_name": "Python 3",
   "language": "python",
   "name": "python3"
  },
  "language_info": {
   "codemirror_mode": {
    "name": "ipython",
    "version": 3
   },
   "file_extension": ".py",
   "mimetype": "text/x-python",
   "name": "python",
   "nbconvert_exporter": "python",
   "pygments_lexer": "ipython3",
   "version": "3.7.1"
  }
 },
 "nbformat": 4,
 "nbformat_minor": 2
}
