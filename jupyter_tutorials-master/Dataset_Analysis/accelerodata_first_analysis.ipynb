{
 "cells": [
  {
   "cell_type": "markdown",
   "metadata": {},
   "source": [
    "# Data analysis: Raw dataset\n",
    "This notebook gives a overview of the raw dataset of the smartpunch data collection."
   ]
  },
  {
   "cell_type": "code",
   "execution_count": null,
   "metadata": {
    "is_executing": true
   },
   "source": [
    "import json\n",
    "import pandas as pd\n",
    "import seaborn as sns\n",
    "import matplotlib.pyplot as plt\n",
    "import numpy as np"
   ],
   "outputs": []
  },
  {
   "cell_type": "code",
   "execution_count": null,
   "metadata": {
    "is_executing": true
   },
   "source": [
    "from timeseries_helpers import timeseries_plotter"
   ],
   "outputs": []
  },
  {
   "cell_type": "code",
   "execution_count": null,
   "metadata": {
    "is_executing": true
   },
   "source": [
    "with open('data/complete_smartpunch_dataset_7606punches.json', 'r') as f:\n",
    "    ds = json.load(f)"
   ],
   "outputs": []
  },
  {
   "cell_type": "code",
   "execution_count": null,
   "metadata": {
    "is_executing": true
   },
   "source": [
    "def data_to_list(raws, axis='x'):\n",
    "    data = []\n",
    "    for e in raws:\n",
    "        data.append(e[axis])\n",
    "    return data"
   ],
   "outputs": []
  },
  {
   "cell_type": "code",
   "execution_count": null,
   "metadata": {
    "is_executing": true
   },
   "source": [
    "def data_to_list2(raws, axis='x'):\n",
    "    return [e[axis] for e in raws]"
   ],
   "outputs": []
  },
  {
   "cell_type": "code",
   "execution_count": null,
   "metadata": {
    "is_executing": true
   },
   "source": [
    "ds[0]"
   ],
   "outputs": []
  },
  {
   "cell_type": "code",
   "execution_count": null,
   "metadata": {
    "scrolled": true,
    "is_executing": true
   },
   "source": [
    "ds[0].keys()\n",
    "buff = [(i,e['label'],e['hand'],e['periodNS']) for i,e in enumerate(ds)]"
   ],
   "outputs": []
  },
  {
   "cell_type": "code",
   "execution_count": null,
   "metadata": {
    "is_executing": true
   },
   "source": [
    "buff[0][3]\n",
    "periodSum = 0\n",
    "minPeriod = 1000000000000\n",
    "shortestBorder = 50000000\n",
    "minIdx = 0\n",
    "for i,el in enumerate(buff):\n",
    "    periodSum += el[3]\n",
    "    if (el[3] < minPeriod) and (el[3] > shortestBorder):\n",
    "        minPeriod = el[3]\n",
    "        minIdx = i\n",
    "    if el[3] < shortestBorder:\n",
    "        print(\"Found irregular short period length of {}ms at index: {}\".format(el[3]/1000000,i))\n",
    "periodAve = periodSum/len(buff)\n",
    "periodAveMS = periodAve/1000000\n",
    "sampleAve = periodAveMS/10\n",
    "minPeriodMS = minPeriod/1000000\n",
    "print(\"Ave period len: {}ms with a ave of {} with the shortest period: {}ms (at index: {})\".format(periodAveMS,sampleAve,minPeriodMS,minIdx))"
   ],
   "outputs": []
  },
  {
   "cell_type": "code",
   "execution_count": null,
   "metadata": {
    "is_executing": true
   },
   "source": [
    "ds[5953]"
   ],
   "outputs": []
  },
  {
   "cell_type": "code",
   "execution_count": null,
   "metadata": {
    "is_executing": true
   },
   "source": [
    "def plot_ds_element(ds_e):\n",
    "    raws = ds_e['raws']\n",
    "    raws[0]\n",
    "    x = data_to_list2(raws, axis='x')\n",
    "    y = data_to_list2(raws, axis='y')\n",
    "    z = data_to_list2(raws, axis='z')\n",
    "    t = np.arange(0, len(x))\n",
    "\n",
    "    fig, ax = plt.subplots(figsize=(20,10))\n",
    "    ax.plot(t, x, label='x')\n",
    "    ax.plot(t, y, label='y')\n",
    "    ax.plot(t, z, label='z')\n",
    "\n",
    "    ax.set(xlabel='datastamps', ylabel='a (in m/s²)',\n",
    "           title='single dataset element of type: '+ds_e['label'])\n",
    "    ax.grid()\n",
    "    plt.legend()\n",
    "    plt.show()\n",
    "    titl = ds_e['annotator'] + '_'+ds_e['label']+'_'+ds_e['hand']+'.png';\n",
    "    fig.savefig(titl)"
   ],
   "outputs": []
  },
  {
   "cell_type": "code",
   "execution_count": null,
   "metadata": {
    "is_executing": true
   },
   "source": [
    "def plot_ds(ds,saveImage=False,imageName=\"no_name\"):\n",
    "    x,y,z = [],[],[]\n",
    "    for ds_e in ds:\n",
    "        raws = ds_e['raws']\n",
    "        raws[0]\n",
    "        x += data_to_list2(raws, axis='x')\n",
    "        y += data_to_list2(raws, axis='y')\n",
    "        z += data_to_list2(raws, axis='z')\n",
    "    \n",
    "    t = np.arange(0, len(x))\n",
    "\n",
    "    fig, ax = plt.subplots(figsize=(20,10))\n",
    "    ax.plot(t, x, 'r.',label='x-Achse')\n",
    "    ax.plot(t, y, 'b*',label='y-Achse')\n",
    "    ax.plot(t, z, 'g^',label='z-Achse')\n",
    "\n",
    "    ax.set(xlabel='Abtastwerte', ylabel='a (in m/s²)',\n",
    "           title='Rohdaten eines Upper-Cuts')\n",
    "    ax.grid()\n",
    "    plt.legend()\n",
    "    if saveImage:\n",
    "        if imageName.endswith('.png'):\n",
    "            plt.savefig(imageName)\n",
    "        else:\n",
    "            name = imageName+'.png'\n",
    "            plt.savefig(name)\n",
    "    plt.show()"
   ],
   "outputs": []
  },
  {
   "cell_type": "code",
   "execution_count": null,
   "metadata": {
    "is_executing": true
   },
   "source": [
    "plot_ds(ds[0:1],saveImage=True,imageName='accelero_punch_raw_data.png') # show only the first punch"
   ],
   "outputs": []
  },
  {
   "cell_type": "code",
   "execution_count": null,
   "metadata": {
    "is_executing": true
   },
   "source": [
    "ds[0]['count']"
   ],
   "outputs": []
  },
  {
   "cell_type": "code",
   "execution_count": null,
   "metadata": {
    "scrolled": false,
    "is_executing": true
   },
   "source": [
    "plot_ds_element(ds[11])"
   ],
   "outputs": []
  },
  {
   "cell_type": "code",
   "execution_count": null,
   "metadata": {
    "is_executing": true
   },
   "source": [
    "plot_ds_element(ds[9])"
   ],
   "outputs": []
  },
  {
   "cell_type": "code",
   "execution_count": null,
   "metadata": {
    "is_executing": true
   },
   "source": [
    "raws = ds[1]['raws']\n",
    "raws[2]\n",
    "print(raws[0])"
   ],
   "outputs": []
  },
  {
   "cell_type": "code",
   "execution_count": null,
   "metadata": {
    "is_executing": true
   },
   "source": [
    "def print_label_stamp_ratio():\n",
    "    labels = []\n",
    "\n",
    "    # seperate unique labels and count ratio\n",
    "    for el in ds:\n",
    "        if not any(el['label'] in seperatedList for seperatedList in labels):\n",
    "                labels.append([el['label'],len(el['raws']),1])\n",
    "\n",
    "        else:\n",
    "                for label in labels:\n",
    "                    if  label[0] == el['label']:\n",
    "                        label[1] += len(el['raws'])\n",
    "                        label[2] += 1\n",
    "    for stamps in labels:\n",
    "        stamps[1] = stamps[1]/stamps[2]\n",
    "        \n",
    "   # convert list to dataframe for plotting the dataframe\n",
    "    df = pd.DataFrame(labels,columns=['label','datastamps avg','abs count']) \n",
    "    df.drop('abs count',axis=1,inplace =True)\n",
    "    print(df)\n",
    "  # plot label-stamp ratio\n",
    "    ax = sns.barplot(x=df['label'],y=df['datastamps avg'],data=df)\n",
    "    ax.set(xlabel='Klasse (links+rechts)', ylabel='Anzahl der durchschnittl. Abtastwerte pro Schlag')\n",
    "    plt.savefig('label_stamp_ratio.png')\n",
    "print_label_stamp_ratio()                    "
   ],
   "outputs": []
  },
  {
   "cell_type": "code",
   "execution_count": null,
   "metadata": {
    "is_executing": true
   },
   "source": [
    "def print_label_period_ratio():\n",
    "    labels = []\n",
    "\n",
    "    # seperate unique labels and count ratio\n",
    "    for el in ds:\n",
    "        if not any(el['label'] in seperatedList for seperatedList in labels):\n",
    "                labels.append([el['label'],el['periodNS'],1])\n",
    "\n",
    "        else:\n",
    "                for label in labels:\n",
    "                    if  label[0] == el['label']:\n",
    "                        label[1] += el['periodNS']\n",
    "                        label[2] += 1\n",
    "    for period in labels:\n",
    "        period[1] = period[1]/period[2]\n",
    "        period[1] = period[1]/1000000\n",
    "        \n",
    "   # convert list to dataframe for plotting the dataframe\n",
    "    df = pd.DataFrame(labels,columns=['label','period (ms) avg','abs count']) \n",
    "    df.drop('abs count',axis=1,inplace =True)\n",
    "    print(df)\n",
    "  # plot label-stamp ratio\n",
    "    ax = sns.barplot(x=df['label'],y=df['period (ms) avg'],data=df)\n",
    "    ax.set(xlabel='Klasse (links+rechts)', ylabel='Durchschnittl. Periodendauer (in ms)')\n",
    "    plt.savefig('label_periodLength_ratio.png')\n",
    "print_label_period_ratio()  "
   ],
   "outputs": []
  },
  {
   "cell_type": "code",
   "execution_count": null,
   "metadata": {
    "is_executing": true
   },
   "source": [
    "def extract_elementraws_from_dataset(ds):\n",
    "    x = []\n",
    "    y = []\n",
    "    z = []\n",
    "     \n",
    "    for el in ds:\n",
    "          for raw in el['raws']:\n",
    "                x.append(raw['x'])\n",
    "                y.append(raw['y'])\n",
    "                z.append(raw['z'])\n",
    "    # convert2Series\n",
    "    s_x = pd.Series(data=x,name='x')\n",
    "    s_y = pd.Series(data=y,name='y')\n",
    "    s_z = pd.Series(data=z,name='z')\n",
    "    return [s_x,s_y,s_z]\n",
    "    "
   ],
   "outputs": []
  },
  {
   "cell_type": "markdown",
   "metadata": {},
   "source": [
    "# Differences between left and right hand data\n",
    "The following section shows the accelerometer values depending on the boxers hand. It can be seen that the types vary in their sign.\n",
    "\n",
    "## Punch: Frontal with left hand"
   ]
  },
  {
   "cell_type": "code",
   "execution_count": null,
   "metadata": {
    "is_executing": true
   },
   "source": [
    "raws = extract_elementraws_from_dataset(ds[0:1])\n",
    "sns.distplot(raws[0],axlabel=\"a (x-Achse) in m/s²\")"
   ],
   "outputs": []
  },
  {
   "cell_type": "markdown",
   "metadata": {},
   "source": [
    "## Punch: Frontal with right hand"
   ]
  },
  {
   "cell_type": "code",
   "execution_count": null,
   "metadata": {
    "is_executing": true
   },
   "source": [
    "raws = extract_elementraws_from_dataset(ds[34:35])\n",
    "sns.distplot(raws[0])"
   ],
   "outputs": []
  },
  {
   "cell_type": "markdown",
   "metadata": {},
   "source": [
    "# Variation between the variables x,y,z\n"
   ]
  },
  {
   "cell_type": "code",
   "execution_count": null,
   "metadata": {
    "scrolled": false,
    "is_executing": true
   },
   "source": [
    "raws = extract_elementraws_from_dataset(ds[1:2])\n",
    "plt.figure(figsize=(10,8))\n",
    "plt.subplot(1,3,1)\n",
    "raws[0].plot.box(grid=1)\n",
    "plt.subplot(1,3,2)\n",
    "raws[1].plot.box(grid=1)\n",
    "plt.subplot(1,3,3)\n",
    "raws[2].plot.box(grid=1)"
   ],
   "outputs": []
  },
  {
   "cell_type": "code",
   "execution_count": null,
   "metadata": {
    "is_executing": true
   },
   "source": [
    "def universal_plotter_for_single_axis(list_of_datasets,\n",
    "                                                                       list_of_axis_to_plot,\n",
    "                                                                       list_of_dataset_legend_titles,\n",
    "                                                                       plot_title, y_axis_label, x_axis_label,\n",
    "                                                                       figSizeTupel = (20,10)):\n",
    "    \"\"\"Plots a specific axis of multiple datasets of an given array.\n",
    "           Converting mechanism is made for the notation style of the smartPunch project.\n",
    "\n",
    "    Args:\n",
    "        list_of_datasets (list): List of datasets\n",
    "        \n",
    "        list_of_axis_to_plot (list): List of strings containig the axis to plot for the dataset of specific array index\n",
    "    \n",
    "        list_of_dataset_legend_titles (list): List strings containing the legend titles for each dataset axis.\n",
    "        \n",
    "        plot_title, y_axis_label , x_axis_label (str): Plot title, x and y plot axis labels\n",
    "        \n",
    "        figSizeTupel (tupel): Figure size\n",
    "        \n",
    "    Returns:\n",
    "        void\n",
    "    \"\"\"   \n",
    "    \n",
    "    fig, ax = plt.subplots(figsize=figSizeTupel)\n",
    "\n",
    "    idx = 0;\n",
    "    for curDataSet in list_of_datasets:\n",
    "        ax.plot(curDataSet['raws']['timestamp'].values,curDataSet[list_of_axis_to_plot[idx]], label=list_of_dataset_legend_titles[idx])\n",
    "        idx+=1;\n",
    "    \n",
    "    ax.set(xlabel=x_axis_label, ylabel=y_axis_label,\n",
    "           title=plot_title)\n",
    "    ax.grid()\n",
    "    plt.legend()\n",
    "    plt.show()"
   ],
   "outputs": []
  },
  {
   "cell_type": "code",
   "execution_count": null,
   "metadata": {
    "is_executing": true
   },
   "source": [
    "# timeseries_plotter.universal_plotter_for_single_axis(ds[0],['x'],['Legend title'],plot_title='Titel hier',y_axis_label='y-Achsen Label',x_axis_label='x-Achsen Label')"
   ],
   "outputs": []
  },
  {
   "cell_type": "code",
   "execution_count": null,
   "metadata": {
    "is_executing": true
   },
   "source": [
    "universal_plotter_for_single_axis([ds[0]],['x'],['Legend title'],plot_title='Titel hier',y_axis_label='y-Achsen Label',x_axis_label='x-Achsen Label')"
   ],
   "outputs": []
  },
  {
   "cell_type": "code",
   "execution_count": null,
   "metadata": {
    "is_executing": true
   },
   "source": [
    "ds[0]['timestamp'].values"
   ],
   "outputs": []
  },
  {
   "cell_type": "code",
   "execution_count": null,
   "metadata": {
    "is_executing": true
   },
   "source": [
    "ds[0]"
   ],
   "outputs": []
  }
 ],
 "metadata": {
  "kernelspec": {
   "display_name": "Python 3",
   "language": "python",
   "name": "python3"
  },
  "language_info": {
   "codemirror_mode": {
    "name": "ipython",
    "version": 3
   },
   "file_extension": ".py",
   "mimetype": "text/x-python",
   "name": "python",
   "nbconvert_exporter": "python",
   "pygments_lexer": "ipython3",
   "version": "3.7.1"
  }
 },
 "nbformat": 4,
 "nbformat_minor": 2
}
