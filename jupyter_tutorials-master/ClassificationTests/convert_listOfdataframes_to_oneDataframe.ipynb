{
 "cells": [
  {
   "cell_type": "markdown",
   "metadata": {},
   "source": [
    "# Convert a list of dataframes to one dataframe\n",
    "This notebook converts a list of dataframes to one dataframe containing all time series."
   ]
  },
  {
   "cell_type": "code",
   "execution_count": 5,
   "metadata": {
    "ExecuteTime": {
     "end_time": "2024-05-29T16:13:26.397458Z",
     "start_time": "2024-05-29T16:13:26.358711Z"
    }
   },
   "source": [
    "#import neccessary modules\n",
    "import json\n",
    "import pandas as pd\n",
    "import seaborn as sns\n",
    "import matplotlib.pyplot as plt\n",
    "import numpy as np"
   ],
   "outputs": []
  },
  {
   "cell_type": "code",
   "execution_count": 6,
   "metadata": {
    "ExecuteTime": {
     "end_time": "2024-05-29T16:13:26.428782Z",
     "start_time": "2024-05-29T16:13:26.369674Z"
    }
   },
   "source": [
    "# helper functions\n",
    "from timeseries_helpers import datasetstorer\n",
    "from timeseries_helpers import dataset_importer\n",
    "from timeseries_helpers import database_importer\n",
    "from timeseries_helpers import standardizer"
   ],
   "outputs": []
  },
  {
   "cell_type": "code",
   "execution_count": 7,
   "metadata": {
    "ExecuteTime": {
     "end_time": "2024-05-29T16:13:26.429650Z",
     "start_time": "2024-05-29T16:13:26.383276Z"
    }
   },
   "source": [
    "# plotting functions\n",
    "from timeseries_helpers import timeseries_plotter"
   ],
   "outputs": []
  },
  {
   "cell_type": "markdown",
   "metadata": {},
   "source": [
    "## Load the normalized list of datasets"
   ]
  },
  {
   "cell_type": "code",
   "execution_count": 8,
   "metadata": {
    "ExecuteTime": {
     "end_time": "2024-05-29T16:13:26.549859Z",
     "start_time": "2024-05-29T16:13:26.436001Z"
    }
   },
   "source": [
    "ds = dataset_importer.csv_to_dataset_list(r\"data/complete_smartpunch_dataset_periodMS2000_sampleUS1000.csv\",2001)"
   ],
   "outputs": []
  },
  {
   "cell_type": "code",
   "execution_count": null,
   "metadata": {
    "ExecuteTime": {
     "end_time": "2024-05-29T16:13:26.557064Z",
     "start_time": "2024-05-29T16:13:26.553128Z"
    }
   },
   "source": [
    "len(ds)"
   ],
   "outputs": []
  },
  {
   "cell_type": "code",
   "execution_count": null,
   "metadata": {
    "ExecuteTime": {
     "start_time": "2024-05-29T16:13:26.557746Z"
    }
   },
   "source": [
    "# converts the given list of dataframes to one dataframe\n",
    "df_list = []\n",
    "for idx,e in enumerate(ds):\n",
    "    df = e.assign(punch_id=idx)\n",
    "    df_list.append(df)\n",
    "df_res = pd.concat(df_list)\n",
    "df_new = df_res.reset_index(drop=True)\n",
    "df_new = df_new.rename(index=str, columns={\"x\": \"a_x\", \"y\": \"a_y\", \"z\":\"a_z\"})"
   ],
   "outputs": []
  },
  {
   "cell_type": "code",
   "execution_count": null,
   "metadata": {
    "ExecuteTime": {
     "start_time": "2024-05-29T16:13:26.560763Z"
    }
   },
   "source": [
    "len(df_new)"
   ],
   "outputs": []
  },
  {
   "cell_type": "code",
   "execution_count": null,
   "metadata": {
    "ExecuteTime": {
     "start_time": "2024-05-29T16:13:26.563612Z"
    }
   },
   "source": [
    "#import winsound\n",
    "#winsound.PlaySound(\"SystemExit\", winsound.SND_ALIAS + winsound.SND_ASYNC +winsound.SND_LOOP)"
   ],
   "outputs": []
  },
  {
   "cell_type": "code",
   "execution_count": null,
   "metadata": {
    "ExecuteTime": {
     "start_time": "2024-05-29T16:13:26.565613Z"
    }
   },
   "source": [
    "#winsound.PlaySound(None, winsound.SND_PURGE)"
   ],
   "outputs": []
  },
  {
   "cell_type": "code",
   "execution_count": null,
   "metadata": {
    "ExecuteTime": {
     "start_time": "2024-05-29T16:13:26.567397Z"
    }
   },
   "source": [
    "df_new.head(10)"
   ],
   "outputs": []
  },
  {
   "cell_type": "code",
   "execution_count": null,
   "metadata": {
    "ExecuteTime": {
     "start_time": "2024-05-29T16:13:26.569476Z"
    }
   },
   "source": [
    "df_new.to_csv(r'../../Datasets/complete_smartpunch_dataset_AsOneDataFrame_periodMS2000_sampleUS1000.csv')"
   ],
   "outputs": []
  },
  {
   "cell_type": "code",
   "execution_count": null,
   "metadata": {
    "ExecuteTime": {
     "start_time": "2024-05-29T16:13:26.571096Z"
    }
   },
   "source": [],
   "outputs": []
  }
 ],
 "metadata": {
  "kernelspec": {
   "display_name": "Python 3",
   "language": "python",
   "name": "python3"
  },
  "language_info": {
   "codemirror_mode": {
    "name": "ipython",
    "version": 3
   },
   "file_extension": ".py",
   "mimetype": "text/x-python",
   "name": "python",
   "nbconvert_exporter": "python",
   "pygments_lexer": "ipython3",
   "version": "3.7.1"
  }
 },
 "nbformat": 4,
 "nbformat_minor": 2
}
