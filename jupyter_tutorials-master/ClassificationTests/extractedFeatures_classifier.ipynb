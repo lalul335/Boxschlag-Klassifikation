{
 "cells": [
  {
   "cell_type": "markdown",
   "metadata": {},
   "source": [
    "# <font color='red'>Classification using extracted features</font>\n",
    "This notebook shows a classification using extracted features. With this it is possible to use typical supervised learning methods such as KNN or Logistic Regression for the classification problem."
   ]
  },
  {
   "cell_type": "markdown",
   "metadata": {},
   "source": [
    "## <font color='blue'>Note</font>: This Notebook contains the \"all-in-one\" classification! For a better and cleaner solution/overview use the modularized Notebooks instead."
   ]
  },
  {
   "cell_type": "markdown",
   "metadata": {},
   "source": [
    "<hr>\n",
    "<center> <h1><font color=\"blue\">Import modules</font></h1> </center>\n",
    "<hr>"
   ]
  },
  {
   "cell_type": "markdown",
   "metadata": {},
   "source": [
    "## Import general modules"
   ]
  },
  {
   "cell_type": "code",
   "execution_count": 1,
   "metadata": {},
   "outputs": [],
   "source": [
    "#import neccessary modules\n",
    "import json\n",
    "import pandas as pd\n",
    "import seaborn as sns\n",
    "import matplotlib.pyplot as plt\n",
    "import numpy as np\n",
    "import random\n",
    "import statistics\n",
    "import matplotlib.cm as cm\n",
    "%matplotlib inline"
   ]
  },
  {
   "cell_type": "markdown",
   "metadata": {},
   "source": [
    "## Import modules for feature extraction"
   ]
  },
  {
   "cell_type": "code",
   "execution_count": 2,
   "metadata": {},
   "outputs": [],
   "source": [
    "# tsfresh modules (for feature extraction)\n",
    "from tsfresh import extract_features, extract_relevant_features, select_features\n",
    "from tsfresh.utilities.dataframe_functions import impute\n",
    "from tsfresh.feature_extraction.settings import ComprehensiveFCParameters, MinimalFCParameters, EfficientFCParameters\n",
    "\n",
    "import logging\n",
    "# Set logger-level to \"error\". Not recommed: Important warnings can be overseen\n",
    "logging.basicConfig(level=logging.ERROR)"
   ]
  },
  {
   "cell_type": "markdown",
   "metadata": {},
   "source": [
    "## Import modules for the standard supervised learning algorithms"
   ]
  },
  {
   "cell_type": "code",
   "execution_count": 3,
   "metadata": {},
   "outputs": [],
   "source": [
    "# import machine learning algorithms\n",
    "from sklearn.svm import SVC\n",
    "from sklearn import svm\n",
    "from sklearn.linear_model import LogisticRegression\n",
    "from sklearn.neighbors import KNeighborsClassifier\n",
    "from sklearn.ensemble import RandomForestClassifier\n",
    "\n",
    "from sklearn.metrics import accuracy_score"
   ]
  },
  {
   "cell_type": "markdown",
   "metadata": {},
   "source": [
    "<hr>\n",
    "<center> <h1><font color=\"blue\">Import and split the dataset</font></h1> </center>\n",
    "<hr>\n",
    "The current dataset can be load as a csv-file. The csv-file is presented as an dataframe object were each time series (punch) is identified with a unique punch_id (continual)"
   ]
  },
  {
   "cell_type": "code",
   "execution_count": 4,
   "metadata": {},
   "outputs": [],
   "source": [
    "ds = pd.read_csv('../../Datasets/complete_smartpunch_dataset_AsOneDataFrame_periodMS2000_sampleUS1000.csv')\n",
    "del ds['Unnamed: 0'] # remove the unnecessary column ... maybe this can be fixed in a later version of the dataset-exporter?! "
   ]
  },
  {
   "cell_type": "code",
   "execution_count": 6,
   "metadata": {},
   "outputs": [
    {
     "data": {
      "text/html": [
       "<div>\n",
       "<style scoped>\n",
       "    .dataframe tbody tr th:only-of-type {\n",
       "        vertical-align: middle;\n",
       "    }\n",
       "\n",
       "    .dataframe tbody tr th {\n",
       "        vertical-align: top;\n",
       "    }\n",
       "\n",
       "    .dataframe thead th {\n",
       "        text-align: right;\n",
       "    }\n",
       "</style>\n",
       "<table border=\"1\" class=\"dataframe\">\n",
       "  <thead>\n",
       "    <tr style=\"text-align: right;\">\n",
       "      <th></th>\n",
       "      <th>a_x</th>\n",
       "      <th>a_y</th>\n",
       "      <th>a_z</th>\n",
       "      <th>timestamp</th>\n",
       "      <th>label</th>\n",
       "      <th>hand</th>\n",
       "      <th>annotator</th>\n",
       "      <th>punch_id</th>\n",
       "    </tr>\n",
       "  </thead>\n",
       "  <tbody>\n",
       "    <tr>\n",
       "      <th>0</th>\n",
       "      <td>6.793223</td>\n",
       "      <td>-2.383251</td>\n",
       "      <td>2.962314</td>\n",
       "      <td>0</td>\n",
       "      <td>1</td>\n",
       "      <td>0</td>\n",
       "      <td>0</td>\n",
       "      <td>0</td>\n",
       "    </tr>\n",
       "    <tr>\n",
       "      <th>1</th>\n",
       "      <td>6.689702</td>\n",
       "      <td>-2.651278</td>\n",
       "      <td>3.180722</td>\n",
       "      <td>1000</td>\n",
       "      <td>1</td>\n",
       "      <td>0</td>\n",
       "      <td>0</td>\n",
       "      <td>0</td>\n",
       "    </tr>\n",
       "    <tr>\n",
       "      <th>2</th>\n",
       "      <td>6.601798</td>\n",
       "      <td>-2.871387</td>\n",
       "      <td>3.359523</td>\n",
       "      <td>2000</td>\n",
       "      <td>1</td>\n",
       "      <td>0</td>\n",
       "      <td>0</td>\n",
       "      <td>0</td>\n",
       "    </tr>\n",
       "    <tr>\n",
       "      <th>3</th>\n",
       "      <td>6.528319</td>\n",
       "      <td>-3.047522</td>\n",
       "      <td>3.502029</td>\n",
       "      <td>3000</td>\n",
       "      <td>1</td>\n",
       "      <td>0</td>\n",
       "      <td>0</td>\n",
       "      <td>0</td>\n",
       "    </tr>\n",
       "    <tr>\n",
       "      <th>4</th>\n",
       "      <td>6.468075</td>\n",
       "      <td>-3.183627</td>\n",
       "      <td>3.611550</td>\n",
       "      <td>4000</td>\n",
       "      <td>1</td>\n",
       "      <td>0</td>\n",
       "      <td>0</td>\n",
       "      <td>0</td>\n",
       "    </tr>\n",
       "    <tr>\n",
       "      <th>5</th>\n",
       "      <td>6.419871</td>\n",
       "      <td>-3.283644</td>\n",
       "      <td>3.691398</td>\n",
       "      <td>5000</td>\n",
       "      <td>1</td>\n",
       "      <td>0</td>\n",
       "      <td>0</td>\n",
       "      <td>0</td>\n",
       "    </tr>\n",
       "    <tr>\n",
       "      <th>6</th>\n",
       "      <td>6.382516</td>\n",
       "      <td>-3.351516</td>\n",
       "      <td>3.744882</td>\n",
       "      <td>6000</td>\n",
       "      <td>1</td>\n",
       "      <td>0</td>\n",
       "      <td>0</td>\n",
       "      <td>0</td>\n",
       "    </tr>\n",
       "    <tr>\n",
       "      <th>7</th>\n",
       "      <td>6.354819</td>\n",
       "      <td>-3.391187</td>\n",
       "      <td>3.775314</td>\n",
       "      <td>7000</td>\n",
       "      <td>1</td>\n",
       "      <td>0</td>\n",
       "      <td>0</td>\n",
       "      <td>0</td>\n",
       "    </tr>\n",
       "    <tr>\n",
       "      <th>8</th>\n",
       "      <td>6.335585</td>\n",
       "      <td>-3.406601</td>\n",
       "      <td>3.786005</td>\n",
       "      <td>8000</td>\n",
       "      <td>1</td>\n",
       "      <td>0</td>\n",
       "      <td>0</td>\n",
       "      <td>0</td>\n",
       "    </tr>\n",
       "    <tr>\n",
       "      <th>9</th>\n",
       "      <td>6.323624</td>\n",
       "      <td>-3.401699</td>\n",
       "      <td>3.780265</td>\n",
       "      <td>9000</td>\n",
       "      <td>1</td>\n",
       "      <td>0</td>\n",
       "      <td>0</td>\n",
       "      <td>0</td>\n",
       "    </tr>\n",
       "    <tr>\n",
       "      <th>10</th>\n",
       "      <td>6.317743</td>\n",
       "      <td>-3.380427</td>\n",
       "      <td>3.761405</td>\n",
       "      <td>10000</td>\n",
       "      <td>1</td>\n",
       "      <td>0</td>\n",
       "      <td>0</td>\n",
       "      <td>0</td>\n",
       "    </tr>\n",
       "    <tr>\n",
       "      <th>11</th>\n",
       "      <td>6.316750</td>\n",
       "      <td>-3.346726</td>\n",
       "      <td>3.732735</td>\n",
       "      <td>11000</td>\n",
       "      <td>1</td>\n",
       "      <td>0</td>\n",
       "      <td>0</td>\n",
       "      <td>0</td>\n",
       "    </tr>\n",
       "    <tr>\n",
       "      <th>12</th>\n",
       "      <td>6.319452</td>\n",
       "      <td>-3.304540</td>\n",
       "      <td>3.697567</td>\n",
       "      <td>12000</td>\n",
       "      <td>1</td>\n",
       "      <td>0</td>\n",
       "      <td>0</td>\n",
       "      <td>0</td>\n",
       "    </tr>\n",
       "    <tr>\n",
       "      <th>13</th>\n",
       "      <td>6.324658</td>\n",
       "      <td>-3.257813</td>\n",
       "      <td>3.659212</td>\n",
       "      <td>13000</td>\n",
       "      <td>1</td>\n",
       "      <td>0</td>\n",
       "      <td>0</td>\n",
       "      <td>0</td>\n",
       "    </tr>\n",
       "    <tr>\n",
       "      <th>14</th>\n",
       "      <td>6.331175</td>\n",
       "      <td>-3.210487</td>\n",
       "      <td>3.620980</td>\n",
       "      <td>14000</td>\n",
       "      <td>1</td>\n",
       "      <td>0</td>\n",
       "      <td>0</td>\n",
       "      <td>0</td>\n",
       "    </tr>\n",
       "    <tr>\n",
       "      <th>15</th>\n",
       "      <td>6.337811</td>\n",
       "      <td>-3.166505</td>\n",
       "      <td>3.586181</td>\n",
       "      <td>15000</td>\n",
       "      <td>1</td>\n",
       "      <td>0</td>\n",
       "      <td>0</td>\n",
       "      <td>0</td>\n",
       "    </tr>\n",
       "    <tr>\n",
       "      <th>16</th>\n",
       "      <td>6.343373</td>\n",
       "      <td>-3.129812</td>\n",
       "      <td>3.558127</td>\n",
       "      <td>16000</td>\n",
       "      <td>1</td>\n",
       "      <td>0</td>\n",
       "      <td>0</td>\n",
       "      <td>0</td>\n",
       "    </tr>\n",
       "    <tr>\n",
       "      <th>17</th>\n",
       "      <td>6.346710</td>\n",
       "      <td>-3.103449</td>\n",
       "      <td>3.539360</td>\n",
       "      <td>17000</td>\n",
       "      <td>1</td>\n",
       "      <td>0</td>\n",
       "      <td>0</td>\n",
       "      <td>0</td>\n",
       "    </tr>\n",
       "    <tr>\n",
       "      <th>18</th>\n",
       "      <td>6.346835</td>\n",
       "      <td>-3.086857</td>\n",
       "      <td>3.529350</td>\n",
       "      <td>18000</td>\n",
       "      <td>1</td>\n",
       "      <td>0</td>\n",
       "      <td>0</td>\n",
       "      <td>0</td>\n",
       "    </tr>\n",
       "    <tr>\n",
       "      <th>19</th>\n",
       "      <td>6.342798</td>\n",
       "      <td>-3.078575</td>\n",
       "      <td>3.526798</td>\n",
       "      <td>19000</td>\n",
       "      <td>1</td>\n",
       "      <td>0</td>\n",
       "      <td>0</td>\n",
       "      <td>0</td>\n",
       "    </tr>\n",
       "    <tr>\n",
       "      <th>20</th>\n",
       "      <td>6.333654</td>\n",
       "      <td>-3.077143</td>\n",
       "      <td>3.530405</td>\n",
       "      <td>20000</td>\n",
       "      <td>1</td>\n",
       "      <td>0</td>\n",
       "      <td>0</td>\n",
       "      <td>0</td>\n",
       "    </tr>\n",
       "    <tr>\n",
       "      <th>21</th>\n",
       "      <td>6.318454</td>\n",
       "      <td>-3.081099</td>\n",
       "      <td>3.538872</td>\n",
       "      <td>21000</td>\n",
       "      <td>1</td>\n",
       "      <td>0</td>\n",
       "      <td>0</td>\n",
       "      <td>0</td>\n",
       "    </tr>\n",
       "    <tr>\n",
       "      <th>22</th>\n",
       "      <td>6.296251</td>\n",
       "      <td>-3.088983</td>\n",
       "      <td>3.550900</td>\n",
       "      <td>22000</td>\n",
       "      <td>1</td>\n",
       "      <td>0</td>\n",
       "      <td>0</td>\n",
       "      <td>0</td>\n",
       "    </tr>\n",
       "    <tr>\n",
       "      <th>23</th>\n",
       "      <td>6.266098</td>\n",
       "      <td>-3.099335</td>\n",
       "      <td>3.565191</td>\n",
       "      <td>23000</td>\n",
       "      <td>1</td>\n",
       "      <td>0</td>\n",
       "      <td>0</td>\n",
       "      <td>0</td>\n",
       "    </tr>\n",
       "    <tr>\n",
       "      <th>24</th>\n",
       "      <td>6.227047</td>\n",
       "      <td>-3.110695</td>\n",
       "      <td>3.580445</td>\n",
       "      <td>24000</td>\n",
       "      <td>1</td>\n",
       "      <td>0</td>\n",
       "      <td>0</td>\n",
       "      <td>0</td>\n",
       "    </tr>\n",
       "    <tr>\n",
       "      <th>25</th>\n",
       "      <td>6.178151</td>\n",
       "      <td>-3.121600</td>\n",
       "      <td>3.595365</td>\n",
       "      <td>25000</td>\n",
       "      <td>1</td>\n",
       "      <td>0</td>\n",
       "      <td>0</td>\n",
       "      <td>0</td>\n",
       "    </tr>\n",
       "    <tr>\n",
       "      <th>26</th>\n",
       "      <td>6.118461</td>\n",
       "      <td>-3.130592</td>\n",
       "      <td>3.608651</td>\n",
       "      <td>26000</td>\n",
       "      <td>1</td>\n",
       "      <td>0</td>\n",
       "      <td>0</td>\n",
       "      <td>0</td>\n",
       "    </tr>\n",
       "    <tr>\n",
       "      <th>27</th>\n",
       "      <td>6.047031</td>\n",
       "      <td>-3.136209</td>\n",
       "      <td>3.619004</td>\n",
       "      <td>27000</td>\n",
       "      <td>1</td>\n",
       "      <td>0</td>\n",
       "      <td>0</td>\n",
       "      <td>0</td>\n",
       "    </tr>\n",
       "    <tr>\n",
       "      <th>28</th>\n",
       "      <td>5.962914</td>\n",
       "      <td>-3.136991</td>\n",
       "      <td>3.625126</td>\n",
       "      <td>28000</td>\n",
       "      <td>1</td>\n",
       "      <td>0</td>\n",
       "      <td>0</td>\n",
       "      <td>0</td>\n",
       "    </tr>\n",
       "    <tr>\n",
       "      <th>29</th>\n",
       "      <td>5.866752</td>\n",
       "      <td>-3.132116</td>\n",
       "      <td>3.626141</td>\n",
       "      <td>29000</td>\n",
       "      <td>1</td>\n",
       "      <td>0</td>\n",
       "      <td>0</td>\n",
       "      <td>0</td>\n",
       "    </tr>\n",
       "    <tr>\n",
       "      <th>...</th>\n",
       "      <td>...</td>\n",
       "      <td>...</td>\n",
       "      <td>...</td>\n",
       "      <td>...</td>\n",
       "      <td>...</td>\n",
       "      <td>...</td>\n",
       "      <td>...</td>\n",
       "      <td>...</td>\n",
       "    </tr>\n",
       "    <tr>\n",
       "      <th>1975</th>\n",
       "      <td>6.793223</td>\n",
       "      <td>-2.383251</td>\n",
       "      <td>2.962314</td>\n",
       "      <td>1975000</td>\n",
       "      <td>1</td>\n",
       "      <td>0</td>\n",
       "      <td>0</td>\n",
       "      <td>0</td>\n",
       "    </tr>\n",
       "    <tr>\n",
       "      <th>1976</th>\n",
       "      <td>6.793223</td>\n",
       "      <td>-2.383251</td>\n",
       "      <td>2.962314</td>\n",
       "      <td>1976000</td>\n",
       "      <td>1</td>\n",
       "      <td>0</td>\n",
       "      <td>0</td>\n",
       "      <td>0</td>\n",
       "    </tr>\n",
       "    <tr>\n",
       "      <th>1977</th>\n",
       "      <td>6.793223</td>\n",
       "      <td>-2.383251</td>\n",
       "      <td>2.962314</td>\n",
       "      <td>1977000</td>\n",
       "      <td>1</td>\n",
       "      <td>0</td>\n",
       "      <td>0</td>\n",
       "      <td>0</td>\n",
       "    </tr>\n",
       "    <tr>\n",
       "      <th>1978</th>\n",
       "      <td>6.793223</td>\n",
       "      <td>-2.383251</td>\n",
       "      <td>2.962314</td>\n",
       "      <td>1978000</td>\n",
       "      <td>1</td>\n",
       "      <td>0</td>\n",
       "      <td>0</td>\n",
       "      <td>0</td>\n",
       "    </tr>\n",
       "    <tr>\n",
       "      <th>1979</th>\n",
       "      <td>6.793223</td>\n",
       "      <td>-2.383251</td>\n",
       "      <td>2.962314</td>\n",
       "      <td>1979000</td>\n",
       "      <td>1</td>\n",
       "      <td>0</td>\n",
       "      <td>0</td>\n",
       "      <td>0</td>\n",
       "    </tr>\n",
       "    <tr>\n",
       "      <th>1980</th>\n",
       "      <td>6.793223</td>\n",
       "      <td>-2.383251</td>\n",
       "      <td>2.962314</td>\n",
       "      <td>1980000</td>\n",
       "      <td>1</td>\n",
       "      <td>0</td>\n",
       "      <td>0</td>\n",
       "      <td>0</td>\n",
       "    </tr>\n",
       "    <tr>\n",
       "      <th>1981</th>\n",
       "      <td>6.793223</td>\n",
       "      <td>-2.383251</td>\n",
       "      <td>2.962314</td>\n",
       "      <td>1981000</td>\n",
       "      <td>1</td>\n",
       "      <td>0</td>\n",
       "      <td>0</td>\n",
       "      <td>0</td>\n",
       "    </tr>\n",
       "    <tr>\n",
       "      <th>1982</th>\n",
       "      <td>6.793223</td>\n",
       "      <td>-2.383251</td>\n",
       "      <td>2.962314</td>\n",
       "      <td>1982000</td>\n",
       "      <td>1</td>\n",
       "      <td>0</td>\n",
       "      <td>0</td>\n",
       "      <td>0</td>\n",
       "    </tr>\n",
       "    <tr>\n",
       "      <th>1983</th>\n",
       "      <td>6.793223</td>\n",
       "      <td>-2.383251</td>\n",
       "      <td>2.962314</td>\n",
       "      <td>1983000</td>\n",
       "      <td>1</td>\n",
       "      <td>0</td>\n",
       "      <td>0</td>\n",
       "      <td>0</td>\n",
       "    </tr>\n",
       "    <tr>\n",
       "      <th>1984</th>\n",
       "      <td>6.793223</td>\n",
       "      <td>-2.383251</td>\n",
       "      <td>2.962314</td>\n",
       "      <td>1984000</td>\n",
       "      <td>1</td>\n",
       "      <td>0</td>\n",
       "      <td>0</td>\n",
       "      <td>0</td>\n",
       "    </tr>\n",
       "    <tr>\n",
       "      <th>1985</th>\n",
       "      <td>6.793223</td>\n",
       "      <td>-2.383251</td>\n",
       "      <td>2.962314</td>\n",
       "      <td>1985000</td>\n",
       "      <td>1</td>\n",
       "      <td>0</td>\n",
       "      <td>0</td>\n",
       "      <td>0</td>\n",
       "    </tr>\n",
       "    <tr>\n",
       "      <th>1986</th>\n",
       "      <td>6.793223</td>\n",
       "      <td>-2.383251</td>\n",
       "      <td>2.962314</td>\n",
       "      <td>1986000</td>\n",
       "      <td>1</td>\n",
       "      <td>0</td>\n",
       "      <td>0</td>\n",
       "      <td>0</td>\n",
       "    </tr>\n",
       "    <tr>\n",
       "      <th>1987</th>\n",
       "      <td>6.793223</td>\n",
       "      <td>-2.383251</td>\n",
       "      <td>2.962314</td>\n",
       "      <td>1987000</td>\n",
       "      <td>1</td>\n",
       "      <td>0</td>\n",
       "      <td>0</td>\n",
       "      <td>0</td>\n",
       "    </tr>\n",
       "    <tr>\n",
       "      <th>1988</th>\n",
       "      <td>6.793223</td>\n",
       "      <td>-2.383251</td>\n",
       "      <td>2.962314</td>\n",
       "      <td>1988000</td>\n",
       "      <td>1</td>\n",
       "      <td>0</td>\n",
       "      <td>0</td>\n",
       "      <td>0</td>\n",
       "    </tr>\n",
       "    <tr>\n",
       "      <th>1989</th>\n",
       "      <td>6.793223</td>\n",
       "      <td>-2.383251</td>\n",
       "      <td>2.962314</td>\n",
       "      <td>1989000</td>\n",
       "      <td>1</td>\n",
       "      <td>0</td>\n",
       "      <td>0</td>\n",
       "      <td>0</td>\n",
       "    </tr>\n",
       "    <tr>\n",
       "      <th>1990</th>\n",
       "      <td>6.793223</td>\n",
       "      <td>-2.383251</td>\n",
       "      <td>2.962314</td>\n",
       "      <td>1990000</td>\n",
       "      <td>1</td>\n",
       "      <td>0</td>\n",
       "      <td>0</td>\n",
       "      <td>0</td>\n",
       "    </tr>\n",
       "    <tr>\n",
       "      <th>1991</th>\n",
       "      <td>6.793223</td>\n",
       "      <td>-2.383251</td>\n",
       "      <td>2.962314</td>\n",
       "      <td>1991000</td>\n",
       "      <td>1</td>\n",
       "      <td>0</td>\n",
       "      <td>0</td>\n",
       "      <td>0</td>\n",
       "    </tr>\n",
       "    <tr>\n",
       "      <th>1992</th>\n",
       "      <td>6.793223</td>\n",
       "      <td>-2.383251</td>\n",
       "      <td>2.962314</td>\n",
       "      <td>1992000</td>\n",
       "      <td>1</td>\n",
       "      <td>0</td>\n",
       "      <td>0</td>\n",
       "      <td>0</td>\n",
       "    </tr>\n",
       "    <tr>\n",
       "      <th>1993</th>\n",
       "      <td>6.793223</td>\n",
       "      <td>-2.383251</td>\n",
       "      <td>2.962314</td>\n",
       "      <td>1993000</td>\n",
       "      <td>1</td>\n",
       "      <td>0</td>\n",
       "      <td>0</td>\n",
       "      <td>0</td>\n",
       "    </tr>\n",
       "    <tr>\n",
       "      <th>1994</th>\n",
       "      <td>6.793223</td>\n",
       "      <td>-2.383251</td>\n",
       "      <td>2.962314</td>\n",
       "      <td>1994000</td>\n",
       "      <td>1</td>\n",
       "      <td>0</td>\n",
       "      <td>0</td>\n",
       "      <td>0</td>\n",
       "    </tr>\n",
       "    <tr>\n",
       "      <th>1995</th>\n",
       "      <td>6.793223</td>\n",
       "      <td>-2.383251</td>\n",
       "      <td>2.962314</td>\n",
       "      <td>1995000</td>\n",
       "      <td>1</td>\n",
       "      <td>0</td>\n",
       "      <td>0</td>\n",
       "      <td>0</td>\n",
       "    </tr>\n",
       "    <tr>\n",
       "      <th>1996</th>\n",
       "      <td>6.793223</td>\n",
       "      <td>-2.383251</td>\n",
       "      <td>2.962314</td>\n",
       "      <td>1996000</td>\n",
       "      <td>1</td>\n",
       "      <td>0</td>\n",
       "      <td>0</td>\n",
       "      <td>0</td>\n",
       "    </tr>\n",
       "    <tr>\n",
       "      <th>1997</th>\n",
       "      <td>6.793223</td>\n",
       "      <td>-2.383251</td>\n",
       "      <td>2.962314</td>\n",
       "      <td>1997000</td>\n",
       "      <td>1</td>\n",
       "      <td>0</td>\n",
       "      <td>0</td>\n",
       "      <td>0</td>\n",
       "    </tr>\n",
       "    <tr>\n",
       "      <th>1998</th>\n",
       "      <td>6.793223</td>\n",
       "      <td>-2.383251</td>\n",
       "      <td>2.962314</td>\n",
       "      <td>1998000</td>\n",
       "      <td>1</td>\n",
       "      <td>0</td>\n",
       "      <td>0</td>\n",
       "      <td>0</td>\n",
       "    </tr>\n",
       "    <tr>\n",
       "      <th>1999</th>\n",
       "      <td>6.793223</td>\n",
       "      <td>-2.383251</td>\n",
       "      <td>2.962314</td>\n",
       "      <td>1999000</td>\n",
       "      <td>1</td>\n",
       "      <td>0</td>\n",
       "      <td>0</td>\n",
       "      <td>0</td>\n",
       "    </tr>\n",
       "    <tr>\n",
       "      <th>2000</th>\n",
       "      <td>6.793223</td>\n",
       "      <td>-2.383251</td>\n",
       "      <td>2.962314</td>\n",
       "      <td>2000000</td>\n",
       "      <td>1</td>\n",
       "      <td>0</td>\n",
       "      <td>0</td>\n",
       "      <td>0</td>\n",
       "    </tr>\n",
       "    <tr>\n",
       "      <th>2001</th>\n",
       "      <td>8.322237</td>\n",
       "      <td>-1.923829</td>\n",
       "      <td>4.405187</td>\n",
       "      <td>0</td>\n",
       "      <td>1</td>\n",
       "      <td>0</td>\n",
       "      <td>0</td>\n",
       "      <td>1</td>\n",
       "    </tr>\n",
       "    <tr>\n",
       "      <th>2002</th>\n",
       "      <td>8.407307</td>\n",
       "      <td>-1.771097</td>\n",
       "      <td>4.271892</td>\n",
       "      <td>1000</td>\n",
       "      <td>1</td>\n",
       "      <td>0</td>\n",
       "      <td>0</td>\n",
       "      <td>1</td>\n",
       "    </tr>\n",
       "    <tr>\n",
       "      <th>2003</th>\n",
       "      <td>8.473780</td>\n",
       "      <td>-1.650711</td>\n",
       "      <td>4.166435</td>\n",
       "      <td>2000</td>\n",
       "      <td>1</td>\n",
       "      <td>0</td>\n",
       "      <td>0</td>\n",
       "      <td>1</td>\n",
       "    </tr>\n",
       "    <tr>\n",
       "      <th>2004</th>\n",
       "      <td>8.523112</td>\n",
       "      <td>-1.560006</td>\n",
       "      <td>4.086582</td>\n",
       "      <td>3000</td>\n",
       "      <td>1</td>\n",
       "      <td>0</td>\n",
       "      <td>0</td>\n",
       "      <td>1</td>\n",
       "    </tr>\n",
       "  </tbody>\n",
       "</table>\n",
       "<p>2005 rows × 8 columns</p>\n",
       "</div>"
      ],
      "text/plain": [
       "           a_x       a_y       a_z  timestamp  label  hand  annotator  \\\n",
       "0     6.793223 -2.383251  2.962314          0      1     0          0   \n",
       "1     6.689702 -2.651278  3.180722       1000      1     0          0   \n",
       "2     6.601798 -2.871387  3.359523       2000      1     0          0   \n",
       "3     6.528319 -3.047522  3.502029       3000      1     0          0   \n",
       "4     6.468075 -3.183627  3.611550       4000      1     0          0   \n",
       "5     6.419871 -3.283644  3.691398       5000      1     0          0   \n",
       "6     6.382516 -3.351516  3.744882       6000      1     0          0   \n",
       "7     6.354819 -3.391187  3.775314       7000      1     0          0   \n",
       "8     6.335585 -3.406601  3.786005       8000      1     0          0   \n",
       "9     6.323624 -3.401699  3.780265       9000      1     0          0   \n",
       "10    6.317743 -3.380427  3.761405      10000      1     0          0   \n",
       "11    6.316750 -3.346726  3.732735      11000      1     0          0   \n",
       "12    6.319452 -3.304540  3.697567      12000      1     0          0   \n",
       "13    6.324658 -3.257813  3.659212      13000      1     0          0   \n",
       "14    6.331175 -3.210487  3.620980      14000      1     0          0   \n",
       "15    6.337811 -3.166505  3.586181      15000      1     0          0   \n",
       "16    6.343373 -3.129812  3.558127      16000      1     0          0   \n",
       "17    6.346710 -3.103449  3.539360      17000      1     0          0   \n",
       "18    6.346835 -3.086857  3.529350      18000      1     0          0   \n",
       "19    6.342798 -3.078575  3.526798      19000      1     0          0   \n",
       "20    6.333654 -3.077143  3.530405      20000      1     0          0   \n",
       "21    6.318454 -3.081099  3.538872      21000      1     0          0   \n",
       "22    6.296251 -3.088983  3.550900      22000      1     0          0   \n",
       "23    6.266098 -3.099335  3.565191      23000      1     0          0   \n",
       "24    6.227047 -3.110695  3.580445      24000      1     0          0   \n",
       "25    6.178151 -3.121600  3.595365      25000      1     0          0   \n",
       "26    6.118461 -3.130592  3.608651      26000      1     0          0   \n",
       "27    6.047031 -3.136209  3.619004      27000      1     0          0   \n",
       "28    5.962914 -3.136991  3.625126      28000      1     0          0   \n",
       "29    5.866752 -3.132116  3.626141      29000      1     0          0   \n",
       "...        ...       ...       ...        ...    ...   ...        ...   \n",
       "1975  6.793223 -2.383251  2.962314    1975000      1     0          0   \n",
       "1976  6.793223 -2.383251  2.962314    1976000      1     0          0   \n",
       "1977  6.793223 -2.383251  2.962314    1977000      1     0          0   \n",
       "1978  6.793223 -2.383251  2.962314    1978000      1     0          0   \n",
       "1979  6.793223 -2.383251  2.962314    1979000      1     0          0   \n",
       "1980  6.793223 -2.383251  2.962314    1980000      1     0          0   \n",
       "1981  6.793223 -2.383251  2.962314    1981000      1     0          0   \n",
       "1982  6.793223 -2.383251  2.962314    1982000      1     0          0   \n",
       "1983  6.793223 -2.383251  2.962314    1983000      1     0          0   \n",
       "1984  6.793223 -2.383251  2.962314    1984000      1     0          0   \n",
       "1985  6.793223 -2.383251  2.962314    1985000      1     0          0   \n",
       "1986  6.793223 -2.383251  2.962314    1986000      1     0          0   \n",
       "1987  6.793223 -2.383251  2.962314    1987000      1     0          0   \n",
       "1988  6.793223 -2.383251  2.962314    1988000      1     0          0   \n",
       "1989  6.793223 -2.383251  2.962314    1989000      1     0          0   \n",
       "1990  6.793223 -2.383251  2.962314    1990000      1     0          0   \n",
       "1991  6.793223 -2.383251  2.962314    1991000      1     0          0   \n",
       "1992  6.793223 -2.383251  2.962314    1992000      1     0          0   \n",
       "1993  6.793223 -2.383251  2.962314    1993000      1     0          0   \n",
       "1994  6.793223 -2.383251  2.962314    1994000      1     0          0   \n",
       "1995  6.793223 -2.383251  2.962314    1995000      1     0          0   \n",
       "1996  6.793223 -2.383251  2.962314    1996000      1     0          0   \n",
       "1997  6.793223 -2.383251  2.962314    1997000      1     0          0   \n",
       "1998  6.793223 -2.383251  2.962314    1998000      1     0          0   \n",
       "1999  6.793223 -2.383251  2.962314    1999000      1     0          0   \n",
       "2000  6.793223 -2.383251  2.962314    2000000      1     0          0   \n",
       "2001  8.322237 -1.923829  4.405187          0      1     0          0   \n",
       "2002  8.407307 -1.771097  4.271892       1000      1     0          0   \n",
       "2003  8.473780 -1.650711  4.166435       2000      1     0          0   \n",
       "2004  8.523112 -1.560006  4.086582       3000      1     0          0   \n",
       "\n",
       "      punch_id  \n",
       "0            0  \n",
       "1            0  \n",
       "2            0  \n",
       "3            0  \n",
       "4            0  \n",
       "5            0  \n",
       "6            0  \n",
       "7            0  \n",
       "8            0  \n",
       "9            0  \n",
       "10           0  \n",
       "11           0  \n",
       "12           0  \n",
       "13           0  \n",
       "14           0  \n",
       "15           0  \n",
       "16           0  \n",
       "17           0  \n",
       "18           0  \n",
       "19           0  \n",
       "20           0  \n",
       "21           0  \n",
       "22           0  \n",
       "23           0  \n",
       "24           0  \n",
       "25           0  \n",
       "26           0  \n",
       "27           0  \n",
       "28           0  \n",
       "29           0  \n",
       "...        ...  \n",
       "1975         0  \n",
       "1976         0  \n",
       "1977         0  \n",
       "1978         0  \n",
       "1979         0  \n",
       "1980         0  \n",
       "1981         0  \n",
       "1982         0  \n",
       "1983         0  \n",
       "1984         0  \n",
       "1985         0  \n",
       "1986         0  \n",
       "1987         0  \n",
       "1988         0  \n",
       "1989         0  \n",
       "1990         0  \n",
       "1991         0  \n",
       "1992         0  \n",
       "1993         0  \n",
       "1994         0  \n",
       "1995         0  \n",
       "1996         0  \n",
       "1997         0  \n",
       "1998         0  \n",
       "1999         0  \n",
       "2000         0  \n",
       "2001         1  \n",
       "2002         1  \n",
       "2003         1  \n",
       "2004         1  \n",
       "\n",
       "[2005 rows x 8 columns]"
      ]
     },
     "execution_count": 6,
     "metadata": {},
     "output_type": "execute_result"
    }
   ],
   "source": [
    "ds.head(2005)"
   ]
  },
  {
   "cell_type": "code",
   "execution_count": 5,
   "metadata": {},
   "outputs": [
    {
     "data": {
      "text/html": [
       "<div>\n",
       "<style scoped>\n",
       "    .dataframe tbody tr th:only-of-type {\n",
       "        vertical-align: middle;\n",
       "    }\n",
       "\n",
       "    .dataframe tbody tr th {\n",
       "        vertical-align: top;\n",
       "    }\n",
       "\n",
       "    .dataframe thead th {\n",
       "        text-align: right;\n",
       "    }\n",
       "</style>\n",
       "<table border=\"1\" class=\"dataframe\">\n",
       "  <thead>\n",
       "    <tr style=\"text-align: right;\">\n",
       "      <th></th>\n",
       "      <th>a_x</th>\n",
       "      <th>a_y</th>\n",
       "      <th>a_z</th>\n",
       "      <th>timestamp</th>\n",
       "      <th>label</th>\n",
       "      <th>hand</th>\n",
       "      <th>annotator</th>\n",
       "      <th>punch_id</th>\n",
       "    </tr>\n",
       "  </thead>\n",
       "  <tbody>\n",
       "    <tr>\n",
       "      <th>0</th>\n",
       "      <td>6.793223</td>\n",
       "      <td>-2.383251</td>\n",
       "      <td>2.962314</td>\n",
       "      <td>0</td>\n",
       "      <td>1</td>\n",
       "      <td>0</td>\n",
       "      <td>0</td>\n",
       "      <td>0</td>\n",
       "    </tr>\n",
       "    <tr>\n",
       "      <th>1</th>\n",
       "      <td>6.689702</td>\n",
       "      <td>-2.651278</td>\n",
       "      <td>3.180722</td>\n",
       "      <td>1000</td>\n",
       "      <td>1</td>\n",
       "      <td>0</td>\n",
       "      <td>0</td>\n",
       "      <td>0</td>\n",
       "    </tr>\n",
       "    <tr>\n",
       "      <th>2</th>\n",
       "      <td>6.601798</td>\n",
       "      <td>-2.871387</td>\n",
       "      <td>3.359523</td>\n",
       "      <td>2000</td>\n",
       "      <td>1</td>\n",
       "      <td>0</td>\n",
       "      <td>0</td>\n",
       "      <td>0</td>\n",
       "    </tr>\n",
       "    <tr>\n",
       "      <th>3</th>\n",
       "      <td>6.528319</td>\n",
       "      <td>-3.047522</td>\n",
       "      <td>3.502029</td>\n",
       "      <td>3000</td>\n",
       "      <td>1</td>\n",
       "      <td>0</td>\n",
       "      <td>0</td>\n",
       "      <td>0</td>\n",
       "    </tr>\n",
       "    <tr>\n",
       "      <th>4</th>\n",
       "      <td>6.468075</td>\n",
       "      <td>-3.183627</td>\n",
       "      <td>3.611550</td>\n",
       "      <td>4000</td>\n",
       "      <td>1</td>\n",
       "      <td>0</td>\n",
       "      <td>0</td>\n",
       "      <td>0</td>\n",
       "    </tr>\n",
       "  </tbody>\n",
       "</table>\n",
       "</div>"
      ],
      "text/plain": [
       "        a_x       a_y       a_z  timestamp  label  hand  annotator  punch_id\n",
       "0  6.793223 -2.383251  2.962314          0      1     0          0         0\n",
       "1  6.689702 -2.651278  3.180722       1000      1     0          0         0\n",
       "2  6.601798 -2.871387  3.359523       2000      1     0          0         0\n",
       "3  6.528319 -3.047522  3.502029       3000      1     0          0         0\n",
       "4  6.468075 -3.183627  3.611550       4000      1     0          0         0"
      ]
     },
     "execution_count": 5,
     "metadata": {},
     "output_type": "execute_result"
    }
   ],
   "source": [
    "ds.head()"
   ]
  },
  {
   "cell_type": "code",
   "execution_count": null,
   "metadata": {},
   "outputs": [],
   "source": []
  },
  {
   "cell_type": "code",
   "execution_count": 6,
   "metadata": {},
   "outputs": [],
   "source": [
    "test_ds= [\n",
    "    {\n",
    "        \"_id\": \"5c8faaaae37533453c77fb20\",\n",
    "        \"label\": \"Training\",\n",
    "        \"hand\": \"L+R\",\n",
    "        \"annotator\": \"Trainingsmode\",\n",
    "        \"count\": 81,\n",
    "        \"periodNS\": 767000000,\n",
    "        \"raws\": [\n",
    "            {\n",
    "                \"_id\": \"5c8faaaae37533453c77facf\",\n",
    "                \"timestamp\": \"0\",\n",
    "                \"x\": 9.68375301361084,\n",
    "                \"y\": 0.9762716293334961,\n",
    "                \"z\": 0.9834501147270203\n",
    "            },\n",
    "            {\n",
    "                \"_id\": \"5c8faaaae37533453c77fad0\",\n",
    "                \"timestamp\": \"3000000\",\n",
    "                \"x\": 9.686145782470703,\n",
    "                \"y\": 1.0456634759902954,\n",
    "                \"z\": 1.0289137363433838\n",
    "            },\n",
    "            {\n",
    "                \"_id\": \"5c8faaaae37533453c77fad1\",\n",
    "                \"timestamp\": \"1000000\",\n",
    "                \"x\": 9.645467758178711,\n",
    "                \"y\": 1.1102696657180786,\n",
    "                \"z\": 1.1341979503631592\n",
    "            },\n",
    "            {\n",
    "                \"_id\": \"5c8faaaae37533453c77fad2\",\n",
    "                \"timestamp\": \"13000000\",\n",
    "                \"x\": 9.616754531860352,\n",
    "                \"y\": 1.184447169303894,\n",
    "                \"z\": 1.1676974296569824\n",
    "            },\n",
    "            {\n",
    "                \"_id\": \"5c8faaaae37533453c77fad3\",\n",
    "                \"timestamp\": \"6000000\",\n",
    "                \"x\": 9.631111145019531,\n",
    "                \"y\": 1.2394821643829346,\n",
    "                \"z\": 1.1892328262329102\n",
    "            },\n",
    "            {\n",
    "                \"_id\": \"5c8faaaae37533453c77fad4\",\n",
    "                \"timestamp\": \"9000000\",\n",
    "                \"x\": 9.698110580444336,\n",
    "                \"y\": 1.4021940231323242,\n",
    "                \"z\": 1.3399807214736938\n",
    "            },\n",
    "            {\n",
    "                \"_id\": \"5c8faaaae37533453c77fad5\",\n",
    "                \"timestamp\": \"11000000\",\n",
    "                \"x\": 9.67657470703125,\n",
    "                \"y\": 1.3854442834854126,\n",
    "                \"z\": 1.2299108505249023\n",
    "            },\n",
    "            {\n",
    "                \"_id\": \"5c8faaaae37533453c77fad6\",\n",
    "                \"timestamp\": \"13000000\",\n",
    "                \"x\": 9.69093132019043,\n",
    "                \"y\": 1.4524433612823486,\n",
    "                \"z\": 1.1102696657180786\n",
    "            },\n",
    "            {\n",
    "                \"_id\": \"5c8faaaae37533453c77fad7\",\n",
    "                \"timestamp\": \"6000000\",\n",
    "                \"x\": 9.681360244750977,\n",
    "                \"y\": 1.3591232299804688,\n",
    "                \"z\": 0.8997012972831726\n",
    "            },\n",
    "            {\n",
    "                \"_id\": \"5c8faaaae37533453c77fad8\",\n",
    "                \"timestamp\": \"13000000\",\n",
    "                \"x\": 9.69093132019043,\n",
    "                \"y\": 1.5409778356552124,\n",
    "                \"z\": 0.8542376756668091\n",
    "            },\n",
    "            {\n",
    "                \"_id\": \"5c8faaaae37533453c77fad9\",\n",
    "                \"timestamp\": \"6000000\",\n",
    "                \"x\": 9.678967475891113,\n",
    "                \"y\": 1.6390835046768188,\n",
    "                \"z\": 0.8039883971214294\n",
    "            },\n",
    "            {\n",
    "                \"_id\": \"5c8faaaae37533453c77fada\",\n",
    "                \"timestamp\": \"13000000\",\n",
    "                \"x\": 9.650253295898438,\n",
    "                \"y\": 1.5864413976669312,\n",
    "                \"z\": 0.763310432434082\n",
    "            },\n",
    "            {\n",
    "                \"_id\": \"5c8faaaae37533453c77fadb\",\n",
    "                \"timestamp\": \"13000000\",\n",
    "                \"x\": 9.640682220458984,\n",
    "                \"y\": 1.648654818534851,\n",
    "                \"z\": 0.8111668825149536\n",
    "            },\n",
    "            {\n",
    "                \"_id\": \"5c8faaaae37533453c77fadc\",\n",
    "                \"timestamp\": \"5000000\",\n",
    "                \"x\": 9.616754531860352,\n",
    "                \"y\": 1.674975872039795,\n",
    "                \"z\": 0.8327022790908813\n",
    "            },\n",
    "            {\n",
    "                \"_id\": \"5c8faaaae37533453c77fadd\",\n",
    "                \"timestamp\": \"12000000\",\n",
    "                \"x\": 9.609575271606445,\n",
    "                \"y\": 1.7228323221206665,\n",
    "                \"z\": 0.8590233325958252\n",
    "            },\n",
    "            {\n",
    "                \"_id\": \"5c8faaaae37533453c77fade\",\n",
    "                \"timestamp\": \"7000000\",\n",
    "                \"x\": 9.542576789855957,\n",
    "                \"y\": 1.7276179790496826,\n",
    "                \"z\": 0.8398807644844055\n",
    "            },\n",
    "            {\n",
    "                \"_id\": \"5c8faaaae37533453c77fadf\",\n",
    "                \"timestamp\": \"12000000\",\n",
    "                \"x\": 9.54496955871582,\n",
    "                \"y\": 1.7850457429885864,\n",
    "                \"z\": 0.8374879360198975\n",
    "            },\n",
    "            {\n",
    "                \"_id\": \"5c8faaaae37533453c77fae0\",\n",
    "                \"timestamp\": \"7000000\",\n",
    "                \"x\": 9.516255378723145,\n",
    "                \"y\": 1.8376877307891846,\n",
    "                \"z\": 0.8422735929489136\n",
    "            },\n",
    "            {\n",
    "                \"_id\": \"5c8faaaae37533453c77fae1\",\n",
    "                \"timestamp\": \"12000000\",\n",
    "                \"x\": 9.53061294555664,\n",
    "                \"y\": 1.8616160154342651,\n",
    "                \"z\": 0.8398807644844055\n",
    "            },\n",
    "            {\n",
    "                \"_id\": \"5c8faaaae37533453c77fae2\",\n",
    "                \"timestamp\": \"12000000\",\n",
    "                \"x\": 9.559326171875,\n",
    "                \"y\": 1.9142581224441528,\n",
    "                \"z\": 0.7824530005455017\n",
    "            },\n",
    "            {\n",
    "                \"_id\": \"5c8faaaae37533453c77fae3\",\n",
    "                \"timestamp\": \"6000000\",\n",
    "                \"x\": 9.509077072143555,\n",
    "                \"y\": 1.9357935190200806,\n",
    "                \"z\": 0.7537391185760498\n",
    "            },\n",
    "            {\n",
    "                \"_id\": \"5c8faaaae37533453c77fae4\",\n",
    "                \"timestamp\": \"11000000\",\n",
    "                \"x\": 9.528220176696777,\n",
    "                \"y\": 1.947757601737976,\n",
    "                \"z\": 0.7728816866874695\n",
    "            },\n",
    "            {\n",
    "                \"_id\": \"5c8faaaae37533453c77fae5\",\n",
    "                \"timestamp\": \"8000000\",\n",
    "                \"x\": 9.54496955871582,\n",
    "                \"y\": 1.9453648328781128,\n",
    "                \"z\": 0.8039883971214294\n",
    "            },\n",
    "            {\n",
    "                \"_id\": \"5c8faaaae37533453c77fae6\",\n",
    "                \"timestamp\": \"14000000\",\n",
    "                \"x\": 9.547362327575684,\n",
    "                \"y\": 1.9310078620910645,\n",
    "                \"z\": 0.8135597109794617\n",
    "            },\n",
    "            {\n",
    "                \"_id\": \"5c8faaaae37533453c77fae7\",\n",
    "                \"timestamp\": \"10000000\",\n",
    "                \"x\": 9.528220176696777,\n",
    "                \"y\": 1.9525432586669922,\n",
    "                \"z\": 0.8327022790908813\n",
    "            },\n",
    "            {\n",
    "                \"_id\": \"5c8faaaae37533453c77fae8\",\n",
    "                \"timestamp\": \"7000000\",\n",
    "                \"x\": 9.521040916442871,\n",
    "                \"y\": 1.9381862878799438,\n",
    "                \"z\": 0.8327022790908813\n",
    "            },\n",
    "            {\n",
    "                \"_id\": \"5c8faaaae37533453c77fae9\",\n",
    "                \"timestamp\": \"12000000\",\n",
    "                \"x\": 9.504291534423828,\n",
    "                \"y\": 1.8903298377990723,\n",
    "                \"z\": 0.849452018737793\n",
    "            },\n",
    "            {\n",
    "                \"_id\": \"5c8faaaae37533453c77faea\",\n",
    "                \"timestamp\": \"5000000\",\n",
    "                \"x\": 9.523433685302734,\n",
    "                \"y\": 1.852044701576233,\n",
    "                \"z\": 0.8781659007072449\n",
    "            },\n",
    "            {\n",
    "                \"_id\": \"5c8faaaae37533453c77faeb\",\n",
    "                \"timestamp\": \"11000000\",\n",
    "                \"x\": 9.521040916442871,\n",
    "                \"y\": 1.8233308792114258,\n",
    "                \"z\": 0.9260223507881165\n",
    "            },\n",
    "            {\n",
    "                \"_id\": \"5c8faaaae37533453c77faec\",\n",
    "                \"timestamp\": \"9000000\",\n",
    "                \"x\": 9.549755096435547,\n",
    "                \"y\": 1.794616937637329,\n",
    "                \"z\": 0.9930213689804077\n",
    "            },\n",
    "            {\n",
    "                \"_id\": \"5c8faaaae37533453c77faed\",\n",
    "                \"timestamp\": \"12000000\",\n",
    "                \"x\": 9.53779125213623,\n",
    "                \"y\": 1.8113667964935303,\n",
    "                \"z\": 1.0456634759902954\n",
    "            },\n",
    "            {\n",
    "                \"_id\": \"5c8faaaae37533453c77faee\",\n",
    "                \"timestamp\": \"16000000\",\n",
    "                \"x\": 9.513862609863281,\n",
    "                \"y\": 1.8352949619293213,\n",
    "                \"z\": 1.0480563640594482\n",
    "            },\n",
    "            {\n",
    "                \"_id\": \"5c8faaaae37533453c77faef\",\n",
    "                \"timestamp\": \"14000000\",\n",
    "                \"x\": 9.475577354431152,\n",
    "                \"y\": 1.8711873292922974,\n",
    "                \"z\": 1.0121639966964722\n",
    "            },\n",
    "            {\n",
    "                \"_id\": \"5c8faaaae37533453c77faf0\",\n",
    "                \"timestamp\": \"12000000\",\n",
    "                \"x\": 9.456435203552246,\n",
    "                \"y\": 1.8855443000793457,\n",
    "                \"z\": 0.9044869542121887\n",
    "            },\n",
    "            {\n",
    "                \"_id\": \"5c8faaaae37533453c77faf1\",\n",
    "                \"timestamp\": \"5000000\",\n",
    "                \"x\": 9.475577354431152,\n",
    "                \"y\": 1.94297194480896,\n",
    "                \"z\": 0.8350951075553894\n",
    "            },\n",
    "            {\n",
    "                \"_id\": \"5c8faaaae37533453c77faf2\",\n",
    "                \"timestamp\": \"16000000\",\n",
    "                \"x\": 9.53061294555664,\n",
    "                \"y\": 1.9860427379608154,\n",
    "                \"z\": 0.8685946464538574\n",
    "            },\n",
    "            {\n",
    "                \"_id\": \"5c8faaaae37533453c77faf3\",\n",
    "                \"timestamp\": \"4000000\",\n",
    "                \"x\": 9.477970123291016,\n",
    "                \"y\": 2.0554347038269043,\n",
    "                \"z\": 0.9834501147270203\n",
    "            },\n",
    "            {\n",
    "                \"_id\": \"5c8faaaae37533453c77faf4\",\n",
    "                \"timestamp\": \"1000000\",\n",
    "                \"x\": 9.485149383544922,\n",
    "                \"y\": 2.012363910675049,\n",
    "                \"z\": 0.9834501147270203\n",
    "            },\n",
    "            {\n",
    "                \"_id\": \"5c8faaaae37533453c77faf5\",\n",
    "                \"timestamp\": \"12000000\",\n",
    "                \"x\": 9.542576789855957,\n",
    "                \"y\": 2.117648124694824,\n",
    "                \"z\": 0.9810572862625122\n",
    "            },\n",
    "            {\n",
    "                \"_id\": \"5c8faaaae37533453c77faf6\",\n",
    "                \"timestamp\": \"6000000\",\n",
    "                \"x\": 9.516255378723145,\n",
    "                \"y\": 2.091326951980591,\n",
    "                \"z\": 0.914058268070221\n",
    "            },\n",
    "            {\n",
    "                \"_id\": \"5c8faaaae37533453c77faf7\",\n",
    "                \"timestamp\": \"10000000\",\n",
    "                \"x\": 9.57607650756836,\n",
    "                \"y\": 2.053041934967041,\n",
    "                \"z\": 0.8207381963729858\n",
    "            },\n",
    "            {\n",
    "                \"_id\": \"5c8faaaae37533453c77faf8\",\n",
    "                \"timestamp\": \"7000000\",\n",
    "                \"x\": 9.533005714416504,\n",
    "                \"y\": 1.9932212829589844,\n",
    "                \"z\": 0.7465606927871704\n",
    "            },\n",
    "            {\n",
    "                \"_id\": \"5c8faaaae37533453c77faf9\",\n",
    "                \"timestamp\": \"11000000\",\n",
    "                \"x\": 9.564111709594727,\n",
    "                \"y\": 2.0482561588287354,\n",
    "                \"z\": 0.7561319470405579\n",
    "            },\n",
    "            {\n",
    "                \"_id\": \"5c8faaaae37533453c77fafa\",\n",
    "                \"timestamp\": \"11000000\",\n",
    "                \"x\": 9.511469841003418,\n",
    "                \"y\": 2.069791555404663,\n",
    "                \"z\": 0.7441678643226624\n",
    "            },\n",
    "            {\n",
    "                \"_id\": \"5c8faaaae37533453c77fafb\",\n",
    "                \"timestamp\": \"9000000\",\n",
    "                \"x\": 9.501898765563965,\n",
    "                \"y\": 2.100898265838623,\n",
    "                \"z\": 0.8685946464538574\n",
    "            },\n",
    "            {\n",
    "                \"_id\": \"5c8faaaae37533453c77fafc\",\n",
    "                \"timestamp\": \"10000000\",\n",
    "                \"x\": 9.492327690124512,\n",
    "                \"y\": 2.0673987865448,\n",
    "                \"z\": 0.8422735929489136\n",
    "            },\n",
    "            {\n",
    "                \"_id\": \"5c8faaaae37533453c77fafd\",\n",
    "                \"timestamp\": \"8000000\",\n",
    "                \"x\": 9.449256896972656,\n",
    "                \"y\": 2.069791555404663,\n",
    "                \"z\": 0.8015955686569214\n",
    "            },\n",
    "            {\n",
    "                \"_id\": \"5c8faaaae37533453c77fafe\",\n",
    "                \"timestamp\": \"11000000\",\n",
    "                \"x\": 9.485149383544922,\n",
    "                \"y\": 2.122433662414551,\n",
    "                \"z\": 0.8805587291717529\n",
    "            },\n",
    "            {\n",
    "                \"_id\": \"5c8faaaae37533453c77faff\",\n",
    "                \"timestamp\": \"13000000\",\n",
    "                \"x\": 9.45882797241211,\n",
    "                \"y\": 2.0961127281188965,\n",
    "                \"z\": 0.8231309652328491\n",
    "            },\n",
    "            {\n",
    "                \"_id\": \"5c8faaaae37533453c77fb00\",\n",
    "                \"timestamp\": \"5000000\",\n",
    "                \"x\": 9.55214786529541,\n",
    "                \"y\": 2.1846470832824707,\n",
    "                \"z\": 0.9547362327575684\n",
    "            },\n",
    "            {\n",
    "                \"_id\": \"5c8faaaae37533453c77fb01\",\n",
    "                \"timestamp\": \"16000000\",\n",
    "                \"x\": 9.53779125213623,\n",
    "                \"y\": 2.069791555404663,\n",
    "                \"z\": 0.849452018737793\n",
    "            },\n",
    "            {\n",
    "                \"_id\": \"5c8faaaae37533453c77fb02\",\n",
    "                \"timestamp\": \"11000000\",\n",
    "                \"x\": 9.487542152404785,\n",
    "                \"y\": 2.0099709033966064,\n",
    "                \"z\": 0.6771687865257263\n",
    "            },\n",
    "            {\n",
    "                \"_id\": \"5c8faaaae37533453c77fb03\",\n",
    "                \"timestamp\": \"4000000\",\n",
    "                \"x\": 9.55214786529541,\n",
    "                \"y\": 2.1200408935546875,\n",
    "                \"z\": 0.727418065071106\n",
    "            },\n",
    "            {\n",
    "                \"_id\": \"5c8faaaae37533453c77fb04\",\n",
    "                \"timestamp\": \"12000000\",\n",
    "                \"x\": 9.564111709594727,\n",
    "                \"y\": 2.201396942138672,\n",
    "                \"z\": 0.7776673436164856\n",
    "            },\n",
    "            {\n",
    "                \"_id\": \"5c8faaaae37533453c77fb05\",\n",
    "                \"timestamp\": \"6000000\",\n",
    "                \"x\": 9.499505996704102,\n",
    "                \"y\": 2.2301106452941895,\n",
    "                \"z\": 0.7537391185760498\n",
    "            },\n",
    "            {\n",
    "                \"_id\": \"5c8faaaae37533453c77fb06\",\n",
    "                \"timestamp\": \"15000000\",\n",
    "                \"x\": 9.55214786529541,\n",
    "                \"y\": 2.1750757694244385,\n",
    "                \"z\": 0.727418065071106\n",
    "            },\n",
    "            {\n",
    "                \"_id\": \"5c8faaaae37533453c77fb07\",\n",
    "                \"timestamp\": \"6000000\",\n",
    "                \"x\": 9.504291534423828,\n",
    "                \"y\": 2.1822543144226074,\n",
    "                \"z\": 0.7250252366065979\n",
    "            },\n",
    "            {\n",
    "                \"_id\": \"5c8faaaae37533453c77fb08\",\n",
    "                \"timestamp\": \"12000000\",\n",
    "                \"x\": 9.492327690124512,\n",
    "                \"y\": 2.2372891902923584,\n",
    "                \"z\": 0.7250252366065979\n",
    "            },\n",
    "            {\n",
    "                \"_id\": \"5c8faaaae37533453c77fb09\",\n",
    "                \"timestamp\": \"6000000\",\n",
    "                \"x\": 9.4660062789917,\n",
    "                \"y\": 2.256431818008423,\n",
    "                \"z\": 0.6963114142417908\n",
    "            },\n",
    "            {\n",
    "                \"_id\": \"5c8faaaae37533453c77fb0a\",\n",
    "                \"timestamp\": \"12000000\",\n",
    "                \"x\": 9.494720458984375,\n",
    "                \"y\": 2.2396819591522217,\n",
    "                \"z\": 0.727418065071106\n",
    "            },\n",
    "            {\n",
    "                \"_id\": \"5c8faaaae37533453c77fb0b\",\n",
    "                \"timestamp\": \"13000000\",\n",
    "                \"x\": 9.518648147583008,\n",
    "                \"y\": 2.2205393314361572,\n",
    "                \"z\": 0.7393822073936462\n",
    "            },\n",
    "            {\n",
    "                \"_id\": \"5c8faaaae37533453c77fb0c\",\n",
    "                \"timestamp\": \"6000000\",\n",
    "                \"x\": 9.506684303283691,\n",
    "                \"y\": 2.2205393314361572,\n",
    "                \"z\": 0.7417750358581543\n",
    "            },\n",
    "            {\n",
    "                \"_id\": \"5c8faaaae37533453c77fb0d\",\n",
    "                \"timestamp\": \"8000000\",\n",
    "                \"x\": 9.461220741271973,\n",
    "                \"y\": 2.242074728012085,\n",
    "                \"z\": 0.7680960893630981\n",
    "            },\n",
    "            {\n",
    "                \"_id\": \"5c8faaaae37533453c77fb0e\",\n",
    "                \"timestamp\": \"10000000\",\n",
    "                \"x\": 9.45882797241211,\n",
    "                \"y\": 2.266003131866455,\n",
    "                \"z\": 0.8087740540504456\n",
    "            },\n",
    "            {\n",
    "                \"_id\": \"5c8faaaae37533453c77fb0f\",\n",
    "                \"timestamp\": \"12000000\",\n",
    "                \"x\": 9.456435203552246,\n",
    "                \"y\": 2.210968017578125,\n",
    "                \"z\": 0.7848458290100098\n",
    "            },\n",
    "            {\n",
    "                \"_id\": \"5c8faaaae37533453c77fb10\",\n",
    "                \"timestamp\": \"8000000\",\n",
    "                \"x\": 9.456435203552246,\n",
    "                \"y\": 2.155933141708374,\n",
    "                \"z\": 0.8350951075553894\n",
    "            },\n",
    "            {\n",
    "                \"_id\": \"5c8faaaae37533453c77fb11\",\n",
    "                \"timestamp\": \"10000000\",\n",
    "                \"x\": 9.473184585571289,\n",
    "                \"y\": 2.1774685382843018,\n",
    "                \"z\": 0.8662018179893494\n",
    "            },\n",
    "            {\n",
    "                \"_id\": \"5c8faaaae37533453c77fb12\",\n",
    "                \"timestamp\": \"14000000\",\n",
    "                \"x\": 9.504291534423828,\n",
    "                \"y\": 2.163111686706543,\n",
    "                \"z\": 0.8997012972831726\n",
    "            },\n",
    "            {\n",
    "                \"_id\": \"5c8faaaae37533453c77fb13\",\n",
    "                \"timestamp\": \"6000000\",\n",
    "                \"x\": 9.53061294555664,\n",
    "                \"y\": 2.115255117416382,\n",
    "                \"z\": 0.8877372145652771\n",
    "            },\n",
    "            {\n",
    "                \"_id\": \"5c8faaaae37533453c77fb14\",\n",
    "                \"timestamp\": \"21000000\",\n",
    "                \"x\": 9.604789733886719,\n",
    "                \"y\": 2.50289249420166,\n",
    "                \"z\": -0.22013968229293823\n",
    "            },\n",
    "            {\n",
    "                \"_id\": \"5c8faaaae37533453c77fb15\",\n",
    "                \"timestamp\": \"2000000\",\n",
    "                \"x\": 9.315258979797363,\n",
    "                \"y\": 2.59621262550354,\n",
    "                \"z\": -0.3756731450557709\n",
    "            },\n",
    "            {\n",
    "                \"_id\": \"5c8faaaae37533453c77fb16\",\n",
    "                \"timestamp\": \"7000000\",\n",
    "                \"x\": 9.317651748657227,\n",
    "                \"y\": 2.2755744457244873,\n",
    "                \"z\": 0.4139583110809326\n",
    "            },\n",
    "            {\n",
    "                \"_id\": \"5c8faaaae37533453c77fb17\",\n",
    "                \"timestamp\": \"8000000\",\n",
    "                \"x\": 9.353543281555176,\n",
    "                \"y\": 2.1343977451324463,\n",
    "                \"z\": 1.1198409795761108\n",
    "            },\n",
    "            {\n",
    "                \"_id\": \"5c8faaaae37533453c77fb18\",\n",
    "                \"timestamp\": \"12000000\",\n",
    "                \"x\": 9.181260108947754,\n",
    "                \"y\": 2.108076810836792,\n",
    "                \"z\": 1.2346965074539185\n",
    "            },\n",
    "            {\n",
    "                \"_id\": \"5c8faaaae37533453c77fb19\",\n",
    "                \"timestamp\": \"16000000\",\n",
    "                \"x\": 9.119047164916992,\n",
    "                \"y\": 2.1296122074127197,\n",
    "                \"z\": 1.1413763761520386\n",
    "            },\n",
    "            {\n",
    "                \"_id\": \"5c8faaaae37533453c77fb1a\",\n",
    "                \"timestamp\": \"12000000\",\n",
    "                \"x\": 9.166903495788574,\n",
    "                \"y\": 2.115255117416382,\n",
    "                \"z\": 1.0336993932724\n",
    "            },\n",
    "            {\n",
    "                \"_id\": \"5c8faaaae37533453c77fb1b\",\n",
    "                \"timestamp\": \"2000000\",\n",
    "                \"x\": 9.28893756866455,\n",
    "                \"y\": 2.2133610248565674,\n",
    "                \"z\": 1.0097711086273193\n",
    "            },\n",
    "            {\n",
    "                \"_id\": \"5c8faaaae37533453c77fb1c\",\n",
    "                \"timestamp\": \"7000000\",\n",
    "                \"x\": 9.442078590393066,\n",
    "                \"y\": 2.3617160320281982,\n",
    "                \"z\": 0.914058268070221\n",
    "            },\n",
    "            {\n",
    "                \"_id\": \"5c8faaaae37533453c77fb1d\",\n",
    "                \"timestamp\": \"10000000\",\n",
    "                \"x\": 9.504291534423828,\n",
    "                \"y\": 2.3784656524658203,\n",
    "                \"z\": 0.8398807644844055\n",
    "            },\n",
    "            {\n",
    "                \"_id\": \"5c8faaaae37533453c77fb1e\",\n",
    "                \"timestamp\": \"10000000\",\n",
    "                \"x\": 9.485149383544922,\n",
    "                \"y\": 2.311466693878174,\n",
    "                \"z\": 0.7417750358581543\n",
    "            },\n",
    "            {\n",
    "                \"_id\": \"5c8faaaae37533453c77fb1f\",\n",
    "                \"timestamp\": \"13000000\",\n",
    "                \"x\": 9.42772102355957,\n",
    "                \"y\": 2.328216314315796,\n",
    "                \"z\": 0.7776673436164856\n",
    "            }\n",
    "        ]\n",
    "    }\n",
    "]"
   ]
  },
  {
   "cell_type": "code",
   "execution_count": 7,
   "metadata": {},
   "outputs": [
    {
     "data": {
      "text/plain": [
       "15219606"
      ]
     },
     "execution_count": 7,
     "metadata": {},
     "output_type": "execute_result"
    }
   ],
   "source": [
    "len(ds)"
   ]
  },
  {
   "cell_type": "markdown",
   "metadata": {},
   "source": [
    "## Split the dataset into a test and training dataset\n",
    "Each punch is represented by multiple rows of accelerometer values with the (current) timestamp and the punch label, hand and annotator information. To split the dataframe it is relevant to split by focusing only on the punch_id to split only complete punches (time series). The function <font color='red'>train_test_split_punchdataframe</font> extracts all (unique) punch_ids and splitts them random into test and training lists. After that the rows of each punchs are imported to the corresponding list. With the optional <font color='red'>seed</font> option it is guranteed that each split can result in the same punch constellation to reproduce/follow this notebook step by step. "
   ]
  },
  {
   "cell_type": "code",
   "execution_count": 8,
   "metadata": {},
   "outputs": [],
   "source": [
    "punchIdx = ds['punch_id'].unique()"
   ]
  },
  {
   "cell_type": "code",
   "execution_count": 9,
   "metadata": {},
   "outputs": [
    {
     "data": {
      "text/plain": [
       "7606"
      ]
     },
     "execution_count": 9,
     "metadata": {},
     "output_type": "execute_result"
    }
   ],
   "source": [
    "len(punchIdx)"
   ]
  },
  {
   "cell_type": "code",
   "execution_count": 10,
   "metadata": {},
   "outputs": [],
   "source": [
    "# returns an array of lists containing a list of the punch indizes to train and test\n",
    "# first list element: train dataset\n",
    "# second list element: test dataset\n",
    "# arg 1: dataframe as dataframe object\n",
    "# arg 2: trainsize as percentage of training data. e.g. 0.7\n",
    "# arg3: seed . optional, for same results of random values at multiple test\n",
    "def train_test_split_punchdataframe(dataframe, trainsize,seed=5):\n",
    "    random.seed(seed)\n",
    "    data = dataframe.copy()\n",
    "    punchIdx = data['punch_id'].unique()\n",
    "    list_in_cpy = punchIdx[:]\n",
    "    random.shuffle(list_in_cpy)\n",
    "    n = len(list_in_cpy)\n",
    "    idx_train = list_in_cpy[:round(n*trainsize)]\n",
    "    idx_test =  list_in_cpy[round(n*trainsize):]\n",
    "    train_ds = data[data['punch_id'].isin(idx_train)]\n",
    "    test_ds = data[data['punch_id'].isin(idx_test)]\n",
    "    return [train_ds.reset_index(drop=True),test_ds.reset_index(drop=True)];"
   ]
  },
  {
   "cell_type": "code",
   "execution_count": 11,
   "metadata": {},
   "outputs": [],
   "source": [
    "mixedPunches = train_test_split_punchdataframe(ds,.7)"
   ]
  },
  {
   "cell_type": "code",
   "execution_count": 12,
   "metadata": {},
   "outputs": [],
   "source": [
    "train_dataset = mixedPunches[0]\n",
    "test_dataset = mixedPunches[1]"
   ]
  },
  {
   "cell_type": "code",
   "execution_count": 13,
   "metadata": {},
   "outputs": [
    {
     "data": {
      "text/html": [
       "<div>\n",
       "<style scoped>\n",
       "    .dataframe tbody tr th:only-of-type {\n",
       "        vertical-align: middle;\n",
       "    }\n",
       "\n",
       "    .dataframe tbody tr th {\n",
       "        vertical-align: top;\n",
       "    }\n",
       "\n",
       "    .dataframe thead th {\n",
       "        text-align: right;\n",
       "    }\n",
       "</style>\n",
       "<table border=\"1\" class=\"dataframe\">\n",
       "  <thead>\n",
       "    <tr style=\"text-align: right;\">\n",
       "      <th></th>\n",
       "      <th>a_x</th>\n",
       "      <th>a_y</th>\n",
       "      <th>a_z</th>\n",
       "      <th>timestamp</th>\n",
       "      <th>label</th>\n",
       "      <th>hand</th>\n",
       "      <th>annotator</th>\n",
       "      <th>punch_id</th>\n",
       "    </tr>\n",
       "  </thead>\n",
       "  <tbody>\n",
       "    <tr>\n",
       "      <th>0</th>\n",
       "      <td>8.322237</td>\n",
       "      <td>-1.923829</td>\n",
       "      <td>4.405187</td>\n",
       "      <td>0</td>\n",
       "      <td>1</td>\n",
       "      <td>0</td>\n",
       "      <td>0</td>\n",
       "      <td>1</td>\n",
       "    </tr>\n",
       "    <tr>\n",
       "      <th>1</th>\n",
       "      <td>8.407307</td>\n",
       "      <td>-1.771097</td>\n",
       "      <td>4.271892</td>\n",
       "      <td>1000</td>\n",
       "      <td>1</td>\n",
       "      <td>0</td>\n",
       "      <td>0</td>\n",
       "      <td>1</td>\n",
       "    </tr>\n",
       "    <tr>\n",
       "      <th>2</th>\n",
       "      <td>8.473780</td>\n",
       "      <td>-1.650711</td>\n",
       "      <td>4.166435</td>\n",
       "      <td>2000</td>\n",
       "      <td>1</td>\n",
       "      <td>0</td>\n",
       "      <td>0</td>\n",
       "      <td>1</td>\n",
       "    </tr>\n",
       "    <tr>\n",
       "      <th>3</th>\n",
       "      <td>8.523112</td>\n",
       "      <td>-1.560006</td>\n",
       "      <td>4.086582</td>\n",
       "      <td>3000</td>\n",
       "      <td>1</td>\n",
       "      <td>0</td>\n",
       "      <td>0</td>\n",
       "      <td>1</td>\n",
       "    </tr>\n",
       "    <tr>\n",
       "      <th>4</th>\n",
       "      <td>8.556759</td>\n",
       "      <td>-1.496315</td>\n",
       "      <td>4.030100</td>\n",
       "      <td>4000</td>\n",
       "      <td>1</td>\n",
       "      <td>0</td>\n",
       "      <td>0</td>\n",
       "      <td>1</td>\n",
       "    </tr>\n",
       "  </tbody>\n",
       "</table>\n",
       "</div>"
      ],
      "text/plain": [
       "        a_x       a_y       a_z  timestamp  label  hand  annotator  punch_id\n",
       "0  8.322237 -1.923829  4.405187          0      1     0          0         1\n",
       "1  8.407307 -1.771097  4.271892       1000      1     0          0         1\n",
       "2  8.473780 -1.650711  4.166435       2000      1     0          0         1\n",
       "3  8.523112 -1.560006  4.086582       3000      1     0          0         1\n",
       "4  8.556759 -1.496315  4.030100       4000      1     0          0         1"
      ]
     },
     "execution_count": 13,
     "metadata": {},
     "output_type": "execute_result"
    }
   ],
   "source": [
    "train_dataset.head()"
   ]
  },
  {
   "cell_type": "code",
   "execution_count": 14,
   "metadata": {},
   "outputs": [
    {
     "data": {
      "text/html": [
       "<div>\n",
       "<style scoped>\n",
       "    .dataframe tbody tr th:only-of-type {\n",
       "        vertical-align: middle;\n",
       "    }\n",
       "\n",
       "    .dataframe tbody tr th {\n",
       "        vertical-align: top;\n",
       "    }\n",
       "\n",
       "    .dataframe thead th {\n",
       "        text-align: right;\n",
       "    }\n",
       "</style>\n",
       "<table border=\"1\" class=\"dataframe\">\n",
       "  <thead>\n",
       "    <tr style=\"text-align: right;\">\n",
       "      <th></th>\n",
       "      <th>a_x</th>\n",
       "      <th>a_y</th>\n",
       "      <th>a_z</th>\n",
       "      <th>timestamp</th>\n",
       "      <th>label</th>\n",
       "      <th>hand</th>\n",
       "      <th>annotator</th>\n",
       "      <th>punch_id</th>\n",
       "    </tr>\n",
       "  </thead>\n",
       "  <tbody>\n",
       "    <tr>\n",
       "      <th>0</th>\n",
       "      <td>6.793223</td>\n",
       "      <td>-2.383251</td>\n",
       "      <td>2.962314</td>\n",
       "      <td>0</td>\n",
       "      <td>1</td>\n",
       "      <td>0</td>\n",
       "      <td>0</td>\n",
       "      <td>0</td>\n",
       "    </tr>\n",
       "    <tr>\n",
       "      <th>1</th>\n",
       "      <td>6.689702</td>\n",
       "      <td>-2.651278</td>\n",
       "      <td>3.180722</td>\n",
       "      <td>1000</td>\n",
       "      <td>1</td>\n",
       "      <td>0</td>\n",
       "      <td>0</td>\n",
       "      <td>0</td>\n",
       "    </tr>\n",
       "    <tr>\n",
       "      <th>2</th>\n",
       "      <td>6.601798</td>\n",
       "      <td>-2.871387</td>\n",
       "      <td>3.359523</td>\n",
       "      <td>2000</td>\n",
       "      <td>1</td>\n",
       "      <td>0</td>\n",
       "      <td>0</td>\n",
       "      <td>0</td>\n",
       "    </tr>\n",
       "    <tr>\n",
       "      <th>3</th>\n",
       "      <td>6.528319</td>\n",
       "      <td>-3.047522</td>\n",
       "      <td>3.502029</td>\n",
       "      <td>3000</td>\n",
       "      <td>1</td>\n",
       "      <td>0</td>\n",
       "      <td>0</td>\n",
       "      <td>0</td>\n",
       "    </tr>\n",
       "    <tr>\n",
       "      <th>4</th>\n",
       "      <td>6.468075</td>\n",
       "      <td>-3.183627</td>\n",
       "      <td>3.611550</td>\n",
       "      <td>4000</td>\n",
       "      <td>1</td>\n",
       "      <td>0</td>\n",
       "      <td>0</td>\n",
       "      <td>0</td>\n",
       "    </tr>\n",
       "  </tbody>\n",
       "</table>\n",
       "</div>"
      ],
      "text/plain": [
       "        a_x       a_y       a_z  timestamp  label  hand  annotator  punch_id\n",
       "0  6.793223 -2.383251  2.962314          0      1     0          0         0\n",
       "1  6.689702 -2.651278  3.180722       1000      1     0          0         0\n",
       "2  6.601798 -2.871387  3.359523       2000      1     0          0         0\n",
       "3  6.528319 -3.047522  3.502029       3000      1     0          0         0\n",
       "4  6.468075 -3.183627  3.611550       4000      1     0          0         0"
      ]
     },
     "execution_count": 14,
     "metadata": {},
     "output_type": "execute_result"
    }
   ],
   "source": [
    "test_dataset.head()"
   ]
  },
  {
   "cell_type": "markdown",
   "metadata": {},
   "source": [
    "## Checking whether the splitted datasets are balanced\n",
    "For preventing the classifiers to learn one class \"better\" than other classes it is important to see if the train and test datasets contain nearly the same number of punches for each class."
   ]
  },
  {
   "cell_type": "code",
   "execution_count": 15,
   "metadata": {},
   "outputs": [
    {
     "data": {
      "text/plain": [
       "2    2911455\n",
       "3    2807403\n",
       "1    2643321\n",
       "0    2291145\n",
       "Name: label, dtype: int64"
      ]
     },
     "execution_count": 15,
     "metadata": {},
     "output_type": "execute_result"
    }
   ],
   "source": [
    "train_dataset['label'].value_counts()"
   ]
  },
  {
   "cell_type": "code",
   "execution_count": 16,
   "metadata": {},
   "outputs": [
    {
     "data": {
      "text/plain": [
       "3    1220610\n",
       "2    1204602\n",
       "1    1114557\n",
       "0    1026513\n",
       "Name: label, dtype: int64"
      ]
     },
     "execution_count": 16,
     "metadata": {},
     "output_type": "execute_result"
    }
   ],
   "source": [
    "test_dataset['label'].value_counts()"
   ]
  },
  {
   "cell_type": "markdown",
   "metadata": {},
   "source": [
    "<hr>\n",
    "<center> <h1><font color=\"blue\">Feature extraction: Create new test and train datasets with no time series character</font></h1> </center>\n",
    "<hr>"
   ]
  },
  {
   "cell_type": "code",
   "execution_count": 17,
   "metadata": {},
   "outputs": [
    {
     "data": {
      "text/plain": [
       "{'sum_values': None,\n",
       " 'median': None,\n",
       " 'mean': None,\n",
       " 'length': None,\n",
       " 'standard_deviation': None,\n",
       " 'variance': None,\n",
       " 'maximum': None,\n",
       " 'minimum': None}"
      ]
     },
     "execution_count": 17,
     "metadata": {},
     "output_type": "execute_result"
    }
   ],
   "source": [
    "# try to use the minimal feature settings\n",
    "settings_minimal = MinimalFCParameters() # only a few basic features\n",
    "settings_minimal"
   ]
  },
  {
   "cell_type": "markdown",
   "metadata": {},
   "source": [
    "## Extract the chosen features from the test- and training dataset\n",
    "For that the columns: label, hand and annotator are dropped because the features will only be extracted for the variables x,y,z of the accelerometer sensor. If a \"bigger\" feature-setting is used the extraction process can take a while. With the minimal feature setting used the extraction is done in at least one minute."
   ]
  },
  {
   "cell_type": "code",
   "execution_count": 18,
   "metadata": {},
   "outputs": [
    {
     "name": "stderr",
     "output_type": "stream",
     "text": [
      "Feature Extraction: 100%|██████████| 60/60 [00:02<00:00, 25.33it/s]\n"
     ]
    }
   ],
   "source": [
    "# extract features for test dataset\n",
    "testds_for_extraction = test_dataset.drop(columns=['label','hand','annotator'])\n",
    "test_dataset_extracted = extract_features(testds_for_extraction, column_id=\"punch_id\",column_sort=\"timestamp\", impute_function=impute, default_fc_parameters = settings_minimal);"
   ]
  },
  {
   "cell_type": "code",
   "execution_count": 19,
   "metadata": {},
   "outputs": [
    {
     "name": "stderr",
     "output_type": "stream",
     "text": [
      "Feature Extraction: 100%|██████████| 60/60 [00:04<00:00, 12.67it/s]\n"
     ]
    }
   ],
   "source": [
    "# extract features for train dataset\n",
    "trainds_for_extraction = train_dataset.drop(columns=['label','hand','annotator'])\n",
    "train_dataset_extracted = extract_features(trainds_for_extraction, column_id=\"punch_id\",column_sort=\"timestamp\", impute_function=impute, default_fc_parameters = settings_minimal);"
   ]
  },
  {
   "cell_type": "markdown",
   "metadata": {},
   "source": [
    "## Print the extracted feature values: train and test dataset\n",
    "For now on the datasets containing the extracted features are used to learn the classifiers. At this point the time series classification problem is converted to a standard classification problem. So in the next steps the standard ML algorithms can be used for classification. Each time series is identified by the id column. So it is possible to connect the extracted features with the original time series (punch)."
   ]
  },
  {
   "cell_type": "code",
   "execution_count": 20,
   "metadata": {},
   "outputs": [
    {
     "data": {
      "text/html": [
       "<div>\n",
       "<style scoped>\n",
       "    .dataframe tbody tr th:only-of-type {\n",
       "        vertical-align: middle;\n",
       "    }\n",
       "\n",
       "    .dataframe tbody tr th {\n",
       "        vertical-align: top;\n",
       "    }\n",
       "\n",
       "    .dataframe thead th {\n",
       "        text-align: right;\n",
       "    }\n",
       "</style>\n",
       "<table border=\"1\" class=\"dataframe\">\n",
       "  <thead>\n",
       "    <tr style=\"text-align: right;\">\n",
       "      <th>variable</th>\n",
       "      <th>a_x__length</th>\n",
       "      <th>a_x__maximum</th>\n",
       "      <th>a_x__mean</th>\n",
       "      <th>a_x__median</th>\n",
       "      <th>a_x__minimum</th>\n",
       "      <th>a_x__standard_deviation</th>\n",
       "      <th>a_x__sum_values</th>\n",
       "      <th>a_x__variance</th>\n",
       "      <th>a_y__length</th>\n",
       "      <th>a_y__maximum</th>\n",
       "      <th>...</th>\n",
       "      <th>a_y__sum_values</th>\n",
       "      <th>a_y__variance</th>\n",
       "      <th>a_z__length</th>\n",
       "      <th>a_z__maximum</th>\n",
       "      <th>a_z__mean</th>\n",
       "      <th>a_z__median</th>\n",
       "      <th>a_z__minimum</th>\n",
       "      <th>a_z__standard_deviation</th>\n",
       "      <th>a_z__sum_values</th>\n",
       "      <th>a_z__variance</th>\n",
       "    </tr>\n",
       "    <tr>\n",
       "      <th>id</th>\n",
       "      <th></th>\n",
       "      <th></th>\n",
       "      <th></th>\n",
       "      <th></th>\n",
       "      <th></th>\n",
       "      <th></th>\n",
       "      <th></th>\n",
       "      <th></th>\n",
       "      <th></th>\n",
       "      <th></th>\n",
       "      <th></th>\n",
       "      <th></th>\n",
       "      <th></th>\n",
       "      <th></th>\n",
       "      <th></th>\n",
       "      <th></th>\n",
       "      <th></th>\n",
       "      <th></th>\n",
       "      <th></th>\n",
       "      <th></th>\n",
       "      <th></th>\n",
       "    </tr>\n",
       "  </thead>\n",
       "  <tbody>\n",
       "    <tr>\n",
       "      <th>1</th>\n",
       "      <td>2001.0</td>\n",
       "      <td>14.746404</td>\n",
       "      <td>4.050691</td>\n",
       "      <td>8.322237</td>\n",
       "      <td>-43.364920</td>\n",
       "      <td>12.149869</td>\n",
       "      <td>8105.433624</td>\n",
       "      <td>147.619326</td>\n",
       "      <td>2001.0</td>\n",
       "      <td>3.613881</td>\n",
       "      <td>...</td>\n",
       "      <td>-5387.067140</td>\n",
       "      <td>11.155707</td>\n",
       "      <td>2001.0</td>\n",
       "      <td>55.263834</td>\n",
       "      <td>6.767226</td>\n",
       "      <td>3.776467</td>\n",
       "      <td>-11.038901</td>\n",
       "      <td>13.505822</td>\n",
       "      <td>13541.219604</td>\n",
       "      <td>182.407221</td>\n",
       "    </tr>\n",
       "    <tr>\n",
       "      <th>2</th>\n",
       "      <td>2001.0</td>\n",
       "      <td>12.650668</td>\n",
       "      <td>3.306871</td>\n",
       "      <td>8.315059</td>\n",
       "      <td>-56.504578</td>\n",
       "      <td>13.429307</td>\n",
       "      <td>6617.049778</td>\n",
       "      <td>180.346280</td>\n",
       "      <td>2001.0</td>\n",
       "      <td>3.917139</td>\n",
       "      <td>...</td>\n",
       "      <td>-5154.169331</td>\n",
       "      <td>21.974058</td>\n",
       "      <td>2001.0</td>\n",
       "      <td>60.625234</td>\n",
       "      <td>6.734774</td>\n",
       "      <td>3.000600</td>\n",
       "      <td>-14.347197</td>\n",
       "      <td>14.913609</td>\n",
       "      <td>13476.281837</td>\n",
       "      <td>222.415742</td>\n",
       "    </tr>\n",
       "    <tr>\n",
       "      <th>4</th>\n",
       "      <td>2001.0</td>\n",
       "      <td>75.493534</td>\n",
       "      <td>-5.128794</td>\n",
       "      <td>-6.237128</td>\n",
       "      <td>-53.445345</td>\n",
       "      <td>14.539087</td>\n",
       "      <td>-10262.717539</td>\n",
       "      <td>211.385052</td>\n",
       "      <td>2001.0</td>\n",
       "      <td>47.990452</td>\n",
       "      <td>...</td>\n",
       "      <td>8500.836044</td>\n",
       "      <td>36.273087</td>\n",
       "      <td>2001.0</td>\n",
       "      <td>25.714775</td>\n",
       "      <td>4.408813</td>\n",
       "      <td>6.817141</td>\n",
       "      <td>-21.343998</td>\n",
       "      <td>6.244459</td>\n",
       "      <td>8822.035773</td>\n",
       "      <td>38.993270</td>\n",
       "    </tr>\n",
       "    <tr>\n",
       "      <th>6</th>\n",
       "      <td>2001.0</td>\n",
       "      <td>79.515979</td>\n",
       "      <td>-4.676748</td>\n",
       "      <td>-5.644009</td>\n",
       "      <td>-42.707557</td>\n",
       "      <td>15.684596</td>\n",
       "      <td>-9358.172630</td>\n",
       "      <td>246.006559</td>\n",
       "      <td>2001.0</td>\n",
       "      <td>73.175850</td>\n",
       "      <td>...</td>\n",
       "      <td>6866.525361</td>\n",
       "      <td>75.102740</td>\n",
       "      <td>2001.0</td>\n",
       "      <td>24.437570</td>\n",
       "      <td>3.911896</td>\n",
       "      <td>7.011459</td>\n",
       "      <td>-22.434421</td>\n",
       "      <td>7.650406</td>\n",
       "      <td>7827.704015</td>\n",
       "      <td>58.528709</td>\n",
       "    </tr>\n",
       "    <tr>\n",
       "      <th>10</th>\n",
       "      <td>2001.0</td>\n",
       "      <td>72.665326</td>\n",
       "      <td>-5.240635</td>\n",
       "      <td>-5.944409</td>\n",
       "      <td>-41.991215</td>\n",
       "      <td>15.216780</td>\n",
       "      <td>-10486.511566</td>\n",
       "      <td>231.550391</td>\n",
       "      <td>2001.0</td>\n",
       "      <td>36.972344</td>\n",
       "      <td>...</td>\n",
       "      <td>7777.984921</td>\n",
       "      <td>29.624853</td>\n",
       "      <td>2001.0</td>\n",
       "      <td>22.001653</td>\n",
       "      <td>4.730885</td>\n",
       "      <td>6.967802</td>\n",
       "      <td>-15.377833</td>\n",
       "      <td>5.834232</td>\n",
       "      <td>9466.501722</td>\n",
       "      <td>34.038258</td>\n",
       "    </tr>\n",
       "  </tbody>\n",
       "</table>\n",
       "<p>5 rows × 24 columns</p>\n",
       "</div>"
      ],
      "text/plain": [
       "variable  a_x__length  a_x__maximum  a_x__mean  a_x__median  a_x__minimum  \\\n",
       "id                                                                          \n",
       "1              2001.0     14.746404   4.050691     8.322237    -43.364920   \n",
       "2              2001.0     12.650668   3.306871     8.315059    -56.504578   \n",
       "4              2001.0     75.493534  -5.128794    -6.237128    -53.445345   \n",
       "6              2001.0     79.515979  -4.676748    -5.644009    -42.707557   \n",
       "10             2001.0     72.665326  -5.240635    -5.944409    -41.991215   \n",
       "\n",
       "variable  a_x__standard_deviation  a_x__sum_values  a_x__variance  \\\n",
       "id                                                                  \n",
       "1                       12.149869      8105.433624     147.619326   \n",
       "2                       13.429307      6617.049778     180.346280   \n",
       "4                       14.539087    -10262.717539     211.385052   \n",
       "6                       15.684596     -9358.172630     246.006559   \n",
       "10                      15.216780    -10486.511566     231.550391   \n",
       "\n",
       "variable  a_y__length  a_y__maximum      ...        a_y__sum_values  \\\n",
       "id                                       ...                          \n",
       "1              2001.0      3.613881      ...           -5387.067140   \n",
       "2              2001.0      3.917139      ...           -5154.169331   \n",
       "4              2001.0     47.990452      ...            8500.836044   \n",
       "6              2001.0     73.175850      ...            6866.525361   \n",
       "10             2001.0     36.972344      ...            7777.984921   \n",
       "\n",
       "variable  a_y__variance  a_z__length  a_z__maximum  a_z__mean  a_z__median  \\\n",
       "id                                                                           \n",
       "1             11.155707       2001.0     55.263834   6.767226     3.776467   \n",
       "2             21.974058       2001.0     60.625234   6.734774     3.000600   \n",
       "4             36.273087       2001.0     25.714775   4.408813     6.817141   \n",
       "6             75.102740       2001.0     24.437570   3.911896     7.011459   \n",
       "10            29.624853       2001.0     22.001653   4.730885     6.967802   \n",
       "\n",
       "variable  a_z__minimum  a_z__standard_deviation  a_z__sum_values  \\\n",
       "id                                                                 \n",
       "1           -11.038901                13.505822     13541.219604   \n",
       "2           -14.347197                14.913609     13476.281837   \n",
       "4           -21.343998                 6.244459      8822.035773   \n",
       "6           -22.434421                 7.650406      7827.704015   \n",
       "10          -15.377833                 5.834232      9466.501722   \n",
       "\n",
       "variable  a_z__variance  \n",
       "id                       \n",
       "1            182.407221  \n",
       "2            222.415742  \n",
       "4             38.993270  \n",
       "6             58.528709  \n",
       "10            34.038258  \n",
       "\n",
       "[5 rows x 24 columns]"
      ]
     },
     "execution_count": 20,
     "metadata": {},
     "output_type": "execute_result"
    }
   ],
   "source": [
    "train_dataset_extracted.head()"
   ]
  },
  {
   "cell_type": "code",
   "execution_count": 21,
   "metadata": {},
   "outputs": [
    {
     "data": {
      "text/html": [
       "<div>\n",
       "<style scoped>\n",
       "    .dataframe tbody tr th:only-of-type {\n",
       "        vertical-align: middle;\n",
       "    }\n",
       "\n",
       "    .dataframe tbody tr th {\n",
       "        vertical-align: top;\n",
       "    }\n",
       "\n",
       "    .dataframe thead th {\n",
       "        text-align: right;\n",
       "    }\n",
       "</style>\n",
       "<table border=\"1\" class=\"dataframe\">\n",
       "  <thead>\n",
       "    <tr style=\"text-align: right;\">\n",
       "      <th>variable</th>\n",
       "      <th>a_x__length</th>\n",
       "      <th>a_x__maximum</th>\n",
       "      <th>a_x__mean</th>\n",
       "      <th>a_x__median</th>\n",
       "      <th>a_x__minimum</th>\n",
       "      <th>a_x__standard_deviation</th>\n",
       "      <th>a_x__sum_values</th>\n",
       "      <th>a_x__variance</th>\n",
       "      <th>a_y__length</th>\n",
       "      <th>a_y__maximum</th>\n",
       "      <th>...</th>\n",
       "      <th>a_y__sum_values</th>\n",
       "      <th>a_y__variance</th>\n",
       "      <th>a_z__length</th>\n",
       "      <th>a_z__maximum</th>\n",
       "      <th>a_z__mean</th>\n",
       "      <th>a_z__median</th>\n",
       "      <th>a_z__minimum</th>\n",
       "      <th>a_z__standard_deviation</th>\n",
       "      <th>a_z__sum_values</th>\n",
       "      <th>a_z__variance</th>\n",
       "    </tr>\n",
       "    <tr>\n",
       "      <th>id</th>\n",
       "      <th></th>\n",
       "      <th></th>\n",
       "      <th></th>\n",
       "      <th></th>\n",
       "      <th></th>\n",
       "      <th></th>\n",
       "      <th></th>\n",
       "      <th></th>\n",
       "      <th></th>\n",
       "      <th></th>\n",
       "      <th></th>\n",
       "      <th></th>\n",
       "      <th></th>\n",
       "      <th></th>\n",
       "      <th></th>\n",
       "      <th></th>\n",
       "      <th></th>\n",
       "      <th></th>\n",
       "      <th></th>\n",
       "      <th></th>\n",
       "      <th></th>\n",
       "    </tr>\n",
       "  </thead>\n",
       "  <tbody>\n",
       "    <tr>\n",
       "      <th>0</th>\n",
       "      <td>2001.0</td>\n",
       "      <td>25.493841</td>\n",
       "      <td>4.057261</td>\n",
       "      <td>6.793223</td>\n",
       "      <td>-48.387553</td>\n",
       "      <td>13.436037</td>\n",
       "      <td>8118.580083</td>\n",
       "      <td>180.527103</td>\n",
       "      <td>2001.0</td>\n",
       "      <td>7.671450</td>\n",
       "      <td>...</td>\n",
       "      <td>-5947.899077</td>\n",
       "      <td>24.002397</td>\n",
       "      <td>2001.0</td>\n",
       "      <td>56.257721</td>\n",
       "      <td>5.714708</td>\n",
       "      <td>2.962314</td>\n",
       "      <td>-12.424273</td>\n",
       "      <td>12.723205</td>\n",
       "      <td>11435.130126</td>\n",
       "      <td>161.879955</td>\n",
       "    </tr>\n",
       "    <tr>\n",
       "      <th>3</th>\n",
       "      <td>2001.0</td>\n",
       "      <td>17.084701</td>\n",
       "      <td>3.883420</td>\n",
       "      <td>9.593685</td>\n",
       "      <td>-47.246245</td>\n",
       "      <td>13.158002</td>\n",
       "      <td>7770.724334</td>\n",
       "      <td>173.133017</td>\n",
       "      <td>2001.0</td>\n",
       "      <td>3.660027</td>\n",
       "      <td>...</td>\n",
       "      <td>-4042.471651</td>\n",
       "      <td>22.009584</td>\n",
       "      <td>2001.0</td>\n",
       "      <td>61.654181</td>\n",
       "      <td>4.530155</td>\n",
       "      <td>1.474553</td>\n",
       "      <td>-14.491574</td>\n",
       "      <td>13.930614</td>\n",
       "      <td>9064.840464</td>\n",
       "      <td>194.062008</td>\n",
       "    </tr>\n",
       "    <tr>\n",
       "      <th>5</th>\n",
       "      <td>2001.0</td>\n",
       "      <td>74.200912</td>\n",
       "      <td>-4.535182</td>\n",
       "      <td>-4.120440</td>\n",
       "      <td>-46.984429</td>\n",
       "      <td>14.818790</td>\n",
       "      <td>-9074.899120</td>\n",
       "      <td>219.596528</td>\n",
       "      <td>2001.0</td>\n",
       "      <td>62.918194</td>\n",
       "      <td>...</td>\n",
       "      <td>6630.097373</td>\n",
       "      <td>51.162548</td>\n",
       "      <td>2001.0</td>\n",
       "      <td>41.140296</td>\n",
       "      <td>5.259801</td>\n",
       "      <td>6.963910</td>\n",
       "      <td>-24.881679</td>\n",
       "      <td>7.330067</td>\n",
       "      <td>10524.861610</td>\n",
       "      <td>53.729878</td>\n",
       "    </tr>\n",
       "    <tr>\n",
       "      <th>7</th>\n",
       "      <td>2001.0</td>\n",
       "      <td>74.116982</td>\n",
       "      <td>-4.732587</td>\n",
       "      <td>-5.704489</td>\n",
       "      <td>-44.757488</td>\n",
       "      <td>15.611037</td>\n",
       "      <td>-9469.907078</td>\n",
       "      <td>243.704476</td>\n",
       "      <td>2001.0</td>\n",
       "      <td>47.700324</td>\n",
       "      <td>...</td>\n",
       "      <td>8867.143647</td>\n",
       "      <td>46.584236</td>\n",
       "      <td>2001.0</td>\n",
       "      <td>28.428812</td>\n",
       "      <td>4.061655</td>\n",
       "      <td>7.443097</td>\n",
       "      <td>-22.854375</td>\n",
       "      <td>6.885743</td>\n",
       "      <td>8127.372185</td>\n",
       "      <td>47.413464</td>\n",
       "    </tr>\n",
       "    <tr>\n",
       "      <th>8</th>\n",
       "      <td>2001.0</td>\n",
       "      <td>15.429816</td>\n",
       "      <td>3.301044</td>\n",
       "      <td>7.188039</td>\n",
       "      <td>-40.038144</td>\n",
       "      <td>12.076406</td>\n",
       "      <td>6605.389406</td>\n",
       "      <td>145.839586</td>\n",
       "      <td>2001.0</td>\n",
       "      <td>18.050093</td>\n",
       "      <td>...</td>\n",
       "      <td>-5189.996255</td>\n",
       "      <td>17.597425</td>\n",
       "      <td>2001.0</td>\n",
       "      <td>56.735396</td>\n",
       "      <td>5.826606</td>\n",
       "      <td>2.349150</td>\n",
       "      <td>-15.048491</td>\n",
       "      <td>13.564567</td>\n",
       "      <td>11659.038936</td>\n",
       "      <td>183.997476</td>\n",
       "    </tr>\n",
       "  </tbody>\n",
       "</table>\n",
       "<p>5 rows × 24 columns</p>\n",
       "</div>"
      ],
      "text/plain": [
       "variable  a_x__length  a_x__maximum  a_x__mean  a_x__median  a_x__minimum  \\\n",
       "id                                                                          \n",
       "0              2001.0     25.493841   4.057261     6.793223    -48.387553   \n",
       "3              2001.0     17.084701   3.883420     9.593685    -47.246245   \n",
       "5              2001.0     74.200912  -4.535182    -4.120440    -46.984429   \n",
       "7              2001.0     74.116982  -4.732587    -5.704489    -44.757488   \n",
       "8              2001.0     15.429816   3.301044     7.188039    -40.038144   \n",
       "\n",
       "variable  a_x__standard_deviation  a_x__sum_values  a_x__variance  \\\n",
       "id                                                                  \n",
       "0                       13.436037      8118.580083     180.527103   \n",
       "3                       13.158002      7770.724334     173.133017   \n",
       "5                       14.818790     -9074.899120     219.596528   \n",
       "7                       15.611037     -9469.907078     243.704476   \n",
       "8                       12.076406      6605.389406     145.839586   \n",
       "\n",
       "variable  a_y__length  a_y__maximum      ...        a_y__sum_values  \\\n",
       "id                                       ...                          \n",
       "0              2001.0      7.671450      ...           -5947.899077   \n",
       "3              2001.0      3.660027      ...           -4042.471651   \n",
       "5              2001.0     62.918194      ...            6630.097373   \n",
       "7              2001.0     47.700324      ...            8867.143647   \n",
       "8              2001.0     18.050093      ...           -5189.996255   \n",
       "\n",
       "variable  a_y__variance  a_z__length  a_z__maximum  a_z__mean  a_z__median  \\\n",
       "id                                                                           \n",
       "0             24.002397       2001.0     56.257721   5.714708     2.962314   \n",
       "3             22.009584       2001.0     61.654181   4.530155     1.474553   \n",
       "5             51.162548       2001.0     41.140296   5.259801     6.963910   \n",
       "7             46.584236       2001.0     28.428812   4.061655     7.443097   \n",
       "8             17.597425       2001.0     56.735396   5.826606     2.349150   \n",
       "\n",
       "variable  a_z__minimum  a_z__standard_deviation  a_z__sum_values  \\\n",
       "id                                                                 \n",
       "0           -12.424273                12.723205     11435.130126   \n",
       "3           -14.491574                13.930614      9064.840464   \n",
       "5           -24.881679                 7.330067     10524.861610   \n",
       "7           -22.854375                 6.885743      8127.372185   \n",
       "8           -15.048491                13.564567     11659.038936   \n",
       "\n",
       "variable  a_z__variance  \n",
       "id                       \n",
       "0            161.879955  \n",
       "3            194.062008  \n",
       "5             53.729878  \n",
       "7             47.413464  \n",
       "8            183.997476  \n",
       "\n",
       "[5 rows x 24 columns]"
      ]
     },
     "execution_count": 21,
     "metadata": {},
     "output_type": "execute_result"
    }
   ],
   "source": [
    "test_dataset_extracted.head()"
   ]
  },
  {
   "cell_type": "markdown",
   "metadata": {},
   "source": [
    "## Create y_test and y_train Series objects containing the information to predict\n",
    "Depending on the classification label seperate y_test and y_train Series objects are created. In the following there are objects for all possible classifications of the smartPunch problem. Meaning there are y_test and y_train for predicting: <font color='blue'>hand, label and annotator<font/>"
   ]
  },
  {
   "cell_type": "code",
   "execution_count": 22,
   "metadata": {},
   "outputs": [
    {
     "data": {
      "text/html": [
       "<div>\n",
       "<style scoped>\n",
       "    .dataframe tbody tr th:only-of-type {\n",
       "        vertical-align: middle;\n",
       "    }\n",
       "\n",
       "    .dataframe tbody tr th {\n",
       "        vertical-align: top;\n",
       "    }\n",
       "\n",
       "    .dataframe thead th {\n",
       "        text-align: right;\n",
       "    }\n",
       "</style>\n",
       "<table border=\"1\" class=\"dataframe\">\n",
       "  <thead>\n",
       "    <tr style=\"text-align: right;\">\n",
       "      <th></th>\n",
       "      <th>a_x</th>\n",
       "      <th>a_y</th>\n",
       "      <th>a_z</th>\n",
       "      <th>timestamp</th>\n",
       "      <th>label</th>\n",
       "      <th>hand</th>\n",
       "      <th>annotator</th>\n",
       "      <th>punch_id</th>\n",
       "    </tr>\n",
       "  </thead>\n",
       "  <tbody>\n",
       "    <tr>\n",
       "      <th>0</th>\n",
       "      <td>6.793223</td>\n",
       "      <td>-2.383251</td>\n",
       "      <td>2.962314</td>\n",
       "      <td>0</td>\n",
       "      <td>1</td>\n",
       "      <td>0</td>\n",
       "      <td>0</td>\n",
       "      <td>0</td>\n",
       "    </tr>\n",
       "    <tr>\n",
       "      <th>2001</th>\n",
       "      <td>8.888567</td>\n",
       "      <td>-1.026224</td>\n",
       "      <td>3.812030</td>\n",
       "      <td>0</td>\n",
       "      <td>1</td>\n",
       "      <td>0</td>\n",
       "      <td>0</td>\n",
       "      <td>3</td>\n",
       "    </tr>\n",
       "    <tr>\n",
       "      <th>4002</th>\n",
       "      <td>-4.120440</td>\n",
       "      <td>3.302095</td>\n",
       "      <td>9.265009</td>\n",
       "      <td>0</td>\n",
       "      <td>3</td>\n",
       "      <td>0</td>\n",
       "      <td>1</td>\n",
       "      <td>5</td>\n",
       "    </tr>\n",
       "    <tr>\n",
       "      <th>6003</th>\n",
       "      <td>-5.704489</td>\n",
       "      <td>3.321238</td>\n",
       "      <td>7.558927</td>\n",
       "      <td>0</td>\n",
       "      <td>3</td>\n",
       "      <td>0</td>\n",
       "      <td>1</td>\n",
       "      <td>7</td>\n",
       "    </tr>\n",
       "    <tr>\n",
       "      <th>8004</th>\n",
       "      <td>7.188039</td>\n",
       "      <td>-1.718047</td>\n",
       "      <td>2.488536</td>\n",
       "      <td>0</td>\n",
       "      <td>1</td>\n",
       "      <td>0</td>\n",
       "      <td>0</td>\n",
       "      <td>8</td>\n",
       "    </tr>\n",
       "  </tbody>\n",
       "</table>\n",
       "</div>"
      ],
      "text/plain": [
       "           a_x       a_y       a_z  timestamp  label  hand  annotator  \\\n",
       "0     6.793223 -2.383251  2.962314          0      1     0          0   \n",
       "2001  8.888567 -1.026224  3.812030          0      1     0          0   \n",
       "4002 -4.120440  3.302095  9.265009          0      3     0          1   \n",
       "6003 -5.704489  3.321238  7.558927          0      3     0          1   \n",
       "8004  7.188039 -1.718047  2.488536          0      1     0          0   \n",
       "\n",
       "      punch_id  \n",
       "0            0  \n",
       "2001         3  \n",
       "4002         5  \n",
       "6003         7  \n",
       "8004         8  "
      ]
     },
     "execution_count": 22,
     "metadata": {},
     "output_type": "execute_result"
    }
   ],
   "source": [
    "test_dataset_unique_label_id = test_dataset.drop_duplicates(subset='punch_id', keep='first', inplace=False)\n",
    "test_dataset_unique_label_id.head()"
   ]
  },
  {
   "cell_type": "code",
   "execution_count": 23,
   "metadata": {},
   "outputs": [
    {
     "data": {
      "text/plain": [
       "0       1\n",
       "2001    1\n",
       "4002    3\n",
       "6003    3\n",
       "8004    1\n",
       "Name: label, dtype: int64"
      ]
     },
     "execution_count": 23,
     "metadata": {},
     "output_type": "execute_result"
    }
   ],
   "source": [
    "y_test = pd.Series(data=test_dataset_unique_label_id['label'])\n",
    "y_test.head()"
   ]
  },
  {
   "cell_type": "code",
   "execution_count": 24,
   "metadata": {},
   "outputs": [
    {
     "data": {
      "text/html": [
       "<div>\n",
       "<style scoped>\n",
       "    .dataframe tbody tr th:only-of-type {\n",
       "        vertical-align: middle;\n",
       "    }\n",
       "\n",
       "    .dataframe tbody tr th {\n",
       "        vertical-align: top;\n",
       "    }\n",
       "\n",
       "    .dataframe thead th {\n",
       "        text-align: right;\n",
       "    }\n",
       "</style>\n",
       "<table border=\"1\" class=\"dataframe\">\n",
       "  <thead>\n",
       "    <tr style=\"text-align: right;\">\n",
       "      <th></th>\n",
       "      <th>a_x</th>\n",
       "      <th>a_y</th>\n",
       "      <th>a_z</th>\n",
       "      <th>timestamp</th>\n",
       "      <th>label</th>\n",
       "      <th>hand</th>\n",
       "      <th>annotator</th>\n",
       "      <th>punch_id</th>\n",
       "    </tr>\n",
       "  </thead>\n",
       "  <tbody>\n",
       "    <tr>\n",
       "      <th>0</th>\n",
       "      <td>8.322237</td>\n",
       "      <td>-1.923829</td>\n",
       "      <td>4.405187</td>\n",
       "      <td>0</td>\n",
       "      <td>1</td>\n",
       "      <td>0</td>\n",
       "      <td>0</td>\n",
       "      <td>1</td>\n",
       "    </tr>\n",
       "    <tr>\n",
       "      <th>2001</th>\n",
       "      <td>8.315059</td>\n",
       "      <td>-1.186840</td>\n",
       "      <td>3.000600</td>\n",
       "      <td>0</td>\n",
       "      <td>1</td>\n",
       "      <td>0</td>\n",
       "      <td>0</td>\n",
       "      <td>2</td>\n",
       "    </tr>\n",
       "    <tr>\n",
       "      <th>4002</th>\n",
       "      <td>-4.548756</td>\n",
       "      <td>3.505485</td>\n",
       "      <td>8.384451</td>\n",
       "      <td>0</td>\n",
       "      <td>3</td>\n",
       "      <td>0</td>\n",
       "      <td>1</td>\n",
       "      <td>4</td>\n",
       "    </tr>\n",
       "    <tr>\n",
       "      <th>6003</th>\n",
       "      <td>-4.900501</td>\n",
       "      <td>2.543571</td>\n",
       "      <td>9.310472</td>\n",
       "      <td>0</td>\n",
       "      <td>3</td>\n",
       "      <td>0</td>\n",
       "      <td>1</td>\n",
       "      <td>6</td>\n",
       "    </tr>\n",
       "    <tr>\n",
       "      <th>8004</th>\n",
       "      <td>-5.876772</td>\n",
       "      <td>3.393023</td>\n",
       "      <td>7.283752</td>\n",
       "      <td>0</td>\n",
       "      <td>3</td>\n",
       "      <td>0</td>\n",
       "      <td>1</td>\n",
       "      <td>10</td>\n",
       "    </tr>\n",
       "  </tbody>\n",
       "</table>\n",
       "</div>"
      ],
      "text/plain": [
       "           a_x       a_y       a_z  timestamp  label  hand  annotator  \\\n",
       "0     8.322237 -1.923829  4.405187          0      1     0          0   \n",
       "2001  8.315059 -1.186840  3.000600          0      1     0          0   \n",
       "4002 -4.548756  3.505485  8.384451          0      3     0          1   \n",
       "6003 -4.900501  2.543571  9.310472          0      3     0          1   \n",
       "8004 -5.876772  3.393023  7.283752          0      3     0          1   \n",
       "\n",
       "      punch_id  \n",
       "0            1  \n",
       "2001         2  \n",
       "4002         4  \n",
       "6003         6  \n",
       "8004        10  "
      ]
     },
     "execution_count": 24,
     "metadata": {},
     "output_type": "execute_result"
    }
   ],
   "source": [
    "train_dataset_unique_label_id = train_dataset.drop_duplicates(subset='punch_id', keep='first', inplace=False)\n",
    "train_dataset_unique_label_id.head()"
   ]
  },
  {
   "cell_type": "code",
   "execution_count": 25,
   "metadata": {},
   "outputs": [
    {
     "data": {
      "text/plain": [
       "0       1\n",
       "2001    1\n",
       "4002    3\n",
       "6003    3\n",
       "8004    3\n",
       "Name: label, dtype: int64"
      ]
     },
     "execution_count": 25,
     "metadata": {},
     "output_type": "execute_result"
    }
   ],
   "source": [
    "y_train = pd.Series(data=train_dataset_unique_label_id['label'])\n",
    "y_train.head()"
   ]
  },
  {
   "cell_type": "markdown",
   "metadata": {},
   "source": [
    "## create the X_train and X_test dataset containing the features"
   ]
  },
  {
   "cell_type": "code",
   "execution_count": 26,
   "metadata": {},
   "outputs": [],
   "source": [
    "X_train = train_dataset_extracted\n",
    "X_test = test_dataset_extracted"
   ]
  },
  {
   "cell_type": "markdown",
   "metadata": {},
   "source": [
    "<hr>\n",
    "<center> <h1><font color=\"blue\">Visualization of the training dataset</font></h1>\n",
    "    <h2>For verifying that the training dataset is balanced</h2>\n",
    "</center>\n",
    "<hr>"
   ]
  },
  {
   "cell_type": "code",
   "execution_count": 27,
   "metadata": {},
   "outputs": [
    {
     "data": {
      "text/plain": [
       "([<matplotlib.patches.Wedge at 0x7f4c5df7bf60>,\n",
       "  <matplotlib.patches.Wedge at 0x7f4c5df7bc18>,\n",
       "  <matplotlib.patches.Wedge at 0x7f4c5db42470>,\n",
       "  <matplotlib.patches.Wedge at 0x7f4c5db42c50>],\n",
       " [Text(0.7188740466076816, 0.8325984056637972, '0'),\n",
       "  Text(-0.909992875706043, 0.6179910728839425, '1'),\n",
       "  Text(-0.5842928492002749, -0.9319881256611722, '2'),\n",
       "  Text(0.8583353958319664, -0.6879392038995757, '3')],\n",
       " [Text(0.3921131163314627, 0.4541445849075257, '27.33'),\n",
       "  Text(-0.4963597503851143, 0.33708603975487766, '26.35'),\n",
       "  Text(-0.31870519047287715, -0.5083571594515485, '24.81'),\n",
       "  Text(0.4681829431810725, -0.3752395657634049, '21.51')])"
      ]
     },
     "execution_count": 27,
     "metadata": {},
     "output_type": "execute_result"
    },
    {
     "data": {
      "image/png": "[encoded data removed]",
      "text/plain": [
       "<Figure size 1440x1440 with 1 Axes>"
      ]
     },
     "metadata": {},
     "output_type": "display_data"
    }
   ],
   "source": [
    "count_of_each_punch = np.array(y_train.value_counts())\n",
    "punches = sorted(y_train.unique())\n",
    "\n",
    "# Plot a pie chart for different punches\n",
    "plt.rcParams.update({'figure.figsize': [20, 20], 'font.size': 24})\n",
    "plt.pie(count_of_each_punch, labels = punches, autopct = '%0.2f')"
   ]
  },
  {
   "cell_type": "markdown",
   "metadata": {},
   "source": [
    "<hr>\n",
    "<center> <h1><font color=\"blue\">Classification of the punches</font></h1> </center>\n",
    "<h2>Use Linear SVC (with one-vs-the-rest), Standard SVC, Logistic Regression, KNN and Random Forest Classifier</h2>\n",
    "<hr>"
   ]
  },
  {
   "cell_type": "code",
   "execution_count": 28,
   "metadata": {},
   "outputs": [],
   "source": [
    "accuracy_scores = np.zeros(5)\n",
    "clf_labels = ['Linear SVC (ovr)','Standard SVC', 'Logsitic Regression', 'KNN', 'Random Forest']"
   ]
  },
  {
   "cell_type": "markdown",
   "metadata": {},
   "source": [
    "## Linear Support Vector Classifier"
   ]
  },
  {
   "cell_type": "code",
   "execution_count": 29,
   "metadata": {},
   "outputs": [
    {
     "name": "stdout",
     "output_type": "stream",
     "text": [
      "Linear Vector Classifier accuracy (one-vs-rest): 88.51884312007012%\n"
     ]
    },
    {
     "name": "stderr",
     "output_type": "stream",
     "text": [
      "/home/twagner/anaconda3/lib/python3.7/site-packages/sklearn/svm/base.py:922: ConvergenceWarning: Liblinear failed to converge, increase the number of iterations.\n",
      "  \"the number of iterations.\", ConvergenceWarning)\n"
     ]
    }
   ],
   "source": [
    "linSupp_Vectr_clf_punchtype = svm.LinearSVC()\n",
    "linSupp_Vectr_clf_punchtype.fit(X_train, y_train) \n",
    "prediction = linSupp_Vectr_clf_punchtype.predict(X_test)\n",
    "accuracy_scores[0] = accuracy_score(y_test, prediction)*100\n",
    "print('Linear Vector Classifier accuracy (one-vs-rest): {}%'.format(accuracy_scores[0]))"
   ]
  },
  {
   "cell_type": "markdown",
   "metadata": {},
   "source": [
    "## Standard support vector classifier"
   ]
  },
  {
   "cell_type": "code",
   "execution_count": 30,
   "metadata": {},
   "outputs": [
    {
     "name": "stderr",
     "output_type": "stream",
     "text": [
      "/home/twagner/anaconda3/lib/python3.7/site-packages/sklearn/svm/base.py:196: FutureWarning: The default value of gamma will change from 'auto' to 'scale' in version 0.22 to account better for unscaled features. Set gamma explicitly to 'auto' or 'scale' to avoid this warning.\n",
      "  \"avoid this warning.\", FutureWarning)\n"
     ]
    },
    {
     "name": "stdout",
     "output_type": "stream",
     "text": [
      "Support Vector Classifier accuracy: 26.380368098159508%\n"
     ]
    }
   ],
   "source": [
    "# Support Vector Classifier\n",
    "stdSupp_Vectr_clf_punchtype = SVC().fit(X_train, y_train)\n",
    "prediction = stdSupp_Vectr_clf_punchtype.predict(X_test)\n",
    "accuracy_scores[1] = accuracy_score(y_test, prediction)*100\n",
    "print('Support Vector Classifier accuracy: {}%'.format(accuracy_scores[1]))"
   ]
  },
  {
   "cell_type": "markdown",
   "metadata": {},
   "source": [
    "## Logistic regression"
   ]
  },
  {
   "cell_type": "code",
   "execution_count": 31,
   "metadata": {},
   "outputs": [
    {
     "name": "stderr",
     "output_type": "stream",
     "text": [
      "/home/twagner/anaconda3/lib/python3.7/site-packages/sklearn/linear_model/logistic.py:433: FutureWarning: Default solver will be changed to 'lbfgs' in 0.22. Specify a solver to silence this warning.\n",
      "  FutureWarning)\n",
      "/home/twagner/anaconda3/lib/python3.7/site-packages/sklearn/linear_model/logistic.py:460: FutureWarning: Default multi_class will be changed to 'auto' in 0.22. Specify the multi_class option to silence this warning.\n",
      "  \"this warning.\", FutureWarning)\n"
     ]
    },
    {
     "name": "stdout",
     "output_type": "stream",
     "text": [
      "Logistic Regression accuracy: 92.90096406660824%\n"
     ]
    },
    {
     "name": "stderr",
     "output_type": "stream",
     "text": [
      "/home/twagner/anaconda3/lib/python3.7/site-packages/sklearn/svm/base.py:922: ConvergenceWarning: Liblinear failed to converge, increase the number of iterations.\n",
      "  \"the number of iterations.\", ConvergenceWarning)\n"
     ]
    }
   ],
   "source": [
    "# Logistic Regression\n",
    "logistic_reggr_clf_punchtype = LogisticRegression().fit(X_train, y_train)\n",
    "prediction = logistic_reggr_clf_punchtype.predict(X_test)\n",
    "accuracy_scores[2] = accuracy_score(y_test, prediction)*100\n",
    "print('Logistic Regression accuracy: {}%'.format(accuracy_scores[2]))"
   ]
  },
  {
   "cell_type": "markdown",
   "metadata": {},
   "source": [
    "## K Nearest Neighbors"
   ]
  },
  {
   "cell_type": "code",
   "execution_count": 32,
   "metadata": {},
   "outputs": [
    {
     "name": "stdout",
     "output_type": "stream",
     "text": [
      "K Nearest Neighbors Classifier accuracy: 91.54250657318141%\n"
     ]
    }
   ],
   "source": [
    "# K Nearest Neighbors\n",
    "knn_clf_punchtype = KNeighborsClassifier(n_neighbors=5).fit(X_train, y_train)\n",
    "prediction = knn_clf_punchtype.predict(X_test)\n",
    "accuracy_scores[3] = accuracy_score(y_test, prediction)*100\n",
    "print('K Nearest Neighbors Classifier accuracy: {}%'.format(accuracy_scores[3]))"
   ]
  },
  {
   "cell_type": "markdown",
   "metadata": {},
   "source": [
    "## Random Forest"
   ]
  },
  {
   "cell_type": "code",
   "execution_count": 33,
   "metadata": {},
   "outputs": [
    {
     "name": "stdout",
     "output_type": "stream",
     "text": [
      "Random Forest Classifier accuracy: 98.86064855390009%\n"
     ]
    }
   ],
   "source": [
    "# Random Forest\n",
    "rndm_forest_clf_punchtype = RandomForestClassifier(n_estimators = 100).fit(X_train, y_train)\n",
    "prediction = rndm_forest_clf_punchtype.predict(X_test)\n",
    "accuracy_scores[4] = accuracy_score(y_test, prediction)*100\n",
    "print('Random Forest Classifier accuracy: {}%'.format(accuracy_scores[4]))"
   ]
  },
  {
   "cell_type": "markdown",
   "metadata": {},
   "source": [
    "## Overview of classifier prediction accuracy"
   ]
  },
  {
   "cell_type": "code",
   "execution_count": 34,
   "metadata": {},
   "outputs": [
    {
     "data": {
      "text/plain": [
       "Text(0.5, 1.0, 'Accuracy overview for label prediction')"
      ]
     },
     "execution_count": 34,
     "metadata": {},
     "output_type": "execute_result"
    },
    {
     "data": {
      "image/png": "[encoded data removed]",
      "text/plain": [
       "<Figure size 1440x720 with 1 Axes>"
      ]
     },
     "metadata": {
      "needs_background": "light"
     },
     "output_type": "display_data"
    }
   ],
   "source": [
    "colors = cm.rainbow(np.linspace(0, 1, 4))\n",
    "plt.figure(figsize=(20,10))\n",
    "plt.bar(clf_labels,\n",
    "        accuracy_scores,\n",
    "        color = colors)\n",
    "plt.xlabel('Classifiers')\n",
    "plt.ylabel('Accuracy')\n",
    "plt.title('Accuracy overview for label prediction')"
   ]
  },
  {
   "cell_type": "markdown",
   "metadata": {},
   "source": [
    "# Feature extraction for learning: hand"
   ]
  },
  {
   "cell_type": "code",
   "execution_count": 35,
   "metadata": {},
   "outputs": [],
   "source": [
    "train_dataset = mixedPunches[0]\n",
    "test_dataset = mixedPunches[1]"
   ]
  },
  {
   "cell_type": "code",
   "execution_count": 36,
   "metadata": {},
   "outputs": [
    {
     "data": {
      "text/plain": [
       "{'sum_values': None,\n",
       " 'median': None,\n",
       " 'mean': None,\n",
       " 'length': None,\n",
       " 'standard_deviation': None,\n",
       " 'variance': None,\n",
       " 'maximum': None,\n",
       " 'minimum': None}"
      ]
     },
     "execution_count": 36,
     "metadata": {},
     "output_type": "execute_result"
    }
   ],
   "source": [
    "# try to use the minimal feature settings\n",
    "settings_minimal = MinimalFCParameters() # only a few basic features\n",
    "settings_minimal"
   ]
  },
  {
   "cell_type": "markdown",
   "metadata": {},
   "source": [
    "## extract the features for learning and training dataset"
   ]
  },
  {
   "cell_type": "code",
   "execution_count": 37,
   "metadata": {},
   "outputs": [
    {
     "name": "stderr",
     "output_type": "stream",
     "text": [
      "Feature Extraction: 100%|██████████| 60/60 [00:01<00:00, 30.59it/s]\n"
     ]
    }
   ],
   "source": [
    "# extract features for test dataset\n",
    "testds_for_extraction = test_dataset.drop(columns=['label','hand','annotator'])\n",
    "test_dataset_extracted = extract_features(testds_for_extraction, column_id=\"punch_id\",column_sort=\"timestamp\", impute_function=impute, default_fc_parameters = settings_minimal);"
   ]
  },
  {
   "cell_type": "code",
   "execution_count": 38,
   "metadata": {},
   "outputs": [
    {
     "name": "stderr",
     "output_type": "stream",
     "text": [
      "Feature Extraction: 100%|██████████| 60/60 [00:05<00:00, 10.30it/s]\n"
     ]
    }
   ],
   "source": [
    "# extract features for train dataset\n",
    "trainds_for_extraction = train_dataset.drop(columns=['label','hand','annotator'])\n",
    "train_dataset_extracted = extract_features(trainds_for_extraction, column_id=\"punch_id\",column_sort=\"timestamp\", impute_function=impute, default_fc_parameters = settings_minimal);"
   ]
  },
  {
   "cell_type": "markdown",
   "metadata": {},
   "source": [
    "## create y_test and y_train dataset containing the hand information"
   ]
  },
  {
   "cell_type": "code",
   "execution_count": 39,
   "metadata": {},
   "outputs": [
    {
     "data": {
      "text/html": [
       "<div>\n",
       "<style scoped>\n",
       "    .dataframe tbody tr th:only-of-type {\n",
       "        vertical-align: middle;\n",
       "    }\n",
       "\n",
       "    .dataframe tbody tr th {\n",
       "        vertical-align: top;\n",
       "    }\n",
       "\n",
       "    .dataframe thead th {\n",
       "        text-align: right;\n",
       "    }\n",
       "</style>\n",
       "<table border=\"1\" class=\"dataframe\">\n",
       "  <thead>\n",
       "    <tr style=\"text-align: right;\">\n",
       "      <th></th>\n",
       "      <th>a_x</th>\n",
       "      <th>a_y</th>\n",
       "      <th>a_z</th>\n",
       "      <th>timestamp</th>\n",
       "      <th>label</th>\n",
       "      <th>hand</th>\n",
       "      <th>annotator</th>\n",
       "      <th>punch_id</th>\n",
       "    </tr>\n",
       "  </thead>\n",
       "  <tbody>\n",
       "    <tr>\n",
       "      <th>0</th>\n",
       "      <td>6.793223</td>\n",
       "      <td>-2.383251</td>\n",
       "      <td>2.962314</td>\n",
       "      <td>0</td>\n",
       "      <td>1</td>\n",
       "      <td>0</td>\n",
       "      <td>0</td>\n",
       "      <td>0</td>\n",
       "    </tr>\n",
       "    <tr>\n",
       "      <th>2001</th>\n",
       "      <td>8.888567</td>\n",
       "      <td>-1.026224</td>\n",
       "      <td>3.812030</td>\n",
       "      <td>0</td>\n",
       "      <td>1</td>\n",
       "      <td>0</td>\n",
       "      <td>0</td>\n",
       "      <td>3</td>\n",
       "    </tr>\n",
       "    <tr>\n",
       "      <th>4002</th>\n",
       "      <td>-4.120440</td>\n",
       "      <td>3.302095</td>\n",
       "      <td>9.265009</td>\n",
       "      <td>0</td>\n",
       "      <td>3</td>\n",
       "      <td>0</td>\n",
       "      <td>1</td>\n",
       "      <td>5</td>\n",
       "    </tr>\n",
       "    <tr>\n",
       "      <th>6003</th>\n",
       "      <td>-5.704489</td>\n",
       "      <td>3.321238</td>\n",
       "      <td>7.558927</td>\n",
       "      <td>0</td>\n",
       "      <td>3</td>\n",
       "      <td>0</td>\n",
       "      <td>1</td>\n",
       "      <td>7</td>\n",
       "    </tr>\n",
       "    <tr>\n",
       "      <th>8004</th>\n",
       "      <td>7.188039</td>\n",
       "      <td>-1.718047</td>\n",
       "      <td>2.488536</td>\n",
       "      <td>0</td>\n",
       "      <td>1</td>\n",
       "      <td>0</td>\n",
       "      <td>0</td>\n",
       "      <td>8</td>\n",
       "    </tr>\n",
       "  </tbody>\n",
       "</table>\n",
       "</div>"
      ],
      "text/plain": [
       "           a_x       a_y       a_z  timestamp  label  hand  annotator  \\\n",
       "0     6.793223 -2.383251  2.962314          0      1     0          0   \n",
       "2001  8.888567 -1.026224  3.812030          0      1     0          0   \n",
       "4002 -4.120440  3.302095  9.265009          0      3     0          1   \n",
       "6003 -5.704489  3.321238  7.558927          0      3     0          1   \n",
       "8004  7.188039 -1.718047  2.488536          0      1     0          0   \n",
       "\n",
       "      punch_id  \n",
       "0            0  \n",
       "2001         3  \n",
       "4002         5  \n",
       "6003         7  \n",
       "8004         8  "
      ]
     },
     "execution_count": 39,
     "metadata": {},
     "output_type": "execute_result"
    }
   ],
   "source": [
    "test_dataset_unique_label_id = test_dataset.drop_duplicates(subset='punch_id', keep='first', inplace=False)\n",
    "test_dataset_unique_label_id.head()"
   ]
  },
  {
   "cell_type": "code",
   "execution_count": 40,
   "metadata": {},
   "outputs": [],
   "source": [
    "y_test = pd.Series(data=test_dataset_unique_label_id['hand'])"
   ]
  },
  {
   "cell_type": "code",
   "execution_count": 41,
   "metadata": {},
   "outputs": [
    {
     "data": {
      "text/html": [
       "<div>\n",
       "<style scoped>\n",
       "    .dataframe tbody tr th:only-of-type {\n",
       "        vertical-align: middle;\n",
       "    }\n",
       "\n",
       "    .dataframe tbody tr th {\n",
       "        vertical-align: top;\n",
       "    }\n",
       "\n",
       "    .dataframe thead th {\n",
       "        text-align: right;\n",
       "    }\n",
       "</style>\n",
       "<table border=\"1\" class=\"dataframe\">\n",
       "  <thead>\n",
       "    <tr style=\"text-align: right;\">\n",
       "      <th></th>\n",
       "      <th>a_x</th>\n",
       "      <th>a_y</th>\n",
       "      <th>a_z</th>\n",
       "      <th>timestamp</th>\n",
       "      <th>label</th>\n",
       "      <th>hand</th>\n",
       "      <th>annotator</th>\n",
       "      <th>punch_id</th>\n",
       "    </tr>\n",
       "  </thead>\n",
       "  <tbody>\n",
       "    <tr>\n",
       "      <th>0</th>\n",
       "      <td>8.322237</td>\n",
       "      <td>-1.923829</td>\n",
       "      <td>4.405187</td>\n",
       "      <td>0</td>\n",
       "      <td>1</td>\n",
       "      <td>0</td>\n",
       "      <td>0</td>\n",
       "      <td>1</td>\n",
       "    </tr>\n",
       "    <tr>\n",
       "      <th>2001</th>\n",
       "      <td>8.315059</td>\n",
       "      <td>-1.186840</td>\n",
       "      <td>3.000600</td>\n",
       "      <td>0</td>\n",
       "      <td>1</td>\n",
       "      <td>0</td>\n",
       "      <td>0</td>\n",
       "      <td>2</td>\n",
       "    </tr>\n",
       "    <tr>\n",
       "      <th>4002</th>\n",
       "      <td>-4.548756</td>\n",
       "      <td>3.505485</td>\n",
       "      <td>8.384451</td>\n",
       "      <td>0</td>\n",
       "      <td>3</td>\n",
       "      <td>0</td>\n",
       "      <td>1</td>\n",
       "      <td>4</td>\n",
       "    </tr>\n",
       "    <tr>\n",
       "      <th>6003</th>\n",
       "      <td>-4.900501</td>\n",
       "      <td>2.543571</td>\n",
       "      <td>9.310472</td>\n",
       "      <td>0</td>\n",
       "      <td>3</td>\n",
       "      <td>0</td>\n",
       "      <td>1</td>\n",
       "      <td>6</td>\n",
       "    </tr>\n",
       "    <tr>\n",
       "      <th>8004</th>\n",
       "      <td>-5.876772</td>\n",
       "      <td>3.393023</td>\n",
       "      <td>7.283752</td>\n",
       "      <td>0</td>\n",
       "      <td>3</td>\n",
       "      <td>0</td>\n",
       "      <td>1</td>\n",
       "      <td>10</td>\n",
       "    </tr>\n",
       "  </tbody>\n",
       "</table>\n",
       "</div>"
      ],
      "text/plain": [
       "           a_x       a_y       a_z  timestamp  label  hand  annotator  \\\n",
       "0     8.322237 -1.923829  4.405187          0      1     0          0   \n",
       "2001  8.315059 -1.186840  3.000600          0      1     0          0   \n",
       "4002 -4.548756  3.505485  8.384451          0      3     0          1   \n",
       "6003 -4.900501  2.543571  9.310472          0      3     0          1   \n",
       "8004 -5.876772  3.393023  7.283752          0      3     0          1   \n",
       "\n",
       "      punch_id  \n",
       "0            1  \n",
       "2001         2  \n",
       "4002         4  \n",
       "6003         6  \n",
       "8004        10  "
      ]
     },
     "execution_count": 41,
     "metadata": {},
     "output_type": "execute_result"
    }
   ],
   "source": [
    "train_dataset_unique_label_id = train_dataset.drop_duplicates(subset='punch_id', keep='first', inplace=False)\n",
    "train_dataset_unique_label_id.head()"
   ]
  },
  {
   "cell_type": "code",
   "execution_count": 42,
   "metadata": {},
   "outputs": [
    {
     "data": {
      "text/plain": [
       "0       0\n",
       "2001    0\n",
       "4002    0\n",
       "6003    0\n",
       "8004    0\n",
       "Name: hand, dtype: int64"
      ]
     },
     "execution_count": 42,
     "metadata": {},
     "output_type": "execute_result"
    }
   ],
   "source": [
    "y_train = pd.Series(data=train_dataset_unique_label_id['hand'])\n",
    "y_train.head()"
   ]
  },
  {
   "cell_type": "markdown",
   "metadata": {},
   "source": [
    "## create the X_train and X_test dataset containing the features"
   ]
  },
  {
   "cell_type": "code",
   "execution_count": 43,
   "metadata": {},
   "outputs": [],
   "source": [
    "X_train = train_dataset_extracted\n",
    "X_test = test_dataset_extracted"
   ]
  },
  {
   "cell_type": "markdown",
   "metadata": {},
   "source": [
    "## classify the hand of the subject"
   ]
  },
  {
   "cell_type": "code",
   "execution_count": 44,
   "metadata": {},
   "outputs": [],
   "source": [
    "accuracy_scores_for_hand = np.zeros(5)\n",
    "clf_for_hand = ['Linear SVC (ovr)','Standard SVC', 'Logsitic Regression', 'KNN', 'Random Forest']"
   ]
  },
  {
   "cell_type": "markdown",
   "metadata": {},
   "source": [
    "## Linear Support Vector Classifier"
   ]
  },
  {
   "cell_type": "code",
   "execution_count": 45,
   "metadata": {},
   "outputs": [
    {
     "name": "stdout",
     "output_type": "stream",
     "text": [
      "Linear Vector Classifier accuracy (one-vs-rest): 79.40403155127082%\n"
     ]
    },
    {
     "name": "stderr",
     "output_type": "stream",
     "text": [
      "/home/twagner/anaconda3/lib/python3.7/site-packages/sklearn/svm/base.py:922: ConvergenceWarning: Liblinear failed to converge, increase the number of iterations.\n",
      "  \"the number of iterations.\", ConvergenceWarning)\n"
     ]
    }
   ],
   "source": [
    "linSupp_Vectr_clf_hand = svm.LinearSVC()\n",
    "linSupp_Vectr_clf_hand.fit(X_train, y_train) \n",
    "prediction = linSupp_Vectr_clf_hand.predict(X_test)\n",
    "accuracy_scores_for_hand[0] = accuracy_score(y_test, prediction)*100\n",
    "print('Linear Vector Classifier accuracy (one-vs-rest): {}%'.format(accuracy_scores_for_hand[0]))"
   ]
  },
  {
   "cell_type": "markdown",
   "metadata": {},
   "source": [
    "## Standard support vector classifier"
   ]
  },
  {
   "cell_type": "code",
   "execution_count": 46,
   "metadata": {},
   "outputs": [
    {
     "name": "stderr",
     "output_type": "stream",
     "text": [
      "/home/twagner/anaconda3/lib/python3.7/site-packages/sklearn/svm/base.py:196: FutureWarning: The default value of gamma will change from 'auto' to 'scale' in version 0.22 to account better for unscaled features. Set gamma explicitly to 'auto' or 'scale' to avoid this warning.\n",
      "  \"avoid this warning.\", FutureWarning)\n"
     ]
    },
    {
     "name": "stdout",
     "output_type": "stream",
     "text": [
      "Support Vector Classifier accuracy: 48.466257668711656%\n"
     ]
    }
   ],
   "source": [
    "# Support Vector Classifier\n",
    "stdSupp_Vectr_clf_hand = SVC().fit(X_train, y_train)\n",
    "prediction = stdSupp_Vectr_clf_hand.predict(X_test)\n",
    "accuracy_scores_for_hand[1] = accuracy_score(y_test, prediction)*100\n",
    "print('Support Vector Classifier accuracy: {}%'.format(accuracy_scores_for_hand[1]))"
   ]
  },
  {
   "cell_type": "markdown",
   "metadata": {},
   "source": [
    "## Logistic regression"
   ]
  },
  {
   "cell_type": "code",
   "execution_count": 47,
   "metadata": {},
   "outputs": [
    {
     "name": "stdout",
     "output_type": "stream",
     "text": [
      "Logistic Regression accuracy: 62.00701139351447%\n"
     ]
    },
    {
     "name": "stderr",
     "output_type": "stream",
     "text": [
      "/home/twagner/anaconda3/lib/python3.7/site-packages/sklearn/linear_model/logistic.py:433: FutureWarning: Default solver will be changed to 'lbfgs' in 0.22. Specify a solver to silence this warning.\n",
      "  FutureWarning)\n",
      "/home/twagner/anaconda3/lib/python3.7/site-packages/sklearn/svm/base.py:922: ConvergenceWarning: Liblinear failed to converge, increase the number of iterations.\n",
      "  \"the number of iterations.\", ConvergenceWarning)\n"
     ]
    }
   ],
   "source": [
    "# Logistic Regression\n",
    "logistic_reggr_clf_hand = LogisticRegression().fit(X_train, y_train)\n",
    "prediction = logistic_reggr_clf_hand.predict(X_test)\n",
    "accuracy_scores_for_hand[2] = accuracy_score(y_test, prediction)*100\n",
    "print('Logistic Regression accuracy: {}%'.format(accuracy_scores_for_hand[2]))"
   ]
  },
  {
   "cell_type": "markdown",
   "metadata": {},
   "source": [
    "## K Nearest Neighbors"
   ]
  },
  {
   "cell_type": "code",
   "execution_count": 48,
   "metadata": {},
   "outputs": [
    {
     "name": "stdout",
     "output_type": "stream",
     "text": [
      "K Nearest Neighbors Classifier accuracy: 78.17703768624014%\n"
     ]
    }
   ],
   "source": [
    "# K Nearest Neighbors\n",
    "knn_clf_hand = KNeighborsClassifier(n_neighbors=5)\n",
    "knn_clf_hand.fit(X_train, y_train)\n",
    "prediction = knn_clf_hand.predict(X_test)\n",
    "accuracy_scores_for_hand[3] = accuracy_score(y_test, prediction)*100\n",
    "print('K Nearest Neighbors Classifier accuracy: {}%'.format(accuracy_scores_for_hand[3]))"
   ]
  },
  {
   "cell_type": "markdown",
   "metadata": {},
   "source": [
    "## Random Forest"
   ]
  },
  {
   "cell_type": "code",
   "execution_count": 49,
   "metadata": {},
   "outputs": [
    {
     "name": "stdout",
     "output_type": "stream",
     "text": [
      "Random Forest Classifier accuracy: 90.27169149868537%\n"
     ]
    }
   ],
   "source": [
    "# Random Forest\n",
    "rndm_forest_clf_hand = RandomForestClassifier(n_estimators = 100)\n",
    "rndm_forest_clf_hand.fit(X_train, y_train)\n",
    "prediction = rndm_forest_clf_hand.predict(X_test)\n",
    "accuracy_scores_for_hand[4] = accuracy_score(y_test, prediction)*100\n",
    "print('Random Forest Classifier accuracy: {}%'.format(accuracy_scores_for_hand[4]))"
   ]
  },
  {
   "cell_type": "markdown",
   "metadata": {},
   "source": [
    "## Prediction accuracy"
   ]
  },
  {
   "cell_type": "code",
   "execution_count": 50,
   "metadata": {},
   "outputs": [
    {
     "data": {
      "text/plain": [
       "Text(0.5, 1.0, 'Accuracy overview for hand-prediction')"
      ]
     },
     "execution_count": 50,
     "metadata": {},
     "output_type": "execute_result"
    },
    {
     "data": {
      "image/png": "[encoded data removed]",
      "text/plain": [
       "<Figure size 1440x720 with 1 Axes>"
      ]
     },
     "metadata": {
      "needs_background": "light"
     },
     "output_type": "display_data"
    }
   ],
   "source": [
    "colors = cm.rainbow(np.linspace(0, 1, 4))\n",
    "plt.figure(figsize=(20,10))\n",
    "plt.bar(clf_for_hand,\n",
    "        accuracy_scores_for_hand,\n",
    "        color = colors)\n",
    "plt.xlabel('Classifiers')\n",
    "plt.ylabel('Accuracy')\n",
    "plt.title('Accuracy overview for hand-prediction')"
   ]
  },
  {
   "cell_type": "markdown",
   "metadata": {},
   "source": [
    "# Feature extraction for learning: Annotator"
   ]
  },
  {
   "cell_type": "code",
   "execution_count": 51,
   "metadata": {},
   "outputs": [],
   "source": [
    "train_dataset = mixedPunches[0]\n",
    "test_dataset = mixedPunches[1]"
   ]
  },
  {
   "cell_type": "code",
   "execution_count": 52,
   "metadata": {},
   "outputs": [
    {
     "data": {
      "text/plain": [
       "{'sum_values': None,\n",
       " 'median': None,\n",
       " 'mean': None,\n",
       " 'length': None,\n",
       " 'standard_deviation': None,\n",
       " 'variance': None,\n",
       " 'maximum': None,\n",
       " 'minimum': None}"
      ]
     },
     "execution_count": 52,
     "metadata": {},
     "output_type": "execute_result"
    }
   ],
   "source": [
    "# try to use the minimal feature settings\n",
    "settings_minimal = MinimalFCParameters() # only a few basic features\n",
    "settings_minimal"
   ]
  },
  {
   "cell_type": "markdown",
   "metadata": {},
   "source": [
    "## extract the features for learning and training dataset"
   ]
  },
  {
   "cell_type": "code",
   "execution_count": 53,
   "metadata": {},
   "outputs": [
    {
     "name": "stderr",
     "output_type": "stream",
     "text": [
      "Feature Extraction: 100%|██████████| 60/60 [00:02<00:00, 24.02it/s]\n"
     ]
    }
   ],
   "source": [
    "# extract features for test dataset\n",
    "testds_for_extraction = test_dataset.drop(columns=['label','hand','annotator'])\n",
    "test_dataset_extracted = extract_features(testds_for_extraction, column_id=\"punch_id\",column_sort=\"timestamp\", impute_function=impute, default_fc_parameters = settings_minimal);"
   ]
  },
  {
   "cell_type": "code",
   "execution_count": 54,
   "metadata": {},
   "outputs": [
    {
     "name": "stderr",
     "output_type": "stream",
     "text": [
      "Feature Extraction: 100%|██████████| 60/60 [00:04<00:00, 12.18it/s]\n"
     ]
    }
   ],
   "source": [
    "# extract features for train dataset\n",
    "trainds_for_extraction = train_dataset.drop(columns=['label','hand','annotator'])\n",
    "train_dataset_extracted = extract_features(trainds_for_extraction, column_id=\"punch_id\",column_sort=\"timestamp\", impute_function=impute, default_fc_parameters = settings_minimal);"
   ]
  },
  {
   "cell_type": "markdown",
   "metadata": {},
   "source": [
    "## create y_test and y_train dataset containing the hand information"
   ]
  },
  {
   "cell_type": "code",
   "execution_count": 55,
   "metadata": {},
   "outputs": [
    {
     "data": {
      "text/html": [
       "<div>\n",
       "<style scoped>\n",
       "    .dataframe tbody tr th:only-of-type {\n",
       "        vertical-align: middle;\n",
       "    }\n",
       "\n",
       "    .dataframe tbody tr th {\n",
       "        vertical-align: top;\n",
       "    }\n",
       "\n",
       "    .dataframe thead th {\n",
       "        text-align: right;\n",
       "    }\n",
       "</style>\n",
       "<table border=\"1\" class=\"dataframe\">\n",
       "  <thead>\n",
       "    <tr style=\"text-align: right;\">\n",
       "      <th></th>\n",
       "      <th>a_x</th>\n",
       "      <th>a_y</th>\n",
       "      <th>a_z</th>\n",
       "      <th>timestamp</th>\n",
       "      <th>label</th>\n",
       "      <th>hand</th>\n",
       "      <th>annotator</th>\n",
       "      <th>punch_id</th>\n",
       "    </tr>\n",
       "  </thead>\n",
       "  <tbody>\n",
       "    <tr>\n",
       "      <th>0</th>\n",
       "      <td>6.793223</td>\n",
       "      <td>-2.383251</td>\n",
       "      <td>2.962314</td>\n",
       "      <td>0</td>\n",
       "      <td>1</td>\n",
       "      <td>0</td>\n",
       "      <td>0</td>\n",
       "      <td>0</td>\n",
       "    </tr>\n",
       "    <tr>\n",
       "      <th>2001</th>\n",
       "      <td>8.888567</td>\n",
       "      <td>-1.026224</td>\n",
       "      <td>3.812030</td>\n",
       "      <td>0</td>\n",
       "      <td>1</td>\n",
       "      <td>0</td>\n",
       "      <td>0</td>\n",
       "      <td>3</td>\n",
       "    </tr>\n",
       "    <tr>\n",
       "      <th>4002</th>\n",
       "      <td>-4.120440</td>\n",
       "      <td>3.302095</td>\n",
       "      <td>9.265009</td>\n",
       "      <td>0</td>\n",
       "      <td>3</td>\n",
       "      <td>0</td>\n",
       "      <td>1</td>\n",
       "      <td>5</td>\n",
       "    </tr>\n",
       "    <tr>\n",
       "      <th>6003</th>\n",
       "      <td>-5.704489</td>\n",
       "      <td>3.321238</td>\n",
       "      <td>7.558927</td>\n",
       "      <td>0</td>\n",
       "      <td>3</td>\n",
       "      <td>0</td>\n",
       "      <td>1</td>\n",
       "      <td>7</td>\n",
       "    </tr>\n",
       "    <tr>\n",
       "      <th>8004</th>\n",
       "      <td>7.188039</td>\n",
       "      <td>-1.718047</td>\n",
       "      <td>2.488536</td>\n",
       "      <td>0</td>\n",
       "      <td>1</td>\n",
       "      <td>0</td>\n",
       "      <td>0</td>\n",
       "      <td>8</td>\n",
       "    </tr>\n",
       "  </tbody>\n",
       "</table>\n",
       "</div>"
      ],
      "text/plain": [
       "           a_x       a_y       a_z  timestamp  label  hand  annotator  \\\n",
       "0     6.793223 -2.383251  2.962314          0      1     0          0   \n",
       "2001  8.888567 -1.026224  3.812030          0      1     0          0   \n",
       "4002 -4.120440  3.302095  9.265009          0      3     0          1   \n",
       "6003 -5.704489  3.321238  7.558927          0      3     0          1   \n",
       "8004  7.188039 -1.718047  2.488536          0      1     0          0   \n",
       "\n",
       "      punch_id  \n",
       "0            0  \n",
       "2001         3  \n",
       "4002         5  \n",
       "6003         7  \n",
       "8004         8  "
      ]
     },
     "execution_count": 55,
     "metadata": {},
     "output_type": "execute_result"
    }
   ],
   "source": [
    "test_dataset_unique_label_id = test_dataset.drop_duplicates(subset='punch_id', keep='first', inplace=False)\n",
    "test_dataset_unique_label_id.head()"
   ]
  },
  {
   "cell_type": "code",
   "execution_count": 56,
   "metadata": {},
   "outputs": [],
   "source": [
    "y_test = pd.Series(data=test_dataset_unique_label_id['annotator'])"
   ]
  },
  {
   "cell_type": "code",
   "execution_count": 57,
   "metadata": {},
   "outputs": [
    {
     "data": {
      "text/html": [
       "<div>\n",
       "<style scoped>\n",
       "    .dataframe tbody tr th:only-of-type {\n",
       "        vertical-align: middle;\n",
       "    }\n",
       "\n",
       "    .dataframe tbody tr th {\n",
       "        vertical-align: top;\n",
       "    }\n",
       "\n",
       "    .dataframe thead th {\n",
       "        text-align: right;\n",
       "    }\n",
       "</style>\n",
       "<table border=\"1\" class=\"dataframe\">\n",
       "  <thead>\n",
       "    <tr style=\"text-align: right;\">\n",
       "      <th></th>\n",
       "      <th>a_x</th>\n",
       "      <th>a_y</th>\n",
       "      <th>a_z</th>\n",
       "      <th>timestamp</th>\n",
       "      <th>label</th>\n",
       "      <th>hand</th>\n",
       "      <th>annotator</th>\n",
       "      <th>punch_id</th>\n",
       "    </tr>\n",
       "  </thead>\n",
       "  <tbody>\n",
       "    <tr>\n",
       "      <th>0</th>\n",
       "      <td>8.322237</td>\n",
       "      <td>-1.923829</td>\n",
       "      <td>4.405187</td>\n",
       "      <td>0</td>\n",
       "      <td>1</td>\n",
       "      <td>0</td>\n",
       "      <td>0</td>\n",
       "      <td>1</td>\n",
       "    </tr>\n",
       "    <tr>\n",
       "      <th>2001</th>\n",
       "      <td>8.315059</td>\n",
       "      <td>-1.186840</td>\n",
       "      <td>3.000600</td>\n",
       "      <td>0</td>\n",
       "      <td>1</td>\n",
       "      <td>0</td>\n",
       "      <td>0</td>\n",
       "      <td>2</td>\n",
       "    </tr>\n",
       "    <tr>\n",
       "      <th>4002</th>\n",
       "      <td>-4.548756</td>\n",
       "      <td>3.505485</td>\n",
       "      <td>8.384451</td>\n",
       "      <td>0</td>\n",
       "      <td>3</td>\n",
       "      <td>0</td>\n",
       "      <td>1</td>\n",
       "      <td>4</td>\n",
       "    </tr>\n",
       "    <tr>\n",
       "      <th>6003</th>\n",
       "      <td>-4.900501</td>\n",
       "      <td>2.543571</td>\n",
       "      <td>9.310472</td>\n",
       "      <td>0</td>\n",
       "      <td>3</td>\n",
       "      <td>0</td>\n",
       "      <td>1</td>\n",
       "      <td>6</td>\n",
       "    </tr>\n",
       "    <tr>\n",
       "      <th>8004</th>\n",
       "      <td>-5.876772</td>\n",
       "      <td>3.393023</td>\n",
       "      <td>7.283752</td>\n",
       "      <td>0</td>\n",
       "      <td>3</td>\n",
       "      <td>0</td>\n",
       "      <td>1</td>\n",
       "      <td>10</td>\n",
       "    </tr>\n",
       "  </tbody>\n",
       "</table>\n",
       "</div>"
      ],
      "text/plain": [
       "           a_x       a_y       a_z  timestamp  label  hand  annotator  \\\n",
       "0     8.322237 -1.923829  4.405187          0      1     0          0   \n",
       "2001  8.315059 -1.186840  3.000600          0      1     0          0   \n",
       "4002 -4.548756  3.505485  8.384451          0      3     0          1   \n",
       "6003 -4.900501  2.543571  9.310472          0      3     0          1   \n",
       "8004 -5.876772  3.393023  7.283752          0      3     0          1   \n",
       "\n",
       "      punch_id  \n",
       "0            1  \n",
       "2001         2  \n",
       "4002         4  \n",
       "6003         6  \n",
       "8004        10  "
      ]
     },
     "execution_count": 57,
     "metadata": {},
     "output_type": "execute_result"
    }
   ],
   "source": [
    "train_dataset_unique_label_id = train_dataset.drop_duplicates(subset='punch_id', keep='first', inplace=False)\n",
    "train_dataset_unique_label_id.head()"
   ]
  },
  {
   "cell_type": "code",
   "execution_count": 58,
   "metadata": {},
   "outputs": [
    {
     "data": {
      "text/plain": [
       "0       0\n",
       "2001    0\n",
       "4002    1\n",
       "6003    1\n",
       "8004    1\n",
       "Name: annotator, dtype: int64"
      ]
     },
     "execution_count": 58,
     "metadata": {},
     "output_type": "execute_result"
    }
   ],
   "source": [
    "y_train = pd.Series(data=train_dataset_unique_label_id['annotator'])\n",
    "y_train.head()"
   ]
  },
  {
   "cell_type": "markdown",
   "metadata": {},
   "source": [
    "## create the X_train and X_test dataset containing the features"
   ]
  },
  {
   "cell_type": "code",
   "execution_count": 59,
   "metadata": {},
   "outputs": [],
   "source": [
    "X_train = train_dataset_extracted\n",
    "X_test = test_dataset_extracted"
   ]
  },
  {
   "cell_type": "code",
   "execution_count": 60,
   "metadata": {},
   "outputs": [
    {
     "data": {
      "text/html": [
       "<div>\n",
       "<style scoped>\n",
       "    .dataframe tbody tr th:only-of-type {\n",
       "        vertical-align: middle;\n",
       "    }\n",
       "\n",
       "    .dataframe tbody tr th {\n",
       "        vertical-align: top;\n",
       "    }\n",
       "\n",
       "    .dataframe thead th {\n",
       "        text-align: right;\n",
       "    }\n",
       "</style>\n",
       "<table border=\"1\" class=\"dataframe\">\n",
       "  <thead>\n",
       "    <tr style=\"text-align: right;\">\n",
       "      <th>variable</th>\n",
       "      <th>a_x__length</th>\n",
       "      <th>a_x__maximum</th>\n",
       "      <th>a_x__mean</th>\n",
       "      <th>a_x__median</th>\n",
       "      <th>a_x__minimum</th>\n",
       "      <th>a_x__standard_deviation</th>\n",
       "      <th>a_x__sum_values</th>\n",
       "      <th>a_x__variance</th>\n",
       "      <th>a_y__length</th>\n",
       "      <th>a_y__maximum</th>\n",
       "      <th>...</th>\n",
       "      <th>a_y__sum_values</th>\n",
       "      <th>a_y__variance</th>\n",
       "      <th>a_z__length</th>\n",
       "      <th>a_z__maximum</th>\n",
       "      <th>a_z__mean</th>\n",
       "      <th>a_z__median</th>\n",
       "      <th>a_z__minimum</th>\n",
       "      <th>a_z__standard_deviation</th>\n",
       "      <th>a_z__sum_values</th>\n",
       "      <th>a_z__variance</th>\n",
       "    </tr>\n",
       "    <tr>\n",
       "      <th>id</th>\n",
       "      <th></th>\n",
       "      <th></th>\n",
       "      <th></th>\n",
       "      <th></th>\n",
       "      <th></th>\n",
       "      <th></th>\n",
       "      <th></th>\n",
       "      <th></th>\n",
       "      <th></th>\n",
       "      <th></th>\n",
       "      <th></th>\n",
       "      <th></th>\n",
       "      <th></th>\n",
       "      <th></th>\n",
       "      <th></th>\n",
       "      <th></th>\n",
       "      <th></th>\n",
       "      <th></th>\n",
       "      <th></th>\n",
       "      <th></th>\n",
       "      <th></th>\n",
       "    </tr>\n",
       "  </thead>\n",
       "  <tbody>\n",
       "    <tr>\n",
       "      <th>1</th>\n",
       "      <td>2001.0</td>\n",
       "      <td>14.746404</td>\n",
       "      <td>4.050691</td>\n",
       "      <td>8.322237</td>\n",
       "      <td>-43.364920</td>\n",
       "      <td>12.149869</td>\n",
       "      <td>8105.433624</td>\n",
       "      <td>147.619326</td>\n",
       "      <td>2001.0</td>\n",
       "      <td>3.613881</td>\n",
       "      <td>...</td>\n",
       "      <td>-5387.067140</td>\n",
       "      <td>11.155707</td>\n",
       "      <td>2001.0</td>\n",
       "      <td>55.263834</td>\n",
       "      <td>6.767226</td>\n",
       "      <td>3.776467</td>\n",
       "      <td>-11.038901</td>\n",
       "      <td>13.505822</td>\n",
       "      <td>13541.219604</td>\n",
       "      <td>182.407221</td>\n",
       "    </tr>\n",
       "    <tr>\n",
       "      <th>2</th>\n",
       "      <td>2001.0</td>\n",
       "      <td>12.650668</td>\n",
       "      <td>3.306871</td>\n",
       "      <td>8.315059</td>\n",
       "      <td>-56.504578</td>\n",
       "      <td>13.429307</td>\n",
       "      <td>6617.049778</td>\n",
       "      <td>180.346280</td>\n",
       "      <td>2001.0</td>\n",
       "      <td>3.917139</td>\n",
       "      <td>...</td>\n",
       "      <td>-5154.169331</td>\n",
       "      <td>21.974058</td>\n",
       "      <td>2001.0</td>\n",
       "      <td>60.625234</td>\n",
       "      <td>6.734774</td>\n",
       "      <td>3.000600</td>\n",
       "      <td>-14.347197</td>\n",
       "      <td>14.913609</td>\n",
       "      <td>13476.281837</td>\n",
       "      <td>222.415742</td>\n",
       "    </tr>\n",
       "    <tr>\n",
       "      <th>4</th>\n",
       "      <td>2001.0</td>\n",
       "      <td>75.493534</td>\n",
       "      <td>-5.128794</td>\n",
       "      <td>-6.237128</td>\n",
       "      <td>-53.445345</td>\n",
       "      <td>14.539087</td>\n",
       "      <td>-10262.717539</td>\n",
       "      <td>211.385052</td>\n",
       "      <td>2001.0</td>\n",
       "      <td>47.990452</td>\n",
       "      <td>...</td>\n",
       "      <td>8500.836044</td>\n",
       "      <td>36.273087</td>\n",
       "      <td>2001.0</td>\n",
       "      <td>25.714775</td>\n",
       "      <td>4.408813</td>\n",
       "      <td>6.817141</td>\n",
       "      <td>-21.343998</td>\n",
       "      <td>6.244459</td>\n",
       "      <td>8822.035773</td>\n",
       "      <td>38.993270</td>\n",
       "    </tr>\n",
       "    <tr>\n",
       "      <th>6</th>\n",
       "      <td>2001.0</td>\n",
       "      <td>79.515979</td>\n",
       "      <td>-4.676748</td>\n",
       "      <td>-5.644009</td>\n",
       "      <td>-42.707557</td>\n",
       "      <td>15.684596</td>\n",
       "      <td>-9358.172630</td>\n",
       "      <td>246.006559</td>\n",
       "      <td>2001.0</td>\n",
       "      <td>73.175850</td>\n",
       "      <td>...</td>\n",
       "      <td>6866.525361</td>\n",
       "      <td>75.102740</td>\n",
       "      <td>2001.0</td>\n",
       "      <td>24.437570</td>\n",
       "      <td>3.911896</td>\n",
       "      <td>7.011459</td>\n",
       "      <td>-22.434421</td>\n",
       "      <td>7.650406</td>\n",
       "      <td>7827.704015</td>\n",
       "      <td>58.528709</td>\n",
       "    </tr>\n",
       "    <tr>\n",
       "      <th>10</th>\n",
       "      <td>2001.0</td>\n",
       "      <td>72.665326</td>\n",
       "      <td>-5.240635</td>\n",
       "      <td>-5.944409</td>\n",
       "      <td>-41.991215</td>\n",
       "      <td>15.216780</td>\n",
       "      <td>-10486.511566</td>\n",
       "      <td>231.550391</td>\n",
       "      <td>2001.0</td>\n",
       "      <td>36.972344</td>\n",
       "      <td>...</td>\n",
       "      <td>7777.984921</td>\n",
       "      <td>29.624853</td>\n",
       "      <td>2001.0</td>\n",
       "      <td>22.001653</td>\n",
       "      <td>4.730885</td>\n",
       "      <td>6.967802</td>\n",
       "      <td>-15.377833</td>\n",
       "      <td>5.834232</td>\n",
       "      <td>9466.501722</td>\n",
       "      <td>34.038258</td>\n",
       "    </tr>\n",
       "  </tbody>\n",
       "</table>\n",
       "<p>5 rows × 24 columns</p>\n",
       "</div>"
      ],
      "text/plain": [
       "variable  a_x__length  a_x__maximum  a_x__mean  a_x__median  a_x__minimum  \\\n",
       "id                                                                          \n",
       "1              2001.0     14.746404   4.050691     8.322237    -43.364920   \n",
       "2              2001.0     12.650668   3.306871     8.315059    -56.504578   \n",
       "4              2001.0     75.493534  -5.128794    -6.237128    -53.445345   \n",
       "6              2001.0     79.515979  -4.676748    -5.644009    -42.707557   \n",
       "10             2001.0     72.665326  -5.240635    -5.944409    -41.991215   \n",
       "\n",
       "variable  a_x__standard_deviation  a_x__sum_values  a_x__variance  \\\n",
       "id                                                                  \n",
       "1                       12.149869      8105.433624     147.619326   \n",
       "2                       13.429307      6617.049778     180.346280   \n",
       "4                       14.539087    -10262.717539     211.385052   \n",
       "6                       15.684596     -9358.172630     246.006559   \n",
       "10                      15.216780    -10486.511566     231.550391   \n",
       "\n",
       "variable  a_y__length  a_y__maximum      ...        a_y__sum_values  \\\n",
       "id                                       ...                          \n",
       "1              2001.0      3.613881      ...           -5387.067140   \n",
       "2              2001.0      3.917139      ...           -5154.169331   \n",
       "4              2001.0     47.990452      ...            8500.836044   \n",
       "6              2001.0     73.175850      ...            6866.525361   \n",
       "10             2001.0     36.972344      ...            7777.984921   \n",
       "\n",
       "variable  a_y__variance  a_z__length  a_z__maximum  a_z__mean  a_z__median  \\\n",
       "id                                                                           \n",
       "1             11.155707       2001.0     55.263834   6.767226     3.776467   \n",
       "2             21.974058       2001.0     60.625234   6.734774     3.000600   \n",
       "4             36.273087       2001.0     25.714775   4.408813     6.817141   \n",
       "6             75.102740       2001.0     24.437570   3.911896     7.011459   \n",
       "10            29.624853       2001.0     22.001653   4.730885     6.967802   \n",
       "\n",
       "variable  a_z__minimum  a_z__standard_deviation  a_z__sum_values  \\\n",
       "id                                                                 \n",
       "1           -11.038901                13.505822     13541.219604   \n",
       "2           -14.347197                14.913609     13476.281837   \n",
       "4           -21.343998                 6.244459      8822.035773   \n",
       "6           -22.434421                 7.650406      7827.704015   \n",
       "10          -15.377833                 5.834232      9466.501722   \n",
       "\n",
       "variable  a_z__variance  \n",
       "id                       \n",
       "1            182.407221  \n",
       "2            222.415742  \n",
       "4             38.993270  \n",
       "6             58.528709  \n",
       "10            34.038258  \n",
       "\n",
       "[5 rows x 24 columns]"
      ]
     },
     "execution_count": 60,
     "metadata": {},
     "output_type": "execute_result"
    }
   ],
   "source": [
    "X_train.head()"
   ]
  },
  {
   "cell_type": "markdown",
   "metadata": {},
   "source": [
    "## classify the subject"
   ]
  },
  {
   "cell_type": "code",
   "execution_count": 61,
   "metadata": {},
   "outputs": [],
   "source": [
    "accuracy_scores_for_subject = np.zeros(5)\n",
    "clf_for_subject = ['Linear SVC (ovr)','Standard SVC', 'Logsitic Regression', 'KNN', 'Random Forest']"
   ]
  },
  {
   "cell_type": "markdown",
   "metadata": {},
   "source": [
    "## Linear Support Vector Classifier"
   ]
  },
  {
   "cell_type": "code",
   "execution_count": 62,
   "metadata": {},
   "outputs": [
    {
     "name": "stdout",
     "output_type": "stream",
     "text": [
      "Linear Vector Classifier accuracy (one-vs-rest): 26.33654688869413%\n"
     ]
    },
    {
     "name": "stderr",
     "output_type": "stream",
     "text": [
      "/home/twagner/anaconda3/lib/python3.7/site-packages/sklearn/svm/base.py:922: ConvergenceWarning: Liblinear failed to converge, increase the number of iterations.\n",
      "  \"the number of iterations.\", ConvergenceWarning)\n"
     ]
    }
   ],
   "source": [
    "linSupp_Vectr_clf_annotator = svm.LinearSVC().fit(X_train, y_train) \n",
    "prediction = linSupp_Vectr_clf_annotator.predict(X_test)\n",
    "accuracy_scores_for_subject[0] = accuracy_score(y_test, prediction)*100\n",
    "print('Linear Vector Classifier accuracy (one-vs-rest): {}%'.format(accuracy_scores_for_subject[0]))"
   ]
  },
  {
   "cell_type": "markdown",
   "metadata": {},
   "source": [
    "## Standard support vector classifier"
   ]
  },
  {
   "cell_type": "code",
   "execution_count": 63,
   "metadata": {},
   "outputs": [
    {
     "name": "stderr",
     "output_type": "stream",
     "text": [
      "/home/twagner/anaconda3/lib/python3.7/site-packages/sklearn/svm/base.py:196: FutureWarning: The default value of gamma will change from 'auto' to 'scale' in version 0.22 to account better for unscaled features. Set gamma explicitly to 'auto' or 'scale' to avoid this warning.\n",
      "  \"avoid this warning.\", FutureWarning)\n"
     ]
    },
    {
     "name": "stdout",
     "output_type": "stream",
     "text": [
      "Support Vector Classifier accuracy: 12.489044697633654%\n"
     ]
    }
   ],
   "source": [
    "# Support Vector Classifier\n",
    "stdSupp_Vectr_clf_annotator = SVC().fit(X_train, y_train)\n",
    "prediction = stdSupp_Vectr_clf_annotator.predict(X_test)\n",
    "accuracy_scores_for_subject[1] = accuracy_score(y_test, prediction)*100\n",
    "print('Support Vector Classifier accuracy: {}%'.format(accuracy_scores_for_subject[1]))"
   ]
  },
  {
   "cell_type": "markdown",
   "metadata": {},
   "source": [
    "## Logistic regression"
   ]
  },
  {
   "cell_type": "code",
   "execution_count": 64,
   "metadata": {},
   "outputs": [
    {
     "name": "stderr",
     "output_type": "stream",
     "text": [
      "/home/twagner/anaconda3/lib/python3.7/site-packages/sklearn/linear_model/logistic.py:433: FutureWarning: Default solver will be changed to 'lbfgs' in 0.22. Specify a solver to silence this warning.\n",
      "  FutureWarning)\n",
      "/home/twagner/anaconda3/lib/python3.7/site-packages/sklearn/linear_model/logistic.py:460: FutureWarning: Default multi_class will be changed to 'auto' in 0.22. Specify the multi_class option to silence this warning.\n",
      "  \"this warning.\", FutureWarning)\n"
     ]
    },
    {
     "name": "stdout",
     "output_type": "stream",
     "text": [
      "Logistic Regression accuracy: 52.62927256792288%\n"
     ]
    },
    {
     "name": "stderr",
     "output_type": "stream",
     "text": [
      "/home/twagner/anaconda3/lib/python3.7/site-packages/sklearn/svm/base.py:922: ConvergenceWarning: Liblinear failed to converge, increase the number of iterations.\n",
      "  \"the number of iterations.\", ConvergenceWarning)\n"
     ]
    }
   ],
   "source": [
    "# Logistic Regression\n",
    "logistic_reggr_clf_annotator = LogisticRegression().fit(X_train, y_train)\n",
    "prediction = logistic_reggr_clf_annotator.predict(X_test)\n",
    "accuracy_scores_for_subject[2] = accuracy_score(y_test, prediction)*100\n",
    "print('Logistic Regression accuracy: {}%'.format(accuracy_scores_for_subject[2]))"
   ]
  },
  {
   "cell_type": "markdown",
   "metadata": {},
   "source": [
    "## K Nearest Neighbors"
   ]
  },
  {
   "cell_type": "code",
   "execution_count": 65,
   "metadata": {},
   "outputs": [
    {
     "name": "stdout",
     "output_type": "stream",
     "text": [
      "K Nearest Neighbors Classifier accuracy: 57.58106923751095%\n"
     ]
    }
   ],
   "source": [
    "# K Nearest Neighbors\n",
    "knn_clf_annotator = KNeighborsClassifier(n_neighbors=5).fit(X_train, y_train)\n",
    "prediction = knn_clf_annotator.predict(X_test)\n",
    "accuracy_scores_for_subject[3] = accuracy_score(y_test, prediction)*100\n",
    "print('K Nearest Neighbors Classifier accuracy: {}%'.format(accuracy_scores_for_subject[3]))"
   ]
  },
  {
   "cell_type": "markdown",
   "metadata": {},
   "source": [
    "## Random Forest"
   ]
  },
  {
   "cell_type": "code",
   "execution_count": 66,
   "metadata": {},
   "outputs": [
    {
     "name": "stdout",
     "output_type": "stream",
     "text": [
      "Random Forest Classifier accuracy: 79.05346187554777%\n"
     ]
    }
   ],
   "source": [
    "# Random Forest\n",
    "rndm_forest_clf_annotator = RandomForestClassifier(n_estimators = 50).fit(X_train, y_train)\n",
    "prediction = rndm_forest_clf_annotator.predict(X_test)\n",
    "accuracy_scores_for_subject[4] = accuracy_score(y_test, prediction)*100\n",
    "print('Random Forest Classifier accuracy: {}%'.format(accuracy_scores_for_subject[4]))"
   ]
  },
  {
   "cell_type": "markdown",
   "metadata": {},
   "source": [
    "## Prediction accuracy"
   ]
  },
  {
   "cell_type": "code",
   "execution_count": 67,
   "metadata": {},
   "outputs": [
    {
     "data": {
      "text/plain": [
       "Text(0.5, 1.0, 'Accuracy overview for annotator prediction')"
      ]
     },
     "execution_count": 67,
     "metadata": {},
     "output_type": "execute_result"
    },
    {
     "data": {
      "image/png": "[encoded data removed]",
      "text/plain": [
       "<Figure size 1440x720 with 1 Axes>"
      ]
     },
     "metadata": {
      "needs_background": "light"
     },
     "output_type": "display_data"
    }
   ],
   "source": [
    "colors = cm.rainbow(np.linspace(0, 1, 4))\n",
    "plt.figure(figsize=(20,10))\n",
    "plt.bar(clf_for_subject,\n",
    "        accuracy_scores_for_subject,\n",
    "        color = colors)\n",
    "plt.xlabel('Classifiers')\n",
    "plt.ylabel('Accuracy')\n",
    "plt.title('Accuracy overview for annotator prediction')"
   ]
  },
  {
   "cell_type": "markdown",
   "metadata": {},
   "source": [
    "<hr>\n",
    "<center> <h1><font color=\"blue\">Save the Models for reusing later</font></h1> </center>\n",
    "<h2>Save the trained classification models for reuse in other scripts.</h2>\n",
    "<hr>"
   ]
  },
  {
   "cell_type": "code",
   "execution_count": 68,
   "metadata": {},
   "outputs": [],
   "source": [
    "import pickle"
   ]
  },
  {
   "cell_type": "markdown",
   "metadata": {},
   "source": [
    "## Store the models for the punch classification"
   ]
  },
  {
   "cell_type": "markdown",
   "metadata": {},
   "source": [
    "### Linear SVC"
   ]
  },
  {
   "cell_type": "code",
   "execution_count": 122,
   "metadata": {},
   "outputs": [],
   "source": [
    "pkl_filename = \"model_linSupp_Vectr_clf_punchtype_periodMS2000_sampleUS1000_TrainSize70.pkl\"  \n",
    "with open(pkl_filename, 'wb') as file:  \n",
    "    pickle.dump(linSupp_Vectr_clf_punchtype, file)"
   ]
  },
  {
   "cell_type": "markdown",
   "metadata": {},
   "source": [
    "### Standard SVC"
   ]
  },
  {
   "cell_type": "code",
   "execution_count": 123,
   "metadata": {},
   "outputs": [],
   "source": [
    "pkl_filename = \"model_stdSupp_Vectr_clf_punchtype_periodMS2000_sampleUS1000_TrainSize70.pkl\"  \n",
    "with open(pkl_filename, 'wb') as file:  \n",
    "    pickle.dump(stdSupp_Vectr_clf_punchtype, file)"
   ]
  },
  {
   "cell_type": "markdown",
   "metadata": {},
   "source": [
    "### Logistic Regression"
   ]
  },
  {
   "cell_type": "code",
   "execution_count": 124,
   "metadata": {},
   "outputs": [],
   "source": [
    "pkl_filename = \"model_logistic_reggr_clf_punchtype_periodMS2000_sampleUS1000_TrainSize70.pkl\"  \n",
    "with open(pkl_filename, 'wb') as file:  \n",
    "    pickle.dump(logistic_reggr_clf_punchtype, file)"
   ]
  },
  {
   "cell_type": "markdown",
   "metadata": {},
   "source": [
    "### KNN"
   ]
  },
  {
   "cell_type": "code",
   "execution_count": 125,
   "metadata": {},
   "outputs": [],
   "source": [
    "pkl_filename = \"model_knn_clf_punchtype_periodMS2000_sampleUS1000_TrainSize70.pkl\"  \n",
    "with open(pkl_filename, 'wb') as file:  \n",
    "    pickle.dump(knn_clf_punchtype, file)"
   ]
  },
  {
   "cell_type": "markdown",
   "metadata": {},
   "source": [
    "### Random Forest"
   ]
  },
  {
   "cell_type": "code",
   "execution_count": 126,
   "metadata": {},
   "outputs": [],
   "source": [
    "pkl_filename = \"model_rndm_forest_clf_punchtype_periodMS2000_sampleUS1000_TrainSize70.pkl\"  \n",
    "with open(pkl_filename, 'wb') as file:  \n",
    "    pickle.dump(rndm_forest_clf_punchtype, file)"
   ]
  },
  {
   "cell_type": "markdown",
   "metadata": {},
   "source": [
    "## Store the models for the hand classification"
   ]
  },
  {
   "cell_type": "markdown",
   "metadata": {},
   "source": [
    "### Linear SVC"
   ]
  },
  {
   "cell_type": "code",
   "execution_count": 127,
   "metadata": {},
   "outputs": [],
   "source": [
    "pkl_filename = \"model_linSupp_Vectr_clf_hand_periodMS2000_sampleUS1000_TrainSize70.pkl\"  \n",
    "with open(pkl_filename, 'wb') as file:  \n",
    "    pickle.dump(linSupp_Vectr_clf_hand, file)"
   ]
  },
  {
   "cell_type": "markdown",
   "metadata": {},
   "source": [
    "### Standard SVC"
   ]
  },
  {
   "cell_type": "code",
   "execution_count": 128,
   "metadata": {},
   "outputs": [],
   "source": [
    "pkl_filename = \"model_stdSupp_Vectr_clf_hand_periodMS2000_sampleUS1000_TrainSize70.pkl\"  \n",
    "with open(pkl_filename, 'wb') as file:  \n",
    "    pickle.dump(stdSupp_Vectr_clf_hand, file)"
   ]
  },
  {
   "cell_type": "markdown",
   "metadata": {},
   "source": [
    "### Logistic Regression"
   ]
  },
  {
   "cell_type": "code",
   "execution_count": 129,
   "metadata": {},
   "outputs": [],
   "source": [
    "pkl_filename = \"model_logistic_reggr_clf_hand_periodMS2000_sampleUS1000_TrainSize70.pkl\"  \n",
    "with open(pkl_filename, 'wb') as file:  \n",
    "    pickle.dump(logistic_reggr_clf_hand, file)"
   ]
  },
  {
   "cell_type": "markdown",
   "metadata": {},
   "source": [
    "### KNN"
   ]
  },
  {
   "cell_type": "code",
   "execution_count": 130,
   "metadata": {},
   "outputs": [],
   "source": [
    "pkl_filename = \"model_knn_clf_hand_periodMS2000_sampleUS1000_TrainSize70.pkl\"  \n",
    "with open(pkl_filename, 'wb') as file:  \n",
    "    pickle.dump(knn_clf_hand, file)"
   ]
  },
  {
   "cell_type": "markdown",
   "metadata": {},
   "source": [
    "### Random Forest"
   ]
  },
  {
   "cell_type": "code",
   "execution_count": 131,
   "metadata": {},
   "outputs": [],
   "source": [
    "pkl_filename = \"model_rndm_forest_clf_hand_periodMS2000_sampleUS1000_TrainSize70.pkl\"  \n",
    "with open(pkl_filename, 'wb') as file:  \n",
    "    pickle.dump(rndm_forest_clf_hand, file)"
   ]
  },
  {
   "cell_type": "markdown",
   "metadata": {},
   "source": [
    "## Store the models for the annotator classification"
   ]
  },
  {
   "cell_type": "markdown",
   "metadata": {},
   "source": [
    "### Linear SVC"
   ]
  },
  {
   "cell_type": "code",
   "execution_count": 132,
   "metadata": {},
   "outputs": [],
   "source": [
    "pkl_filename = \"model_linSupp_Vectr_clf_annotator_periodMS2000_sampleUS1000_TrainSize70.pkl\"  \n",
    "with open(pkl_filename, 'wb') as file:  \n",
    "    pickle.dump(linSupp_Vectr_clf_annotator, file)"
   ]
  },
  {
   "cell_type": "markdown",
   "metadata": {},
   "source": [
    "### Standard SVC"
   ]
  },
  {
   "cell_type": "code",
   "execution_count": 133,
   "metadata": {},
   "outputs": [],
   "source": [
    "pkl_filename = \"model_stdSupp_Vectr_clf_annotator_periodMS2000_sampleUS1000_TrainSize70.pkl\"  \n",
    "with open(pkl_filename, 'wb') as file:  \n",
    "    pickle.dump(stdSupp_Vectr_clf_annotator, file)"
   ]
  },
  {
   "cell_type": "markdown",
   "metadata": {},
   "source": [
    "### Logistic Regression"
   ]
  },
  {
   "cell_type": "code",
   "execution_count": 134,
   "metadata": {},
   "outputs": [],
   "source": [
    "pkl_filename = \"model_logistic_reggr_clf_annotator_periodMS2000_sampleUS1000_TrainSize70.pkl\"  \n",
    "with open(pkl_filename, 'wb') as file:  \n",
    "    pickle.dump(logistic_reggr_clf_annotator, file)"
   ]
  },
  {
   "cell_type": "markdown",
   "metadata": {},
   "source": [
    "### KNN"
   ]
  },
  {
   "cell_type": "code",
   "execution_count": 135,
   "metadata": {},
   "outputs": [],
   "source": [
    "pkl_filename = \"model_knn_clf_annotator_periodMS2000_sampleUS1000_TrainSize70.pkl\"  \n",
    "with open(pkl_filename, 'wb') as file:  \n",
    "    pickle.dump(knn_clf_annotator, file)"
   ]
  },
  {
   "cell_type": "markdown",
   "metadata": {},
   "source": [
    "### Random Forest"
   ]
  },
  {
   "cell_type": "code",
   "execution_count": 136,
   "metadata": {},
   "outputs": [],
   "source": [
    "pkl_filename = \"model_rndm_forest_clf_annotator_periodMS2000_sampleUS1000_TrainSize70.pkl\"  \n",
    "with open(pkl_filename, 'wb') as file:  \n",
    "    pickle.dump(rndm_forest_clf_annotator, file)"
   ]
  },
  {
   "cell_type": "code",
   "execution_count": null,
   "metadata": {},
   "outputs": [],
   "source": []
  }
 ],
 "metadata": {
  "kernelspec": {
   "display_name": "Python 3",
   "language": "python",
   "name": "python3"
  },
  "language_info": {
   "codemirror_mode": {
    "name": "ipython",
    "version": 3
   },
   "file_extension": ".py",
   "mimetype": "text/x-python",
   "name": "python",
   "nbconvert_exporter": "python",
   "pygments_lexer": "ipython3",
   "version": "3.7.1"
  }
 },
 "nbformat": 4,
 "nbformat_minor": 2
}
