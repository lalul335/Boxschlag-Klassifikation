{
 "cells": [
  {
   "cell_type": "markdown",
   "metadata": {},
   "source": [
    "# <font color='red'>Classification using extracted features</font>\n",
    "This notebook shows a classification using extracted features. With this it is possible to use typical supervised learning methods such as KNN or Logistic Regression for the classification problem."
   ]
  },
  {
   "cell_type": "markdown",
   "metadata": {},
   "source": [
    "## <font color='blue'>Note</font>: This Notebook contains the \"all-in-one\" classification! For a better and cleaner solution/overview use the modularized Notebooks instead."
   ]
  },
  {
   "cell_type": "markdown",
   "metadata": {},
   "source": [
    "<hr>\n",
    "<center> <h1><font color=\"blue\">Import modules</font></h1> </center>\n",
    "<hr>"
   ]
  },
  {
   "cell_type": "markdown",
   "metadata": {},
   "source": [
    "## Import general modules"
   ]
  },
  {
   "cell_type": "code",
   "execution_count": 1,
   "metadata": {},
   "source": [
    "#import neccessary modules\n",
    "import json\n",
    "import pandas as pd\n",
    "import seaborn as sns\n",
    "import matplotlib.pyplot as plt\n",
    "import numpy as np\n",
    "import random\n",
    "import statistics\n",
    "import matplotlib.cm as cm\n",
    "%matplotlib inline"
   ],
   "outputs": []
  },
  {
   "cell_type": "markdown",
   "metadata": {},
   "source": [
    "## Import modules for feature extraction"
   ]
  },
  {
   "cell_type": "code",
   "execution_count": 2,
   "metadata": {},
   "source": [
    "# tsfresh modules (for feature extraction)\n",
    "from tsfresh import extract_features, extract_relevant_features, select_features\n",
    "from tsfresh.utilities.dataframe_functions import impute\n",
    "from tsfresh.feature_extraction.settings import ComprehensiveFCParameters, MinimalFCParameters, EfficientFCParameters\n",
    "\n",
    "import logging\n",
    "# Set logger-level to \"error\". Not recommed: Important warnings can be overseen\n",
    "logging.basicConfig(level=logging.ERROR)"
   ],
   "outputs": []
  },
  {
   "cell_type": "markdown",
   "metadata": {},
   "source": [
    "## Import modules for the standard supervised learning algorithms"
   ]
  },
  {
   "cell_type": "code",
   "execution_count": 3,
   "metadata": {},
   "source": [
    "# import machine learning algorithms\n",
    "from sklearn.svm import SVC\n",
    "from sklearn import svm\n",
    "from sklearn.linear_model import LogisticRegression\n",
    "from sklearn.neighbors import KNeighborsClassifier\n",
    "from sklearn.ensemble import RandomForestClassifier\n",
    "\n",
    "from sklearn.metrics import accuracy_score"
   ],
   "outputs": []
  },
  {
   "cell_type": "markdown",
   "metadata": {},
   "source": [
    "<hr>\n",
    "<center> <h1><font color=\"blue\">Import and split the dataset</font></h1> </center>\n",
    "<hr>\n",
    "The current dataset can be load as a csv-file. The csv-file is presented as an dataframe object were each time series (punch) is identified with a unique punch_id (continual)"
   ]
  },
  {
   "cell_type": "code",
   "execution_count": 4,
   "metadata": {},
   "source": [
    "ds = pd.read_csv('../../Datasets/complete_smartpunch_dataset_AsOneDataFrame_periodMS2000_sampleUS1000.csv')\n",
    "del ds['Unnamed: 0'] # remove the unnecessary column ... maybe this can be fixed in a later version of the dataset-exporter?! "
   ],
   "outputs": []
  },
  {
   "cell_type": "code",
   "execution_count": 6,
   "metadata": {},
   "source": [
    "ds.head(2005)"
   ],
   "outputs": []
  },
  {
   "cell_type": "code",
   "execution_count": 5,
   "metadata": {},
   "source": [
    "ds.head()"
   ],
   "outputs": []
  },
  {
   "cell_type": "code",
   "execution_count": null,
   "metadata": {},
   "source": [],
   "outputs": []
  },
  {
   "cell_type": "code",
   "execution_count": 6,
   "metadata": {},
   "source": [
    "test_ds= [\n",
    "    {\n",
    "        \"_id\": \"5c8faaaae37533453c77fb20\",\n",
    "        \"label\": \"Training\",\n",
    "        \"hand\": \"L+R\",\n",
    "        \"annotator\": \"Trainingsmode\",\n",
    "        \"count\": 81,\n",
    "        \"periodNS\": 767000000,\n",
    "        \"raws\": [\n",
    "            {\n",
    "                \"_id\": \"5c8faaaae37533453c77facf\",\n",
    "                \"timestamp\": \"0\",\n",
    "                \"x\": 9.68375301361084,\n",
    "                \"y\": 0.9762716293334961,\n",
    "                \"z\": 0.9834501147270203\n",
    "            },\n",
    "            {\n",
    "                \"_id\": \"5c8faaaae37533453c77fad0\",\n",
    "                \"timestamp\": \"3000000\",\n",
    "                \"x\": 9.686145782470703,\n",
    "                \"y\": 1.0456634759902954,\n",
    "                \"z\": 1.0289137363433838\n",
    "            },\n",
    "            {\n",
    "                \"_id\": \"5c8faaaae37533453c77fad1\",\n",
    "                \"timestamp\": \"1000000\",\n",
    "                \"x\": 9.645467758178711,\n",
    "                \"y\": 1.1102696657180786,\n",
    "                \"z\": 1.1341979503631592\n",
    "            },\n",
    "            {\n",
    "                \"_id\": \"5c8faaaae37533453c77fad2\",\n",
    "                \"timestamp\": \"13000000\",\n",
    "                \"x\": 9.616754531860352,\n",
    "                \"y\": 1.184447169303894,\n",
    "                \"z\": 1.1676974296569824\n",
    "            },\n",
    "            {\n",
    "                \"_id\": \"5c8faaaae37533453c77fad3\",\n",
    "                \"timestamp\": \"6000000\",\n",
    "                \"x\": 9.631111145019531,\n",
    "                \"y\": 1.2394821643829346,\n",
    "                \"z\": 1.1892328262329102\n",
    "            },\n",
    "            {\n",
    "                \"_id\": \"5c8faaaae37533453c77fad4\",\n",
    "                \"timestamp\": \"9000000\",\n",
    "                \"x\": 9.698110580444336,\n",
    "                \"y\": 1.4021940231323242,\n",
    "                \"z\": 1.3399807214736938\n",
    "            },\n",
    "            {\n",
    "                \"_id\": \"5c8faaaae37533453c77fad5\",\n",
    "                \"timestamp\": \"11000000\",\n",
    "                \"x\": 9.67657470703125,\n",
    "                \"y\": 1.3854442834854126,\n",
    "                \"z\": 1.2299108505249023\n",
    "            },\n",
    "            {\n",
    "                \"_id\": \"5c8faaaae37533453c77fad6\",\n",
    "                \"timestamp\": \"13000000\",\n",
    "                \"x\": 9.69093132019043,\n",
    "                \"y\": 1.4524433612823486,\n",
    "                \"z\": 1.1102696657180786\n",
    "            },\n",
    "            {\n",
    "                \"_id\": \"5c8faaaae37533453c77fad7\",\n",
    "                \"timestamp\": \"6000000\",\n",
    "                \"x\": 9.681360244750977,\n",
    "                \"y\": 1.3591232299804688,\n",
    "                \"z\": 0.8997012972831726\n",
    "            },\n",
    "            {\n",
    "                \"_id\": \"5c8faaaae37533453c77fad8\",\n",
    "                \"timestamp\": \"13000000\",\n",
    "                \"x\": 9.69093132019043,\n",
    "                \"y\": 1.5409778356552124,\n",
    "                \"z\": 0.8542376756668091\n",
    "            },\n",
    "            {\n",
    "                \"_id\": \"5c8faaaae37533453c77fad9\",\n",
    "                \"timestamp\": \"6000000\",\n",
    "                \"x\": 9.678967475891113,\n",
    "                \"y\": 1.6390835046768188,\n",
    "                \"z\": 0.8039883971214294\n",
    "            },\n",
    "            {\n",
    "                \"_id\": \"5c8faaaae37533453c77fada\",\n",
    "                \"timestamp\": \"13000000\",\n",
    "                \"x\": 9.650253295898438,\n",
    "                \"y\": 1.5864413976669312,\n",
    "                \"z\": 0.763310432434082\n",
    "            },\n",
    "            {\n",
    "                \"_id\": \"5c8faaaae37533453c77fadb\",\n",
    "                \"timestamp\": \"13000000\",\n",
    "                \"x\": 9.640682220458984,\n",
    "                \"y\": 1.648654818534851,\n",
    "                \"z\": 0.8111668825149536\n",
    "            },\n",
    "            {\n",
    "                \"_id\": \"5c8faaaae37533453c77fadc\",\n",
    "                \"timestamp\": \"5000000\",\n",
    "                \"x\": 9.616754531860352,\n",
    "                \"y\": 1.674975872039795,\n",
    "                \"z\": 0.8327022790908813\n",
    "            },\n",
    "            {\n",
    "                \"_id\": \"5c8faaaae37533453c77fadd\",\n",
    "                \"timestamp\": \"12000000\",\n",
    "                \"x\": 9.609575271606445,\n",
    "                \"y\": 1.7228323221206665,\n",
    "                \"z\": 0.8590233325958252\n",
    "            },\n",
    "            {\n",
    "                \"_id\": \"5c8faaaae37533453c77fade\",\n",
    "                \"timestamp\": \"7000000\",\n",
    "                \"x\": 9.542576789855957,\n",
    "                \"y\": 1.7276179790496826,\n",
    "                \"z\": 0.8398807644844055\n",
    "            },\n",
    "            {\n",
    "                \"_id\": \"5c8faaaae37533453c77fadf\",\n",
    "                \"timestamp\": \"12000000\",\n",
    "                \"x\": 9.54496955871582,\n",
    "                \"y\": 1.7850457429885864,\n",
    "                \"z\": 0.8374879360198975\n",
    "            },\n",
    "            {\n",
    "                \"_id\": \"5c8faaaae37533453c77fae0\",\n",
    "                \"timestamp\": \"7000000\",\n",
    "                \"x\": 9.516255378723145,\n",
    "                \"y\": 1.8376877307891846,\n",
    "                \"z\": 0.8422735929489136\n",
    "            },\n",
    "            {\n",
    "                \"_id\": \"5c8faaaae37533453c77fae1\",\n",
    "                \"timestamp\": \"12000000\",\n",
    "                \"x\": 9.53061294555664,\n",
    "                \"y\": 1.8616160154342651,\n",
    "                \"z\": 0.8398807644844055\n",
    "            },\n",
    "            {\n",
    "                \"_id\": \"5c8faaaae37533453c77fae2\",\n",
    "                \"timestamp\": \"12000000\",\n",
    "                \"x\": 9.559326171875,\n",
    "                \"y\": 1.9142581224441528,\n",
    "                \"z\": 0.7824530005455017\n",
    "            },\n",
    "            {\n",
    "                \"_id\": \"5c8faaaae37533453c77fae3\",\n",
    "                \"timestamp\": \"6000000\",\n",
    "                \"x\": 9.509077072143555,\n",
    "                \"y\": 1.9357935190200806,\n",
    "                \"z\": 0.7537391185760498\n",
    "            },\n",
    "            {\n",
    "                \"_id\": \"5c8faaaae37533453c77fae4\",\n",
    "                \"timestamp\": \"11000000\",\n",
    "                \"x\": 9.528220176696777,\n",
    "                \"y\": 1.947757601737976,\n",
    "                \"z\": 0.7728816866874695\n",
    "            },\n",
    "            {\n",
    "                \"_id\": \"5c8faaaae37533453c77fae5\",\n",
    "                \"timestamp\": \"8000000\",\n",
    "                \"x\": 9.54496955871582,\n",
    "                \"y\": 1.9453648328781128,\n",
    "                \"z\": 0.8039883971214294\n",
    "            },\n",
    "            {\n",
    "                \"_id\": \"5c8faaaae37533453c77fae6\",\n",
    "                \"timestamp\": \"14000000\",\n",
    "                \"x\": 9.547362327575684,\n",
    "                \"y\": 1.9310078620910645,\n",
    "                \"z\": 0.8135597109794617\n",
    "            },\n",
    "            {\n",
    "                \"_id\": \"5c8faaaae37533453c77fae7\",\n",
    "                \"timestamp\": \"10000000\",\n",
    "                \"x\": 9.528220176696777,\n",
    "                \"y\": 1.9525432586669922,\n",
    "                \"z\": 0.8327022790908813\n",
    "            },\n",
    "            {\n",
    "                \"_id\": \"5c8faaaae37533453c77fae8\",\n",
    "                \"timestamp\": \"7000000\",\n",
    "                \"x\": 9.521040916442871,\n",
    "                \"y\": 1.9381862878799438,\n",
    "                \"z\": 0.8327022790908813\n",
    "            },\n",
    "            {\n",
    "                \"_id\": \"5c8faaaae37533453c77fae9\",\n",
    "                \"timestamp\": \"12000000\",\n",
    "                \"x\": 9.504291534423828,\n",
    "                \"y\": 1.8903298377990723,\n",
    "                \"z\": 0.849452018737793\n",
    "            },\n",
    "            {\n",
    "                \"_id\": \"5c8faaaae37533453c77faea\",\n",
    "                \"timestamp\": \"5000000\",\n",
    "                \"x\": 9.523433685302734,\n",
    "                \"y\": 1.852044701576233,\n",
    "                \"z\": 0.8781659007072449\n",
    "            },\n",
    "            {\n",
    "                \"_id\": \"5c8faaaae37533453c77faeb\",\n",
    "                \"timestamp\": \"11000000\",\n",
    "                \"x\": 9.521040916442871,\n",
    "                \"y\": 1.8233308792114258,\n",
    "                \"z\": 0.9260223507881165\n",
    "            },\n",
    "            {\n",
    "                \"_id\": \"5c8faaaae37533453c77faec\",\n",
    "                \"timestamp\": \"9000000\",\n",
    "                \"x\": 9.549755096435547,\n",
    "                \"y\": 1.794616937637329,\n",
    "                \"z\": 0.9930213689804077\n",
    "            },\n",
    "            {\n",
    "                \"_id\": \"5c8faaaae37533453c77faed\",\n",
    "                \"timestamp\": \"12000000\",\n",
    "                \"x\": 9.53779125213623,\n",
    "                \"y\": 1.8113667964935303,\n",
    "                \"z\": 1.0456634759902954\n",
    "            },\n",
    "            {\n",
    "                \"_id\": \"5c8faaaae37533453c77faee\",\n",
    "                \"timestamp\": \"16000000\",\n",
    "                \"x\": 9.513862609863281,\n",
    "                \"y\": 1.8352949619293213,\n",
    "                \"z\": 1.0480563640594482\n",
    "            },\n",
    "            {\n",
    "                \"_id\": \"5c8faaaae37533453c77faef\",\n",
    "                \"timestamp\": \"14000000\",\n",
    "                \"x\": 9.475577354431152,\n",
    "                \"y\": 1.8711873292922974,\n",
    "                \"z\": 1.0121639966964722\n",
    "            },\n",
    "            {\n",
    "                \"_id\": \"5c8faaaae37533453c77faf0\",\n",
    "                \"timestamp\": \"12000000\",\n",
    "                \"x\": 9.456435203552246,\n",
    "                \"y\": 1.8855443000793457,\n",
    "                \"z\": 0.9044869542121887\n",
    "            },\n",
    "            {\n",
    "                \"_id\": \"5c8faaaae37533453c77faf1\",\n",
    "                \"timestamp\": \"5000000\",\n",
    "                \"x\": 9.475577354431152,\n",
    "                \"y\": 1.94297194480896,\n",
    "                \"z\": 0.8350951075553894\n",
    "            },\n",
    "            {\n",
    "                \"_id\": \"5c8faaaae37533453c77faf2\",\n",
    "                \"timestamp\": \"16000000\",\n",
    "                \"x\": 9.53061294555664,\n",
    "                \"y\": 1.9860427379608154,\n",
    "                \"z\": 0.8685946464538574\n",
    "            },\n",
    "            {\n",
    "                \"_id\": \"5c8faaaae37533453c77faf3\",\n",
    "                \"timestamp\": \"4000000\",\n",
    "                \"x\": 9.477970123291016,\n",
    "                \"y\": 2.0554347038269043,\n",
    "                \"z\": 0.9834501147270203\n",
    "            },\n",
    "            {\n",
    "                \"_id\": \"5c8faaaae37533453c77faf4\",\n",
    "                \"timestamp\": \"1000000\",\n",
    "                \"x\": 9.485149383544922,\n",
    "                \"y\": 2.012363910675049,\n",
    "                \"z\": 0.9834501147270203\n",
    "            },\n",
    "            {\n",
    "                \"_id\": \"5c8faaaae37533453c77faf5\",\n",
    "                \"timestamp\": \"12000000\",\n",
    "                \"x\": 9.542576789855957,\n",
    "                \"y\": 2.117648124694824,\n",
    "                \"z\": 0.9810572862625122\n",
    "            },\n",
    "            {\n",
    "                \"_id\": \"5c8faaaae37533453c77faf6\",\n",
    "                \"timestamp\": \"6000000\",\n",
    "                \"x\": 9.516255378723145,\n",
    "                \"y\": 2.091326951980591,\n",
    "                \"z\": 0.914058268070221\n",
    "            },\n",
    "            {\n",
    "                \"_id\": \"5c8faaaae37533453c77faf7\",\n",
    "                \"timestamp\": \"10000000\",\n",
    "                \"x\": 9.57607650756836,\n",
    "                \"y\": 2.053041934967041,\n",
    "                \"z\": 0.8207381963729858\n",
    "            },\n",
    "            {\n",
    "                \"_id\": \"5c8faaaae37533453c77faf8\",\n",
    "                \"timestamp\": \"7000000\",\n",
    "                \"x\": 9.533005714416504,\n",
    "                \"y\": 1.9932212829589844,\n",
    "                \"z\": 0.7465606927871704\n",
    "            },\n",
    "            {\n",
    "                \"_id\": \"5c8faaaae37533453c77faf9\",\n",
    "                \"timestamp\": \"11000000\",\n",
    "                \"x\": 9.564111709594727,\n",
    "                \"y\": 2.0482561588287354,\n",
    "                \"z\": 0.7561319470405579\n",
    "            },\n",
    "            {\n",
    "                \"_id\": \"5c8faaaae37533453c77fafa\",\n",
    "                \"timestamp\": \"11000000\",\n",
    "                \"x\": 9.511469841003418,\n",
    "                \"y\": 2.069791555404663,\n",
    "                \"z\": 0.7441678643226624\n",
    "            },\n",
    "            {\n",
    "                \"_id\": \"5c8faaaae37533453c77fafb\",\n",
    "                \"timestamp\": \"9000000\",\n",
    "                \"x\": 9.501898765563965,\n",
    "                \"y\": 2.100898265838623,\n",
    "                \"z\": 0.8685946464538574\n",
    "            },\n",
    "            {\n",
    "                \"_id\": \"5c8faaaae37533453c77fafc\",\n",
    "                \"timestamp\": \"10000000\",\n",
    "                \"x\": 9.492327690124512,\n",
    "                \"y\": 2.0673987865448,\n",
    "                \"z\": 0.8422735929489136\n",
    "            },\n",
    "            {\n",
    "                \"_id\": \"5c8faaaae37533453c77fafd\",\n",
    "                \"timestamp\": \"8000000\",\n",
    "                \"x\": 9.449256896972656,\n",
    "                \"y\": 2.069791555404663,\n",
    "                \"z\": 0.8015955686569214\n",
    "            },\n",
    "            {\n",
    "                \"_id\": \"5c8faaaae37533453c77fafe\",\n",
    "                \"timestamp\": \"11000000\",\n",
    "                \"x\": 9.485149383544922,\n",
    "                \"y\": 2.122433662414551,\n",
    "                \"z\": 0.8805587291717529\n",
    "            },\n",
    "            {\n",
    "                \"_id\": \"5c8faaaae37533453c77faff\",\n",
    "                \"timestamp\": \"13000000\",\n",
    "                \"x\": 9.45882797241211,\n",
    "                \"y\": 2.0961127281188965,\n",
    "                \"z\": 0.8231309652328491\n",
    "            },\n",
    "            {\n",
    "                \"_id\": \"5c8faaaae37533453c77fb00\",\n",
    "                \"timestamp\": \"5000000\",\n",
    "                \"x\": 9.55214786529541,\n",
    "                \"y\": 2.1846470832824707,\n",
    "                \"z\": 0.9547362327575684\n",
    "            },\n",
    "            {\n",
    "                \"_id\": \"5c8faaaae37533453c77fb01\",\n",
    "                \"timestamp\": \"16000000\",\n",
    "                \"x\": 9.53779125213623,\n",
    "                \"y\": 2.069791555404663,\n",
    "                \"z\": 0.849452018737793\n",
    "            },\n",
    "            {\n",
    "                \"_id\": \"5c8faaaae37533453c77fb02\",\n",
    "                \"timestamp\": \"11000000\",\n",
    "                \"x\": 9.487542152404785,\n",
    "                \"y\": 2.0099709033966064,\n",
    "                \"z\": 0.6771687865257263\n",
    "            },\n",
    "            {\n",
    "                \"_id\": \"5c8faaaae37533453c77fb03\",\n",
    "                \"timestamp\": \"4000000\",\n",
    "                \"x\": 9.55214786529541,\n",
    "                \"y\": 2.1200408935546875,\n",
    "                \"z\": 0.727418065071106\n",
    "            },\n",
    "            {\n",
    "                \"_id\": \"5c8faaaae37533453c77fb04\",\n",
    "                \"timestamp\": \"12000000\",\n",
    "                \"x\": 9.564111709594727,\n",
    "                \"y\": 2.201396942138672,\n",
    "                \"z\": 0.7776673436164856\n",
    "            },\n",
    "            {\n",
    "                \"_id\": \"5c8faaaae37533453c77fb05\",\n",
    "                \"timestamp\": \"6000000\",\n",
    "                \"x\": 9.499505996704102,\n",
    "                \"y\": 2.2301106452941895,\n",
    "                \"z\": 0.7537391185760498\n",
    "            },\n",
    "            {\n",
    "                \"_id\": \"5c8faaaae37533453c77fb06\",\n",
    "                \"timestamp\": \"15000000\",\n",
    "                \"x\": 9.55214786529541,\n",
    "                \"y\": 2.1750757694244385,\n",
    "                \"z\": 0.727418065071106\n",
    "            },\n",
    "            {\n",
    "                \"_id\": \"5c8faaaae37533453c77fb07\",\n",
    "                \"timestamp\": \"6000000\",\n",
    "                \"x\": 9.504291534423828,\n",
    "                \"y\": 2.1822543144226074,\n",
    "                \"z\": 0.7250252366065979\n",
    "            },\n",
    "            {\n",
    "                \"_id\": \"5c8faaaae37533453c77fb08\",\n",
    "                \"timestamp\": \"12000000\",\n",
    "                \"x\": 9.492327690124512,\n",
    "                \"y\": 2.2372891902923584,\n",
    "                \"z\": 0.7250252366065979\n",
    "            },\n",
    "            {\n",
    "                \"_id\": \"5c8faaaae37533453c77fb09\",\n",
    "                \"timestamp\": \"6000000\",\n",
    "                \"x\": 9.4660062789917,\n",
    "                \"y\": 2.256431818008423,\n",
    "                \"z\": 0.6963114142417908\n",
    "            },\n",
    "            {\n",
    "                \"_id\": \"5c8faaaae37533453c77fb0a\",\n",
    "                \"timestamp\": \"12000000\",\n",
    "                \"x\": 9.494720458984375,\n",
    "                \"y\": 2.2396819591522217,\n",
    "                \"z\": 0.727418065071106\n",
    "            },\n",
    "            {\n",
    "                \"_id\": \"5c8faaaae37533453c77fb0b\",\n",
    "                \"timestamp\": \"13000000\",\n",
    "                \"x\": 9.518648147583008,\n",
    "                \"y\": 2.2205393314361572,\n",
    "                \"z\": 0.7393822073936462\n",
    "            },\n",
    "            {\n",
    "                \"_id\": \"5c8faaaae37533453c77fb0c\",\n",
    "                \"timestamp\": \"6000000\",\n",
    "                \"x\": 9.506684303283691,\n",
    "                \"y\": 2.2205393314361572,\n",
    "                \"z\": 0.7417750358581543\n",
    "            },\n",
    "            {\n",
    "                \"_id\": \"5c8faaaae37533453c77fb0d\",\n",
    "                \"timestamp\": \"8000000\",\n",
    "                \"x\": 9.461220741271973,\n",
    "                \"y\": 2.242074728012085,\n",
    "                \"z\": 0.7680960893630981\n",
    "            },\n",
    "            {\n",
    "                \"_id\": \"5c8faaaae37533453c77fb0e\",\n",
    "                \"timestamp\": \"10000000\",\n",
    "                \"x\": 9.45882797241211,\n",
    "                \"y\": 2.266003131866455,\n",
    "                \"z\": 0.8087740540504456\n",
    "            },\n",
    "            {\n",
    "                \"_id\": \"5c8faaaae37533453c77fb0f\",\n",
    "                \"timestamp\": \"12000000\",\n",
    "                \"x\": 9.456435203552246,\n",
    "                \"y\": 2.210968017578125,\n",
    "                \"z\": 0.7848458290100098\n",
    "            },\n",
    "            {\n",
    "                \"_id\": \"5c8faaaae37533453c77fb10\",\n",
    "                \"timestamp\": \"8000000\",\n",
    "                \"x\": 9.456435203552246,\n",
    "                \"y\": 2.155933141708374,\n",
    "                \"z\": 0.8350951075553894\n",
    "            },\n",
    "            {\n",
    "                \"_id\": \"5c8faaaae37533453c77fb11\",\n",
    "                \"timestamp\": \"10000000\",\n",
    "                \"x\": 9.473184585571289,\n",
    "                \"y\": 2.1774685382843018,\n",
    "                \"z\": 0.8662018179893494\n",
    "            },\n",
    "            {\n",
    "                \"_id\": \"5c8faaaae37533453c77fb12\",\n",
    "                \"timestamp\": \"14000000\",\n",
    "                \"x\": 9.504291534423828,\n",
    "                \"y\": 2.163111686706543,\n",
    "                \"z\": 0.8997012972831726\n",
    "            },\n",
    "            {\n",
    "                \"_id\": \"5c8faaaae37533453c77fb13\",\n",
    "                \"timestamp\": \"6000000\",\n",
    "                \"x\": 9.53061294555664,\n",
    "                \"y\": 2.115255117416382,\n",
    "                \"z\": 0.8877372145652771\n",
    "            },\n",
    "            {\n",
    "                \"_id\": \"5c8faaaae37533453c77fb14\",\n",
    "                \"timestamp\": \"21000000\",\n",
    "                \"x\": 9.604789733886719,\n",
    "                \"y\": 2.50289249420166,\n",
    "                \"z\": -0.22013968229293823\n",
    "            },\n",
    "            {\n",
    "                \"_id\": \"5c8faaaae37533453c77fb15\",\n",
    "                \"timestamp\": \"2000000\",\n",
    "                \"x\": 9.315258979797363,\n",
    "                \"y\": 2.59621262550354,\n",
    "                \"z\": -0.3756731450557709\n",
    "            },\n",
    "            {\n",
    "                \"_id\": \"5c8faaaae37533453c77fb16\",\n",
    "                \"timestamp\": \"7000000\",\n",
    "                \"x\": 9.317651748657227,\n",
    "                \"y\": 2.2755744457244873,\n",
    "                \"z\": 0.4139583110809326\n",
    "            },\n",
    "            {\n",
    "                \"_id\": \"5c8faaaae37533453c77fb17\",\n",
    "                \"timestamp\": \"8000000\",\n",
    "                \"x\": 9.353543281555176,\n",
    "                \"y\": 2.1343977451324463,\n",
    "                \"z\": 1.1198409795761108\n",
    "            },\n",
    "            {\n",
    "                \"_id\": \"5c8faaaae37533453c77fb18\",\n",
    "                \"timestamp\": \"12000000\",\n",
    "                \"x\": 9.181260108947754,\n",
    "                \"y\": 2.108076810836792,\n",
    "                \"z\": 1.2346965074539185\n",
    "            },\n",
    "            {\n",
    "                \"_id\": \"5c8faaaae37533453c77fb19\",\n",
    "                \"timestamp\": \"16000000\",\n",
    "                \"x\": 9.119047164916992,\n",
    "                \"y\": 2.1296122074127197,\n",
    "                \"z\": 1.1413763761520386\n",
    "            },\n",
    "            {\n",
    "                \"_id\": \"5c8faaaae37533453c77fb1a\",\n",
    "                \"timestamp\": \"12000000\",\n",
    "                \"x\": 9.166903495788574,\n",
    "                \"y\": 2.115255117416382,\n",
    "                \"z\": 1.0336993932724\n",
    "            },\n",
    "            {\n",
    "                \"_id\": \"5c8faaaae37533453c77fb1b\",\n",
    "                \"timestamp\": \"2000000\",\n",
    "                \"x\": 9.28893756866455,\n",
    "                \"y\": 2.2133610248565674,\n",
    "                \"z\": 1.0097711086273193\n",
    "            },\n",
    "            {\n",
    "                \"_id\": \"5c8faaaae37533453c77fb1c\",\n",
    "                \"timestamp\": \"7000000\",\n",
    "                \"x\": 9.442078590393066,\n",
    "                \"y\": 2.3617160320281982,\n",
    "                \"z\": 0.914058268070221\n",
    "            },\n",
    "            {\n",
    "                \"_id\": \"5c8faaaae37533453c77fb1d\",\n",
    "                \"timestamp\": \"10000000\",\n",
    "                \"x\": 9.504291534423828,\n",
    "                \"y\": 2.3784656524658203,\n",
    "                \"z\": 0.8398807644844055\n",
    "            },\n",
    "            {\n",
    "                \"_id\": \"5c8faaaae37533453c77fb1e\",\n",
    "                \"timestamp\": \"10000000\",\n",
    "                \"x\": 9.485149383544922,\n",
    "                \"y\": 2.311466693878174,\n",
    "                \"z\": 0.7417750358581543\n",
    "            },\n",
    "            {\n",
    "                \"_id\": \"5c8faaaae37533453c77fb1f\",\n",
    "                \"timestamp\": \"13000000\",\n",
    "                \"x\": 9.42772102355957,\n",
    "                \"y\": 2.328216314315796,\n",
    "                \"z\": 0.7776673436164856\n",
    "            }\n",
    "        ]\n",
    "    }\n",
    "]"
   ],
   "outputs": []
  },
  {
   "cell_type": "code",
   "execution_count": 7,
   "metadata": {},
   "source": [
    "len(ds)"
   ],
   "outputs": []
  },
  {
   "cell_type": "markdown",
   "metadata": {},
   "source": [
    "## Split the dataset into a test and training dataset\n",
    "Each punch is represented by multiple rows of accelerometer values with the (current) timestamp and the punch label, hand and annotator information. To split the dataframe it is relevant to split by focusing only on the punch_id to split only complete punches (time series). The function <font color='red'>train_test_split_punchdataframe</font> extracts all (unique) punch_ids and splitts them random into test and training lists. After that the rows of each punchs are imported to the corresponding list. With the optional <font color='red'>seed</font> option it is guranteed that each split can result in the same punch constellation to reproduce/follow this notebook step by step. "
   ]
  },
  {
   "cell_type": "code",
   "execution_count": 8,
   "metadata": {},
   "source": [
    "punchIdx = ds['punch_id'].unique()"
   ],
   "outputs": []
  },
  {
   "cell_type": "code",
   "execution_count": 9,
   "metadata": {},
   "source": [
    "len(punchIdx)"
   ],
   "outputs": []
  },
  {
   "cell_type": "code",
   "execution_count": 10,
   "metadata": {},
   "source": [
    "# returns an array of lists containing a list of the punch indizes to train and test\n",
    "# first list element: train dataset\n",
    "# second list element: test dataset\n",
    "# arg 1: dataframe as dataframe object\n",
    "# arg 2: trainsize as percentage of training data. e.g. 0.7\n",
    "# arg3: seed . optional, for same results of random values at multiple test\n",
    "def train_test_split_punchdataframe(dataframe, trainsize,seed=5):\n",
    "    random.seed(seed)\n",
    "    data = dataframe.copy()\n",
    "    punchIdx = data['punch_id'].unique()\n",
    "    list_in_cpy = punchIdx[:]\n",
    "    random.shuffle(list_in_cpy)\n",
    "    n = len(list_in_cpy)\n",
    "    idx_train = list_in_cpy[:round(n*trainsize)]\n",
    "    idx_test =  list_in_cpy[round(n*trainsize):]\n",
    "    train_ds = data[data['punch_id'].isin(idx_train)]\n",
    "    test_ds = data[data['punch_id'].isin(idx_test)]\n",
    "    return [train_ds.reset_index(drop=True),test_ds.reset_index(drop=True)];"
   ],
   "outputs": []
  },
  {
   "cell_type": "code",
   "execution_count": 11,
   "metadata": {},
   "source": [
    "mixedPunches = train_test_split_punchdataframe(ds,.7)"
   ],
   "outputs": []
  },
  {
   "cell_type": "code",
   "execution_count": 12,
   "metadata": {},
   "source": [
    "train_dataset = mixedPunches[0]\n",
    "test_dataset = mixedPunches[1]"
   ],
   "outputs": []
  },
  {
   "cell_type": "code",
   "execution_count": 13,
   "metadata": {},
   "source": [
    "train_dataset.head()"
   ],
   "outputs": []
  },
  {
   "cell_type": "code",
   "execution_count": 14,
   "metadata": {},
   "source": [
    "test_dataset.head()"
   ],
   "outputs": []
  },
  {
   "cell_type": "markdown",
   "metadata": {},
   "source": [
    "## Checking whether the splitted datasets are balanced\n",
    "For preventing the classifiers to learn one class \"better\" than other classes it is important to see if the train and test datasets contain nearly the same number of punches for each class."
   ]
  },
  {
   "cell_type": "code",
   "execution_count": 15,
   "metadata": {},
   "source": [
    "train_dataset['label'].value_counts()"
   ],
   "outputs": []
  },
  {
   "cell_type": "code",
   "execution_count": 16,
   "metadata": {},
   "source": [
    "test_dataset['label'].value_counts()"
   ],
   "outputs": []
  },
  {
   "cell_type": "markdown",
   "metadata": {},
   "source": [
    "<hr>\n",
    "<center> <h1><font color=\"blue\">Feature extraction: Create new test and train datasets with no time series character</font></h1> </center>\n",
    "<hr>"
   ]
  },
  {
   "cell_type": "code",
   "execution_count": 17,
   "metadata": {},
   "source": [
    "# try to use the minimal feature settings\n",
    "settings_minimal = MinimalFCParameters() # only a few basic features\n",
    "settings_minimal"
   ],
   "outputs": []
  },
  {
   "cell_type": "markdown",
   "metadata": {},
   "source": [
    "## Extract the chosen features from the test- and training dataset\n",
    "For that the columns: label, hand and annotator are dropped because the features will only be extracted for the variables x,y,z of the accelerometer sensor. If a \"bigger\" feature-setting is used the extraction process can take a while. With the minimal feature setting used the extraction is done in at least one minute."
   ]
  },
  {
   "cell_type": "code",
   "execution_count": 18,
   "metadata": {},
   "source": [
    "# extract features for test dataset\n",
    "testds_for_extraction = test_dataset.drop(columns=['label','hand','annotator'])\n",
    "test_dataset_extracted = extract_features(testds_for_extraction, column_id=\"punch_id\",column_sort=\"timestamp\", impute_function=impute, default_fc_parameters = settings_minimal);"
   ],
   "outputs": []
  },
  {
   "cell_type": "code",
   "execution_count": 19,
   "metadata": {},
   "source": [
    "# extract features for train dataset\n",
    "trainds_for_extraction = train_dataset.drop(columns=['label','hand','annotator'])\n",
    "train_dataset_extracted = extract_features(trainds_for_extraction, column_id=\"punch_id\",column_sort=\"timestamp\", impute_function=impute, default_fc_parameters = settings_minimal);"
   ],
   "outputs": []
  },
  {
   "cell_type": "markdown",
   "metadata": {},
   "source": [
    "## Print the extracted feature values: train and test dataset\n",
    "For now on the datasets containing the extracted features are used to learn the classifiers. At this point the time series classification problem is converted to a standard classification problem. So in the next steps the standard ML algorithms can be used for classification. Each time series is identified by the id column. So it is possible to connect the extracted features with the original time series (punch)."
   ]
  },
  {
   "cell_type": "code",
   "execution_count": 20,
   "metadata": {},
   "source": [
    "train_dataset_extracted.head()"
   ],
   "outputs": []
  },
  {
   "cell_type": "code",
   "execution_count": 21,
   "metadata": {},
   "source": [
    "test_dataset_extracted.head()"
   ],
   "outputs": []
  },
  {
   "cell_type": "markdown",
   "metadata": {},
   "source": [
    "## Create y_test and y_train Series objects containing the information to predict\n",
    "Depending on the classification label seperate y_test and y_train Series objects are created. In the following there are objects for all possible classifications of the smartPunch problem. Meaning there are y_test and y_train for predicting: <font color='blue'>hand, label and annotator<font/>"
   ]
  },
  {
   "cell_type": "code",
   "execution_count": 22,
   "metadata": {},
   "source": [
    "test_dataset_unique_label_id = test_dataset.drop_duplicates(subset='punch_id', keep='first', inplace=False)\n",
    "test_dataset_unique_label_id.head()"
   ],
   "outputs": []
  },
  {
   "cell_type": "code",
   "execution_count": 23,
   "metadata": {},
   "source": [
    "y_test = pd.Series(data=test_dataset_unique_label_id['label'])\n",
    "y_test.head()"
   ],
   "outputs": []
  },
  {
   "cell_type": "code",
   "execution_count": 24,
   "metadata": {},
   "source": [
    "train_dataset_unique_label_id = train_dataset.drop_duplicates(subset='punch_id', keep='first', inplace=False)\n",
    "train_dataset_unique_label_id.head()"
   ],
   "outputs": []
  },
  {
   "cell_type": "code",
   "execution_count": 25,
   "metadata": {},
   "source": [
    "y_train = pd.Series(data=train_dataset_unique_label_id['label'])\n",
    "y_train.head()"
   ],
   "outputs": []
  },
  {
   "cell_type": "markdown",
   "metadata": {},
   "source": [
    "## create the X_train and X_test dataset containing the features"
   ]
  },
  {
   "cell_type": "code",
   "execution_count": 26,
   "metadata": {},
   "source": [
    "X_train = train_dataset_extracted\n",
    "X_test = test_dataset_extracted"
   ],
   "outputs": []
  },
  {
   "cell_type": "markdown",
   "metadata": {},
   "source": [
    "<hr>\n",
    "<center> <h1><font color=\"blue\">Visualization of the training dataset</font></h1>\n",
    "    <h2>For verifying that the training dataset is balanced</h2>\n",
    "</center>\n",
    "<hr>"
   ]
  },
  {
   "cell_type": "code",
   "execution_count": 27,
   "metadata": {},
   "source": [
    "count_of_each_punch = np.array(y_train.value_counts())\n",
    "punches = sorted(y_train.unique())\n",
    "\n",
    "# Plot a pie chart for different punches\n",
    "plt.rcParams.update({'figure.figsize': [20, 20], 'font.size': 24})\n",
    "plt.pie(count_of_each_punch, labels = punches, autopct = '%0.2f')"
   ],
   "outputs": []
  },
  {
   "cell_type": "markdown",
   "metadata": {},
   "source": [
    "<hr>\n",
    "<center> <h1><font color=\"blue\">Classification of the punches</font></h1> </center>\n",
    "<h2>Use Linear SVC (with one-vs-the-rest), Standard SVC, Logistic Regression, KNN and Random Forest Classifier</h2>\n",
    "<hr>"
   ]
  },
  {
   "cell_type": "code",
   "execution_count": 28,
   "metadata": {},
   "source": [
    "accuracy_scores = np.zeros(5)\n",
    "clf_labels = ['Linear SVC (ovr)','Standard SVC', 'Logsitic Regression', 'KNN', 'Random Forest']"
   ],
   "outputs": []
  },
  {
   "cell_type": "markdown",
   "metadata": {},
   "source": [
    "## Linear Support Vector Classifier"
   ]
  },
  {
   "cell_type": "code",
   "execution_count": 29,
   "metadata": {},
   "source": [
    "linSupp_Vectr_clf_punchtype = svm.LinearSVC()\n",
    "linSupp_Vectr_clf_punchtype.fit(X_train, y_train) \n",
    "prediction = linSupp_Vectr_clf_punchtype.predict(X_test)\n",
    "accuracy_scores[0] = accuracy_score(y_test, prediction)*100\n",
    "print('Linear Vector Classifier accuracy (one-vs-rest): {}%'.format(accuracy_scores[0]))"
   ],
   "outputs": []
  },
  {
   "cell_type": "markdown",
   "metadata": {},
   "source": [
    "## Standard support vector classifier"
   ]
  },
  {
   "cell_type": "code",
   "execution_count": 30,
   "metadata": {},
   "source": [
    "# Support Vector Classifier\n",
    "stdSupp_Vectr_clf_punchtype = SVC().fit(X_train, y_train)\n",
    "prediction = stdSupp_Vectr_clf_punchtype.predict(X_test)\n",
    "accuracy_scores[1] = accuracy_score(y_test, prediction)*100\n",
    "print('Support Vector Classifier accuracy: {}%'.format(accuracy_scores[1]))"
   ],
   "outputs": []
  },
  {
   "cell_type": "markdown",
   "metadata": {},
   "source": [
    "## Logistic regression"
   ]
  },
  {
   "cell_type": "code",
   "execution_count": 31,
   "metadata": {},
   "source": [
    "# Logistic Regression\n",
    "logistic_reggr_clf_punchtype = LogisticRegression().fit(X_train, y_train)\n",
    "prediction = logistic_reggr_clf_punchtype.predict(X_test)\n",
    "accuracy_scores[2] = accuracy_score(y_test, prediction)*100\n",
    "print('Logistic Regression accuracy: {}%'.format(accuracy_scores[2]))"
   ],
   "outputs": []
  },
  {
   "cell_type": "markdown",
   "metadata": {},
   "source": [
    "## K Nearest Neighbors"
   ]
  },
  {
   "cell_type": "code",
   "execution_count": 32,
   "metadata": {},
   "source": [
    "# K Nearest Neighbors\n",
    "knn_clf_punchtype = KNeighborsClassifier(n_neighbors=5).fit(X_train, y_train)\n",
    "prediction = knn_clf_punchtype.predict(X_test)\n",
    "accuracy_scores[3] = accuracy_score(y_test, prediction)*100\n",
    "print('K Nearest Neighbors Classifier accuracy: {}%'.format(accuracy_scores[3]))"
   ],
   "outputs": []
  },
  {
   "cell_type": "markdown",
   "metadata": {},
   "source": [
    "## Random Forest"
   ]
  },
  {
   "cell_type": "code",
   "execution_count": 33,
   "metadata": {},
   "source": [
    "# Random Forest\n",
    "rndm_forest_clf_punchtype = RandomForestClassifier(n_estimators = 100).fit(X_train, y_train)\n",
    "prediction = rndm_forest_clf_punchtype.predict(X_test)\n",
    "accuracy_scores[4] = accuracy_score(y_test, prediction)*100\n",
    "print('Random Forest Classifier accuracy: {}%'.format(accuracy_scores[4]))"
   ],
   "outputs": []
  },
  {
   "cell_type": "markdown",
   "metadata": {},
   "source": [
    "## Overview of classifier prediction accuracy"
   ]
  },
  {
   "cell_type": "code",
   "execution_count": 34,
   "metadata": {},
   "source": [
    "colors = cm.rainbow(np.linspace(0, 1, 4))\n",
    "plt.figure(figsize=(20,10))\n",
    "plt.bar(clf_labels,\n",
    "        accuracy_scores,\n",
    "        color = colors)\n",
    "plt.xlabel('Classifiers')\n",
    "plt.ylabel('Accuracy')\n",
    "plt.title('Accuracy overview for label prediction')"
   ],
   "outputs": []
  },
  {
   "cell_type": "markdown",
   "metadata": {},
   "source": [
    "# Feature extraction for learning: hand"
   ]
  },
  {
   "cell_type": "code",
   "execution_count": 35,
   "metadata": {},
   "source": [
    "train_dataset = mixedPunches[0]\n",
    "test_dataset = mixedPunches[1]"
   ],
   "outputs": []
  },
  {
   "cell_type": "code",
   "execution_count": 36,
   "metadata": {},
   "source": [
    "# try to use the minimal feature settings\n",
    "settings_minimal = MinimalFCParameters() # only a few basic features\n",
    "settings_minimal"
   ],
   "outputs": []
  },
  {
   "cell_type": "markdown",
   "metadata": {},
   "source": [
    "## extract the features for learning and training dataset"
   ]
  },
  {
   "cell_type": "code",
   "execution_count": 37,
   "metadata": {},
   "source": [
    "# extract features for test dataset\n",
    "testds_for_extraction = test_dataset.drop(columns=['label','hand','annotator'])\n",
    "test_dataset_extracted = extract_features(testds_for_extraction, column_id=\"punch_id\",column_sort=\"timestamp\", impute_function=impute, default_fc_parameters = settings_minimal);"
   ],
   "outputs": []
  },
  {
   "cell_type": "code",
   "execution_count": 38,
   "metadata": {},
   "source": [
    "# extract features for train dataset\n",
    "trainds_for_extraction = train_dataset.drop(columns=['label','hand','annotator'])\n",
    "train_dataset_extracted = extract_features(trainds_for_extraction, column_id=\"punch_id\",column_sort=\"timestamp\", impute_function=impute, default_fc_parameters = settings_minimal);"
   ],
   "outputs": []
  },
  {
   "cell_type": "markdown",
   "metadata": {},
   "source": [
    "## create y_test and y_train dataset containing the hand information"
   ]
  },
  {
   "cell_type": "code",
   "execution_count": 39,
   "metadata": {},
   "source": [
    "test_dataset_unique_label_id = test_dataset.drop_duplicates(subset='punch_id', keep='first', inplace=False)\n",
    "test_dataset_unique_label_id.head()"
   ],
   "outputs": []
  },
  {
   "cell_type": "code",
   "execution_count": 40,
   "metadata": {},
   "source": [
    "y_test = pd.Series(data=test_dataset_unique_label_id['hand'])"
   ],
   "outputs": []
  },
  {
   "cell_type": "code",
   "execution_count": 41,
   "metadata": {},
   "source": [
    "train_dataset_unique_label_id = train_dataset.drop_duplicates(subset='punch_id', keep='first', inplace=False)\n",
    "train_dataset_unique_label_id.head()"
   ],
   "outputs": []
  },
  {
   "cell_type": "code",
   "execution_count": 42,
   "metadata": {},
   "source": [
    "y_train = pd.Series(data=train_dataset_unique_label_id['hand'])\n",
    "y_train.head()"
   ],
   "outputs": []
  },
  {
   "cell_type": "markdown",
   "metadata": {},
   "source": [
    "## create the X_train and X_test dataset containing the features"
   ]
  },
  {
   "cell_type": "code",
   "execution_count": 43,
   "metadata": {},
   "source": [
    "X_train = train_dataset_extracted\n",
    "X_test = test_dataset_extracted"
   ],
   "outputs": []
  },
  {
   "cell_type": "markdown",
   "metadata": {},
   "source": [
    "## classify the hand of the subject"
   ]
  },
  {
   "cell_type": "code",
   "execution_count": 44,
   "metadata": {},
   "source": [
    "accuracy_scores_for_hand = np.zeros(5)\n",
    "clf_for_hand = ['Linear SVC (ovr)','Standard SVC', 'Logsitic Regression', 'KNN', 'Random Forest']"
   ],
   "outputs": []
  },
  {
   "cell_type": "markdown",
   "metadata": {},
   "source": [
    "## Linear Support Vector Classifier"
   ]
  },
  {
   "cell_type": "code",
   "execution_count": 45,
   "metadata": {},
   "source": [
    "linSupp_Vectr_clf_hand = svm.LinearSVC()\n",
    "linSupp_Vectr_clf_hand.fit(X_train, y_train) \n",
    "prediction = linSupp_Vectr_clf_hand.predict(X_test)\n",
    "accuracy_scores_for_hand[0] = accuracy_score(y_test, prediction)*100\n",
    "print('Linear Vector Classifier accuracy (one-vs-rest): {}%'.format(accuracy_scores_for_hand[0]))"
   ],
   "outputs": []
  },
  {
   "cell_type": "markdown",
   "metadata": {},
   "source": [
    "## Standard support vector classifier"
   ]
  },
  {
   "cell_type": "code",
   "execution_count": 46,
   "metadata": {},
   "source": [
    "# Support Vector Classifier\n",
    "stdSupp_Vectr_clf_hand = SVC().fit(X_train, y_train)\n",
    "prediction = stdSupp_Vectr_clf_hand.predict(X_test)\n",
    "accuracy_scores_for_hand[1] = accuracy_score(y_test, prediction)*100\n",
    "print('Support Vector Classifier accuracy: {}%'.format(accuracy_scores_for_hand[1]))"
   ],
   "outputs": []
  },
  {
   "cell_type": "markdown",
   "metadata": {},
   "source": [
    "## Logistic regression"
   ]
  },
  {
   "cell_type": "code",
   "execution_count": 47,
   "metadata": {},
   "source": [
    "# Logistic Regression\n",
    "logistic_reggr_clf_hand = LogisticRegression().fit(X_train, y_train)\n",
    "prediction = logistic_reggr_clf_hand.predict(X_test)\n",
    "accuracy_scores_for_hand[2] = accuracy_score(y_test, prediction)*100\n",
    "print('Logistic Regression accuracy: {}%'.format(accuracy_scores_for_hand[2]))"
   ],
   "outputs": []
  },
  {
   "cell_type": "markdown",
   "metadata": {},
   "source": [
    "## K Nearest Neighbors"
   ]
  },
  {
   "cell_type": "code",
   "execution_count": 48,
   "metadata": {},
   "source": [
    "# K Nearest Neighbors\n",
    "knn_clf_hand = KNeighborsClassifier(n_neighbors=5)\n",
    "knn_clf_hand.fit(X_train, y_train)\n",
    "prediction = knn_clf_hand.predict(X_test)\n",
    "accuracy_scores_for_hand[3] = accuracy_score(y_test, prediction)*100\n",
    "print('K Nearest Neighbors Classifier accuracy: {}%'.format(accuracy_scores_for_hand[3]))"
   ],
   "outputs": []
  },
  {
   "cell_type": "markdown",
   "metadata": {},
   "source": [
    "## Random Forest"
   ]
  },
  {
   "cell_type": "code",
   "execution_count": 49,
   "metadata": {},
   "source": [
    "# Random Forest\n",
    "rndm_forest_clf_hand = RandomForestClassifier(n_estimators = 100)\n",
    "rndm_forest_clf_hand.fit(X_train, y_train)\n",
    "prediction = rndm_forest_clf_hand.predict(X_test)\n",
    "accuracy_scores_for_hand[4] = accuracy_score(y_test, prediction)*100\n",
    "print('Random Forest Classifier accuracy: {}%'.format(accuracy_scores_for_hand[4]))"
   ],
   "outputs": []
  },
  {
   "cell_type": "markdown",
   "metadata": {},
   "source": [
    "## Prediction accuracy"
   ]
  },
  {
   "cell_type": "code",
   "execution_count": 50,
   "metadata": {},
   "source": [
    "colors = cm.rainbow(np.linspace(0, 1, 4))\n",
    "plt.figure(figsize=(20,10))\n",
    "plt.bar(clf_for_hand,\n",
    "        accuracy_scores_for_hand,\n",
    "        color = colors)\n",
    "plt.xlabel('Classifiers')\n",
    "plt.ylabel('Accuracy')\n",
    "plt.title('Accuracy overview for hand-prediction')"
   ],
   "outputs": []
  },
  {
   "cell_type": "markdown",
   "metadata": {},
   "source": [
    "# Feature extraction for learning: Annotator"
   ]
  },
  {
   "cell_type": "code",
   "execution_count": 51,
   "metadata": {},
   "source": [
    "train_dataset = mixedPunches[0]\n",
    "test_dataset = mixedPunches[1]"
   ],
   "outputs": []
  },
  {
   "cell_type": "code",
   "execution_count": 52,
   "metadata": {},
   "source": [
    "# try to use the minimal feature settings\n",
    "settings_minimal = MinimalFCParameters() # only a few basic features\n",
    "settings_minimal"
   ],
   "outputs": []
  },
  {
   "cell_type": "markdown",
   "metadata": {},
   "source": [
    "## extract the features for learning and training dataset"
   ]
  },
  {
   "cell_type": "code",
   "execution_count": 53,
   "metadata": {},
   "source": [
    "# extract features for test dataset\n",
    "testds_for_extraction = test_dataset.drop(columns=['label','hand','annotator'])\n",
    "test_dataset_extracted = extract_features(testds_for_extraction, column_id=\"punch_id\",column_sort=\"timestamp\", impute_function=impute, default_fc_parameters = settings_minimal);"
   ],
   "outputs": []
  },
  {
   "cell_type": "code",
   "execution_count": 54,
   "metadata": {},
   "source": [
    "# extract features for train dataset\n",
    "trainds_for_extraction = train_dataset.drop(columns=['label','hand','annotator'])\n",
    "train_dataset_extracted = extract_features(trainds_for_extraction, column_id=\"punch_id\",column_sort=\"timestamp\", impute_function=impute, default_fc_parameters = settings_minimal);"
   ],
   "outputs": []
  },
  {
   "cell_type": "markdown",
   "metadata": {},
   "source": [
    "## create y_test and y_train dataset containing the hand information"
   ]
  },
  {
   "cell_type": "code",
   "execution_count": 55,
   "metadata": {},
   "source": [
    "test_dataset_unique_label_id = test_dataset.drop_duplicates(subset='punch_id', keep='first', inplace=False)\n",
    "test_dataset_unique_label_id.head()"
   ],
   "outputs": []
  },
  {
   "cell_type": "code",
   "execution_count": 56,
   "metadata": {},
   "source": [
    "y_test = pd.Series(data=test_dataset_unique_label_id['annotator'])"
   ],
   "outputs": []
  },
  {
   "cell_type": "code",
   "execution_count": 57,
   "metadata": {},
   "source": [
    "train_dataset_unique_label_id = train_dataset.drop_duplicates(subset='punch_id', keep='first', inplace=False)\n",
    "train_dataset_unique_label_id.head()"
   ],
   "outputs": []
  },
  {
   "cell_type": "code",
   "execution_count": 58,
   "metadata": {},
   "source": [
    "y_train = pd.Series(data=train_dataset_unique_label_id['annotator'])\n",
    "y_train.head()"
   ],
   "outputs": []
  },
  {
   "cell_type": "markdown",
   "metadata": {},
   "source": [
    "## create the X_train and X_test dataset containing the features"
   ]
  },
  {
   "cell_type": "code",
   "execution_count": 59,
   "metadata": {},
   "source": [
    "X_train = train_dataset_extracted\n",
    "X_test = test_dataset_extracted"
   ],
   "outputs": []
  },
  {
   "cell_type": "code",
   "execution_count": 60,
   "metadata": {},
   "source": [
    "X_train.head()"
   ],
   "outputs": []
  },
  {
   "cell_type": "markdown",
   "metadata": {},
   "source": [
    "## classify the subject"
   ]
  },
  {
   "cell_type": "code",
   "execution_count": 61,
   "metadata": {},
   "source": [
    "accuracy_scores_for_subject = np.zeros(5)\n",
    "clf_for_subject = ['Linear SVC (ovr)','Standard SVC', 'Logsitic Regression', 'KNN', 'Random Forest']"
   ],
   "outputs": []
  },
  {
   "cell_type": "markdown",
   "metadata": {},
   "source": [
    "## Linear Support Vector Classifier"
   ]
  },
  {
   "cell_type": "code",
   "execution_count": 62,
   "metadata": {},
   "source": [
    "linSupp_Vectr_clf_annotator = svm.LinearSVC().fit(X_train, y_train) \n",
    "prediction = linSupp_Vectr_clf_annotator.predict(X_test)\n",
    "accuracy_scores_for_subject[0] = accuracy_score(y_test, prediction)*100\n",
    "print('Linear Vector Classifier accuracy (one-vs-rest): {}%'.format(accuracy_scores_for_subject[0]))"
   ],
   "outputs": []
  },
  {
   "cell_type": "markdown",
   "metadata": {},
   "source": [
    "## Standard support vector classifier"
   ]
  },
  {
   "cell_type": "code",
   "execution_count": 63,
   "metadata": {},
   "source": [
    "# Support Vector Classifier\n",
    "stdSupp_Vectr_clf_annotator = SVC().fit(X_train, y_train)\n",
    "prediction = stdSupp_Vectr_clf_annotator.predict(X_test)\n",
    "accuracy_scores_for_subject[1] = accuracy_score(y_test, prediction)*100\n",
    "print('Support Vector Classifier accuracy: {}%'.format(accuracy_scores_for_subject[1]))"
   ],
   "outputs": []
  },
  {
   "cell_type": "markdown",
   "metadata": {},
   "source": [
    "## Logistic regression"
   ]
  },
  {
   "cell_type": "code",
   "execution_count": 64,
   "metadata": {},
   "source": [
    "# Logistic Regression\n",
    "logistic_reggr_clf_annotator = LogisticRegression().fit(X_train, y_train)\n",
    "prediction = logistic_reggr_clf_annotator.predict(X_test)\n",
    "accuracy_scores_for_subject[2] = accuracy_score(y_test, prediction)*100\n",
    "print('Logistic Regression accuracy: {}%'.format(accuracy_scores_for_subject[2]))"
   ],
   "outputs": []
  },
  {
   "cell_type": "markdown",
   "metadata": {},
   "source": [
    "## K Nearest Neighbors"
   ]
  },
  {
   "cell_type": "code",
   "execution_count": 65,
   "metadata": {},
   "source": [
    "# K Nearest Neighbors\n",
    "knn_clf_annotator = KNeighborsClassifier(n_neighbors=5).fit(X_train, y_train)\n",
    "prediction = knn_clf_annotator.predict(X_test)\n",
    "accuracy_scores_for_subject[3] = accuracy_score(y_test, prediction)*100\n",
    "print('K Nearest Neighbors Classifier accuracy: {}%'.format(accuracy_scores_for_subject[3]))"
   ],
   "outputs": []
  },
  {
   "cell_type": "markdown",
   "metadata": {},
   "source": [
    "## Random Forest"
   ]
  },
  {
   "cell_type": "code",
   "execution_count": 66,
   "metadata": {},
   "source": [
    "# Random Forest\n",
    "rndm_forest_clf_annotator = RandomForestClassifier(n_estimators = 50).fit(X_train, y_train)\n",
    "prediction = rndm_forest_clf_annotator.predict(X_test)\n",
    "accuracy_scores_for_subject[4] = accuracy_score(y_test, prediction)*100\n",
    "print('Random Forest Classifier accuracy: {}%'.format(accuracy_scores_for_subject[4]))"
   ],
   "outputs": []
  },
  {
   "cell_type": "markdown",
   "metadata": {},
   "source": [
    "## Prediction accuracy"
   ]
  },
  {
   "cell_type": "code",
   "execution_count": 67,
   "metadata": {},
   "source": [
    "colors = cm.rainbow(np.linspace(0, 1, 4))\n",
    "plt.figure(figsize=(20,10))\n",
    "plt.bar(clf_for_subject,\n",
    "        accuracy_scores_for_subject,\n",
    "        color = colors)\n",
    "plt.xlabel('Classifiers')\n",
    "plt.ylabel('Accuracy')\n",
    "plt.title('Accuracy overview for annotator prediction')"
   ],
   "outputs": []
  },
  {
   "cell_type": "markdown",
   "metadata": {},
   "source": [
    "<hr>\n",
    "<center> <h1><font color=\"blue\">Save the Models for reusing later</font></h1> </center>\n",
    "<h2>Save the trained classification models for reuse in other scripts.</h2>\n",
    "<hr>"
   ]
  },
  {
   "cell_type": "code",
   "execution_count": 68,
   "metadata": {},
   "source": [
    "import pickle"
   ],
   "outputs": []
  },
  {
   "cell_type": "markdown",
   "metadata": {},
   "source": [
    "## Store the models for the punch classification"
   ]
  },
  {
   "cell_type": "markdown",
   "metadata": {},
   "source": [
    "### Linear SVC"
   ]
  },
  {
   "cell_type": "code",
   "execution_count": 122,
   "metadata": {},
   "source": [
    "pkl_filename = \"model_linSupp_Vectr_clf_punchtype_periodMS2000_sampleUS1000_TrainSize70.pkl\"  \n",
    "with open(pkl_filename, 'wb') as file:  \n",
    "    pickle.dump(linSupp_Vectr_clf_punchtype, file)"
   ],
   "outputs": []
  },
  {
   "cell_type": "markdown",
   "metadata": {},
   "source": [
    "### Standard SVC"
   ]
  },
  {
   "cell_type": "code",
   "execution_count": 123,
   "metadata": {},
   "source": [
    "pkl_filename = \"model_stdSupp_Vectr_clf_punchtype_periodMS2000_sampleUS1000_TrainSize70.pkl\"  \n",
    "with open(pkl_filename, 'wb') as file:  \n",
    "    pickle.dump(stdSupp_Vectr_clf_punchtype, file)"
   ],
   "outputs": []
  },
  {
   "cell_type": "markdown",
   "metadata": {},
   "source": [
    "### Logistic Regression"
   ]
  },
  {
   "cell_type": "code",
   "execution_count": 124,
   "metadata": {},
   "source": [
    "pkl_filename = \"model_logistic_reggr_clf_punchtype_periodMS2000_sampleUS1000_TrainSize70.pkl\"  \n",
    "with open(pkl_filename, 'wb') as file:  \n",
    "    pickle.dump(logistic_reggr_clf_punchtype, file)"
   ],
   "outputs": []
  },
  {
   "cell_type": "markdown",
   "metadata": {},
   "source": [
    "### KNN"
   ]
  },
  {
   "cell_type": "code",
   "execution_count": 125,
   "metadata": {},
   "source": [
    "pkl_filename = \"model_knn_clf_punchtype_periodMS2000_sampleUS1000_TrainSize70.pkl\"  \n",
    "with open(pkl_filename, 'wb') as file:  \n",
    "    pickle.dump(knn_clf_punchtype, file)"
   ],
   "outputs": []
  },
  {
   "cell_type": "markdown",
   "metadata": {},
   "source": [
    "### Random Forest"
   ]
  },
  {
   "cell_type": "code",
   "execution_count": 126,
   "metadata": {},
   "source": [
    "pkl_filename = \"model_rndm_forest_clf_punchtype_periodMS2000_sampleUS1000_TrainSize70.pkl\"  \n",
    "with open(pkl_filename, 'wb') as file:  \n",
    "    pickle.dump(rndm_forest_clf_punchtype, file)"
   ],
   "outputs": []
  },
  {
   "cell_type": "markdown",
   "metadata": {},
   "source": [
    "## Store the models for the hand classification"
   ]
  },
  {
   "cell_type": "markdown",
   "metadata": {},
   "source": [
    "### Linear SVC"
   ]
  },
  {
   "cell_type": "code",
   "execution_count": 127,
   "metadata": {},
   "source": [
    "pkl_filename = \"model_linSupp_Vectr_clf_hand_periodMS2000_sampleUS1000_TrainSize70.pkl\"  \n",
    "with open(pkl_filename, 'wb') as file:  \n",
    "    pickle.dump(linSupp_Vectr_clf_hand, file)"
   ],
   "outputs": []
  },
  {
   "cell_type": "markdown",
   "metadata": {},
   "source": [
    "### Standard SVC"
   ]
  },
  {
   "cell_type": "code",
   "execution_count": 128,
   "metadata": {},
   "source": [
    "pkl_filename = \"model_stdSupp_Vectr_clf_hand_periodMS2000_sampleUS1000_TrainSize70.pkl\"  \n",
    "with open(pkl_filename, 'wb') as file:  \n",
    "    pickle.dump(stdSupp_Vectr_clf_hand, file)"
   ],
   "outputs": []
  },
  {
   "cell_type": "markdown",
   "metadata": {},
   "source": [
    "### Logistic Regression"
   ]
  },
  {
   "cell_type": "code",
   "execution_count": 129,
   "metadata": {},
   "source": [
    "pkl_filename = \"model_logistic_reggr_clf_hand_periodMS2000_sampleUS1000_TrainSize70.pkl\"  \n",
    "with open(pkl_filename, 'wb') as file:  \n",
    "    pickle.dump(logistic_reggr_clf_hand, file)"
   ],
   "outputs": []
  },
  {
   "cell_type": "markdown",
   "metadata": {},
   "source": [
    "### KNN"
   ]
  },
  {
   "cell_type": "code",
   "execution_count": 130,
   "metadata": {},
   "source": [
    "pkl_filename = \"model_knn_clf_hand_periodMS2000_sampleUS1000_TrainSize70.pkl\"  \n",
    "with open(pkl_filename, 'wb') as file:  \n",
    "    pickle.dump(knn_clf_hand, file)"
   ],
   "outputs": []
  },
  {
   "cell_type": "markdown",
   "metadata": {},
   "source": [
    "### Random Forest"
   ]
  },
  {
   "cell_type": "code",
   "execution_count": 131,
   "metadata": {},
   "source": [
    "pkl_filename = \"model_rndm_forest_clf_hand_periodMS2000_sampleUS1000_TrainSize70.pkl\"  \n",
    "with open(pkl_filename, 'wb') as file:  \n",
    "    pickle.dump(rndm_forest_clf_hand, file)"
   ],
   "outputs": []
  },
  {
   "cell_type": "markdown",
   "metadata": {},
   "source": [
    "## Store the models for the annotator classification"
   ]
  },
  {
   "cell_type": "markdown",
   "metadata": {},
   "source": [
    "### Linear SVC"
   ]
  },
  {
   "cell_type": "code",
   "execution_count": 132,
   "metadata": {},
   "source": [
    "pkl_filename = \"model_linSupp_Vectr_clf_annotator_periodMS2000_sampleUS1000_TrainSize70.pkl\"  \n",
    "with open(pkl_filename, 'wb') as file:  \n",
    "    pickle.dump(linSupp_Vectr_clf_annotator, file)"
   ],
   "outputs": []
  },
  {
   "cell_type": "markdown",
   "metadata": {},
   "source": [
    "### Standard SVC"
   ]
  },
  {
   "cell_type": "code",
   "execution_count": 133,
   "metadata": {},
   "source": [
    "pkl_filename = \"model_stdSupp_Vectr_clf_annotator_periodMS2000_sampleUS1000_TrainSize70.pkl\"  \n",
    "with open(pkl_filename, 'wb') as file:  \n",
    "    pickle.dump(stdSupp_Vectr_clf_annotator, file)"
   ],
   "outputs": []
  },
  {
   "cell_type": "markdown",
   "metadata": {},
   "source": [
    "### Logistic Regression"
   ]
  },
  {
   "cell_type": "code",
   "execution_count": 134,
   "metadata": {},
   "source": [
    "pkl_filename = \"model_logistic_reggr_clf_annotator_periodMS2000_sampleUS1000_TrainSize70.pkl\"  \n",
    "with open(pkl_filename, 'wb') as file:  \n",
    "    pickle.dump(logistic_reggr_clf_annotator, file)"
   ],
   "outputs": []
  },
  {
   "cell_type": "markdown",
   "metadata": {},
   "source": [
    "### KNN"
   ]
  },
  {
   "cell_type": "code",
   "execution_count": 135,
   "metadata": {},
   "source": [
    "pkl_filename = \"model_knn_clf_annotator_periodMS2000_sampleUS1000_TrainSize70.pkl\"  \n",
    "with open(pkl_filename, 'wb') as file:  \n",
    "    pickle.dump(knn_clf_annotator, file)"
   ],
   "outputs": []
  },
  {
   "cell_type": "markdown",
   "metadata": {},
   "source": [
    "### Random Forest"
   ]
  },
  {
   "cell_type": "code",
   "execution_count": 136,
   "metadata": {},
   "source": [
    "pkl_filename = \"model_rndm_forest_clf_annotator_periodMS2000_sampleUS1000_TrainSize70.pkl\"  \n",
    "with open(pkl_filename, 'wb') as file:  \n",
    "    pickle.dump(rndm_forest_clf_annotator, file)"
   ],
   "outputs": []
  },
  {
   "cell_type": "code",
   "execution_count": null,
   "metadata": {},
   "source": [],
   "outputs": []
  }
 ],
 "metadata": {
  "kernelspec": {
   "display_name": "Python 3",
   "language": "python",
   "name": "python3"
  },
  "language_info": {
   "codemirror_mode": {
    "name": "ipython",
    "version": 3
   },
   "file_extension": ".py",
   "mimetype": "text/x-python",
   "name": "python",
   "nbconvert_exporter": "python",
   "pygments_lexer": "ipython3",
   "version": "3.7.1"
  }
 },
 "nbformat": 4,
 "nbformat_minor": 2
}
