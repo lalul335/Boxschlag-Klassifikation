{
 "cells": [
  {
   "cell_type": "markdown",
   "metadata": {},
   "source": [
    "# Tutorial: Manipulate period length and sampling rate using timeseries_helpers functions\n",
    "This notebook gives a overview of how to manipulate the period length of the box punches using the functions contained in the timeseries_helpers toolbox."
   ]
  },
  {
   "cell_type": "code",
   "execution_count": 1,
   "metadata": {},
   "source": [
    "#import neccessary modules\n",
    "import json\n",
    "import pandas as pd\n",
    "import seaborn as sns\n",
    "import matplotlib.pyplot as plt\n",
    "import numpy as np"
   ],
   "outputs": []
  },
  {
   "cell_type": "code",
   "execution_count": 2,
   "metadata": {},
   "source": [
    "from timeseries_helpers import timeseries_plotter\n",
    "from timeseries_helpers import database_importer\n",
    "from timeseries_helpers import standardizer"
   ],
   "outputs": []
  },
  {
   "cell_type": "markdown",
   "metadata": {},
   "source": [
    "<hr>"
   ]
  },
  {
   "cell_type": "markdown",
   "metadata": {},
   "source": [
    "# Chapter 1: Loading the raw data of the json file"
   ]
  },
  {
   "cell_type": "code",
   "execution_count": 3,
   "metadata": {},
   "source": [
    "#open json dataset\n",
    "with open('../Datasets/Raw_Data/complete_smartpunch_dataset_7606punches.json', 'r') as f:\n",
    "    jsnDataset = json.load(f)"
   ],
   "outputs": []
  },
  {
   "cell_type": "markdown",
   "metadata": {},
   "source": [
    "<hr>"
   ]
  },
  {
   "cell_type": "markdown",
   "metadata": {},
   "source": [
    "# Chapter 2: Convert datastamps to absolute time differences"
   ]
  },
  {
   "cell_type": "code",
   "execution_count": 4,
   "metadata": {},
   "source": [
    "#convert dataset to timestamps in absolute us\n",
    "ds = database_importer.jsonData_to_dataset_in_timedifference_us(data=jsnDataset)"
   ],
   "outputs": []
  },
  {
   "cell_type": "markdown",
   "metadata": {},
   "source": [
    "<hr>"
   ]
  },
  {
   "cell_type": "markdown",
   "metadata": {},
   "source": [
    "## Optional: Reduce dataset size to save time for the further steps"
   ]
  },
  {
   "cell_type": "code",
   "execution_count": 5,
   "metadata": {},
   "source": [
    "smaller_dataset = database_importer.reduce_class_size(ds,reductionType='absolute',targetSize = 10)"
   ],
   "outputs": []
  },
  {
   "cell_type": "markdown",
   "metadata": {},
   "source": [
    "<hr>"
   ]
  },
  {
   "cell_type": "markdown",
   "metadata": {},
   "source": [
    "# Chapter 3: Set period length and sampling rate as variables and start manipulation"
   ]
  },
  {
   "cell_type": "code",
   "execution_count": 6,
   "metadata": {},
   "source": [
    "# variables\n",
    "periodLengthMS = 2000 # Set period length to 1500 ms\n",
    "sampleRateUS = 1000     # set sampling rate to 1000µs (1ms)"
   ],
   "outputs": []
  },
  {
   "cell_type": "code",
   "execution_count": 7,
   "metadata": {},
   "source": [
    "manipulated_dataset = standardizer.normate_dataset_period(periodLengthMS, sampleRateUS,smaller_dataset)"
   ],
   "outputs": []
  },
  {
   "cell_type": "markdown",
   "metadata": {},
   "source": [
    "<hr>"
   ]
  },
  {
   "cell_type": "markdown",
   "metadata": {},
   "source": [
    "# Chapter 4 - Manipulate period length: Plot the differences between the original and the manipulated punch data"
   ]
  },
  {
   "cell_type": "markdown",
   "metadata": {},
   "source": [
    "## Note: There are two situations:\n",
    "1. Original period length > manipulated period length\n",
    "2. Original period length < manipulated period length\n",
    " \n",
    " See the descriptions of both situations below"
   ]
  },
  {
   "cell_type": "markdown",
   "metadata": {},
   "source": [
    "## 1. Original period length < manipulated period length"
   ]
  },
  {
   "cell_type": "markdown",
   "metadata": {},
   "source": [
    "In that case, the manipulator function continues the manipulated period with the last value of the original period data."
   ]
  },
  {
   "cell_type": "markdown",
   "metadata": {},
   "source": [
    "See the example below:\n",
    " - Original period length = 1489000 us (orange graph)\n",
    " - Manipulated period length = 2000000 us (blue graph)"
   ]
  },
  {
   "cell_type": "code",
   "execution_count": 8,
   "metadata": {},
   "source": [
    "# variables and manipulation process\n",
    "periodLengthMS = 2000 # Set period length to 1500 ms\n",
    "sampleRateUS = 1000     # set sampling rate to 1000µs (1ms)\n",
    "manipulated_dataset = standardizer.normate_dataset_period(periodLengthMS, sampleRateUS,smaller_dataset)"
   ],
   "outputs": []
  },
  {
   "cell_type": "code",
   "execution_count": 9,
   "metadata": {},
   "source": [
    "# define the parameters to plot (read the plotting tutorial for more detailed informations)\n",
    "data_to_plot = [manipulated_dataset[0],smaller_dataset[0]]\n",
    "axis_to_plot = ['x','x']\n",
    "legend_titles_to_plot = ['Manipulated period length, axis: x','Original period length, axis: x']\n",
    "plot_title = 'Original period length shorter than manipulated period length'\n",
    "plot_x_label = 't in us'\n",
    "plot_y_label = 'a in m/s²'"
   ],
   "outputs": []
  },
  {
   "cell_type": "code",
   "execution_count": 10,
   "metadata": {},
   "source": [
    "timeseries_plotter.universal_plotter_for_single_axis(data_to_plot,axis_to_plot,legend_titles_to_plot,plot_title=plot_title,y_axis_label=plot_y_label,x_axis_label=plot_x_label,saveImage=True,imageName=\"originalperiodShorterThanManipulated\")"
   ],
   "outputs": []
  },
  {
   "cell_type": "markdown",
   "metadata": {},
   "source": [
    "## 2. Original period length > manipulated period length"
   ]
  },
  {
   "cell_type": "markdown",
   "metadata": {},
   "source": [
    "In that case, the manipulator function cuts the half of the time difference from the first (start) values and the other half from the last (end) values of the original data points."
   ]
  },
  {
   "cell_type": "markdown",
   "metadata": {},
   "source": [
    "See the example below:\n",
    " - Original period length = 1489000 us (orange graph)\n",
    " - Manipulated period length = 1000000 us (blue graph)"
   ]
  },
  {
   "cell_type": "code",
   "execution_count": 11,
   "metadata": {},
   "source": [
    "# variables and manipulation process\n",
    "periodLengthMS = 1000 # Set period length to 1000 ms\n",
    "sampleRateUS = 1000     # set sampling rate to 1000µs (1ms)\n",
    "manipulated_dataset = standardizer.normate_dataset_period(periodLengthMS, sampleRateUS,smaller_dataset)"
   ],
   "outputs": []
  },
  {
   "cell_type": "code",
   "execution_count": 12,
   "metadata": {},
   "source": [
    "# define the parameters to plot (read the plotting tutorial for more detailed informations)\n",
    "data_to_plot = [manipulated_dataset[0],smaller_dataset[0]]\n",
    "axis_to_plot = ['x','x']\n",
    "legend_titles_to_plot = ['Manipulated period length, axis: x','Original period length, axis: x']\n",
    "plot_title = 'Original period length longer than manipulated period length'\n",
    "plot_x_label = 't in us'\n",
    "plot_y_label = 'a in m/s²'"
   ],
   "outputs": []
  },
  {
   "cell_type": "code",
   "execution_count": 13,
   "metadata": {},
   "source": [
    "timeseries_plotter.universal_plotter_for_single_axis(data_to_plot,axis_to_plot,legend_titles_to_plot,plot_title=plot_title,y_axis_label=plot_y_label,x_axis_label=plot_x_label,saveImage=True,imageName=\"originalperiodLongerThanManipulated\")"
   ],
   "outputs": []
  },
  {
   "cell_type": "markdown",
   "metadata": {},
   "source": [
    "<hr>"
   ]
  },
  {
   "cell_type": "markdown",
   "metadata": {},
   "source": [
    "# Chapter 5: Plot punch data with different sampling rates"
   ]
  },
  {
   "cell_type": "markdown",
   "metadata": {},
   "source": [
    "The following plot shows the same punch data but manipulated with different sampling rates.\n",
    "\n",
    "## Note 1: There are two situations:\n",
    "1. Original sampling rate > Manipulated sampling rate\n",
    "2. Original sampling rate < Manipulated sampling rate"
   ]
  },
  {
   "cell_type": "markdown",
   "metadata": {},
   "source": [
    "## Note 2: The original sampling interval\n",
    " The original punch data was measured without a fix sampling rate. The setting \"SENSOR_DELAY_FASTEST\" of android.hardware.SensorManager was used. This means that the sensor data is measured as soon as possible - but without a garantied fix value.\n",
    " See Android Developer site for deeper informations on that: https://developer.android.com/reference/android/hardware/SensorManager.html#SENSOR_DELAY_FASTEST\n",
    " \n",
    " See the descriptions of both situations below"
   ]
  },
  {
   "cell_type": "markdown",
   "metadata": {},
   "source": [
    "## 1. Original sampling rate > Manipulated sampling rate\n",
    "The average sampling rate was calculated to round about 10ms (100Hz).\n",
    "Lets see the difference between a plot with the (unregular) original sampling rates  and a smaller sampling rate of only 1ms"
   ]
  },
  {
   "cell_type": "markdown",
   "metadata": {},
   "source": [
    "See the example below:\n",
    " - Original sampling rate  ~10ms (orange graph)\n",
    " - Manipulated sampling rate = 1ms (blue graph)"
   ]
  },
  {
   "cell_type": "code",
   "execution_count": 14,
   "metadata": {},
   "source": [
    "# variables and manipulation process\n",
    "periodLengthMS = 1489 # Set period length to be ~equal to original length\n",
    "sampleRateUS = 1000     # set sampling rate to 1000µs (1ms)\n",
    "manipulated_dataset = standardizer.normate_dataset_period(periodLengthMS, sampleRateUS,smaller_dataset)"
   ],
   "outputs": []
  },
  {
   "cell_type": "code",
   "execution_count": 15,
   "metadata": {},
   "source": [
    "# define the parameters to plot (read the plotting tutorial for more detailed informations)\n",
    "data_to_plot = [manipulated_dataset[0],smaller_dataset[0]]\n",
    "axis_to_plot = ['x','x']\n",
    "legend_titles_to_plot = ['Manipulated sampling rate: 1ms, axis: x','Original sampling rate: ~10ms, axis: x']\n",
    "plot_title = 'Original sampling rate longer than manipulated sampling rate'\n",
    "plot_x_label = 't in us'\n",
    "plot_y_label = 'a in m/s²'"
   ],
   "outputs": []
  },
  {
   "cell_type": "code",
   "execution_count": 16,
   "metadata": {},
   "source": [
    "timeseries_plotter.universal_plotter_for_single_axis(data_to_plot,axis_to_plot,legend_titles_to_plot,plot_title=plot_title,y_axis_label=plot_y_label,x_axis_label=plot_x_label,saveImage=True,imageName=\"originalsampleRateSlowerThanManipulated\")"
   ],
   "outputs": []
  },
  {
   "cell_type": "markdown",
   "metadata": {},
   "source": [
    "## 2. Original sampling rate < Manipulated sampling rate\n",
    "The average sampling rate was calculated to round about 10ms (100Hz).\n",
    "Lets see the difference between a plot with the (unregular) original sampling rates  and a lower sampling rate of only 100ms"
   ]
  },
  {
   "cell_type": "markdown",
   "metadata": {},
   "source": [
    "See the example below:\n",
    " - Original sampling rate  ~10ms (orange graph)\n",
    " - Manipulated sampling rate = 100ms (blue graph)"
   ]
  },
  {
   "cell_type": "code",
   "execution_count": 17,
   "metadata": {},
   "source": [
    "# variables and manipulation process\n",
    "periodLengthMS = 1489 # Set period length to be ~equal to original length\n",
    "sampleRateUS = 100000     # set sampling rate to 100000µs (100ms)\n",
    "manipulated_dataset = standardizer.normate_dataset_period(periodLengthMS, sampleRateUS,smaller_dataset)"
   ],
   "outputs": []
  },
  {
   "cell_type": "code",
   "execution_count": 18,
   "metadata": {},
   "source": [
    "# define the parameters to plot (read the plotting tutorial for more detailed informations)\n",
    "data_to_plot = [manipulated_dataset[0],smaller_dataset[0]]\n",
    "axis_to_plot = ['x','x']\n",
    "legend_titles_to_plot = ['Manipulated sampling rate: 100ms, axis: x','Original sampling rate: ~10ms, axis: x']\n",
    "plot_title = 'Original sampling rate shorter than manipulated sampling rate'\n",
    "plot_x_label = 't in us'\n",
    "plot_y_label = 'a in m/s²'"
   ],
   "outputs": []
  },
  {
   "cell_type": "code",
   "execution_count": 19,
   "metadata": {},
   "source": [
    "timeseries_plotter.universal_plotter_for_single_axis(data_to_plot,axis_to_plot,legend_titles_to_plot,plot_title=plot_title,y_axis_label=plot_y_label,x_axis_label=plot_x_label,saveImage=True,imageName=\"originalsampleRateFasterThanManipulated\")"
   ],
   "outputs": []
  },
  {
   "cell_type": "markdown",
   "metadata": {},
   "source": [
    "# End of this lecture: What you should keep in mind\n",
    "As you can see, a slower sampling frequency causes the interpolation function to fitt  not as good as it could fit with a higher sampling frequency. But a lower sampling frequency does not need as much memory on disk and needs less computation time while model creation. There is a middle way to find between a sampling frequency fitting good to the natural punch data but not to be unnessesary fine-tuned. The same for the period length. Try to create a model with different period length of data - you will see that there is no need to use the original period length to create a well fitting model - but if the period length is to short you will cut off significant data points so that the model cannot predict well. Check it out and enjoy coding :-)"
   ]
  }
 ],
 "metadata": {
  "kernelspec": {
   "display_name": "Python 3",
   "language": "python",
   "name": "python3"
  },
  "language_info": {
   "codemirror_mode": {
    "name": "ipython",
    "version": 3
   },
   "file_extension": ".py",
   "mimetype": "text/x-python",
   "name": "python",
   "nbconvert_exporter": "python",
   "pygments_lexer": "ipython3",
   "version": "3.7.1"
  }
 },
 "nbformat": 4,
 "nbformat_minor": 2
}
