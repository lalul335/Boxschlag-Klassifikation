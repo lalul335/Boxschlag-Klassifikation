{
 "cells": [
  {
   "cell_type": "markdown",
   "metadata": {},
   "source": [
    "# Tutorial: Plotting functions of timeseries_helpers lib\n",
    "This tutorial shows the usage of the plotting functions to visualize the dataset"
   ]
  },
  {
   "cell_type": "markdown",
   "metadata": {},
   "source": [
    "Plotting punches is quiet easy using the plotting functions coming with the **timeseries_plotter.py** file of the timeseries_helpers library of the smartPunch project."
   ]
  },
  {
   "cell_type": "code",
   "execution_count": 33,
   "metadata": {},
   "source": [
    "import matplotlib.pyplot as plt\n",
    "import numpy as np\n",
    "import matplotlib.cm as cm\n",
    "%matplotlib inline"
   ],
   "outputs": []
  },
  {
   "cell_type": "markdown",
   "metadata": {},
   "source": [
    "<hr>"
   ]
  },
  {
   "cell_type": "markdown",
   "metadata": {},
   "source": [
    "# Chapter 1: Load the needed modules and the raw data from the filesystem"
   ]
  },
  {
   "cell_type": "markdown",
   "metadata": {},
   "source": [
    "To plot the raw data of a box punch, the first step is to import the raw data without any help of the **classificationHelpers.py** file."
   ]
  },
  {
   "cell_type": "markdown",
   "metadata": {},
   "source": [
    "### Necessary modules of the library"
   ]
  },
  {
   "cell_type": "code",
   "execution_count": 34,
   "metadata": {},
   "source": [
    "# the plotting module containing all plot-functions\n",
    "from timeseries_helpers import timeseries_plotter\n",
    "\n",
    "# the database importer to read in the raw data as a json file (dumped from the database)\n",
    "from timeseries_helpers import database_importer"
   ],
   "outputs": []
  },
  {
   "cell_type": "markdown",
   "metadata": {},
   "source": [
    "### Read in the raw data as a json file from the filesystem using the *database_importer* module"
   ]
  },
  {
   "cell_type": "code",
   "execution_count": 35,
   "metadata": {},
   "source": [
    "# for a better understanding: define the path to the raw data file as a variable\n",
    "# **Note: Change the path above for your filesystem and environment**\n",
    "jsonDSpath = '../Datasets/Raw_Data/complete_smartpunch_dataset_7606punches.json'"
   ],
   "outputs": []
  },
  {
   "cell_type": "code",
   "execution_count": 36,
   "metadata": {},
   "source": [
    "# Read in the raw data using the database_importers function\n",
    "ds_raw = database_importer.import_local_json_database_file(jsonDSpath)"
   ],
   "outputs": []
  },
  {
   "cell_type": "markdown",
   "metadata": {},
   "source": [
    "### Convert the timestamps from relative values ('since last timestamp') to absolute time values ('since measurement started')"
   ]
  },
  {
   "cell_type": "markdown",
   "metadata": {},
   "source": [
    "As it comes from the database the timestamp column of the dataset(s) has the unit nanoseconds. Each time stamp represents the time since the last sample. But to use the data in (all) further steps, the data is needed in the absolute values based on the time since the measurement (box punch) started. This transformation is done using the **database_importer** function: **jsonData_to_dataset_in_timedifference_us**. It converts the timestamp column of the punches to absolute values in nanoseconds. So the last timestamp represents the periodlength."
   ]
  },
  {
   "cell_type": "code",
   "execution_count": 37,
   "metadata": {},
   "source": [
    "ds_raw = database_importer.jsonData_to_dataset_in_timedifference_us(ds_raw)"
   ],
   "outputs": []
  },
  {
   "cell_type": "code",
   "execution_count": 38,
   "metadata": {},
   "source": [
    "# See, its imported as a list of dataframe objects\n",
    "type(ds_raw)"
   ],
   "outputs": []
  },
  {
   "cell_type": "markdown",
   "metadata": {},
   "source": [
    "<hr>"
   ]
  },
  {
   "cell_type": "markdown",
   "metadata": {},
   "source": [
    "# Chapter 2: Plot one axis of one punch"
   ]
  },
  {
   "cell_type": "markdown",
   "metadata": {},
   "source": [
    "<h3><center>using the function: single_plot_single_axis</center></h3>"
   ]
  },
  {
   "cell_type": "markdown",
   "metadata": {},
   "source": [
    "The function can plot a single (given) axis of one punch in a diagram."
   ]
  },
  {
   "cell_type": "markdown",
   "metadata": {},
   "source": [
    "### Define the plot settings\n",
    "For a better understanding on how that function works we define some variables to set the diagram parameters"
   ]
  },
  {
   "cell_type": "code",
   "execution_count": 89,
   "metadata": {},
   "source": [
    "# Lets say, we want to print the first punch of the dataset\n",
    "data_to_plot = ds_raw[0]"
   ],
   "outputs": []
  },
  {
   "cell_type": "code",
   "execution_count": 90,
   "metadata": {},
   "source": [
    "# Now we define the axis to plot. Lets say we want to plot axis: y\n",
    "axis_to_plot = ['y']"
   ],
   "outputs": []
  },
  {
   "cell_type": "code",
   "execution_count": 91,
   "metadata": {},
   "source": [
    "# After that we have to define the general title of the plot as a **string**\n",
    "plot_title = 'Plot one specific axis of one punch using the single_plot_single_axis function'"
   ],
   "outputs": []
  },
  {
   "cell_type": "code",
   "execution_count": 92,
   "metadata": {},
   "source": [
    "# As the last steps we have to define the general y-axis label and the x-axis label of the plot as **strings**\n",
    "plot_x_label = 't in ns'\n",
    "plot_y_label = 'a in m/s²'"
   ],
   "outputs": []
  },
  {
   "cell_type": "code",
   "execution_count": 93,
   "metadata": {},
   "source": [
    "# Optional: You can set the size of the diagram to plot using a tuple for the figure size: e.g. (20,10)"
   ],
   "outputs": []
  },
  {
   "cell_type": "markdown",
   "metadata": {},
   "source": [
    "### Plot the diagram with the settings above"
   ]
  },
  {
   "cell_type": "code",
   "execution_count": 94,
   "metadata": {},
   "source": [
    "timeseries_plotter.single_plot_single_axis(data_to_plot,axis_to_plot,plot_title=plot_title,y_axis_label=plot_y_label,x_axis_label=plot_x_label)"
   ],
   "outputs": []
  },
  {
   "cell_type": "markdown",
   "metadata": {},
   "source": [
    "<hr>"
   ]
  },
  {
   "cell_type": "markdown",
   "metadata": {},
   "source": [
    "# Chapter 3: Plot all 3 axis of one punch"
   ]
  },
  {
   "cell_type": "markdown",
   "metadata": {},
   "source": [
    "<h3><center>using the function: single_plot_all_axis</center></h3>"
   ]
  },
  {
   "cell_type": "markdown",
   "metadata": {},
   "source": [
    "The function plots all 3 axis of a single punch in a diagram."
   ]
  },
  {
   "cell_type": "markdown",
   "metadata": {},
   "source": [
    "### Define the plot settings\n",
    "For a better understanding on how that function works we define some variables to set the diagram parameters"
   ]
  },
  {
   "cell_type": "code",
   "execution_count": 13,
   "metadata": {},
   "source": [
    "# Lets say, we want to print the first punch of the dataset\n",
    "data_to_plot = ds_raw[0]"
   ],
   "outputs": []
  },
  {
   "cell_type": "code",
   "execution_count": 14,
   "metadata": {},
   "source": [
    "# After that we have to define the general title of the plot as a **string**\n",
    "plot_title = 'Plot all 3 axis of one punch using the single_plot_all_axis function'"
   ],
   "outputs": []
  },
  {
   "cell_type": "code",
   "execution_count": 15,
   "metadata": {},
   "source": [
    "# As the last steps we have to define the general y-axis label and the x-axis label of the plot as **strings**\n",
    "plot_x_label = 't in ns'\n",
    "plot_y_label = 'a in m/s²'"
   ],
   "outputs": []
  },
  {
   "cell_type": "code",
   "execution_count": 16,
   "metadata": {},
   "source": [
    "# Optional: You can set the size of the diagram to plot using a tuple for the figure size: e.g. (20,10)"
   ],
   "outputs": []
  },
  {
   "cell_type": "markdown",
   "metadata": {},
   "source": [
    "### Plot the diagram with the settings above"
   ]
  },
  {
   "cell_type": "code",
   "execution_count": 17,
   "metadata": {},
   "source": [
    "timeseries_plotter.single_plot_all_axis(data_to_plot,plot_title=plot_title,y_axis_label=plot_y_label,x_axis_label=plot_x_label)"
   ],
   "outputs": []
  },
  {
   "cell_type": "markdown",
   "metadata": {},
   "source": [
    "<hr>"
   ]
  },
  {
   "cell_type": "markdown",
   "metadata": {},
   "source": [
    "# Chapter 4: Plot one axis of multiple/or a single punch(es)"
   ]
  },
  {
   "cell_type": "markdown",
   "metadata": {},
   "source": [
    "<h3><center>using the function: universal_plotter_for_single_axis</center></h3>"
   ]
  },
  {
   "cell_type": "markdown",
   "metadata": {},
   "source": [
    "The function can plot one axis per punch, given as a paramter of multiple (also of single) punches in one diagram."
   ]
  },
  {
   "cell_type": "markdown",
   "metadata": {},
   "source": [
    "### Define the plot settings\n",
    "For a better understanding on how that function works we define some variables to set the diagram parameters"
   ]
  },
  {
   "cell_type": "code",
   "execution_count": 18,
   "metadata": {},
   "source": [
    "# Lets say, we want to print the first **3** punches of the dataset\n",
    "data_to_plot = ds_raw[0:3]"
   ],
   "outputs": []
  },
  {
   "cell_type": "code",
   "execution_count": 19,
   "metadata": {},
   "source": [
    "# Now we define the axis to plot for each punch data as a **list of strings**\n",
    "## For the first punch we want to plot the x axis\n",
    "## For the second punch we want to plot the y axis\n",
    "## For the third punch we want to plot the z axis\n",
    "axis_to_plot = ['x','y','z']"
   ],
   "outputs": []
  },
  {
   "cell_type": "code",
   "execution_count": 20,
   "metadata": {},
   "source": [
    "# As the next step we have to define the legend titles for each punch as a **list of strings**\n",
    "legend_titles_to_plot = ['Punch 1, axis: x','Punch 2, axis: y','Punch 3, axis: z']"
   ],
   "outputs": []
  },
  {
   "cell_type": "code",
   "execution_count": 21,
   "metadata": {},
   "source": [
    "# After that we have to define the general title of the plot as a **string**\n",
    "plot_title = 'Multiple plot using the universal_plotter_for_single_axis function'"
   ],
   "outputs": []
  },
  {
   "cell_type": "code",
   "execution_count": 22,
   "metadata": {},
   "source": [
    "# As the last steps we have to define the general y-axis label and the x-axis label of the plot as **strings**\n",
    "plot_x_label = 't in ns'\n",
    "plot_y_label = 'a in m/s²'"
   ],
   "outputs": []
  },
  {
   "cell_type": "code",
   "execution_count": 23,
   "metadata": {},
   "source": [
    "# Optional: You can set the size of the diagram to plot using a tuple for the figure size: e.g. (20,10)"
   ],
   "outputs": []
  },
  {
   "cell_type": "markdown",
   "metadata": {},
   "source": [
    "### Plot the diagram with the settings above"
   ]
  },
  {
   "cell_type": "code",
   "execution_count": 24,
   "metadata": {},
   "source": [
    "timeseries_plotter.universal_plotter_for_single_axis(data_to_plot,axis_to_plot,legend_titles_to_plot,plot_title=plot_title,y_axis_label=plot_y_label,x_axis_label=plot_x_label)"
   ],
   "outputs": []
  },
  {
   "cell_type": "markdown",
   "metadata": {},
   "source": [
    "<hr>"
   ]
  },
  {
   "cell_type": "markdown",
   "metadata": {},
   "source": [
    "# Chapter 5: Plot all 3 axis of multiple/or a single punch(es)"
   ]
  },
  {
   "cell_type": "markdown",
   "metadata": {},
   "source": [
    "<h3><center>using the function: universal_plotter_for_all_axis</center></h3>"
   ]
  },
  {
   "cell_type": "markdown",
   "metadata": {},
   "source": [
    "The function plots all axis of multiple punches, given as a paramter of multiple (also of single) punches in one diagram."
   ]
  },
  {
   "cell_type": "markdown",
   "metadata": {},
   "source": [
    "### Define the plot settings\n",
    "For a better understanding on how that function works we define some variables to set the diagram parameters"
   ]
  },
  {
   "cell_type": "code",
   "execution_count": 25,
   "metadata": {},
   "source": [
    "# Lets say, we want to print the first **3** punches of the dataset\n",
    "data_to_plot = ds_raw[0:3]"
   ],
   "outputs": []
  },
  {
   "cell_type": "code",
   "execution_count": 26,
   "metadata": {},
   "source": [
    "# As the next step we have to define the legend titles for each punch as a **list of strings**\n",
    "legend_titles_to_plot = ['Punch 1','Punch 2','Punch 3']"
   ],
   "outputs": []
  },
  {
   "cell_type": "code",
   "execution_count": 27,
   "metadata": {},
   "source": [
    "# After that we have to define the general title of the plot as a **string**\n",
    "plot_title = 'Multiple punches in one plot using the universal_plotter_for_all_axis function'"
   ],
   "outputs": []
  },
  {
   "cell_type": "code",
   "execution_count": 28,
   "metadata": {},
   "source": [
    "# As the last steps we have to define the general y-axis label and the x-axis label of the plot as **strings**\n",
    "plot_x_label = 't in ns'\n",
    "plot_y_label = 'a in m/s²'"
   ],
   "outputs": []
  },
  {
   "cell_type": "code",
   "execution_count": 29,
   "metadata": {},
   "source": [
    "# Optional: You can set the size of the diagram to plot using a tuple for the figure size: e.g. (10,20)"
   ],
   "outputs": []
  },
  {
   "cell_type": "markdown",
   "metadata": {},
   "source": [
    "### Plot the diagram with the settings above"
   ]
  },
  {
   "cell_type": "code",
   "execution_count": 30,
   "metadata": {},
   "source": [
    "timeseries_plotter.universal_plotter_for_all_axis(data_to_plot,legend_titles_to_plot,plot_title=plot_title,y_axis_label=plot_y_label,x_axis_label=plot_x_label)"
   ],
   "outputs": []
  },
  {
   "cell_type": "markdown",
   "metadata": {},
   "source": [
    "<hr>"
   ]
  },
  {
   "cell_type": "markdown",
   "metadata": {},
   "source": [
    "# Chapter 6: Print the built in usage information"
   ]
  },
  {
   "cell_type": "markdown",
   "metadata": {},
   "source": [
    "The **timeseries_plotter** Module offers a function which prints a usage information for all contained functions. The usage print is much shorter than the description above but in case you have already used the functions and you just want to get a quick overview of the function usage, you can use the built in information print like shown below."
   ]
  },
  {
   "cell_type": "code",
   "execution_count": 31,
   "metadata": {},
   "source": [
    "timeseries_plotter.print_usage_info()"
   ],
   "outputs": []
  },
  {
   "cell_type": "markdown",
   "metadata": {},
   "source": [
    "# Chapter 7: Save the plot as an image"
   ]
  },
  {
   "cell_type": "markdown",
   "metadata": {},
   "source": [
    "All functions of the **timeseries_plotter** Module offer the ability to save the plot as an *.png* image on the filesystem.\n",
    "For that, you have to set the following function arguments:<br>\n",
    "**saveImage = True (default: False)**<br>\n",
    "**imageName = *String* (default: unknown_image)** "
   ]
  },
  {
   "cell_type": "markdown",
   "metadata": {},
   "source": [
    "### Example usage:"
   ]
  },
  {
   "cell_type": "markdown",
   "metadata": {},
   "source": [
    "<code>timeseries_plotter.plot_functions(*other arguments like shown below...*, **saveImage = True**, **imageName = \"My unbelievable plot\"**)<code>"
   ]
  },
  {
   "cell_type": "markdown",
   "metadata": {},
   "source": [
    "<br>\n",
    "<hr>\n",
    "<br>"
   ]
  },
  {
   "cell_type": "markdown",
   "metadata": {},
   "source": [
    "# End of this lecture"
   ]
  },
  {
   "cell_type": "markdown",
   "metadata": {},
   "source": [
    "This lecture showed the use of the functions provided by the **timeseries_plotter.py** file. It is also recommended to see the github page of the smartPunch project for further information and other tutorials. Thanks for reading and enjoy coding :-)"
   ]
  }
 ],
 "metadata": {
  "kernelspec": {
   "display_name": "Python 3",
   "language": "python",
   "name": "python3"
  },
  "language_info": {
   "codemirror_mode": {
    "name": "ipython",
    "version": 3
   },
   "file_extension": ".py",
   "mimetype": "text/x-python",
   "name": "python",
   "nbconvert_exporter": "python",
   "pygments_lexer": "ipython3",
   "version": "3.7.1"
  }
 },
 "nbformat": 4,
 "nbformat_minor": 2
}
