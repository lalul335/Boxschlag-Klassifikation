{
 "cells": [
  {
   "cell_type": "markdown",
   "metadata": {},
   "source": [
    "# The all in one classification file"
   ]
  },
  {
   "cell_type": "markdown",
   "metadata": {},
   "source": [
    "# Define parameters for classification"
   ]
  },
  {
   "cell_type": "code",
   "execution_count": null,
   "metadata": {},
   "outputs": [],
   "source": [
    "## period length in ms\n",
    "periodLengthMS = 1000\n",
    "\n",
    "## sample rate in µs\n",
    "sampleRateUS = 10000\n",
    "\n",
    "## test/train ratio\n",
    "trainDataRatio = 0.7\n",
    "trainDataAbs = 100*trainDataRatio\n",
    "\n",
    "## Json dataset path\n",
    "jsonDSpath = '../Datasets/Raw_Data/complete_smartpunch_dataset_7606punches.json'"
   ]
  },
  {
   "cell_type": "code",
   "execution_count": null,
   "metadata": {},
   "outputs": [],
   "source": [
    "valueForTheEstimators = 80"
   ]
  },
  {
   "cell_type": "markdown",
   "metadata": {},
   "source": [
    "# Import helper modules"
   ]
  },
  {
   "cell_type": "code",
   "execution_count": null,
   "metadata": {},
   "outputs": [],
   "source": [
    "# import statistics\n",
    "import matplotlib.pyplot as plt\n",
    "import numpy as np\n",
    "import matplotlib.cm as cm\n",
    "%matplotlib inline"
   ]
  },
  {
   "cell_type": "code",
   "execution_count": null,
   "metadata": {},
   "outputs": [],
   "source": [
    "from timeseries_helpers import classificationHelpers"
   ]
  },
  {
   "cell_type": "code",
   "execution_count": null,
   "metadata": {},
   "outputs": [],
   "source": [
    "ds_loaded =classificationHelpers.prepareDataset(jsonDSpath,periodLengthMS,sampleRateUS,exportToCSV=False)"
   ]
  },
  {
   "cell_type": "markdown",
   "metadata": {},
   "source": [
    "# Classification part"
   ]
  },
  {
   "cell_type": "code",
   "execution_count": null,
   "metadata": {},
   "outputs": [],
   "source": [
    "ds_loaded = classificationHelpers.listToDataframe(ds_loaded)"
   ]
  },
  {
   "cell_type": "code",
   "execution_count": null,
   "metadata": {},
   "outputs": [],
   "source": [
    "mixedPunches = classificationHelpers.train_test_split(ds_loaded,'label',trainDataRatio)\n",
    "train_dataset = mixedPunches[0]\n",
    "test_dataset = mixedPunches[1]\n",
    "y_train = mixedPunches[2]\n",
    "y_test = mixedPunches[3]"
   ]
  },
  {
   "cell_type": "code",
   "execution_count": null,
   "metadata": {},
   "outputs": [],
   "source": [
    "classificationHelpers.get_train_test_ratio(train_dataset,test_dataset,column ='label')"
   ]
  },
  {
   "cell_type": "code",
   "execution_count": null,
   "metadata": {},
   "outputs": [],
   "source": [
    "X_test = classificationHelpers.extractFeatures(test_dataset,feature_settings='minimal')"
   ]
  },
  {
   "cell_type": "code",
   "execution_count": null,
   "metadata": {},
   "outputs": [],
   "source": [
    "X_train = classificationHelpers.extractFeatures(train_dataset,feature_settings='minimal')"
   ]
  },
  {
   "cell_type": "markdown",
   "metadata": {},
   "source": [
    "# Prediction of the label type"
   ]
  },
  {
   "cell_type": "code",
   "execution_count": null,
   "metadata": {},
   "outputs": [],
   "source": [
    "generalResult = classificationHelpers.predict(X_train,y_train,X_test,y_test,'Punch-Type',estimators=valueForTheEstimators,KNNneighbors=6,KNN_Start=1, KNN_End=20, report=True, targetNames=['Frontal','Hook','Upper-Cut','No-Action'],exportModels = False)\n",
    "label_accuracy_scores = generalResult[0]\n",
    "label_classifier = generalResult[1]"
   ]
  },
  {
   "cell_type": "code",
   "execution_count": null,
   "metadata": {},
   "outputs": [],
   "source": [
    "classificationHelpers.print_prediction_results(classificationHelpers.get_available_classifier_labels(),label_accuracy_scores,'Accuracy overview for label prediction',saveImage=False)"
   ]
  },
  {
   "cell_type": "markdown",
   "metadata": {},
   "source": [
    "# Prediction of the hand"
   ]
  },
  {
   "cell_type": "code",
   "execution_count": null,
   "metadata": {},
   "outputs": [],
   "source": [
    "mixedPunches = classificationHelpers.train_test_split(ds_loaded,'hand',trainDataRatio)\n",
    "train_dataset = mixedPunches[0]\n",
    "test_dataset = mixedPunches[1]\n",
    "y_train = mixedPunches[2]\n",
    "y_test = mixedPunches[3]"
   ]
  },
  {
   "cell_type": "code",
   "execution_count": null,
   "metadata": {},
   "outputs": [],
   "source": [
    "classificationHelpers.get_train_test_ratio(train_dataset,test_dataset,column ='hand')"
   ]
  },
  {
   "cell_type": "code",
   "execution_count": null,
   "metadata": {},
   "outputs": [],
   "source": [
    "generalResult = classificationHelpers.predict(X_train,y_train,X_test,y_test,'Hand side',estimators=valueForTheEstimators,KNNneighbors=6,KNN_Start=1, KNN_End=20, report=True, targetNames=['Right','Left'])\n",
    "label_accuracy_scores = generalResult[0]\n",
    "label_classifier = generalResult[1]"
   ]
  },
  {
   "cell_type": "code",
   "execution_count": null,
   "metadata": {},
   "outputs": [],
   "source": [
    "classificationHelpers.print_prediction_results(classificationHelpers.get_available_classifier_labels(),label_accuracy_scores,'Accuracy overview for hand prediction')"
   ]
  },
  {
   "cell_type": "markdown",
   "metadata": {},
   "source": [
    "# Prediction of the annotator name"
   ]
  },
  {
   "cell_type": "code",
   "execution_count": null,
   "metadata": {},
   "outputs": [],
   "source": [
    "mixedPunches = classificationHelpers.train_test_split(ds_loaded,'annotator',trainDataRatio)\n",
    "train_dataset = mixedPunches[0]\n",
    "test_dataset = mixedPunches[1]\n",
    "y_train = mixedPunches[2]\n",
    "y_test = mixedPunches[3]"
   ]
  },
  {
   "cell_type": "code",
   "execution_count": null,
   "metadata": {},
   "outputs": [],
   "source": [
    "classificationHelpers.get_train_test_ratio(train_dataset,test_dataset,column ='annotator')"
   ]
  },
  {
   "cell_type": "code",
   "execution_count": null,
   "metadata": {},
   "outputs": [],
   "source": [
    "generalResult = classificationHelpers.predict(X_train,y_train,X_test,y_test,'Proband ID',estimators=valueForTheEstimators,KNNneighbors=6,KNN_Start=1, KNN_End=20, report=True,targetNames=['0','1','2','3','4','5','6','7'],exportModels=False)\n",
    "label_accuracy_scores = generalResult[0]\n",
    "label_classifier = generalResult[1]"
   ]
  },
  {
   "cell_type": "code",
   "execution_count": null,
   "metadata": {},
   "outputs": [],
   "source": [
    "classificationHelpers.print_prediction_results(classificationHelpers.get_available_classifier_labels(),label_accuracy_scores,'Accuracy overview for the annotator prediction')"
   ]
  }
 ],
 "metadata": {
  "kernelspec": {
   "display_name": "Python 3",
   "language": "python",
   "name": "python3"
  },
  "language_info": {
   "codemirror_mode": {
    "name": "ipython",
    "version": 3
   },
   "file_extension": ".py",
   "mimetype": "text/x-python",
   "name": "python",
   "nbconvert_exporter": "python",
   "pygments_lexer": "ipython3",
   "version": "3.7.1"
  }
 },
 "nbformat": 4,
 "nbformat_minor": 2
}
