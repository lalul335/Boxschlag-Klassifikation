{
 "cells": [
  {
   "cell_type": "code",
   "execution_count": 7,
   "metadata": {},
   "source": [
    "#import neccessary modules\n",
    "import json\n",
    "import pandas as pd\n",
    "import seaborn as sns\n",
    "import matplotlib.pyplot as plt\n",
    "import numpy as np"
   ],
   "outputs": []
  },
  {
   "cell_type": "code",
   "execution_count": 8,
   "metadata": {},
   "source": [
    "# helper functions\n",
    "from timeseries_helpers import datasetstorer\n",
    "from timeseries_helpers import dataset_importer\n",
    "from timeseries_helpers import database_importer\n",
    "from timeseries_helpers import standardizer"
   ],
   "outputs": []
  },
  {
   "cell_type": "code",
   "execution_count": 9,
   "metadata": {},
   "source": [
    "# plotting functions\n",
    "from timeseries_helpers import timeseries_plotter"
   ],
   "outputs": []
  },
  {
   "cell_type": "code",
   "execution_count": 10,
   "metadata": {},
   "source": [
    "#open json dataset\n",
    "with open('../../Datasets/Raw_Data/complete_smartpunch_dataset_7606punches.json', 'r') as f:\n",
    "    jsnDataset = json.load(f)"
   ],
   "outputs": []
  },
  {
   "cell_type": "code",
   "execution_count": 11,
   "metadata": {
    "scrolled": false
   },
   "source": [
    "## variables\n",
    "periodLengthMS = 1500\n",
    "sampleRateUS = 1000"
   ],
   "outputs": []
  },
  {
   "cell_type": "code",
   "execution_count": 12,
   "metadata": {},
   "source": [
    "#convert dataset to timestamps in absolute us\n",
    "ds = database_importer.jsonData_to_dataset_in_timedifference_us(data=jsnDataset)"
   ],
   "outputs": []
  },
  {
   "cell_type": "code",
   "execution_count": 13,
   "metadata": {},
   "source": [
    "# reduce the size of the dataset. pic n datasets of each label\n",
    "classes = ['upper-cut','frontal','hook']\n",
    "n = len(ds)\n",
    "ds_reduced = []\n",
    "i_u = 0;\n",
    "i_f = 0;\n",
    "i_h = 0;\n",
    "idx = 0;\n",
    "\n",
    "while idx < len(ds):\n",
    "    if (ds[idx].label[0] == classes[0]) and (i_u < n):\n",
    "        ds_reduced.append(ds[idx])\n",
    "        i_u+= 1;\n",
    "    elif (ds[idx].label[0] == classes[1]) and (i_f < n):\n",
    "        ds_reduced.append(ds[idx])\n",
    "        i_f+= 1;\n",
    "    elif (ds[idx].label[0] == classes[2]) and (i_h < n):\n",
    "        ds_reduced.append(ds[idx])\n",
    "        i_h+= 1;\n",
    "    if i_u >= n and i_f >= n and i_h >= n: \n",
    "        idx = len(ds) +10;\n",
    "    idx+= 1;"
   ],
   "outputs": []
  },
  {
   "cell_type": "code",
   "execution_count": null,
   "metadata": {},
   "source": [
    "#len(ds_reduced)\n",
    "#ds = []\n",
    "#ds = ds_reduced;"
   ],
   "outputs": []
  },
  {
   "cell_type": "code",
   "execution_count": null,
   "metadata": {},
   "source": [
    "#define which datset to pick (for testing only !)\n",
    "ds[0].head(5)"
   ],
   "outputs": []
  },
  {
   "cell_type": "code",
   "execution_count": null,
   "metadata": {
    "scrolled": true
   },
   "source": [
    "ds_new = standardizer.normate_dataset_period(periodLengthMS,sampleRateUS,ds)  #normalize_dataset_period(2000,1000,ds[:5])\n",
    "print(ds_new[0].head(5))"
   ],
   "outputs": []
  },
  {
   "cell_type": "code",
   "execution_count": null,
   "metadata": {},
   "source": [
    "len(ds_new)"
   ],
   "outputs": []
  },
  {
   "cell_type": "code",
   "execution_count": null,
   "metadata": {},
   "source": [
    "ds[ds_numb]['timestamp'].tail(5)"
   ],
   "outputs": []
  },
  {
   "cell_type": "markdown",
   "metadata": {},
   "source": [
    "## Replace all strings in the datasets\n",
    "For use ML algorithms later, replace all strings in the dataset first."
   ]
  },
  {
   "cell_type": "code",
   "execution_count": null,
   "metadata": {},
   "source": [],
   "outputs": []
  },
  {
   "cell_type": "code",
   "execution_count": null,
   "metadata": {},
   "source": [
    "ds_to_export = standardizer.change_strings_to_numbs(ds_new)"
   ],
   "outputs": []
  },
  {
   "cell_type": "code",
   "execution_count": null,
   "metadata": {},
   "source": [
    "# ds_to_export[1200]"
   ],
   "outputs": []
  },
  {
   "cell_type": "code",
   "execution_count": null,
   "metadata": {},
   "source": [
    "fileName = r\"../../Datasets/Normalized/complete_smartpunch_dataset_periodMS\" + str(periodLengthMS)+\"_sampleUS\"+str(sampleRateUS)+\".csv\";\n",
    "# datasetstorer.export_list_of_dataframes_to_csv(ds_to_export,r\"../../Datasets/Normalized/complete_smartpunch_dataset_periodMS2000_sampleUS1000.csv\")\n",
    "datasetstorer.export_list_of_dataframes_to_csv(ds_to_export,fileName)"
   ],
   "outputs": []
  }
 ],
 "metadata": {
  "kernelspec": {
   "display_name": "Python 3",
   "language": "python",
   "name": "python3"
  },
  "language_info": {
   "codemirror_mode": {
    "name": "ipython",
    "version": 3
   },
   "file_extension": ".py",
   "mimetype": "text/x-python",
   "name": "python",
   "nbconvert_exporter": "python",
   "pygments_lexer": "ipython3",
   "version": "3.7.1"
  }
 },
 "nbformat": 4,
 "nbformat_minor": 2
}
