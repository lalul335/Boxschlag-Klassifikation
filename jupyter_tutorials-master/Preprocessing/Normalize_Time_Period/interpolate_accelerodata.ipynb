{
 "cells": [
  {
   "cell_type": "code",
   "execution_count": 1,
   "metadata": {
    "ExecuteTime": {
     "end_time": "2024-06-13T10:19:52.850792Z",
     "start_time": "2024-06-13T10:19:52.475369Z"
    }
   },
   "outputs": [],
   "source": [
    "#import neccessary modules\n",
    "import json\n",
    "import pandas as pd\n",
    "import seaborn as sns\n",
    "import matplotlib.pyplot as plt\n",
    "import numpy as np\n",
    "from data_preprocessing import extract_accelerometer_data, csv_to_dataset_list, normate_dataset_period, extract_gyroscope_data, auto_labeling, jsonData_to_dataset_in_timedifference_us\n",
    "from scipy.interpolate import interp1d\n",
    "from sklearn.cluster import DBSCAN, KMeans\n",
    "from scipy.stats import zscore\n",
    "from mpl_toolkits.mplot3d import Axes3D\n",
    "from scipy.spatial import distance\n",
    "import scipy"
   ]
  },
  {
   "cell_type": "code",
   "execution_count": 2,
   "metadata": {
    "ExecuteTime": {
     "end_time": "2024-06-13T10:19:52.862512Z",
     "start_time": "2024-06-13T10:19:52.850248Z"
    }
   },
   "outputs": [],
   "source": [
    "# helper functions\n",
    "from timeseries_helpers import datasetstorer\n",
    "from timeseries_helpers import dataset_importer\n",
    "from timeseries_helpers import database_importer\n",
    "from timeseries_helpers import standardizer"
   ]
  },
  {
   "cell_type": "code",
   "execution_count": 3,
   "metadata": {
    "ExecuteTime": {
     "end_time": "2024-06-13T10:19:52.864257Z",
     "start_time": "2024-06-13T10:19:52.859314Z"
    }
   },
   "outputs": [],
   "source": [
    "# plotting functions\n",
    "from timeseries_helpers import timeseries_plotter"
   ]
  },
  {
   "cell_type": "code",
   "execution_count": 4,
   "metadata": {
    "ExecuteTime": {
     "end_time": "2024-06-13T10:19:55.894889Z",
     "start_time": "2024-06-13T10:19:52.864750Z"
    }
   },
   "outputs": [],
   "source": [
    "#open json dataset\n",
    "with open(r'/Users/raouldoublan/Documents/GitHub/Boxschlag-Klassifikation/data/complete_smartpunch_dataset_7606punches.json', 'r') as f:\n",
    "    jsnDataset = json.load(f)\n",
    "    \n",
    "data_Kinn_Acc = extract_accelerometer_data(r'/Users/raouldoublan/Documents/GitHub/Boxschlag-Klassifikation/data/Max_Kinnhacken.csv')"
   ]
  },
  {
   "cell_type": "code",
   "execution_count": 5,
   "outputs": [],
   "source": [
    "data = data_Kinn_Acc.copy()\n",
    "duplicates = data_Kinn_Acc[data_Kinn_Acc['x'].duplicated()]\n",
    "\n",
    "data_Kinn_Acc = data_Kinn_Acc.drop_duplicates(subset=['x'])\n",
    "data_Kinn_Acc = data_Kinn_Acc.reset_index()"
   ],
   "metadata": {
    "collapsed": false,
    "ExecuteTime": {
     "end_time": "2024-06-13T10:20:04.940818Z",
     "start_time": "2024-06-13T10:20:04.895824Z"
    }
   }
  },
  {
   "cell_type": "code",
   "execution_count": 6,
   "outputs": [
    {
     "name": "stdout",
     "output_type": "stream",
     "text": [
      "Data is empty\n",
      "Data is empty\n",
      "Data is empty\n",
      "Data is empty\n",
      "Data is empty\n",
      "Data is empty\n",
      "Data is empty\n",
      "Data is empty\n",
      "Data is empty\n",
      "Data is empty\n",
      "Data is empty\n"
     ]
    }
   ],
   "source": [
    "\n",
    "#print(data_Kinn_Acc)\n",
    "json_data = auto_labeling(data_Kinn_Acc[550:], 'y', 5.5, 150, 2)\n",
    "\n",
    "#pca benutzen"
   ],
   "metadata": {
    "collapsed": false,
    "ExecuteTime": {
     "end_time": "2024-06-13T10:20:06.675513Z",
     "start_time": "2024-06-13T10:20:05.929344Z"
    }
   }
  },
  {
   "cell_type": "code",
   "execution_count": 28,
   "outputs": [
    {
     "ename": "AttributeError",
     "evalue": "'list' object has no attribute 'drop_duplicates'",
     "output_type": "error",
     "traceback": [
      "\u001B[0;31m---------------------------------------------------------------------------\u001B[0m",
      "\u001B[0;31mAttributeError\u001B[0m                            Traceback (most recent call last)",
      "Cell \u001B[0;32mIn[28], line 3\u001B[0m\n\u001B[1;32m      1\u001B[0m \u001B[38;5;66;03m#print(json_data[1])\u001B[39;00m\n\u001B[1;32m      2\u001B[0m \u001B[38;5;66;03m#print(jsnDataset[0])\u001B[39;00m\n\u001B[0;32m----> 3\u001B[0m df \u001B[38;5;241m=\u001B[39m \u001B[43mdf\u001B[49m\u001B[38;5;241;43m.\u001B[39;49m\u001B[43mdrop_duplicates\u001B[49m(subset\u001B[38;5;241m=\u001B[39m\u001B[38;5;124m'\u001B[39m\u001B[38;5;124mx\u001B[39m\u001B[38;5;124m'\u001B[39m, keep\u001B[38;5;241m=\u001B[39m\u001B[38;5;124m'\u001B[39m\u001B[38;5;124mfirst\u001B[39m\u001B[38;5;124m'\u001B[39m)\n",
      "\u001B[0;31mAttributeError\u001B[0m: 'list' object has no attribute 'drop_duplicates'"
     ]
    }
   ],
   "source": [
    "#print(json_data[1])\n",
    "#print(jsnDataset[0])\n"
   ],
   "metadata": {
    "collapsed": false,
    "ExecuteTime": {
     "end_time": "2024-06-12T07:14:10.646752Z",
     "start_time": "2024-06-12T07:14:10.607770Z"
    }
   }
  },
  {
   "cell_type": "code",
   "execution_count": 67,
   "metadata": {
    "scrolled": false,
    "ExecuteTime": {
     "end_time": "2024-06-13T09:27:30.692883Z",
     "start_time": "2024-06-13T09:27:30.684344Z"
    }
   },
   "outputs": [],
   "source": [
    "## variables\n",
    "periodLengthMS = 1500\n",
    "sampleRateUS = 1000"
   ]
  },
  {
   "cell_type": "code",
   "execution_count": 68,
   "metadata": {
    "ExecuteTime": {
     "end_time": "2024-06-13T09:27:47.492811Z",
     "start_time": "2024-06-13T09:27:41.125263Z"
    }
   },
   "outputs": [],
   "source": [
    "#convert dataset to timestamps in absolute us\n",
    "ds = database_importer.jsonData_to_dataset_in_timedifference_us(data=jsnDataset)\n",
    "df = jsonData_to_dataset_in_timedifference_us(data=json_data)"
   ]
  },
  {
   "cell_type": "code",
   "execution_count": 8,
   "metadata": {
    "ExecuteTime": {
     "end_time": "2024-06-12T06:44:30.189971Z",
     "start_time": "2024-06-12T06:44:29.653520Z"
    }
   },
   "outputs": [],
   "source": [
    "# reduce the size of the dataset. pic n datasets of each label\n",
    "classes = ['upper-cut','frontal','hook']\n",
    "n = len(ds)\n",
    "ds_reduced = []\n",
    "i_u = 0;\n",
    "i_f = 0;\n",
    "i_h = 0;\n",
    "idx = 0;\n",
    "\n",
    "while idx < len(ds):\n",
    "    if (ds[idx].label[0] == classes[0]) and (i_u < n):\n",
    "        ds_reduced.append(ds[idx])\n",
    "        i_u+= 1;\n",
    "    elif (ds[idx].label[0] == classes[1]) and (i_f < n):\n",
    "        ds_reduced.append(ds[idx])\n",
    "        i_f+= 1;\n",
    "    elif (ds[idx].label[0] == classes[2]) and (i_h < n):\n",
    "        ds_reduced.append(ds[idx])\n",
    "        i_h+= 1;\n",
    "    if i_u >= n and i_f >= n and i_h >= n: \n",
    "        idx = len(ds) +10;\n",
    "    idx+= 1;"
   ]
  },
  {
   "cell_type": "code",
   "execution_count": 27,
   "outputs": [
    {
     "ename": "AttributeError",
     "evalue": "'list' object has no attribute 'drop_duplicates'",
     "output_type": "error",
     "traceback": [
      "\u001B[0;31m---------------------------------------------------------------------------\u001B[0m",
      "\u001B[0;31mAttributeError\u001B[0m                            Traceback (most recent call last)",
      "Cell \u001B[0;32mIn[27], line 1\u001B[0m\n\u001B[0;32m----> 1\u001B[0m df \u001B[38;5;241m=\u001B[39m \u001B[43mdf\u001B[49m\u001B[38;5;241;43m.\u001B[39;49m\u001B[43mdrop_duplicates\u001B[49m(subset\u001B[38;5;241m=\u001B[39m\u001B[38;5;124m'\u001B[39m\u001B[38;5;124mx\u001B[39m\u001B[38;5;124m'\u001B[39m, keep\u001B[38;5;241m=\u001B[39m\u001B[38;5;124m'\u001B[39m\u001B[38;5;124mfirst\u001B[39m\u001B[38;5;124m'\u001B[39m)\n",
      "\u001B[0;31mAttributeError\u001B[0m: 'list' object has no attribute 'drop_duplicates'"
     ]
    }
   ],
   "source": [],
   "metadata": {
    "collapsed": false,
    "ExecuteTime": {
     "end_time": "2024-06-12T07:13:41.209389Z",
     "start_time": "2024-06-12T07:13:41.088313Z"
    }
   }
  },
  {
   "cell_type": "code",
   "execution_count": 9,
   "metadata": {
    "ExecuteTime": {
     "end_time": "2024-06-12T06:44:30.200093Z",
     "start_time": "2024-06-12T06:44:30.192470Z"
    }
   },
   "outputs": [],
   "source": [
    "#len(ds_reduced)\n",
    "#ds = []\n",
    "#ds = ds_reduced;"
   ]
  },
  {
   "cell_type": "code",
   "execution_count": 10,
   "metadata": {
    "ExecuteTime": {
     "end_time": "2024-06-12T06:44:30.244680Z",
     "start_time": "2024-06-12T06:44:30.202318Z"
    }
   },
   "outputs": [
    {
     "data": {
      "text/plain": "          x         y         z  timestamp      label   hand annotator\n0  6.793223 -2.383251  2.962314          0  upper-cut  right         0\n1  6.601798 -2.871387  3.359523       2000  upper-cut  right         0\n2  6.343373 -3.129812  3.558127      16000  upper-cut  right         0\n3  5.962914 -3.136991  3.625126      28000  upper-cut  right         0\n4  5.582455 -3.103491  3.608377      32000  upper-cut  right         0",
      "text/html": "<div>\n<style scoped>\n    .dataframe tbody tr th:only-of-type {\n        vertical-align: middle;\n    }\n\n    .dataframe tbody tr th {\n        vertical-align: top;\n    }\n\n    .dataframe thead th {\n        text-align: right;\n    }\n</style>\n<table border=\"1\" class=\"dataframe\">\n  <thead>\n    <tr style=\"text-align: right;\">\n      <th></th>\n      <th>x</th>\n      <th>y</th>\n      <th>z</th>\n      <th>timestamp</th>\n      <th>label</th>\n      <th>hand</th>\n      <th>annotator</th>\n    </tr>\n  </thead>\n  <tbody>\n    <tr>\n      <th>0</th>\n      <td>6.793223</td>\n      <td>-2.383251</td>\n      <td>2.962314</td>\n      <td>0</td>\n      <td>upper-cut</td>\n      <td>right</td>\n      <td>0</td>\n    </tr>\n    <tr>\n      <th>1</th>\n      <td>6.601798</td>\n      <td>-2.871387</td>\n      <td>3.359523</td>\n      <td>2000</td>\n      <td>upper-cut</td>\n      <td>right</td>\n      <td>0</td>\n    </tr>\n    <tr>\n      <th>2</th>\n      <td>6.343373</td>\n      <td>-3.129812</td>\n      <td>3.558127</td>\n      <td>16000</td>\n      <td>upper-cut</td>\n      <td>right</td>\n      <td>0</td>\n    </tr>\n    <tr>\n      <th>3</th>\n      <td>5.962914</td>\n      <td>-3.136991</td>\n      <td>3.625126</td>\n      <td>28000</td>\n      <td>upper-cut</td>\n      <td>right</td>\n      <td>0</td>\n    </tr>\n    <tr>\n      <th>4</th>\n      <td>5.582455</td>\n      <td>-3.103491</td>\n      <td>3.608377</td>\n      <td>32000</td>\n      <td>upper-cut</td>\n      <td>right</td>\n      <td>0</td>\n    </tr>\n  </tbody>\n</table>\n</div>"
     },
     "execution_count": 10,
     "metadata": {},
     "output_type": "execute_result"
    }
   ],
   "source": [
    "#define which datset to pick (for testing only !)\n",
    "ds[0].head(5)"
   ]
  },
  {
   "cell_type": "code",
   "execution_count": 69,
   "metadata": {
    "scrolled": true,
    "ExecuteTime": {
     "end_time": "2024-06-13T09:27:54.488564Z",
     "start_time": "2024-06-13T09:27:54.398476Z"
    }
   },
   "outputs": [
    {
     "name": "stdout",
     "output_type": "stream",
     "text": [
      "Starting new normalization/interpolation...\n"
     ]
    },
    {
     "ename": "ValueError",
     "evalue": "Expect x to not have duplicates",
     "output_type": "error",
     "traceback": [
      "\u001B[0;31m---------------------------------------------------------------------------\u001B[0m",
      "\u001B[0;31mValueError\u001B[0m                                Traceback (most recent call last)",
      "Cell \u001B[0;32mIn[69], line 2\u001B[0m\n\u001B[1;32m      1\u001B[0m \u001B[38;5;66;03m#ds_new = standardizer.normate_dataset_period(periodLengthMS,sampleRateUS,ds)  #normalize_dataset_period(2000,1000,ds[:5])\u001B[39;00m\n\u001B[0;32m----> 2\u001B[0m df_new \u001B[38;5;241m=\u001B[39m \u001B[43mnormate_dataset_period\u001B[49m\u001B[43m(\u001B[49m\u001B[43mperiodLengthMS\u001B[49m\u001B[43m,\u001B[49m\u001B[43msampleRateUS\u001B[49m\u001B[43m,\u001B[49m\u001B[43mdf\u001B[49m\u001B[43m)\u001B[49m\n\u001B[1;32m      3\u001B[0m \u001B[38;5;28mprint\u001B[39m(df_new[\u001B[38;5;241m0\u001B[39m]\u001B[38;5;241m.\u001B[39mhead(\u001B[38;5;241m5\u001B[39m))\n\u001B[1;32m      4\u001B[0m \u001B[38;5;28mprint\u001B[39m(df[\u001B[38;5;241m0\u001B[39m]\u001B[38;5;241m.\u001B[39mhead(\u001B[38;5;241m5\u001B[39m))\n",
      "File \u001B[0;32m~/Documents/GitHub/Boxschlag-Klassifikation/data_preprocessing.py:160\u001B[0m, in \u001B[0;36mnormate_dataset_period\u001B[0;34m(periodLengthInMS, samplingRateUS, dataset, interpolationKind)\u001B[0m\n\u001B[1;32m    157\u001B[0m orig_period_length_us \u001B[38;5;241m=\u001B[39m ds_el[\u001B[38;5;124m'\u001B[39m\u001B[38;5;124mtimestamp\u001B[39m\u001B[38;5;124m'\u001B[39m][\u001B[38;5;28mlen\u001B[39m(ds_el[\u001B[38;5;124m'\u001B[39m\u001B[38;5;124mtimestamp\u001B[39m\u001B[38;5;124m'\u001B[39m])\u001B[38;5;241m-\u001B[39m\u001B[38;5;241m1\u001B[39m]\n\u001B[1;32m    159\u001B[0m \u001B[38;5;66;03m# stores the interpolating functions for each dataset element and axis\u001B[39;00m\n\u001B[0;32m--> 160\u001B[0m f_x \u001B[38;5;241m=\u001B[39m (\u001B[43minterp1d\u001B[49m\u001B[43m(\u001B[49m\u001B[43mds_el\u001B[49m\u001B[43m[\u001B[49m\u001B[38;5;124;43m'\u001B[39;49m\u001B[38;5;124;43mtimestamp\u001B[39;49m\u001B[38;5;124;43m'\u001B[39;49m\u001B[43m]\u001B[49m\u001B[38;5;241;43m.\u001B[39;49m\u001B[43mvalues\u001B[49m\u001B[38;5;241;43m.\u001B[39;49m\u001B[43mcopy\u001B[49m\u001B[43m(\u001B[49m\u001B[43m)\u001B[49m\u001B[43m,\u001B[49m\u001B[43m \u001B[49m\u001B[43mds_el\u001B[49m\u001B[43m[\u001B[49m\u001B[38;5;124;43m'\u001B[39;49m\u001B[38;5;124;43mx\u001B[39;49m\u001B[38;5;124;43m'\u001B[39;49m\u001B[43m]\u001B[49m\u001B[38;5;241;43m.\u001B[39;49m\u001B[43mvalues\u001B[49m\u001B[38;5;241;43m.\u001B[39;49m\u001B[43mcopy\u001B[49m\u001B[43m(\u001B[49m\u001B[43m)\u001B[49m\u001B[43m,\u001B[49m\u001B[43m \u001B[49m\u001B[43mkind\u001B[49m\u001B[38;5;241;43m=\u001B[39;49m\u001B[43minterpolationKind\u001B[49m\u001B[43m,\u001B[49m\n\u001B[1;32m    161\u001B[0m \u001B[43m                \u001B[49m\u001B[43mbounds_error\u001B[49m\u001B[38;5;241;43m=\u001B[39;49m\u001B[38;5;28;43;01mFalse\u001B[39;49;00m\u001B[43m,\u001B[49m\u001B[43m \u001B[49m\u001B[43mfill_value\u001B[49m\u001B[38;5;241;43m=\u001B[39;49m\u001B[43m(\u001B[49m\u001B[43mds_el\u001B[49m\u001B[43m[\u001B[49m\u001B[38;5;124;43m'\u001B[39;49m\u001B[38;5;124;43mx\u001B[39;49m\u001B[38;5;124;43m'\u001B[39;49m\u001B[43m]\u001B[49m\u001B[43m[\u001B[49m\u001B[38;5;241;43m0\u001B[39;49m\u001B[43m]\u001B[49m\u001B[38;5;241;43m.\u001B[39;49m\u001B[43mcopy\u001B[49m\u001B[43m(\u001B[49m\u001B[43m)\u001B[49m\u001B[43m,\u001B[49m\u001B[43m \u001B[49m\u001B[43mds_el\u001B[49m\u001B[43m[\u001B[49m\u001B[38;5;124;43m'\u001B[39;49m\u001B[38;5;124;43mx\u001B[39;49m\u001B[38;5;124;43m'\u001B[39;49m\u001B[43m]\u001B[49m\u001B[43m[\u001B[49m\u001B[38;5;241;43m0\u001B[39;49m\u001B[43m]\u001B[49m\u001B[38;5;241;43m.\u001B[39;49m\u001B[43mcopy\u001B[49m\u001B[43m(\u001B[49m\u001B[43m)\u001B[49m\u001B[43m)\u001B[49m\u001B[43m)\u001B[49m)\n\u001B[1;32m    162\u001B[0m f_y \u001B[38;5;241m=\u001B[39m (interp1d(ds_el[\u001B[38;5;124m'\u001B[39m\u001B[38;5;124mtimestamp\u001B[39m\u001B[38;5;124m'\u001B[39m]\u001B[38;5;241m.\u001B[39mvalues\u001B[38;5;241m.\u001B[39mcopy(), ds_el[\u001B[38;5;124m'\u001B[39m\u001B[38;5;124my\u001B[39m\u001B[38;5;124m'\u001B[39m]\u001B[38;5;241m.\u001B[39mvalues\u001B[38;5;241m.\u001B[39mcopy(), kind\u001B[38;5;241m=\u001B[39minterpolationKind,\n\u001B[1;32m    163\u001B[0m                 bounds_error\u001B[38;5;241m=\u001B[39m\u001B[38;5;28;01mFalse\u001B[39;00m, fill_value\u001B[38;5;241m=\u001B[39m(ds_el[\u001B[38;5;124m'\u001B[39m\u001B[38;5;124my\u001B[39m\u001B[38;5;124m'\u001B[39m][\u001B[38;5;241m0\u001B[39m]\u001B[38;5;241m.\u001B[39mcopy(), ds_el[\u001B[38;5;124m'\u001B[39m\u001B[38;5;124my\u001B[39m\u001B[38;5;124m'\u001B[39m][\u001B[38;5;241m0\u001B[39m]\u001B[38;5;241m.\u001B[39mcopy())))\n\u001B[1;32m    164\u001B[0m f_z \u001B[38;5;241m=\u001B[39m (interp1d(ds_el[\u001B[38;5;124m'\u001B[39m\u001B[38;5;124mtimestamp\u001B[39m\u001B[38;5;124m'\u001B[39m]\u001B[38;5;241m.\u001B[39mvalues\u001B[38;5;241m.\u001B[39mcopy(), ds_el[\u001B[38;5;124m'\u001B[39m\u001B[38;5;124mz\u001B[39m\u001B[38;5;124m'\u001B[39m]\u001B[38;5;241m.\u001B[39mvalues\u001B[38;5;241m.\u001B[39mcopy(), kind\u001B[38;5;241m=\u001B[39minterpolationKind,\n\u001B[1;32m    165\u001B[0m                 bounds_error\u001B[38;5;241m=\u001B[39m\u001B[38;5;28;01mFalse\u001B[39;00m, fill_value\u001B[38;5;241m=\u001B[39m(ds_el[\u001B[38;5;124m'\u001B[39m\u001B[38;5;124mz\u001B[39m\u001B[38;5;124m'\u001B[39m][\u001B[38;5;241m0\u001B[39m]\u001B[38;5;241m.\u001B[39mcopy(), ds_el[\u001B[38;5;124m'\u001B[39m\u001B[38;5;124mz\u001B[39m\u001B[38;5;124m'\u001B[39m][\u001B[38;5;241m0\u001B[39m]\u001B[38;5;241m.\u001B[39mcopy())))\n",
      "File \u001B[0;32m~/Documents/GitHub/Boxschlag-Klassifikation/venv/lib/python3.10/site-packages/scipy/interpolate/_interpolate.py:630\u001B[0m, in \u001B[0;36minterp1d.__init__\u001B[0;34m(***failed resolving arguments***)\u001B[0m\n\u001B[1;32m    627\u001B[0m         yy \u001B[38;5;241m=\u001B[39m np\u001B[38;5;241m.\u001B[39mones_like(\u001B[38;5;28mself\u001B[39m\u001B[38;5;241m.\u001B[39m_y)\n\u001B[1;32m    628\u001B[0m         rewrite_nan \u001B[38;5;241m=\u001B[39m \u001B[38;5;28;01mTrue\u001B[39;00m\n\u001B[0;32m--> 630\u001B[0m \u001B[38;5;28mself\u001B[39m\u001B[38;5;241m.\u001B[39m_spline \u001B[38;5;241m=\u001B[39m \u001B[43mmake_interp_spline\u001B[49m\u001B[43m(\u001B[49m\u001B[43mxx\u001B[49m\u001B[43m,\u001B[49m\u001B[43m \u001B[49m\u001B[43myy\u001B[49m\u001B[43m,\u001B[49m\u001B[43m \u001B[49m\u001B[43mk\u001B[49m\u001B[38;5;241;43m=\u001B[39;49m\u001B[43morder\u001B[49m\u001B[43m,\u001B[49m\n\u001B[1;32m    631\u001B[0m \u001B[43m                                  \u001B[49m\u001B[43mcheck_finite\u001B[49m\u001B[38;5;241;43m=\u001B[39;49m\u001B[38;5;28;43;01mFalse\u001B[39;49;00m\u001B[43m)\u001B[49m\n\u001B[1;32m    632\u001B[0m \u001B[38;5;28;01mif\u001B[39;00m rewrite_nan:\n\u001B[1;32m    633\u001B[0m     \u001B[38;5;28mself\u001B[39m\u001B[38;5;241m.\u001B[39m_call \u001B[38;5;241m=\u001B[39m \u001B[38;5;28mself\u001B[39m\u001B[38;5;241m.\u001B[39m\u001B[38;5;18m__class__\u001B[39m\u001B[38;5;241m.\u001B[39m_call_nan_spline\n",
      "File \u001B[0;32m~/Documents/GitHub/Boxschlag-Klassifikation/venv/lib/python3.10/site-packages/scipy/interpolate/_bsplines.py:1385\u001B[0m, in \u001B[0;36mmake_interp_spline\u001B[0;34m(x, y, k, t, bc_type, axis, check_finite)\u001B[0m\n\u001B[1;32m   1383\u001B[0m     \u001B[38;5;28;01mraise\u001B[39;00m \u001B[38;5;167;01mValueError\u001B[39;00m(\u001B[38;5;124mf\u001B[39m\u001B[38;5;124m'\u001B[39m\u001B[38;5;124mShapes of x \u001B[39m\u001B[38;5;132;01m{\u001B[39;00mx\u001B[38;5;241m.\u001B[39mshape\u001B[38;5;132;01m}\u001B[39;00m\u001B[38;5;124m and y \u001B[39m\u001B[38;5;132;01m{\u001B[39;00my\u001B[38;5;241m.\u001B[39mshape\u001B[38;5;132;01m}\u001B[39;00m\u001B[38;5;124m are incompatible\u001B[39m\u001B[38;5;124m'\u001B[39m)\n\u001B[1;32m   1384\u001B[0m \u001B[38;5;28;01mif\u001B[39;00m np\u001B[38;5;241m.\u001B[39many(x[\u001B[38;5;241m1\u001B[39m:] \u001B[38;5;241m==\u001B[39m x[:\u001B[38;5;241m-\u001B[39m\u001B[38;5;241m1\u001B[39m]):\n\u001B[0;32m-> 1385\u001B[0m     \u001B[38;5;28;01mraise\u001B[39;00m \u001B[38;5;167;01mValueError\u001B[39;00m(\u001B[38;5;124m\"\u001B[39m\u001B[38;5;124mExpect x to not have duplicates\u001B[39m\u001B[38;5;124m\"\u001B[39m)\n\u001B[1;32m   1386\u001B[0m \u001B[38;5;28;01mif\u001B[39;00m x\u001B[38;5;241m.\u001B[39mndim \u001B[38;5;241m!=\u001B[39m \u001B[38;5;241m1\u001B[39m \u001B[38;5;129;01mor\u001B[39;00m np\u001B[38;5;241m.\u001B[39many(x[\u001B[38;5;241m1\u001B[39m:] \u001B[38;5;241m<\u001B[39m x[:\u001B[38;5;241m-\u001B[39m\u001B[38;5;241m1\u001B[39m]):\n\u001B[1;32m   1387\u001B[0m     \u001B[38;5;28;01mraise\u001B[39;00m \u001B[38;5;167;01mValueError\u001B[39;00m(\u001B[38;5;124m\"\u001B[39m\u001B[38;5;124mExpect x to be a 1D strictly increasing sequence.\u001B[39m\u001B[38;5;124m\"\u001B[39m)\n",
      "\u001B[0;31mValueError\u001B[0m: Expect x to not have duplicates"
     ]
    }
   ],
   "source": [
    "#ds_new = standardizer.normate_dataset_period(periodLengthMS,sampleRateUS,ds)  #normalize_dataset_period(2000,1000,ds[:5])\n",
    "df_new = normate_dataset_period(periodLengthMS,sampleRateUS,df)\n",
    "print(df_new[0].head(5))\n",
    "print(df[0].head(5))"
   ]
  },
  {
   "cell_type": "code",
   "execution_count": null,
   "metadata": {},
   "outputs": [],
   "source": [
    "len(ds_new)"
   ]
  },
  {
   "cell_type": "code",
   "execution_count": null,
   "metadata": {},
   "outputs": [],
   "source": [
    "ds[ds_numb]['timestamp'].tail(5)"
   ]
  },
  {
   "cell_type": "markdown",
   "metadata": {},
   "source": [
    "## Replace all strings in the datasets\n",
    "For use ML algorithms later, replace all strings in the dataset first."
   ]
  },
  {
   "cell_type": "code",
   "execution_count": null,
   "metadata": {},
   "outputs": [],
   "source": []
  },
  {
   "cell_type": "code",
   "execution_count": null,
   "metadata": {},
   "outputs": [],
   "source": [
    "ds_to_export = standardizer.change_strings_to_numbs(ds_new)"
   ]
  },
  {
   "cell_type": "code",
   "execution_count": null,
   "metadata": {},
   "outputs": [],
   "source": [
    "# ds_to_export[1200]"
   ]
  },
  {
   "cell_type": "code",
   "execution_count": null,
   "metadata": {},
   "outputs": [],
   "source": [
    "fileName = r\"../../Datasets/Normalized/complete_smartpunch_dataset_periodMS\" + str(periodLengthMS)+\"_sampleUS\"+str(sampleRateUS)+\".csv\";\n",
    "# datasetstorer.export_list_of_dataframes_to_csv(ds_to_export,r\"../../Datasets/Normalized/complete_smartpunch_dataset_periodMS2000_sampleUS1000.csv\")\n",
    "datasetstorer.export_list_of_dataframes_to_csv(ds_to_export,fileName)"
   ]
  }
 ],
 "metadata": {
  "kernelspec": {
   "display_name": "Python 3",
   "language": "python",
   "name": "python3"
  },
  "language_info": {
   "codemirror_mode": {
    "name": "ipython",
    "version": 3
   },
   "file_extension": ".py",
   "mimetype": "text/x-python",
   "name": "python",
   "nbconvert_exporter": "python",
   "pygments_lexer": "ipython3",
   "version": "3.7.1"
  }
 },
 "nbformat": 4,
 "nbformat_minor": 2
}
