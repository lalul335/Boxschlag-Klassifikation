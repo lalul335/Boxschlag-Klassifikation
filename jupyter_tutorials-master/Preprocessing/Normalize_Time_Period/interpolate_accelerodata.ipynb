{
 "cells": [
  {
   "cell_type": "code",
   "execution_count": 7,
   "metadata": {},
   "outputs": [],
   "source": [
    "#import neccessary modules\n",
    "import json\n",
    "import pandas as pd\n",
    "import seaborn as sns\n",
    "import matplotlib.pyplot as plt\n",
    "import numpy as np"
   ]
  },
  {
   "cell_type": "code",
   "execution_count": 8,
   "metadata": {},
   "outputs": [],
   "source": [
    "# helper functions\n",
    "from timeseries_helpers import datasetstorer\n",
    "from timeseries_helpers import dataset_importer\n",
    "from timeseries_helpers import database_importer\n",
    "from timeseries_helpers import standardizer"
   ]
  },
  {
   "cell_type": "code",
   "execution_count": 9,
   "metadata": {},
   "outputs": [],
   "source": [
    "# plotting functions\n",
    "from timeseries_helpers import timeseries_plotter"
   ]
  },
  {
   "cell_type": "code",
   "execution_count": 10,
   "metadata": {},
   "outputs": [],
   "source": [
    "#open json dataset\n",
    "with open('../../Datasets/Raw_Data/complete_smartpunch_dataset_7606punches.json', 'r') as f:\n",
    "    jsnDataset = json.load(f)"
   ]
  },
  {
   "cell_type": "code",
   "execution_count": 11,
   "metadata": {
    "scrolled": false
   },
   "outputs": [],
   "source": [
    "## variables\n",
    "periodLengthMS = 1500\n",
    "sampleRateUS = 1000"
   ]
  },
  {
   "cell_type": "code",
   "execution_count": 12,
   "metadata": {},
   "outputs": [],
   "source": [
    "#convert dataset to timestamps in absolute us\n",
    "ds = database_importer.jsonData_to_dataset_in_timedifference_us(data=jsnDataset)"
   ]
  },
  {
   "cell_type": "code",
   "execution_count": 13,
   "metadata": {},
   "outputs": [],
   "source": [
    "# reduce the size of the dataset. pic n datasets of each label\n",
    "classes = ['upper-cut','frontal','hook']\n",
    "n = len(ds)\n",
    "ds_reduced = []\n",
    "i_u = 0;\n",
    "i_f = 0;\n",
    "i_h = 0;\n",
    "idx = 0;\n",
    "\n",
    "while idx < len(ds):\n",
    "    if (ds[idx].label[0] == classes[0]) and (i_u < n):\n",
    "        ds_reduced.append(ds[idx])\n",
    "        i_u+= 1;\n",
    "    elif (ds[idx].label[0] == classes[1]) and (i_f < n):\n",
    "        ds_reduced.append(ds[idx])\n",
    "        i_f+= 1;\n",
    "    elif (ds[idx].label[0] == classes[2]) and (i_h < n):\n",
    "        ds_reduced.append(ds[idx])\n",
    "        i_h+= 1;\n",
    "    if i_u >= n and i_f >= n and i_h >= n: \n",
    "        idx = len(ds) +10;\n",
    "    idx+= 1;"
   ]
  },
  {
   "cell_type": "code",
   "execution_count": null,
   "metadata": {},
   "outputs": [],
   "source": [
    "#len(ds_reduced)\n",
    "#ds = []\n",
    "#ds = ds_reduced;"
   ]
  },
  {
   "cell_type": "code",
   "execution_count": null,
   "metadata": {},
   "outputs": [
    {
     "data": {
      "text/html": [
       "<div>\n",
       "<style scoped>\n",
       "    .dataframe tbody tr th:only-of-type {\n",
       "        vertical-align: middle;\n",
       "    }\n",
       "\n",
       "    .dataframe tbody tr th {\n",
       "        vertical-align: top;\n",
       "    }\n",
       "\n",
       "    .dataframe thead th {\n",
       "        text-align: right;\n",
       "    }\n",
       "</style>\n",
       "<table border=\"1\" class=\"dataframe\">\n",
       "  <thead>\n",
       "    <tr style=\"text-align: right;\">\n",
       "      <th></th>\n",
       "      <th>x</th>\n",
       "      <th>y</th>\n",
       "      <th>z</th>\n",
       "      <th>timestamp</th>\n",
       "      <th>label</th>\n",
       "      <th>hand</th>\n",
       "      <th>annotator</th>\n",
       "    </tr>\n",
       "  </thead>\n",
       "  <tbody>\n",
       "    <tr>\n",
       "      <th>0</th>\n",
       "      <td>6.793223</td>\n",
       "      <td>-2.383251</td>\n",
       "      <td>2.962314</td>\n",
       "      <td>0</td>\n",
       "      <td>upper-cut</td>\n",
       "      <td>right</td>\n",
       "      <td>0</td>\n",
       "    </tr>\n",
       "    <tr>\n",
       "      <th>1</th>\n",
       "      <td>6.601798</td>\n",
       "      <td>-2.871387</td>\n",
       "      <td>3.359523</td>\n",
       "      <td>2000</td>\n",
       "      <td>upper-cut</td>\n",
       "      <td>right</td>\n",
       "      <td>0</td>\n",
       "    </tr>\n",
       "    <tr>\n",
       "      <th>2</th>\n",
       "      <td>6.343373</td>\n",
       "      <td>-3.129812</td>\n",
       "      <td>3.558127</td>\n",
       "      <td>16000</td>\n",
       "      <td>upper-cut</td>\n",
       "      <td>right</td>\n",
       "      <td>0</td>\n",
       "    </tr>\n",
       "    <tr>\n",
       "      <th>3</th>\n",
       "      <td>5.962914</td>\n",
       "      <td>-3.136991</td>\n",
       "      <td>3.625126</td>\n",
       "      <td>28000</td>\n",
       "      <td>upper-cut</td>\n",
       "      <td>right</td>\n",
       "      <td>0</td>\n",
       "    </tr>\n",
       "    <tr>\n",
       "      <th>4</th>\n",
       "      <td>5.582455</td>\n",
       "      <td>-3.103491</td>\n",
       "      <td>3.608377</td>\n",
       "      <td>32000</td>\n",
       "      <td>upper-cut</td>\n",
       "      <td>right</td>\n",
       "      <td>0</td>\n",
       "    </tr>\n",
       "  </tbody>\n",
       "</table>\n",
       "</div>"
      ],
      "text/plain": [
       "          x         y         z  timestamp      label   hand annotator\n",
       "0  6.793223 -2.383251  2.962314          0  upper-cut  right         0\n",
       "1  6.601798 -2.871387  3.359523       2000  upper-cut  right         0\n",
       "2  6.343373 -3.129812  3.558127      16000  upper-cut  right         0\n",
       "3  5.962914 -3.136991  3.625126      28000  upper-cut  right         0\n",
       "4  5.582455 -3.103491  3.608377      32000  upper-cut  right         0"
      ]
     },
     "execution_count": 15,
     "metadata": {},
     "output_type": "execute_result"
    }
   ],
   "source": [
    "#define which datset to pick (for testing only !)\n",
    "ds[0].head(5)"
   ]
  },
  {
   "cell_type": "code",
   "execution_count": null,
   "metadata": {
    "scrolled": true
   },
   "outputs": [],
   "source": [
    "ds_new = standardizer.normate_dataset_period(periodLengthMS,sampleRateUS,ds)  #normalize_dataset_period(2000,1000,ds[:5])\n",
    "print(ds_new[0].head(5))"
   ]
  },
  {
   "cell_type": "code",
   "execution_count": null,
   "metadata": {},
   "outputs": [],
   "source": [
    "len(ds_new)"
   ]
  },
  {
   "cell_type": "code",
   "execution_count": null,
   "metadata": {},
   "outputs": [],
   "source": [
    "ds[ds_numb]['timestamp'].tail(5)"
   ]
  },
  {
   "cell_type": "markdown",
   "metadata": {},
   "source": [
    "## Replace all strings in the datasets\n",
    "For use ML algorithms later, replace all strings in the dataset first."
   ]
  },
  {
   "cell_type": "code",
   "execution_count": null,
   "metadata": {},
   "outputs": [],
   "source": []
  },
  {
   "cell_type": "code",
   "execution_count": null,
   "metadata": {},
   "outputs": [],
   "source": [
    "ds_to_export = standardizer.change_strings_to_numbs(ds_new)"
   ]
  },
  {
   "cell_type": "code",
   "execution_count": null,
   "metadata": {},
   "outputs": [],
   "source": [
    "# ds_to_export[1200]"
   ]
  },
  {
   "cell_type": "code",
   "execution_count": null,
   "metadata": {},
   "outputs": [],
   "source": [
    "fileName = r\"../../Datasets/Normalized/complete_smartpunch_dataset_periodMS\" + str(periodLengthMS)+\"_sampleUS\"+str(sampleRateUS)+\".csv\";\n",
    "# datasetstorer.export_list_of_dataframes_to_csv(ds_to_export,r\"../../Datasets/Normalized/complete_smartpunch_dataset_periodMS2000_sampleUS1000.csv\")\n",
    "datasetstorer.export_list_of_dataframes_to_csv(ds_to_export,fileName)"
   ]
  }
 ],
 "metadata": {
  "kernelspec": {
   "display_name": "Python 3",
   "language": "python",
   "name": "python3"
  },
  "language_info": {
   "codemirror_mode": {
    "name": "ipython",
    "version": 3
   },
   "file_extension": ".py",
   "mimetype": "text/x-python",
   "name": "python",
   "nbconvert_exporter": "python",
   "pygments_lexer": "ipython3",
   "version": "3.7.1"
  }
 },
 "nbformat": 4,
 "nbformat_minor": 2
}
