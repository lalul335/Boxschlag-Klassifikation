{
 "cells": [
  {
   "cell_type": "markdown",
   "metadata": {},
   "source": [
    "# Decription of the StringRemovement\n",
    "This Notebook replaces the strings of the puch-class, hand and annotator with numbers. This is neccessary to use the dataset for further prediction steps."
   ]
  },
  {
   "cell_type": "code",
   "execution_count": 1,
   "metadata": {
    "ExecuteTime": {
     "end_time": "2024-05-29T16:12:29.450946Z",
     "start_time": "2024-05-29T16:12:29.432185Z"
    }
   },
   "outputs": [],
   "source": [
    "#import neccessary modules\n",
    "import json\n",
    "import pandas as pd\n",
    "import seaborn as sns\n",
    "import matplotlib.pyplot as plt\n",
    "import numpy as np"
   ]
  },
  {
   "cell_type": "code",
   "execution_count": 2,
   "metadata": {},
   "outputs": [
    {
     "ename": "ModuleNotFoundError",
     "evalue": "No module named 'timeseries_helpers'",
     "output_type": "error",
     "traceback": [
      "\u001B[0;31m---------------------------------------------------------------------------\u001B[0m",
      "\u001B[0;31mModuleNotFoundError\u001B[0m                       Traceback (most recent call last)",
      "\u001B[0;32m<ipython-input-2-e1efcd3520e8>\u001B[0m in \u001B[0;36m<module>\u001B[0;34m\u001B[0m\n\u001B[1;32m      1\u001B[0m \u001B[0;31m# helper functions\u001B[0m\u001B[0;34m\u001B[0m\u001B[0;34m\u001B[0m\u001B[0;34m\u001B[0m\u001B[0m\n\u001B[0;32m----> 2\u001B[0;31m \u001B[0;32mfrom\u001B[0m \u001B[0mtimeseries_helpers\u001B[0m \u001B[0;32mimport\u001B[0m \u001B[0mdatasetstorer\u001B[0m\u001B[0;34m\u001B[0m\u001B[0;34m\u001B[0m\u001B[0m\n\u001B[0m\u001B[1;32m      3\u001B[0m \u001B[0;32mfrom\u001B[0m \u001B[0mtimeseries_helpers\u001B[0m \u001B[0;32mimport\u001B[0m \u001B[0mdataset_importer\u001B[0m\u001B[0;34m\u001B[0m\u001B[0;34m\u001B[0m\u001B[0m\n\u001B[1;32m      4\u001B[0m \u001B[0;32mfrom\u001B[0m \u001B[0mtimeseries_helpers\u001B[0m \u001B[0;32mimport\u001B[0m \u001B[0mdatabase_importer\u001B[0m\u001B[0;34m\u001B[0m\u001B[0;34m\u001B[0m\u001B[0m\n\u001B[1;32m      5\u001B[0m \u001B[0;32mfrom\u001B[0m \u001B[0mtimeseries_helpers\u001B[0m \u001B[0;32mimport\u001B[0m \u001B[0mstandardizer\u001B[0m\u001B[0;34m\u001B[0m\u001B[0;34m\u001B[0m\u001B[0m\n",
      "\u001B[0;31mModuleNotFoundError\u001B[0m: No module named 'timeseries_helpers'"
     ]
    }
   ],
   "source": [
    "# helper functions\n",
    "from timeseries_helpers import datasetstorer\n",
    "from timeseries_helpers import dataset_importer\n",
    "from timeseries_helpers import database_importer\n",
    "from timeseries_helpers import standardizer"
   ]
  },
  {
   "cell_type": "code",
   "execution_count": 7,
   "metadata": {},
   "outputs": [],
   "source": [
    "from copy import deepcopy"
   ]
  },
  {
   "cell_type": "code",
   "execution_count": 18,
   "metadata": {},
   "outputs": [],
   "source": [
    "#open json dataset\n",
    "with open('../../Datasets/Raw_Database/ds_boxSession_5948punches.json', 'r') as f:\n",
    "    jsnDataset = json.load(f)"
   ]
  },
  {
   "cell_type": "code",
   "execution_count": 19,
   "metadata": {},
   "outputs": [],
   "source": [
    "#convert dataset to timestamps in absolute us\n",
    "ds = database_importer.jsonData_to_dataset_in_timedifference_us(data=jsnDataset)"
   ]
  },
  {
   "cell_type": "code",
   "execution_count": 91,
   "metadata": {},
   "outputs": [],
   "source": [
    "# replaces the cols with strings to numbers\n",
    "def change_strings_to_numbs(dataset):\n",
    "    hands_dict = {'right':0,'left':1};\n",
    "    annotator_keys = [];\n",
    "    annotator_values = [];\n",
    "    datasetList = [];\n",
    "    \n",
    "    idx = 0;\n",
    "    for dataSet in dataset:\n",
    "        datasetList.append(dataSet.copy(deep=True));\n",
    "        # replace label\n",
    "        datasetList[idx]['label'] = datasetList[idx]['label'].map({'no-action':0,'upper-cut':1,'hook':2,'frontal':3})\n",
    "        \n",
    "        # replace annotator-name\n",
    "        datasetList[idx]['annotator'] = datasetList[idx]['annotator'].map(lambda s: s.lower());\n",
    "        if datasetList[idx]['annotator'][0] not in annotator_keys:\n",
    "            annotator_keys.append(datasetList[idx]['annotator'][0])\n",
    "            annotator_values.append(len(annotator_values))\n",
    "        \n",
    "        # convert lists to dict\n",
    "        dictionary = dict(zip(annotator_keys,annotator_values))\n",
    "        datasetList[idx]['annotator'] = datasetList[idx]['annotator'].map(dictionary) \n",
    "        # replace hand\n",
    "        datasetList[idx]['hand'] = datasetList[idx]['hand'].map(hands_dict)\n",
    "        idx = idx +1;\n",
    "    return datasetList"
   ]
  },
  {
   "cell_type": "code",
   "execution_count": 92,
   "metadata": {},
   "outputs": [],
   "source": [
    "new_ds = change_strings_to_numbs(ds)"
   ]
  },
  {
   "cell_type": "code",
   "execution_count": 136,
   "metadata": {},
   "outputs": [
    {
     "name": "stdout",
     "output_type": "stream",
     "text": [
      "[1, 3, 2]\n",
      "[0, 1]\n",
      "[0, 1, 2, 3, 4, 5, 6, 7]\n"
     ]
    }
   ],
   "source": [
    "# print results\n",
    "annotators = []\n",
    "hands = []\n",
    "labels = []\n",
    "\n",
    "for datas in new_ds:\n",
    "    if datas['label'][0] not in labels:\n",
    "        labels.append(datas['label'][0]);\n",
    "    if datas['hand'][0] not in hands:\n",
    "        hands.append(datas['hand'][0]);\n",
    "    if datas['annotator'][0] not in annotators:\n",
    "        annotators.append(datas['annotator'][0]);\n",
    "\n",
    "print(labels)\n",
    "print(hands)\n",
    "print(annotators)"
   ]
  }
 ],
 "metadata": {
  "kernelspec": {
   "display_name": "Python 3",
   "language": "python",
   "name": "python3"
  },
  "language_info": {
   "codemirror_mode": {
    "name": "ipython",
    "version": 3
   },
   "file_extension": ".py",
   "mimetype": "text/x-python",
   "name": "python",
   "nbconvert_exporter": "python",
   "pygments_lexer": "ipython3",
   "version": "3.7.1"
  }
 },
 "nbformat": 4,
 "nbformat_minor": 2
}
