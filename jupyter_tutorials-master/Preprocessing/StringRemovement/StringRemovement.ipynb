{
 "cells": [
  {
   "cell_type": "markdown",
   "metadata": {},
   "source": [
    "# Decription of the StringRemovement\n",
    "This Notebook replaces the strings of the puch-class, hand and annotator with numbers. This is neccessary to use the dataset for further prediction steps."
   ]
  },
  {
   "cell_type": "code",
   "execution_count": 1,
   "metadata": {
    "ExecuteTime": {
     "end_time": "2024-05-30T11:06:00.797750Z",
     "start_time": "2024-05-30T11:06:00.792929Z"
    }
   },
   "outputs": [],
   "source": [
    "#import neccessary modules\n",
    "import json\n",
    "import pandas as pd\n",
    "import seaborn as sns\n",
    "import matplotlib.pyplot as plt\n",
    "import numpy as np"
   ]
  },
  {
   "cell_type": "code",
   "execution_count": 2,
   "metadata": {
    "ExecuteTime": {
     "end_time": "2024-05-30T11:06:00.809033Z",
     "start_time": "2024-05-30T11:06:00.796570Z"
    }
   },
   "outputs": [],
   "source": [
    "# helper functions\n",
    "from timeseries_helpers import datasetstorer\n",
    "from timeseries_helpers import dataset_importer\n",
    "from timeseries_helpers import database_importer\n",
    "from timeseries_helpers import standardizer"
   ]
  },
  {
   "cell_type": "code",
   "execution_count": 3,
   "metadata": {
    "ExecuteTime": {
     "end_time": "2024-05-30T11:06:00.809410Z",
     "start_time": "2024-05-30T11:06:00.804846Z"
    }
   },
   "outputs": [],
   "source": [
    "from copy import deepcopy"
   ]
  },
  {
   "cell_type": "code",
   "execution_count": 4,
   "metadata": {
    "ExecuteTime": {
     "end_time": "2024-05-30T11:06:01.227635Z",
     "start_time": "2024-05-30T11:06:00.810174Z"
    }
   },
   "outputs": [
    {
     "ename": "FileNotFoundError",
     "evalue": "[Errno 2] No such file or directory: '../../Datasets/Raw_Database/ds_boxSession_5948punches.json'",
     "output_type": "error",
     "traceback": [
      "\u001B[0;31m---------------------------------------------------------------------------\u001B[0m",
      "\u001B[0;31mFileNotFoundError\u001B[0m                         Traceback (most recent call last)",
      "Cell \u001B[0;32mIn[4], line 2\u001B[0m\n\u001B[1;32m      1\u001B[0m \u001B[38;5;66;03m#open json dataset\u001B[39;00m\n\u001B[0;32m----> 2\u001B[0m \u001B[38;5;28;01mwith\u001B[39;00m \u001B[38;5;28;43mopen\u001B[39;49m\u001B[43m(\u001B[49m\u001B[38;5;124;43m'\u001B[39;49m\u001B[38;5;124;43m../../Datasets/Raw_Database/ds_boxSession_5948punches.json\u001B[39;49m\u001B[38;5;124;43m'\u001B[39;49m\u001B[43m,\u001B[49m\u001B[43m \u001B[49m\u001B[38;5;124;43m'\u001B[39;49m\u001B[38;5;124;43mr\u001B[39;49m\u001B[38;5;124;43m'\u001B[39;49m\u001B[43m)\u001B[49m \u001B[38;5;28;01mas\u001B[39;00m f:\n\u001B[1;32m      3\u001B[0m     jsnDataset \u001B[38;5;241m=\u001B[39m json\u001B[38;5;241m.\u001B[39mload(f)\n",
      "File \u001B[0;32m~/opt/anaconda3/lib/python3.8/site-packages/IPython/core/interactiveshell.py:284\u001B[0m, in \u001B[0;36m_modified_open\u001B[0;34m(file, *args, **kwargs)\u001B[0m\n\u001B[1;32m    277\u001B[0m \u001B[38;5;28;01mif\u001B[39;00m file \u001B[38;5;129;01min\u001B[39;00m {\u001B[38;5;241m0\u001B[39m, \u001B[38;5;241m1\u001B[39m, \u001B[38;5;241m2\u001B[39m}:\n\u001B[1;32m    278\u001B[0m     \u001B[38;5;28;01mraise\u001B[39;00m \u001B[38;5;167;01mValueError\u001B[39;00m(\n\u001B[1;32m    279\u001B[0m         \u001B[38;5;124mf\u001B[39m\u001B[38;5;124m\"\u001B[39m\u001B[38;5;124mIPython won\u001B[39m\u001B[38;5;124m'\u001B[39m\u001B[38;5;124mt let you open fd=\u001B[39m\u001B[38;5;132;01m{\u001B[39;00mfile\u001B[38;5;132;01m}\u001B[39;00m\u001B[38;5;124m by default \u001B[39m\u001B[38;5;124m\"\u001B[39m\n\u001B[1;32m    280\u001B[0m         \u001B[38;5;124m\"\u001B[39m\u001B[38;5;124mas it is likely to crash IPython. If you know what you are doing, \u001B[39m\u001B[38;5;124m\"\u001B[39m\n\u001B[1;32m    281\u001B[0m         \u001B[38;5;124m\"\u001B[39m\u001B[38;5;124myou can use builtins\u001B[39m\u001B[38;5;124m'\u001B[39m\u001B[38;5;124m open.\u001B[39m\u001B[38;5;124m\"\u001B[39m\n\u001B[1;32m    282\u001B[0m     )\n\u001B[0;32m--> 284\u001B[0m \u001B[38;5;28;01mreturn\u001B[39;00m \u001B[43mio_open\u001B[49m\u001B[43m(\u001B[49m\u001B[43mfile\u001B[49m\u001B[43m,\u001B[49m\u001B[43m \u001B[49m\u001B[38;5;241;43m*\u001B[39;49m\u001B[43margs\u001B[49m\u001B[43m,\u001B[49m\u001B[43m \u001B[49m\u001B[38;5;241;43m*\u001B[39;49m\u001B[38;5;241;43m*\u001B[39;49m\u001B[43mkwargs\u001B[49m\u001B[43m)\u001B[49m\n",
      "\u001B[0;31mFileNotFoundError\u001B[0m: [Errno 2] No such file or directory: '../../Datasets/Raw_Database/ds_boxSession_5948punches.json'"
     ]
    }
   ],
   "source": [
    "#open json dataset\n",
    "with open('../../Datasets/Raw_Database/ds_boxSession_5948punches.json', 'r') as f:\n",
    "    jsnDataset = json.load(f)"
   ]
  },
  {
   "cell_type": "code",
   "execution_count": null,
   "metadata": {
    "ExecuteTime": {
     "start_time": "2024-05-30T11:06:01.231859Z"
    }
   },
   "outputs": [],
   "source": [
    "#convert dataset to timestamps in absolute us\n",
    "ds = database_importer.jsonData_to_dataset_in_timedifference_us(data=jsnDataset)"
   ]
  },
  {
   "cell_type": "code",
   "execution_count": null,
   "metadata": {
    "ExecuteTime": {
     "start_time": "2024-05-30T11:06:01.236252Z"
    }
   },
   "outputs": [],
   "source": [
    "# replaces the cols with strings to numbers\n",
    "def change_strings_to_numbs(dataset):\n",
    "    hands_dict = {'right':0,'left':1};\n",
    "    annotator_keys = [];\n",
    "    annotator_values = [];\n",
    "    datasetList = [];\n",
    "    \n",
    "    idx = 0;\n",
    "    for dataSet in dataset:\n",
    "        datasetList.append(dataSet.copy(deep=True));\n",
    "        # replace label\n",
    "        datasetList[idx]['label'] = datasetList[idx]['label'].map({'no-action':0,'upper-cut':1,'hook':2,'frontal':3})\n",
    "        \n",
    "        # replace annotator-name\n",
    "        datasetList[idx]['annotator'] = datasetList[idx]['annotator'].map(lambda s: s.lower());\n",
    "        if datasetList[idx]['annotator'][0] not in annotator_keys:\n",
    "            annotator_keys.append(datasetList[idx]['annotator'][0])\n",
    "            annotator_values.append(len(annotator_values))\n",
    "        \n",
    "        # convert lists to dict\n",
    "        dictionary = dict(zip(annotator_keys,annotator_values))\n",
    "        datasetList[idx]['annotator'] = datasetList[idx]['annotator'].map(dictionary) \n",
    "        # replace hand\n",
    "        datasetList[idx]['hand'] = datasetList[idx]['hand'].map(hands_dict)\n",
    "        idx = idx +1;\n",
    "    return datasetList"
   ]
  },
  {
   "cell_type": "code",
   "execution_count": null,
   "metadata": {
    "ExecuteTime": {
     "start_time": "2024-05-30T11:06:01.238224Z"
    }
   },
   "outputs": [],
   "source": [
    "new_ds = change_strings_to_numbs(ds)"
   ]
  },
  {
   "cell_type": "code",
   "execution_count": null,
   "metadata": {
    "ExecuteTime": {
     "start_time": "2024-05-30T11:06:01.240668Z"
    }
   },
   "outputs": [],
   "source": [
    "# print results\n",
    "annotators = []\n",
    "hands = []\n",
    "labels = []\n",
    "\n",
    "for datas in new_ds:\n",
    "    if datas['label'][0] not in labels:\n",
    "        labels.append(datas['label'][0]);\n",
    "    if datas['hand'][0] not in hands:\n",
    "        hands.append(datas['hand'][0]);\n",
    "    if datas['annotator'][0] not in annotators:\n",
    "        annotators.append(datas['annotator'][0]);\n",
    "\n",
    "print(labels)\n",
    "print(hands)\n",
    "print(annotators)"
   ]
  }
 ],
 "metadata": {
  "kernelspec": {
   "display_name": "Python 3",
   "language": "python",
   "name": "python3"
  },
  "language_info": {
   "codemirror_mode": {
    "name": "ipython",
    "version": 3
   },
   "file_extension": ".py",
   "mimetype": "text/x-python",
   "name": "python",
   "nbconvert_exporter": "python",
   "pygments_lexer": "ipython3",
   "version": "3.7.1"
  }
 },
 "nbformat": 4,
 "nbformat_minor": 2
}
