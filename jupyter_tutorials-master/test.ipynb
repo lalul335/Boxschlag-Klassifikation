{
 "cells": [
  {
   "cell_type": "code",
   "execution_count": 76,
   "id": "initial_id",
   "metadata": {
    "collapsed": true,
    "ExecuteTime": {
     "end_time": "2024-05-29T17:14:35.061221Z",
     "start_time": "2024-05-29T17:14:35.053073Z"
    }
   },
   "source": [
    "#import neccessary modules\n",
    "import json\n",
    "import pandas as pd\n",
    "import seaborn as sns\n",
    "import matplotlib.pyplot as plt\n",
    "import numpy as np\n",
    "import os"
   ],
   "outputs": []
  },
  {
   "cell_type": "code",
   "execution_count": 77,
   "source": [
    "# helper functions\n",
    "from timeseries_helpers import datasetstorer\n",
    "from timeseries_helpers import dataset_importer\n",
    "from timeseries_helpers import database_importer\n",
    "from timeseries_helpers import standardizer\n",
    "from data_preprocessing import extract_accelerometer_data, csv_to_dataset_list"
   ],
   "metadata": {
    "collapsed": false,
    "ExecuteTime": {
     "end_time": "2024-05-29T17:14:35.069344Z",
     "start_time": "2024-05-29T17:14:35.063051Z"
    }
   },
   "id": "efb5e656ab8a9189",
   "outputs": []
  },
  {
   "cell_type": "code",
   "execution_count": 78,
   "source": [
    "ds = csv_to_dataset_list('/Users/raouldoublan/Documents/GitHub/Boxschlag-Klassifikation/data/Max_Gerade.csv')\n",
    "\n",
    "    \n",
    "\n"
   ],
   "metadata": {
    "collapsed": false,
    "ExecuteTime": {
     "end_time": "2024-05-29T17:14:35.340503Z",
     "start_time": "2024-05-29T17:14:35.070964Z"
    }
   },
   "id": "bb4dd20526582585",
   "outputs": []
  },
  {
   "cell_type": "code",
   "execution_count": 79,
   "source": [
    "len(ds)"
   ],
   "metadata": {
    "collapsed": false,
    "ExecuteTime": {
     "end_time": "2024-05-29T17:14:35.343936Z",
     "start_time": "2024-05-29T17:14:35.339959Z"
    }
   },
   "id": "3a22b59594435e2d",
   "outputs": []
  },
  {
   "cell_type": "code",
   "execution_count": 80,
   "source": [
    "# converts the given list of dataframes to one dataframe\n",
    "df_list = []\n",
    "for idx,e in enumerate(ds):\n",
    "    df = e.assign(punch_id=idx)\n",
    "    df['label'] = 0\n",
    "    df_list.append(df)\n",
    "df_res = pd.concat(df_list)\n",
    "df_new = df_res.reset_index(drop=True)\n",
    "df_new = df_new.rename(index=str, columns={\"accelerometerAccelerationX(G)\": \"a_x\", \"accelerometerAccelerationY(G)\": \"a_y\", \"accelerometerAccelerationZ(G)\":\"a_z\"})"
   ],
   "metadata": {
    "collapsed": false,
    "ExecuteTime": {
     "end_time": "2024-05-29T17:14:35.355800Z",
     "start_time": "2024-05-29T17:14:35.346606Z"
    }
   },
   "id": "7bb179f9bb99a2ad",
   "outputs": []
  },
  {
   "cell_type": "code",
   "execution_count": 81,
   "source": [
    "len(df_new)"
   ],
   "metadata": {
    "collapsed": false,
    "ExecuteTime": {
     "end_time": "2024-05-29T17:14:35.381865Z",
     "start_time": "2024-05-29T17:14:35.357999Z"
    }
   },
   "id": "fbe87879e7d2fd10",
   "outputs": []
  },
  {
   "cell_type": "code",
   "execution_count": 82,
   "source": [
    "df_new.head()"
   ],
   "metadata": {
    "collapsed": false,
    "ExecuteTime": {
     "end_time": "2024-05-29T17:14:35.382977Z",
     "start_time": "2024-05-29T17:14:35.369456Z"
    }
   },
   "id": "854486acebc65ebd",
   "outputs": []
  },
  {
   "cell_type": "code",
   "execution_count": 83,
   "source": [],
   "metadata": {
    "collapsed": false,
    "ExecuteTime": {
     "end_time": "2024-05-29T17:14:35.509676Z",
     "start_time": "2024-05-29T17:14:35.379127Z"
    }
   },
   "id": "ca64bf630101c9c5",
   "outputs": []
  }
 ],
 "metadata": {
  "kernelspec": {
   "display_name": "Python 3",
   "language": "python",
   "name": "python3"
  },
  "language_info": {
   "codemirror_mode": {
    "name": "ipython",
    "version": 2
   },
   "file_extension": ".py",
   "mimetype": "text/x-python",
   "name": "python",
   "nbconvert_exporter": "python",
   "pygments_lexer": "ipython2",
   "version": "2.7.6"
  }
 },
 "nbformat": 4,
 "nbformat_minor": 5
}
