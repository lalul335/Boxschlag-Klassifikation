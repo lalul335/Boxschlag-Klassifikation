{
 "cells": [
  {
   "cell_type": "code",
   "execution_count": 10,
   "id": "initial_id",
   "metadata": {
    "collapsed": true,
    "ExecuteTime": {
     "end_time": "2024-05-30T22:08:39.882349500Z",
     "start_time": "2024-05-30T22:08:39.867390200Z"
    }
   },
   "outputs": [],
   "source": [
    "#import neccessary modules\n",
    "import json\n",
    "import pandas as pd\n",
    "import seaborn as sns\n",
    "import matplotlib.pyplot as plt\n",
    "import numpy as np\n",
    "import os\n",
    "import glob"
   ]
  },
  {
   "cell_type": "code",
   "execution_count": 2,
   "outputs": [],
   "source": [
    "# helper functions\n",
    "from timeseries_helpers import datasetstorer\n",
    "from timeseries_helpers import dataset_importer\n",
    "from timeseries_helpers import database_importer\n",
    "from timeseries_helpers import standardizer\n",
    "from data_preprocessing import extract_accelerometer_data, csv_to_dataset_list\n",
    "from timeseries_helpers import classificationHelpers\n",
    "import data"
   ],
   "metadata": {
    "collapsed": false,
    "ExecuteTime": {
     "end_time": "2024-05-30T21:48:23.778217400Z",
     "start_time": "2024-05-30T21:48:23.052389Z"
    }
   },
   "id": "efb5e656ab8a9189"
  },
  {
   "cell_type": "code",
   "execution_count": 13,
   "outputs": [
    {
     "name": "stdout",
     "output_type": "stream",
     "text": [
      "<class 'pandas.core.frame.DataFrame'>\n",
      "RangeIndex: 216462 entries, 0 to 216461\n",
      "Data columns (total 4 columns):\n",
      " #   Column     Non-Null Count   Dtype  \n",
      "---  ------     --------------   -----  \n",
      " 0   timestamp  216456 non-null  float64\n",
      " 1   x          216456 non-null  float64\n",
      " 2   y          216456 non-null  float64\n",
      " 3   z          216456 non-null  float64\n",
      "dtypes: float64(4)\n",
      "memory usage: 6.6 MB\n",
      "Data imported without any errors!\n",
      " ##### Information: ####\n",
      " Imported datasets: 1\n"
     ]
    },
    {
     "name": "stderr",
     "output_type": "stream",
     "text": [
      "C:\\Users\\Raoul\\Documents\\GitHub\\Boxschlag-Klassifikation\\venv\\lib\\site-packages\\numpy\\core\\fromnumeric.py:59: FutureWarning: 'DataFrame.swapaxes' is deprecated and will be removed in a future version. Please use 'DataFrame.transpose' instead.\n",
      "  return bound(*args, **kwds)\n"
     ]
    }
   ],
   "source": [
    "# Read the CSV files\n",
    "\n",
    "data_2 = pd.read_csv(r'C:\\Users\\Raoul\\Documents\\GitHub\\Boxschlag-Klassifikation\\data\\Max_Kinnhacken.csv')\n",
    "data_1 = pd.read_csv(r'C:\\Users\\Raoul\\Documents\\GitHub\\Boxschlag-Klassifikation\\data\\Max_Gerade.csv')\n",
    "data_3 = pd.read_csv(r'C:\\Users\\Raoul\\Documents\\GitHub\\Boxschlag-Klassifikation\\data\\Max_Kopfhacken.csv')\n",
    "data_4 = pd.read_csv(r'C:\\Users\\Raoul\\Documents\\GitHub\\Boxschlag-Klassifikation\\data\\Max_Gemischt_01.csv')\n",
    "data_5 = pd.read_csv(r'C:\\Users\\Raoul\\Documents\\GitHub\\Boxschlag-Klassifikation\\data\\Max_Gemischt_02.csv')\n",
    "\n",
    "# List of CSV file paths\n",
    "csv_files = glob.glob(r'C:\\Users\\Raoul\\Documents\\GitHub\\Boxschlag-Klassifikation\\data\\*.csv')\n",
    "\n",
    "# List to store each CSV file as a DataFrame\n",
    "dfs = []\n",
    "\n",
    "# Loop through the list of CSV file paths\n",
    "for csv_file in csv_files:\n",
    "    # Read CSV file into DataFrame and append to list\n",
    "    dfs.append(pd.read_csv(csv_file))\n",
    "\n",
    "# Concatenate all DataFrames in the list into a single DataFrame\n",
    "merged_df = pd.concat(dfs, ignore_index=True)\n",
    "\n",
    "# Write the merged dataframe to a new CSV file\n",
    "merged_df.to_csv(r'C:\\Users\\Raoul\\Documents\\GitHub\\Boxschlag-Klassifikation\\jupyter_tutorials-master\\Merged_df.csv', index=False)\n",
    "\n",
    "ds = csv_to_dataset_list(r'C:\\Users\\Raoul\\Documents\\GitHub\\Boxschlag-Klassifikation\\jupyter_tutorials-master\\Merged_df.csv')"
   ],
   "metadata": {
    "collapsed": false,
    "ExecuteTime": {
     "end_time": "2024-05-30T22:11:15.026945400Z",
     "start_time": "2024-05-30T22:10:59.220711100Z"
    }
   },
   "id": "bb4dd20526582585"
  },
  {
   "cell_type": "code",
   "execution_count": 4,
   "outputs": [],
   "source": [
    "import os\n",
    "\n",
    "directory = r'\\Users\\raouldoublan\\Documents\\GitHub\\Boxschlag-Klassifikation'\n",
    "\n",
    "# Create the directory if it does not exist\n",
    "if not os.path.exists(directory):\n",
    "    os.makedirs(directory)\n",
    "\n",
    "# Now you can save your file in the 'directory'"
   ],
   "metadata": {
    "collapsed": false,
    "ExecuteTime": {
     "end_time": "2024-05-30T21:48:30.979430400Z",
     "start_time": "2024-05-30T21:48:30.934964700Z"
    }
   },
   "id": "14db66f3d77fb744"
  },
  {
   "cell_type": "code",
   "execution_count": 6,
   "outputs": [],
   "source": [
    "data = extract_accelerometer_data(r'C:\\Users\\Raoul\\Documents\\GitHub\\Boxschlag-Klassifikation\\data\\Max_Gerade.csv')\n",
    "\n",
    "def csv_to_json(file_path):\n",
    "    dataset = []\n",
    "    # Read the CSV file and morph it into a indexed Dictionary\n",
    "    data = extract_accelerometer_data(file_path)\n",
    "    \n",
    "    # insert raws into dataset\n",
    "    dataset = {'raws': data, 'label': 0, 'count': len(data)}\n",
    "    \n",
    "    for idx,e in data:\n",
    "        if idx < 100:\n",
    "            print(idx)\n",
    "    "
   ],
   "metadata": {
    "collapsed": false,
    "ExecuteTime": {
     "end_time": "2024-05-30T22:00:42.867971800Z",
     "start_time": "2024-05-30T22:00:42.213085300Z"
    }
   },
   "id": "cd5e84ba9ef0b4ab"
  },
  {
   "cell_type": "code",
   "execution_count": 7,
   "outputs": [
    {
     "ename": "ValueError",
     "evalue": "too many values to unpack (expected 2)",
     "output_type": "error",
     "traceback": [
      "\u001B[1;31m---------------------------------------------------------------------------\u001B[0m",
      "\u001B[1;31mValueError\u001B[0m                                Traceback (most recent call last)",
      "Cell \u001B[1;32mIn[7], line 1\u001B[0m\n\u001B[1;32m----> 1\u001B[0m \u001B[43mcsv_to_json\u001B[49m\u001B[43m(\u001B[49m\u001B[38;5;124;43mr\u001B[39;49m\u001B[38;5;124;43m'\u001B[39;49m\u001B[38;5;124;43mC:\u001B[39;49m\u001B[38;5;124;43m\\\u001B[39;49m\u001B[38;5;124;43mUsers\u001B[39;49m\u001B[38;5;124;43m\\\u001B[39;49m\u001B[38;5;124;43mRaoul\u001B[39;49m\u001B[38;5;124;43m\\\u001B[39;49m\u001B[38;5;124;43mDocuments\u001B[39;49m\u001B[38;5;124;43m\\\u001B[39;49m\u001B[38;5;124;43mGitHub\u001B[39;49m\u001B[38;5;124;43m\\\u001B[39;49m\u001B[38;5;124;43mBoxschlag-Klassifikation\u001B[39;49m\u001B[38;5;124;43m\\\u001B[39;49m\u001B[38;5;124;43mdata\u001B[39;49m\u001B[38;5;124;43m\\\u001B[39;49m\u001B[38;5;124;43mMax_Gerade.csv\u001B[39;49m\u001B[38;5;124;43m'\u001B[39;49m\u001B[43m)\u001B[49m\n",
      "Cell \u001B[1;32mIn[6], line 11\u001B[0m, in \u001B[0;36mcsv_to_json\u001B[1;34m(file_path)\u001B[0m\n\u001B[0;32m      8\u001B[0m \u001B[38;5;66;03m# insert raws into dataset\u001B[39;00m\n\u001B[0;32m      9\u001B[0m dataset \u001B[38;5;241m=\u001B[39m {\u001B[38;5;124m'\u001B[39m\u001B[38;5;124mraws\u001B[39m\u001B[38;5;124m'\u001B[39m: data, \u001B[38;5;124m'\u001B[39m\u001B[38;5;124mlabel\u001B[39m\u001B[38;5;124m'\u001B[39m: \u001B[38;5;241m0\u001B[39m, \u001B[38;5;124m'\u001B[39m\u001B[38;5;124mcount\u001B[39m\u001B[38;5;124m'\u001B[39m: \u001B[38;5;28mlen\u001B[39m(data)}\n\u001B[1;32m---> 11\u001B[0m \u001B[38;5;28;01mfor\u001B[39;00m idx,e \u001B[38;5;129;01min\u001B[39;00m data:\n\u001B[0;32m     12\u001B[0m     \u001B[38;5;28;01mif\u001B[39;00m idx \u001B[38;5;241m<\u001B[39m \u001B[38;5;241m100\u001B[39m:\n\u001B[0;32m     13\u001B[0m         \u001B[38;5;28mprint\u001B[39m(idx)\n",
      "\u001B[1;31mValueError\u001B[0m: too many values to unpack (expected 2)"
     ]
    }
   ],
   "source": [
    "csv_to_json(r'C:\\Users\\Raoul\\Documents\\GitHub\\Boxschlag-Klassifikation\\data\\Max_Gerade.csv')"
   ],
   "metadata": {
    "collapsed": false,
    "ExecuteTime": {
     "end_time": "2024-05-30T22:00:53.439552900Z",
     "start_time": "2024-05-30T22:00:51.943893800Z"
    }
   },
   "id": "2dd7beaff3c143b2"
  },
  {
   "cell_type": "code",
   "execution_count": null,
   "outputs": [],
   "source": [
    "## period length in ms\n",
    "periodLengthMS = 1000\n",
    "\n",
    "## sample rate in µs\n",
    "sampleRateUS = 10000\n",
    "\n",
    "## test/train ratio\n",
    "trainDataRatio = 0.7\n",
    "trainDataAbs = 100*trainDataRatio\n",
    "\n",
    "## Json dataset path\n",
    "jsonDSpath = '/Users/raouldoublan/Documents/GitHub/Boxschlag-Klassifikation/data/Merged_Data.json'"
   ],
   "metadata": {
    "collapsed": false,
    "ExecuteTime": {
     "start_time": "2024-05-30T21:48:30.970430500Z"
    }
   },
   "id": "3a22b59594435e2d"
  },
  {
   "cell_type": "code",
   "execution_count": null,
   "outputs": [],
   "source": [
    "#with open('/Users/raouldoublan/Documents/GitHub/Boxschlag-Klassifikation/data/Merged_Data.json', 'r') as f:\n",
    "#    jsnDataset = json.load(f)\n",
    "\n",
    "tweets = []\n",
    "with open('/Users/raouldoublan/Documents/GitHub/Boxschlag-Klassifikation/data/Merged_Data.json', 'r') as file:\n",
    "    for line in file:\n",
    "        tweets.append(json.loads(line))\n",
    "\n",
    "dl = database_importer.jsonData_to_dataset_in_timedifference_us(tweets)"
   ],
   "metadata": {
    "collapsed": false,
    "ExecuteTime": {
     "start_time": "2024-05-30T21:48:30.973422500Z"
    }
   },
   "id": "fcd6ae163f3cc7b5"
  },
  {
   "cell_type": "code",
   "execution_count": null,
   "outputs": [],
   "source": [
    "buff = classificationHelpers.prepareDataset(jsonDSpath, periodLengthMS, sampleRateUS)"
   ],
   "metadata": {
    "collapsed": false,
    "ExecuteTime": {
     "start_time": "2024-05-30T21:48:30.975417500Z"
    }
   },
   "id": "ea71aa18a8417903"
  },
  {
   "cell_type": "code",
   "execution_count": null,
   "outputs": [],
   "source": [
    "# converts the given list of dataframes to one dataframe\n",
    "df_list = []\n",
    "for idx,e in enumerate(ds):\n",
    "    df = e.assign(punch_id=idx)\n",
    "    df['label'] = 0\n",
    "    df_list.append(df)\n",
    "df_res = pd.concat(df_list)\n",
    "df_new = df_res.reset_index(drop=True)\n",
    "df_new = df_new.rename(index=str, columns={\"accelerometerAccelerationX(G)\": \"a_x\", \"accelerometerAccelerationY(G)\": \"a_y\", \"accelerometerAccelerationZ(G)\":\"a_z\"})"
   ],
   "metadata": {
    "collapsed": false,
    "ExecuteTime": {
     "start_time": "2024-05-30T21:48:30.977412200Z"
    }
   },
   "id": "7bb179f9bb99a2ad"
  },
  {
   "cell_type": "code",
   "execution_count": null,
   "outputs": [],
   "source": [],
   "metadata": {
    "collapsed": false,
    "ExecuteTime": {
     "start_time": "2024-05-30T21:48:30.979430400Z"
    }
   },
   "id": "fbe87879e7d2fd10"
  },
  {
   "cell_type": "code",
   "execution_count": null,
   "outputs": [],
   "source": [
    "df_new.head()"
   ],
   "metadata": {
    "collapsed": false,
    "ExecuteTime": {
     "end_time": "2024-05-30T21:48:30.981402900Z",
     "start_time": "2024-05-30T21:48:30.981402900Z"
    }
   },
   "id": "854486acebc65ebd"
  },
  {
   "cell_type": "code",
   "execution_count": null,
   "outputs": [],
   "source": [],
   "metadata": {
    "collapsed": false,
    "ExecuteTime": {
     "start_time": "2024-05-30T21:48:30.983395900Z"
    }
   },
   "id": "ca64bf630101c9c5"
  }
 ],
 "metadata": {
  "kernelspec": {
   "display_name": "Python 3",
   "language": "python",
   "name": "python3"
  },
  "language_info": {
   "codemirror_mode": {
    "name": "ipython",
    "version": 2
   },
   "file_extension": ".py",
   "mimetype": "text/x-python",
   "name": "python",
   "nbconvert_exporter": "python",
   "pygments_lexer": "ipython2",
   "version": "2.7.6"
  }
 },
 "nbformat": 4,
 "nbformat_minor": 5
}
