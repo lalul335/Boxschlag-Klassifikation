{
 "cells": [
  {
   "cell_type": "code",
   "id": "initial_id",
   "metadata": {
    "collapsed": true,
    "ExecuteTime": {
     "end_time": "2024-06-29T16:18:18.899652Z",
     "start_time": "2024-06-29T16:18:17.221644Z"
    }
   },
   "source": [
    "import json\n",
    "import prepro\n",
    "\n",
    "periodLengthMS = 1\n",
    "sampleRateUS = 1\n",
    "\n",
    "\n",
    "with open('datav1.json', 'r') as f:\n",
    "    dsds = json.load(f)\n"
   ],
   "outputs": [],
   "execution_count": 13
  },
  {
   "metadata": {
    "ExecuteTime": {
     "end_time": "2024-06-29T16:18:20.103776Z",
     "start_time": "2024-06-29T16:18:20.092013Z"
    }
   },
   "cell_type": "code",
   "source": [
    "labels = [\"Gerade\", \"Kopfhaken\", \"Kinnhaken\"]\n",
    "label_counts = {label: 0 for label in labels}\n",
    "\n",
    "for item in dsds:\n",
    "    if item['label'] in labels:\n",
    "        label_counts[item['label']] += 1\n",
    "\n",
    "for label, count in label_counts.items():\n",
    "    print(f\"Label: {label}, Count: {count}\")\n"
   ],
   "id": "a9132c6c1241e847",
   "outputs": [
    {
     "name": "stdout",
     "output_type": "stream",
     "text": [
      "Label: Gerade, Count: 792\n",
      "Label: Kopfhaken, Count: 736\n",
      "Label: Kinnhaken, Count: 829\n"
     ]
    }
   ],
   "execution_count": 14
  },
  {
   "metadata": {
    "ExecuteTime": {
     "end_time": "2024-06-29T16:21:24.644064Z",
     "start_time": "2024-06-29T16:21:24.630075Z"
    }
   },
   "cell_type": "code",
   "source": [
    "total_time_ns = sum(item['periodNS'] for item in dsds)\n",
    "total_time_s = total_time_ns / 1e9 /3600\n",
    "print(total_time_s)"
   ],
   "id": "33617c92fce99bdf",
   "outputs": [
    {
     "name": "stdout",
     "output_type": "stream",
     "text": [
      "1.072874183090268\n"
     ]
    }
   ],
   "execution_count": 36
  },
  {
   "metadata": {
    "ExecuteTime": {
     "end_time": "2024-06-29T16:21:36.732995Z",
     "start_time": "2024-06-29T16:21:36.722034Z"
    }
   },
   "cell_type": "code",
   "source": "\n",
   "id": "f64ff50106c743f1",
   "outputs": [],
   "execution_count": 36
  },
  {
   "metadata": {
    "ExecuteTime": {
     "end_time": "2024-06-29T16:21:38.044325Z",
     "start_time": "2024-06-29T16:21:38.025879Z"
    }
   },
   "cell_type": "code",
   "source": "\n",
   "id": "d92310c5f35d4bf0",
   "outputs": [],
   "execution_count": 36
  },
  {
   "metadata": {},
   "cell_type": "code",
   "outputs": [],
   "execution_count": null,
   "source": "",
   "id": "f7046b5e5cc5e151"
  }
 ],
 "metadata": {
  "kernelspec": {
   "display_name": "Python 3",
   "language": "python",
   "name": "python3"
  },
  "language_info": {
   "codemirror_mode": {
    "name": "ipython",
    "version": 2
   },
   "file_extension": ".py",
   "mimetype": "text/x-python",
   "name": "python",
   "nbconvert_exporter": "python",
   "pygments_lexer": "ipython2",
   "version": "2.7.6"
  }
 },
 "nbformat": 4,
 "nbformat_minor": 5
}
