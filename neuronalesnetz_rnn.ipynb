{
 "cells": [
  {
   "cell_type": "code",
   "id": "initial_id",
   "metadata": {
    "collapsed": true,
    "ExecuteTime": {
     "end_time": "2024-06-27T11:04:00.427214Z",
     "start_time": "2024-06-27T11:03:41.254272Z"
    }
   },
   "source": [
    "from tensorflow import keras\n",
    "import tensorflow as tf\n",
    "import seaborn as sns\n",
    "import data_preprocessing\n",
    "import pandas as pd\n",
    "import numpy as np\n",
    "from scipy.interpolate import interp1d\n",
    "import scipy\n",
    "from sklearn.preprocessing import StandardScaler\n",
    "from sklearn.decomposition import PCA\n",
    "import matplotlib.pyplot as plt\n",
    "#from tsfresh import extract_features\n"
   ],
   "outputs": [],
   "execution_count": 1
  },
  {
   "metadata": {
    "ExecuteTime": {
     "end_time": "2024-06-26T09:21:46.435878Z",
     "start_time": "2024-06-26T09:21:40.245531Z"
    }
   },
   "cell_type": "code",
   "source": "!pip install scikit-learn",
   "id": "85a061e31c82fab6",
   "outputs": [
    {
     "name": "stdout",
     "output_type": "stream",
     "text": [
      "Requirement already satisfied: scikit-learn in c:\\users\\fiete\\pycharmprojects\\pythonproject\\venv\\lib\\site-packages (1.4.2)\n",
      "Requirement already satisfied: numpy>=1.19.5 in c:\\users\\fiete\\pycharmprojects\\pythonproject\\venv\\lib\\site-packages (from scikit-learn) (1.26.4)\n",
      "Requirement already satisfied: scipy>=1.6.0 in c:\\users\\fiete\\pycharmprojects\\pythonproject\\venv\\lib\\site-packages (from scikit-learn) (1.13.1)\n",
      "Requirement already satisfied: joblib>=1.2.0 in c:\\users\\fiete\\pycharmprojects\\pythonproject\\venv\\lib\\site-packages (from scikit-learn) (1.4.2)\n",
      "Requirement already satisfied: threadpoolctl>=2.0.0 in c:\\users\\fiete\\pycharmprojects\\pythonproject\\venv\\lib\\site-packages (from scikit-learn) (3.5.0)\n"
     ]
    },
    {
     "name": "stderr",
     "output_type": "stream",
     "text": [
      "\n",
      "[notice] A new release of pip is available: 23.3.2 -> 24.1\n",
      "[notice] To update, run: python.exe -m pip install --upgrade pip\n"
     ]
    }
   ],
   "execution_count": 8
  },
  {
   "metadata": {
    "ExecuteTime": {
     "end_time": "2024-06-27T11:07:15.064569Z",
     "start_time": "2024-06-27T11:07:15.050013Z"
    }
   },
   "cell_type": "code",
   "source": [
    "def csv_to_json(csv_file_path, json_file_path):\n",
    "    # Read the CSV data\n",
    "    df = pd.read_csv(csv_file_path)\n",
    "\n",
    "    # Convert the CSV data to JSON\n",
    "    json_data = df.to_json(orient='records')\n",
    "\n",
    "    # Write the JSON data to a file\n",
    "    with open(json_file_path, 'w') as json_file:\n",
    "        json_file.write(json_data)\n",
    "    \n",
    "\n"
   ],
   "id": "694baa5c53790bca",
   "outputs": [],
   "execution_count": 2
  },
  {
   "metadata": {
    "ExecuteTime": {
     "end_time": "2024-06-27T11:07:18.728860Z",
     "start_time": "2024-06-27T11:07:18.122332Z"
    }
   },
   "cell_type": "code",
   "source": [
    "path_dataset = r'small_dataset.csv'\n",
    "path_json = r'C:\\Users\\fiete\\PycharmProjects\\boxklassifikation\\Boxschlag-Klassifikation\\.json'\n",
    "csv_to_json(path_dataset, path_json)"
   ],
   "id": "4f641080ab130f24",
   "outputs": [],
   "execution_count": 3
  },
  {
   "metadata": {
    "ExecuteTime": {
     "end_time": "2024-06-27T13:10:32.054603Z",
     "start_time": "2024-06-27T13:10:26.604803Z"
    }
   },
   "cell_type": "code",
   "source": [
    "# Normalisierung der Daten\n",
    "\"\"\"\n",
    "Gerne mit periodLengthMS und sampling sampleRateUS rumspielen. Den Effekt von den Variablen könnt ihr in smartPunch_tutorial_ManipulatePeriodLength.ipynb sehen.  \n",
    "\"\"\"\n",
    "import json\n",
    "import prepro\n",
    "\n",
    "periodLengthMS = 1000\n",
    "sampleRateUS = 10000\n",
    "\n",
    "\n",
    "with open('lalulstolledaten.json', 'r') as f:\n",
    "    dsds = json.load(f)\n",
    "\n",
    "\n",
    "\n",
    "\n",
    "\n",
    "ds = prepro.jsonData_to_dataset_in_timedifference_us(dsds)\n",
    "\n",
    "df_new = prepro.normate_dataset_period(periodLengthMS, sampleRateUS, ds)"
   ],
   "id": "570969bc05df4879",
   "outputs": [
    {
     "name": "stdout",
     "output_type": "stream",
     "text": [
      "Starting new normalization/interpolation...\n",
      "progress: 0.34 %\n",
      "progress: 0.68 %\n",
      "progress: 1.01 %\n",
      "progress: 1.35 %\n",
      "progress: 1.69 %\n",
      "progress: 2.03 %\n",
      "progress: 2.36 %\n",
      "progress: 2.70 %\n",
      "progress: 3.04 %\n",
      "progress: 3.38 %\n",
      "progress: 3.72 %\n",
      "progress: 4.05 %\n",
      "progress: 4.39 %\n",
      "progress: 4.73 %\n",
      "progress: 5.07 %\n",
      "progress: 5.41 %\n",
      "progress: 5.74 %\n",
      "progress: 6.08 %\n",
      "progress: 6.42 %\n",
      "progress: 6.76 %\n",
      "progress: 7.09 %\n",
      "progress: 7.43 %\n",
      "progress: 7.77 %\n",
      "progress: 8.11 %\n",
      "progress: 8.45 %\n",
      "progress: 8.78 %\n",
      "progress: 9.12 %\n",
      "progress: 9.46 %\n",
      "progress: 9.80 %\n",
      "progress: 10.14 %\n",
      "progress: 10.47 %\n",
      "progress: 10.81 %\n",
      "progress: 11.15 %\n",
      "progress: 11.49 %\n",
      "progress: 11.82 %\n",
      "progress: 12.16 %\n",
      "progress: 12.50 %\n",
      "progress: 12.84 %\n",
      "progress: 13.18 %\n",
      "progress: 13.51 %\n",
      "progress: 13.85 %\n",
      "progress: 14.19 %\n",
      "progress: 14.53 %\n",
      "progress: 14.86 %\n",
      "progress: 15.20 %\n",
      "progress: 15.54 %\n",
      "progress: 15.88 %\n",
      "progress: 16.22 %\n",
      "progress: 16.55 %\n",
      "progress: 16.89 %\n",
      "progress: 17.23 %\n",
      "progress: 17.57 %\n",
      "progress: 17.91 %\n",
      "progress: 18.24 %\n",
      "progress: 18.58 %\n",
      "progress: 18.92 %\n",
      "progress: 19.26 %\n",
      "progress: 19.59 %\n",
      "progress: 19.93 %\n",
      "progress: 20.27 %\n",
      "progress: 20.61 %\n",
      "progress: 20.95 %\n",
      "progress: 21.28 %\n",
      "progress: 21.62 %\n",
      "progress: 21.96 %\n",
      "progress: 22.30 %\n",
      "progress: 22.64 %\n",
      "progress: 22.97 %\n",
      "progress: 23.31 %\n",
      "progress: 23.65 %\n",
      "progress: 23.99 %\n",
      "progress: 24.32 %\n",
      "progress: 24.66 %\n",
      "progress: 25.00 %\n",
      "progress: 25.34 %\n",
      "progress: 25.68 %\n",
      "progress: 26.01 %\n",
      "progress: 26.35 %\n",
      "progress: 26.69 %\n",
      "progress: 27.03 %\n",
      "progress: 27.36 %\n",
      "progress: 27.70 %\n",
      "progress: 28.04 %\n",
      "progress: 28.38 %\n",
      "progress: 28.72 %\n",
      "progress: 29.05 %\n",
      "progress: 29.39 %\n",
      "progress: 29.73 %\n",
      "progress: 30.07 %\n",
      "progress: 30.41 %\n",
      "progress: 30.74 %\n",
      "progress: 31.08 %\n",
      "progress: 31.42 %\n",
      "progress: 31.76 %\n",
      "progress: 32.09 %\n",
      "progress: 32.43 %\n",
      "progress: 32.77 %\n",
      "progress: 33.11 %\n",
      "progress: 33.45 %\n",
      "progress: 33.78 %\n",
      "progress: 33.78 %\n",
      "progress: 34.12 %\n",
      "progress: 34.46 %\n",
      "progress: 34.80 %\n",
      "progress: 35.14 %\n",
      "progress: 35.47 %\n",
      "progress: 35.81 %\n",
      "progress: 36.15 %\n",
      "progress: 36.49 %\n",
      "progress: 36.82 %\n",
      "progress: 37.16 %\n",
      "progress: 37.50 %\n",
      "progress: 37.84 %\n",
      "progress: 38.18 %\n",
      "progress: 38.51 %\n",
      "progress: 38.85 %\n",
      "progress: 39.19 %\n",
      "progress: 39.53 %\n",
      "progress: 39.86 %\n",
      "progress: 40.20 %\n",
      "progress: 40.54 %\n",
      "progress: 40.88 %\n",
      "progress: 41.22 %\n",
      "progress: 41.55 %\n",
      "progress: 41.89 %\n",
      "progress: 42.23 %\n",
      "progress: 42.57 %\n",
      "progress: 42.91 %\n",
      "progress: 43.24 %\n",
      "progress: 43.58 %\n",
      "progress: 43.92 %\n",
      "progress: 44.26 %\n",
      "progress: 44.59 %\n",
      "progress: 44.93 %\n",
      "progress: 45.27 %\n",
      "progress: 45.61 %\n",
      "progress: 45.95 %\n",
      "progress: 46.28 %\n",
      "progress: 46.62 %\n",
      "progress: 46.96 %\n",
      "progress: 47.30 %\n",
      "progress: 47.64 %\n",
      "progress: 47.97 %\n",
      "progress: 48.31 %\n",
      "progress: 48.65 %\n",
      "progress: 48.99 %\n",
      "progress: 49.32 %\n",
      "progress: 49.66 %\n",
      "progress: 50.00 %\n",
      "progress: 50.34 %\n",
      "progress: 50.68 %\n",
      "progress: 51.01 %\n",
      "progress: 51.35 %\n",
      "progress: 51.69 %\n",
      "progress: 52.03 %\n",
      "progress: 52.36 %\n",
      "progress: 52.70 %\n",
      "progress: 53.04 %\n",
      "progress: 53.38 %\n",
      "progress: 53.72 %\n",
      "progress: 54.05 %\n",
      "progress: 54.39 %\n",
      "progress: 54.73 %\n",
      "progress: 55.07 %\n",
      "progress: 55.41 %\n",
      "progress: 55.74 %\n",
      "progress: 56.08 %\n",
      "progress: 56.42 %\n",
      "progress: 56.76 %\n",
      "progress: 57.09 %\n",
      "progress: 57.43 %\n",
      "progress: 57.77 %\n",
      "progress: 58.11 %\n",
      "progress: 58.45 %\n",
      "progress: 58.78 %\n",
      "progress: 59.12 %\n",
      "progress: 59.46 %\n",
      "progress: 59.80 %\n",
      "progress: 60.14 %\n",
      "progress: 60.47 %\n",
      "progress: 60.81 %\n",
      "progress: 61.15 %\n",
      "progress: 61.49 %\n",
      "progress: 61.82 %\n",
      "progress: 62.16 %\n",
      "progress: 62.50 %\n",
      "progress: 62.84 %\n",
      "progress: 63.18 %\n",
      "progress: 63.51 %\n",
      "progress: 63.85 %\n",
      "progress: 64.19 %\n",
      "progress: 64.53 %\n",
      "progress: 64.86 %\n",
      "progress: 65.20 %\n",
      "progress: 65.54 %\n",
      "progress: 65.88 %\n",
      "progress: 66.22 %\n",
      "progress: 66.55 %\n",
      "progress: 66.89 %\n",
      "progress: 67.23 %\n",
      "progress: 67.57 %\n",
      "progress: 67.57 %\n",
      "progress: 67.91 %\n",
      "progress: 68.24 %\n",
      "progress: 68.58 %\n",
      "progress: 68.92 %\n",
      "progress: 69.26 %\n",
      "progress: 69.59 %\n",
      "progress: 69.93 %\n",
      "progress: 70.27 %\n",
      "progress: 70.61 %\n",
      "progress: 70.95 %\n",
      "progress: 71.28 %\n",
      "progress: 71.62 %\n",
      "progress: 71.96 %\n",
      "progress: 72.30 %\n",
      "progress: 72.64 %\n",
      "progress: 72.97 %\n",
      "progress: 73.31 %\n",
      "progress: 73.65 %\n",
      "progress: 73.99 %\n",
      "progress: 74.32 %\n",
      "progress: 74.66 %\n",
      "progress: 75.00 %\n",
      "progress: 75.34 %\n",
      "progress: 75.68 %\n",
      "progress: 76.01 %\n",
      "progress: 76.35 %\n",
      "progress: 76.69 %\n",
      "progress: 77.03 %\n",
      "progress: 77.36 %\n",
      "progress: 77.70 %\n",
      "progress: 78.04 %\n",
      "progress: 78.38 %\n",
      "progress: 78.72 %\n",
      "progress: 79.05 %\n",
      "progress: 79.39 %\n",
      "progress: 79.73 %\n",
      "progress: 80.07 %\n",
      "progress: 80.41 %\n",
      "progress: 80.74 %\n",
      "progress: 81.08 %\n",
      "progress: 81.42 %\n",
      "progress: 81.76 %\n",
      "progress: 82.09 %\n",
      "progress: 82.43 %\n",
      "progress: 82.77 %\n",
      "progress: 83.11 %\n",
      "progress: 83.45 %\n",
      "progress: 83.78 %\n",
      "progress: 84.12 %\n",
      "progress: 84.46 %\n",
      "progress: 84.80 %\n",
      "progress: 85.14 %\n",
      "progress: 85.47 %\n",
      "progress: 85.81 %\n",
      "progress: 86.15 %\n",
      "progress: 86.49 %\n",
      "progress: 86.82 %\n",
      "progress: 87.16 %\n",
      "progress: 87.50 %\n",
      "progress: 87.84 %\n",
      "progress: 88.18 %\n",
      "progress: 88.51 %\n",
      "progress: 88.85 %\n",
      "progress: 89.19 %\n",
      "progress: 89.53 %\n",
      "progress: 89.86 %\n",
      "progress: 90.20 %\n",
      "progress: 90.54 %\n",
      "progress: 90.88 %\n",
      "progress: 91.22 %\n",
      "progress: 91.55 %\n",
      "progress: 91.89 %\n",
      "progress: 92.23 %\n",
      "progress: 92.57 %\n",
      "progress: 92.91 %\n",
      "progress: 93.24 %\n",
      "progress: 93.58 %\n",
      "progress: 93.92 %\n",
      "progress: 94.26 %\n",
      "progress: 94.59 %\n",
      "progress: 94.93 %\n",
      "progress: 95.27 %\n",
      "progress: 95.61 %\n",
      "progress: 95.95 %\n",
      "progress: 96.28 %\n",
      "progress: 96.62 %\n",
      "progress: 96.96 %\n",
      "progress: 97.30 %\n",
      "progress: 97.64 %\n",
      "progress: 97.97 %\n",
      "progress: 98.31 %\n",
      "progress: 98.65 %\n",
      "progress: 98.99 %\n",
      "progress: 99.32 %\n",
      "progress: 99.66 %\n",
      "Fertig, jetzt erstmal lecker Bierchen!\n"
     ]
    }
   ],
   "execution_count": 79
  },
  {
   "metadata": {
    "ExecuteTime": {
     "end_time": "2024-06-27T13:10:34.290182Z",
     "start_time": "2024-06-27T13:10:34.272660Z"
    }
   },
   "cell_type": "code",
   "source": "len(df_new)",
   "id": "8234e0c75a5fa0ad",
   "outputs": [
    {
     "data": {
      "text/plain": [
       "296"
      ]
     },
     "execution_count": 80,
     "metadata": {},
     "output_type": "execute_result"
    }
   ],
   "execution_count": 80
  },
  {
   "metadata": {
    "ExecuteTime": {
     "end_time": "2024-06-27T13:10:35.378692Z",
     "start_time": "2024-06-27T13:10:35.311522Z"
    }
   },
   "cell_type": "code",
   "source": "df = pd.DataFrame({'idx': range(len(df_new)), 'dfs': df_new})",
   "id": "373c95381e08d49e",
   "outputs": [],
   "execution_count": 81
  },
  {
   "metadata": {
    "ExecuteTime": {
     "end_time": "2024-06-27T13:10:38.195383Z",
     "start_time": "2024-06-27T13:10:38.188851Z"
    }
   },
   "cell_type": "code",
   "source": "",
   "id": "d8343f147cacdb72",
   "outputs": [],
   "execution_count": 81
  },
  {
   "metadata": {
    "ExecuteTime": {
     "end_time": "2024-06-27T13:10:38.932912Z",
     "start_time": "2024-06-27T13:10:38.630304Z"
    }
   },
   "cell_type": "code",
   "source": [
    "gerade = []\n",
    "kinnhaken = []\n",
    "kopfhaken = []\n",
    "\n",
    "#size_of_trainset = int(len(df) * 0.2)\n",
    "#count_per_label = int(size_of_trainset / 3)\n",
    "\n",
    "\n",
    "for i in range(len(df)):\n",
    "    if(df.iloc[i][1].iloc[1].label == \"Gerade\"):\n",
    "        kopfhaken.append(df.iloc[i][1])\n",
    "    elif(df.iloc[i][1].iloc[1].label == \"Kinnhaken\"):\n",
    "        kinnhaken.append(df.iloc[i][1])\n",
    "    elif(df.iloc[i][1].iloc[1].label == \"Kopfhaken\"):\n",
    "        gerade.append(df.iloc[i][1])\n",
    "\n",
    "\n",
    "traindata = gerade+ kinnhaken+ kopfhaken\n",
    "\n",
    "print(len(traindata))"
   ],
   "id": "db83823f47b50d53",
   "outputs": [
    {
     "name": "stdout",
     "output_type": "stream",
     "text": [
      "296\n"
     ]
    }
   ],
   "execution_count": 82
  },
  {
   "metadata": {
    "ExecuteTime": {
     "end_time": "2024-06-27T13:10:40.449168Z",
     "start_time": "2024-06-27T13:10:40.430177Z"
    }
   },
   "cell_type": "code",
   "source": "x_train.shape",
   "id": "c578d6be752d94e9",
   "outputs": [
    {
     "data": {
      "text/plain": [
       "(296, 101, 3)"
      ]
     },
     "execution_count": 83,
     "metadata": {},
     "output_type": "execute_result"
    }
   ],
   "execution_count": 83
  },
  {
   "metadata": {
    "ExecuteTime": {
     "end_time": "2024-06-27T13:10:44.085412Z",
     "start_time": "2024-06-27T13:10:43.850246Z"
    }
   },
   "cell_type": "code",
   "source": [
    "x_train,y_train = [],[]\n",
    "\n",
    "for df in traindata:\n",
    "    y_train.append(df[\"label\"].iloc[0])\n",
    "    x_train.append(df.drop(columns=[\"timestamp\", \"label\"]).values)\n",
    "\n",
    "x_train = np.array(x_train)\n",
    "y_train = np.array(y_train)\n",
    "\n",
    "x_train.shape, y_train.shape"
   ],
   "id": "51a7487bab6f5517",
   "outputs": [
    {
     "data": {
      "text/plain": [
       "((296, 101, 3), (296,))"
      ]
     },
     "execution_count": 84,
     "metadata": {},
     "output_type": "execute_result"
    }
   ],
   "execution_count": 84
  },
  {
   "metadata": {
    "ExecuteTime": {
     "end_time": "2024-06-27T13:10:50.101633Z",
     "start_time": "2024-06-27T13:10:47.844429Z"
    }
   },
   "cell_type": "code",
   "source": [
    "LABELS = ['Gerade', 'Kinnhaken', 'Kopfhaken']\n",
    "# Set classes to visualize and set the feature names\n",
    "FEATURE_NAMES = ['x', 'y', 'z']\n",
    "CLASSES = ['Gerade', 'Kinnhaken', 'Kopfhaken']\n",
    "\n",
    "fig, axs = plt.subplots(nrows=3, ncols=len(CLASSES), sharex=True, sharey=False)\n",
    "fig.suptitle('Visualization of different Classes', fontsize=16)\n",
    "fig.set_size_inches(16, 9)\n",
    "x = np.arange(101)                                  #!!!!!! hier die dimensionen angeben \n",
    "for index, cls in enumerate(CLASSES):\n",
    "    # Set class as label for top subplot of each column\n",
    "    axs[0][index].set(title=cls)\n",
    "    # Get random instance from training data with corresponding class\n",
    "    instance_index = np.random.choice(np.argwhere(y_train == cls).flatten())\n",
    "    instance = x_train[instance_index]\n",
    "    # Plot the feature groups (all axis of one measurement) in the different subplots and add labels\n",
    "    for sublot in [0, 1, 2]:\n",
    "        axs[sublot][index].plot(x, instance[:, sublot])\n",
    "        axs[sublot][index].legend(FEATURE_NAMES[sublot])\n",
    "plt.show()"
   ],
   "id": "e277c228495f3fe3",
   "outputs": [
    {
     "data": {
      "text/plain": [
       "<Figure size 1600x900 with 9 Axes>"
      ],
      "image/png": "[encoded data removed]"
     },
     "metadata": {},
     "output_type": "display_data"
    }
   ],
   "execution_count": 85
  },
  {
   "metadata": {
    "ExecuteTime": {
     "end_time": "2024-06-27T13:10:52.633654Z",
     "start_time": "2024-06-27T13:10:52.622122Z"
    }
   },
   "cell_type": "code",
   "source": "",
   "id": "296eae1a505a1f7e",
   "outputs": [],
   "execution_count": 85
  },
  {
   "metadata": {
    "ExecuteTime": {
     "end_time": "2024-06-27T13:10:53.638243Z",
     "start_time": "2024-06-27T13:10:53.627706Z"
    }
   },
   "cell_type": "code",
   "source": [
    "_label = ['Gerade', 'Kinnhaken', 'Kopfhaken']\n",
    "category_to_num = {element: num for num, element in enumerate(_label)}\n",
    "numerical_data = np.vectorize(category_to_num.get)(y_train)\n",
    "\n",
    "\n",
    "y_train  = np.array(numerical_data)"
   ],
   "id": "5944d9ce943024c7",
   "outputs": [],
   "execution_count": 86
  },
  {
   "metadata": {
    "ExecuteTime": {
     "end_time": "2024-06-27T12:25:01.895131Z",
     "start_time": "2024-06-27T12:25:01.746269Z"
    }
   },
   "cell_type": "code",
   "source": [
    "#---------------------------------------------RNN BY NILS\n",
    "\n",
    "import tensorflow as tf\n",
    "from tensorflow.keras import Sequential\n",
    "from tensorflow.keras.layers import InputLayer, SimpleRNN, Dense, Dropout\n",
    "from tensorflow.keras.optimizers import Adam\n",
    "from tensorflow.keras.losses import CategoricalCrossentropy\n",
    "from tensorflow.keras.layers import LSTM, Dense, Masking, Input\n",
    "\n",
    "\n",
    "\"\"\"\n",
    "\n",
    "\"\"\"\n",
    "# Definiere das Modell\n",
    "model0 = keras.models.Sequential([\n",
    "    InputLayer(shape=x_train[1].shape),\n",
    "    SimpleRNN(units=256, activation='relu', return_sequences=True),\n",
    "    Dropout(rate=0.2),  # Dropout zur Regularisierung\n",
    "    SimpleRNN(units=256, activation='relu', return_sequences=False),\n",
    "    Dropout(rate=0.2),  # Dropout zur Regularisierung\n",
    "    Dense(3, activation='softmax')  # Ausgangsschicht für 3 Klassen\n",
    "])\n",
    "\n",
    "model0.compile(optimizer=keras.optimizers.Adam(), loss=keras.losses.categorical_crossentropy, metrics=['accuracy'])\n",
    "\n",
    "\n",
    "# Zusammenfassung des Modells ausdrucken\n",
    "print(model0.summary())"
   ],
   "id": "dec0fe1c32fbd796",
   "outputs": [
    {
     "data": {
      "text/plain": [
       "\u001B[1mModel: \"sequential_8\"\u001B[0m\n"
      ],
      "text/html": [
       "<pre style=\"white-space:pre;overflow-x:auto;line-height:normal;font-family:Menlo,'DejaVu Sans Mono',consolas,'Courier New',monospace\"><span style=\"font-weight: bold\">Model: \"sequential_8\"</span>\n",
       "</pre>\n"
      ]
     },
     "metadata": {},
     "output_type": "display_data"
    },
    {
     "data": {
      "text/plain": [
       "┏━━━━━━━━━━━━━━━━━━━━━━━━━━━━━━━━━┳━━━━━━━━━━━━━━━━━━━━━━━━┳━━━━━━━━━━━━━━━┓\n",
       "┃\u001B[1m \u001B[0m\u001B[1mLayer (type)                   \u001B[0m\u001B[1m \u001B[0m┃\u001B[1m \u001B[0m\u001B[1mOutput Shape          \u001B[0m\u001B[1m \u001B[0m┃\u001B[1m \u001B[0m\u001B[1m      Param #\u001B[0m\u001B[1m \u001B[0m┃\n",
       "┡━━━━━━━━━━━━━━━━━━━━━━━━━━━━━━━━━╇━━━━━━━━━━━━━━━━━━━━━━━━╇━━━━━━━━━━━━━━━┩\n",
       "│ simple_rnn (\u001B[38;5;33mSimpleRNN\u001B[0m)          │ (\u001B[38;5;45mNone\u001B[0m, \u001B[38;5;34m101\u001B[0m, \u001B[38;5;34m256\u001B[0m)       │        \u001B[38;5;34m66,560\u001B[0m │\n",
       "├─────────────────────────────────┼────────────────────────┼───────────────┤\n",
       "│ dropout (\u001B[38;5;33mDropout\u001B[0m)               │ (\u001B[38;5;45mNone\u001B[0m, \u001B[38;5;34m101\u001B[0m, \u001B[38;5;34m256\u001B[0m)       │             \u001B[38;5;34m0\u001B[0m │\n",
       "├─────────────────────────────────┼────────────────────────┼───────────────┤\n",
       "│ simple_rnn_1 (\u001B[38;5;33mSimpleRNN\u001B[0m)        │ (\u001B[38;5;45mNone\u001B[0m, \u001B[38;5;34m256\u001B[0m)            │       \u001B[38;5;34m131,328\u001B[0m │\n",
       "├─────────────────────────────────┼────────────────────────┼───────────────┤\n",
       "│ dropout_1 (\u001B[38;5;33mDropout\u001B[0m)             │ (\u001B[38;5;45mNone\u001B[0m, \u001B[38;5;34m256\u001B[0m)            │             \u001B[38;5;34m0\u001B[0m │\n",
       "├─────────────────────────────────┼────────────────────────┼───────────────┤\n",
       "│ dense_8 (\u001B[38;5;33mDense\u001B[0m)                 │ (\u001B[38;5;45mNone\u001B[0m, \u001B[38;5;34m3\u001B[0m)              │           \u001B[38;5;34m771\u001B[0m │\n",
       "└─────────────────────────────────┴────────────────────────┴───────────────┘\n"
      ],
      "text/html": [
       "<pre style=\"white-space:pre;overflow-x:auto;line-height:normal;font-family:Menlo,'DejaVu Sans Mono',consolas,'Courier New',monospace\">┏━━━━━━━━━━━━━━━━━━━━━━━━━━━━━━━━━┳━━━━━━━━━━━━━━━━━━━━━━━━┳━━━━━━━━━━━━━━━┓\n",
       "┃<span style=\"font-weight: bold\"> Layer (type)                    </span>┃<span style=\"font-weight: bold\"> Output Shape           </span>┃<span style=\"font-weight: bold\">       Param # </span>┃\n",
       "┡━━━━━━━━━━━━━━━━━━━━━━━━━━━━━━━━━╇━━━━━━━━━━━━━━━━━━━━━━━━╇━━━━━━━━━━━━━━━┩\n",
       "│ simple_rnn (<span style=\"color: #0087ff; text-decoration-color: #0087ff\">SimpleRNN</span>)          │ (<span style=\"color: #00d7ff; text-decoration-color: #00d7ff\">None</span>, <span style=\"color: #00af00; text-decoration-color: #00af00\">101</span>, <span style=\"color: #00af00; text-decoration-color: #00af00\">256</span>)       │        <span style=\"color: #00af00; text-decoration-color: #00af00\">66,560</span> │\n",
       "├─────────────────────────────────┼────────────────────────┼───────────────┤\n",
       "│ dropout (<span style=\"color: #0087ff; text-decoration-color: #0087ff\">Dropout</span>)               │ (<span style=\"color: #00d7ff; text-decoration-color: #00d7ff\">None</span>, <span style=\"color: #00af00; text-decoration-color: #00af00\">101</span>, <span style=\"color: #00af00; text-decoration-color: #00af00\">256</span>)       │             <span style=\"color: #00af00; text-decoration-color: #00af00\">0</span> │\n",
       "├─────────────────────────────────┼────────────────────────┼───────────────┤\n",
       "│ simple_rnn_1 (<span style=\"color: #0087ff; text-decoration-color: #0087ff\">SimpleRNN</span>)        │ (<span style=\"color: #00d7ff; text-decoration-color: #00d7ff\">None</span>, <span style=\"color: #00af00; text-decoration-color: #00af00\">256</span>)            │       <span style=\"color: #00af00; text-decoration-color: #00af00\">131,328</span> │\n",
       "├─────────────────────────────────┼────────────────────────┼───────────────┤\n",
       "│ dropout_1 (<span style=\"color: #0087ff; text-decoration-color: #0087ff\">Dropout</span>)             │ (<span style=\"color: #00d7ff; text-decoration-color: #00d7ff\">None</span>, <span style=\"color: #00af00; text-decoration-color: #00af00\">256</span>)            │             <span style=\"color: #00af00; text-decoration-color: #00af00\">0</span> │\n",
       "├─────────────────────────────────┼────────────────────────┼───────────────┤\n",
       "│ dense_8 (<span style=\"color: #0087ff; text-decoration-color: #0087ff\">Dense</span>)                 │ (<span style=\"color: #00d7ff; text-decoration-color: #00d7ff\">None</span>, <span style=\"color: #00af00; text-decoration-color: #00af00\">3</span>)              │           <span style=\"color: #00af00; text-decoration-color: #00af00\">771</span> │\n",
       "└─────────────────────────────────┴────────────────────────┴───────────────┘\n",
       "</pre>\n"
      ]
     },
     "metadata": {},
     "output_type": "display_data"
    },
    {
     "data": {
      "text/plain": [
       "\u001B[1m Total params: \u001B[0m\u001B[38;5;34m198,659\u001B[0m (776.01 KB)\n"
      ],
      "text/html": [
       "<pre style=\"white-space:pre;overflow-x:auto;line-height:normal;font-family:Menlo,'DejaVu Sans Mono',consolas,'Courier New',monospace\"><span style=\"font-weight: bold\"> Total params: </span><span style=\"color: #00af00; text-decoration-color: #00af00\">198,659</span> (776.01 KB)\n",
       "</pre>\n"
      ]
     },
     "metadata": {},
     "output_type": "display_data"
    },
    {
     "data": {
      "text/plain": [
       "\u001B[1m Trainable params: \u001B[0m\u001B[38;5;34m198,659\u001B[0m (776.01 KB)\n"
      ],
      "text/html": [
       "<pre style=\"white-space:pre;overflow-x:auto;line-height:normal;font-family:Menlo,'DejaVu Sans Mono',consolas,'Courier New',monospace\"><span style=\"font-weight: bold\"> Trainable params: </span><span style=\"color: #00af00; text-decoration-color: #00af00\">198,659</span> (776.01 KB)\n",
       "</pre>\n"
      ]
     },
     "metadata": {},
     "output_type": "display_data"
    },
    {
     "data": {
      "text/plain": [
       "\u001B[1m Non-trainable params: \u001B[0m\u001B[38;5;34m0\u001B[0m (0.00 B)\n"
      ],
      "text/html": [
       "<pre style=\"white-space:pre;overflow-x:auto;line-height:normal;font-family:Menlo,'DejaVu Sans Mono',consolas,'Courier New',monospace\"><span style=\"font-weight: bold\"> Non-trainable params: </span><span style=\"color: #00af00; text-decoration-color: #00af00\">0</span> (0.00 B)\n",
       "</pre>\n"
      ]
     },
     "metadata": {},
     "output_type": "display_data"
    },
    {
     "name": "stdout",
     "output_type": "stream",
     "text": [
      "None\n"
     ]
    }
   ],
   "execution_count": 70
  },
  {
   "metadata": {
    "ExecuteTime": {
     "end_time": "2024-06-27T13:10:58.946707Z",
     "start_time": "2024-06-27T13:10:58.934176Z"
    }
   },
   "cell_type": "code",
   "source": [
    "from sklearn.model_selection import train_test_split\n",
    "from sklearn.metrics import confusion_matrix\n",
    "\n",
    "sk_X_train, sk_X_test, sk_y_train, sk_y_test = train_test_split(x_train, y_train, test_size=0.2)\n"
   ],
   "id": "bef0695a82ba2fb6",
   "outputs": [],
   "execution_count": 87
  },
  {
   "metadata": {
    "ExecuteTime": {
     "end_time": "2024-06-27T13:16:05.173379Z",
     "start_time": "2024-06-27T13:16:05.077835Z"
    }
   },
   "cell_type": "code",
   "source": [
    "#--------------------------testing RNNs\n",
    "import tensorflow as tf\n",
    "from tensorflow.keras import Sequential\n",
    "from tensorflow.keras.layers import InputLayer, SimpleRNN, Dense, Dropout\n",
    "from tensorflow.keras.optimizers import Adam\n",
    "from tensorflow.keras.losses import CategoricalCrossentropy\n",
    "from tensorflow.keras.layers import LSTM, Dense, Masking, Input\n",
    "\n",
    "from tensorflow.keras import layers\n",
    "\n",
    "\n",
    "\n",
    "\n",
    "# Definiere das Modell\n",
    "model1 = Sequential()\n",
    "model1.add(InputLayer(shape=sk_X_train[1].shape))\n",
    "model1.add(LSTM(units=128, return_sequences=False, activation = \"relu\"))\n",
    "#model1.add(LSTM(64, return_sequences=True, activation = \"relu\"))\n",
    "#model1.add(LSTM(units=32, return_sequences=False, activation = \"relu\"))\n",
    "model1.add(Dense(3, activation=\"softmax\"))  #Output und Input müssen am Ende die selbe shape haben -> mittlere Spalte der Tabelle \n",
    "\n",
    "\n",
    "model1.compile(optimizer=keras.optimizers.Adam(), loss=keras.losses.categorical_crossentropy, metrics=['accuracy'])\n",
    "\n",
    "\n",
    "\n",
    "# Zusammenfassung des Modells ausdrucken\n",
    "print(model1.summary())"
   ],
   "id": "8f19e358f375fea1",
   "outputs": [
    {
     "data": {
      "text/plain": [
       "\u001B[1mModel: \"sequential_15\"\u001B[0m\n"
      ],
      "text/html": [
       "<pre style=\"white-space:pre;overflow-x:auto;line-height:normal;font-family:Menlo,'DejaVu Sans Mono',consolas,'Courier New',monospace\"><span style=\"font-weight: bold\">Model: \"sequential_15\"</span>\n",
       "</pre>\n"
      ]
     },
     "metadata": {},
     "output_type": "display_data"
    },
    {
     "data": {
      "text/plain": [
       "┏━━━━━━━━━━━━━━━━━━━━━━━━━━━━━━━━━┳━━━━━━━━━━━━━━━━━━━━━━━━┳━━━━━━━━━━━━━━━┓\n",
       "┃\u001B[1m \u001B[0m\u001B[1mLayer (type)                   \u001B[0m\u001B[1m \u001B[0m┃\u001B[1m \u001B[0m\u001B[1mOutput Shape          \u001B[0m\u001B[1m \u001B[0m┃\u001B[1m \u001B[0m\u001B[1m      Param #\u001B[0m\u001B[1m \u001B[0m┃\n",
       "┡━━━━━━━━━━━━━━━━━━━━━━━━━━━━━━━━━╇━━━━━━━━━━━━━━━━━━━━━━━━╇━━━━━━━━━━━━━━━┩\n",
       "│ lstm_23 (\u001B[38;5;33mLSTM\u001B[0m)                  │ (\u001B[38;5;45mNone\u001B[0m, \u001B[38;5;34m128\u001B[0m)            │        \u001B[38;5;34m67,584\u001B[0m │\n",
       "├─────────────────────────────────┼────────────────────────┼───────────────┤\n",
       "│ dense_15 (\u001B[38;5;33mDense\u001B[0m)                │ (\u001B[38;5;45mNone\u001B[0m, \u001B[38;5;34m3\u001B[0m)              │           \u001B[38;5;34m387\u001B[0m │\n",
       "└─────────────────────────────────┴────────────────────────┴───────────────┘\n"
      ],
      "text/html": [
       "<pre style=\"white-space:pre;overflow-x:auto;line-height:normal;font-family:Menlo,'DejaVu Sans Mono',consolas,'Courier New',monospace\">┏━━━━━━━━━━━━━━━━━━━━━━━━━━━━━━━━━┳━━━━━━━━━━━━━━━━━━━━━━━━┳━━━━━━━━━━━━━━━┓\n",
       "┃<span style=\"font-weight: bold\"> Layer (type)                    </span>┃<span style=\"font-weight: bold\"> Output Shape           </span>┃<span style=\"font-weight: bold\">       Param # </span>┃\n",
       "┡━━━━━━━━━━━━━━━━━━━━━━━━━━━━━━━━━╇━━━━━━━━━━━━━━━━━━━━━━━━╇━━━━━━━━━━━━━━━┩\n",
       "│ lstm_23 (<span style=\"color: #0087ff; text-decoration-color: #0087ff\">LSTM</span>)                  │ (<span style=\"color: #00d7ff; text-decoration-color: #00d7ff\">None</span>, <span style=\"color: #00af00; text-decoration-color: #00af00\">128</span>)            │        <span style=\"color: #00af00; text-decoration-color: #00af00\">67,584</span> │\n",
       "├─────────────────────────────────┼────────────────────────┼───────────────┤\n",
       "│ dense_15 (<span style=\"color: #0087ff; text-decoration-color: #0087ff\">Dense</span>)                │ (<span style=\"color: #00d7ff; text-decoration-color: #00d7ff\">None</span>, <span style=\"color: #00af00; text-decoration-color: #00af00\">3</span>)              │           <span style=\"color: #00af00; text-decoration-color: #00af00\">387</span> │\n",
       "└─────────────────────────────────┴────────────────────────┴───────────────┘\n",
       "</pre>\n"
      ]
     },
     "metadata": {},
     "output_type": "display_data"
    },
    {
     "data": {
      "text/plain": [
       "\u001B[1m Total params: \u001B[0m\u001B[38;5;34m67,971\u001B[0m (265.51 KB)\n"
      ],
      "text/html": [
       "<pre style=\"white-space:pre;overflow-x:auto;line-height:normal;font-family:Menlo,'DejaVu Sans Mono',consolas,'Courier New',monospace\"><span style=\"font-weight: bold\"> Total params: </span><span style=\"color: #00af00; text-decoration-color: #00af00\">67,971</span> (265.51 KB)\n",
       "</pre>\n"
      ]
     },
     "metadata": {},
     "output_type": "display_data"
    },
    {
     "data": {
      "text/plain": [
       "\u001B[1m Trainable params: \u001B[0m\u001B[38;5;34m67,971\u001B[0m (265.51 KB)\n"
      ],
      "text/html": [
       "<pre style=\"white-space:pre;overflow-x:auto;line-height:normal;font-family:Menlo,'DejaVu Sans Mono',consolas,'Courier New',monospace\"><span style=\"font-weight: bold\"> Trainable params: </span><span style=\"color: #00af00; text-decoration-color: #00af00\">67,971</span> (265.51 KB)\n",
       "</pre>\n"
      ]
     },
     "metadata": {},
     "output_type": "display_data"
    },
    {
     "data": {
      "text/plain": [
       "\u001B[1m Non-trainable params: \u001B[0m\u001B[38;5;34m0\u001B[0m (0.00 B)\n"
      ],
      "text/html": [
       "<pre style=\"white-space:pre;overflow-x:auto;line-height:normal;font-family:Menlo,'DejaVu Sans Mono',consolas,'Courier New',monospace\"><span style=\"font-weight: bold\"> Non-trainable params: </span><span style=\"color: #00af00; text-decoration-color: #00af00\">0</span> (0.00 B)\n",
       "</pre>\n"
      ]
     },
     "metadata": {},
     "output_type": "display_data"
    },
    {
     "name": "stdout",
     "output_type": "stream",
     "text": [
      "None\n"
     ]
    }
   ],
   "execution_count": 101
  },
  {
   "metadata": {
    "ExecuteTime": {
     "end_time": "2024-06-27T11:21:43.703773Z",
     "start_time": "2024-06-27T11:21:43.681058Z"
    }
   },
   "cell_type": "code",
   "source": "",
   "id": "6c098ce034a9e79d",
   "outputs": [
    {
     "data": {
      "text/plain": [
       "1001"
      ]
     },
     "execution_count": 15,
     "metadata": {},
     "output_type": "execute_result"
    }
   ],
   "execution_count": 15
  },
  {
   "metadata": {
    "ExecuteTime": {
     "end_time": "2024-06-27T06:38:04.567733Z",
     "start_time": "2024-06-27T06:38:04.552110Z"
    }
   },
   "cell_type": "code",
   "source": "",
   "id": "539adfd56d03cf12",
   "outputs": [
    {
     "data": {
      "text/plain": [
       "array([[ 3,  0, 15],\n",
       "       [ 1, 19,  0],\n",
       "       [ 0,  1, 20]], dtype=int64)"
      ]
     },
     "execution_count": 33,
     "metadata": {},
     "output_type": "execute_result"
    }
   ],
   "execution_count": 33
  },
  {
   "metadata": {
    "ExecuteTime": {
     "end_time": "2024-06-27T11:43:12.823119Z",
     "start_time": "2024-06-27T11:43:12.792491Z"
    }
   },
   "cell_type": "code",
   "source": "\n",
   "id": "d44816b438762eee",
   "outputs": [],
   "execution_count": 34
  },
  {
   "metadata": {
    "ExecuteTime": {
     "end_time": "2024-06-27T13:13:23.897577Z",
     "start_time": "2024-06-27T13:13:23.876489Z"
    }
   },
   "cell_type": "code",
   "source": [
    "(sk_X_train)\n",
    "\n"
   ],
   "id": "e839423990c98e7e",
   "outputs": [
    {
     "data": {
      "text/plain": [
       "array([[[-0.79697   , -0.34433355,  0.53305147],\n",
       "        [-0.76048263, -0.36034089,  0.53897504],\n",
       "        [-0.73478837, -0.37623405,  0.53202938],\n",
       "        ...,\n",
       "        [-0.44528064,  0.15252835,  0.75685716],\n",
       "        [-0.47070594,  0.04043642,  0.74228511],\n",
       "        [-0.49593939, -0.05256135,  0.73947436]],\n",
       "\n",
       "       [[ 0.28554151,  0.07101092, -0.51578297],\n",
       "        [ 0.2846215 ,  0.16254401, -0.50416596],\n",
       "        [ 0.26750484,  0.27127222, -0.50260813],\n",
       "        ...,\n",
       "        [ 0.7068761 ,  0.52775753, -0.25811749],\n",
       "        [ 0.7060828 ,  0.55355585, -0.42250354],\n",
       "        [ 0.67172249,  0.61945114, -0.53306442]],\n",
       "\n",
       "       [[ 0.75271514,  0.34553442, -0.50784162],\n",
       "        [ 0.73454164,  0.30808591, -0.49503611],\n",
       "        [ 0.71851211,  0.27640964, -0.48333626],\n",
       "        ...,\n",
       "        [-0.5127912 , -0.31992722, -1.124468  ],\n",
       "        [-0.45343228, -0.33597557, -0.98846123],\n",
       "        [-0.41460794, -0.32900447, -0.99819224]],\n",
       "\n",
       "       ...,\n",
       "\n",
       "       [[ 0.44452795,  0.20200099, -0.38731998],\n",
       "        [ 0.45712885,  0.21779146, -0.39961945],\n",
       "        [ 0.46761111,  0.22766788, -0.41710118],\n",
       "        ...,\n",
       "        [-0.27079706,  0.4642623 , -1.05852762],\n",
       "        [-0.27194849,  0.43557136, -0.97499217],\n",
       "        [-0.21983607,  0.31835784, -0.90182208]],\n",
       "\n",
       "       [[ 0.36491192,  0.53761978, -0.58557868],\n",
       "        [ 0.37208131,  0.58082304, -0.60250322],\n",
       "        [ 0.36295389,  0.6998146 , -0.62955197],\n",
       "        ...,\n",
       "        [-0.20937692,  0.29917128, -1.1515307 ],\n",
       "        [-0.16290055,  0.24890984, -1.10226237],\n",
       "        [-0.06806143,  0.21371077, -1.05407758]],\n",
       "\n",
       "       [[ 0.3778147 ,  0.38910395, -0.40371291],\n",
       "        [ 0.36802365,  0.35188263, -0.34699756],\n",
       "        [ 0.36934409,  0.32466956, -0.29469214],\n",
       "        ...,\n",
       "        [-0.11813041, -0.19365552, -0.91946912],\n",
       "        [-0.10666088, -0.22907002, -0.88921445],\n",
       "        [-0.11512083, -0.29466834, -0.87804213]]])"
      ]
     },
     "execution_count": 97,
     "metadata": {},
     "output_type": "execute_result"
    }
   ],
   "execution_count": 97
  },
  {
   "metadata": {
    "ExecuteTime": {
     "end_time": "2024-06-27T13:12:58.125629Z",
     "start_time": "2024-06-27T13:12:58.098036Z"
    }
   },
   "cell_type": "code",
   "source": "y_train_encoded",
   "id": "a98c63821339425b",
   "outputs": [
    {
     "data": {
      "text/plain": [
       "<tf.Tensor: shape=(236, 3), dtype=float32, numpy=\n",
       "array([[1., 0., 0.],\n",
       "       [0., 0., 1.],\n",
       "       [0., 1., 0.],\n",
       "       [0., 0., 1.],\n",
       "       [0., 0., 1.],\n",
       "       [0., 1., 0.],\n",
       "       [0., 1., 0.],\n",
       "       [1., 0., 0.],\n",
       "       [0., 0., 1.],\n",
       "       [1., 0., 0.],\n",
       "       [0., 0., 1.],\n",
       "       [1., 0., 0.],\n",
       "       [0., 1., 0.],\n",
       "       [0., 1., 0.],\n",
       "       [0., 1., 0.],\n",
       "       [0., 0., 1.],\n",
       "       [1., 0., 0.],\n",
       "       [0., 0., 1.],\n",
       "       [0., 1., 0.],\n",
       "       [0., 1., 0.],\n",
       "       [0., 0., 1.],\n",
       "       [0., 1., 0.],\n",
       "       [1., 0., 0.],\n",
       "       [1., 0., 0.],\n",
       "       [1., 0., 0.],\n",
       "       [1., 0., 0.],\n",
       "       [0., 0., 1.],\n",
       "       [0., 0., 1.],\n",
       "       [1., 0., 0.],\n",
       "       [0., 1., 0.],\n",
       "       [0., 0., 1.],\n",
       "       [1., 0., 0.],\n",
       "       [0., 1., 0.],\n",
       "       [0., 1., 0.],\n",
       "       [1., 0., 0.],\n",
       "       [0., 0., 1.],\n",
       "       [1., 0., 0.],\n",
       "       [0., 0., 1.],\n",
       "       [0., 1., 0.],\n",
       "       [0., 0., 1.],\n",
       "       [0., 1., 0.],\n",
       "       [1., 0., 0.],\n",
       "       [0., 1., 0.],\n",
       "       [0., 1., 0.],\n",
       "       [0., 0., 1.],\n",
       "       [0., 0., 1.],\n",
       "       [0., 0., 1.],\n",
       "       [1., 0., 0.],\n",
       "       [1., 0., 0.],\n",
       "       [0., 0., 1.],\n",
       "       [0., 1., 0.],\n",
       "       [0., 1., 0.],\n",
       "       [1., 0., 0.],\n",
       "       [0., 1., 0.],\n",
       "       [0., 1., 0.],\n",
       "       [1., 0., 0.],\n",
       "       [1., 0., 0.],\n",
       "       [1., 0., 0.],\n",
       "       [0., 0., 1.],\n",
       "       [1., 0., 0.],\n",
       "       [0., 1., 0.],\n",
       "       [0., 1., 0.],\n",
       "       [1., 0., 0.],\n",
       "       [0., 1., 0.],\n",
       "       [0., 1., 0.],\n",
       "       [0., 0., 1.],\n",
       "       [1., 0., 0.],\n",
       "       [1., 0., 0.],\n",
       "       [1., 0., 0.],\n",
       "       [1., 0., 0.],\n",
       "       [0., 1., 0.],\n",
       "       [0., 0., 1.],\n",
       "       [1., 0., 0.],\n",
       "       [0., 1., 0.],\n",
       "       [0., 0., 1.],\n",
       "       [0., 0., 1.],\n",
       "       [0., 1., 0.],\n",
       "       [0., 1., 0.],\n",
       "       [0., 1., 0.],\n",
       "       [1., 0., 0.],\n",
       "       [0., 1., 0.],\n",
       "       [1., 0., 0.],\n",
       "       [1., 0., 0.],\n",
       "       [0., 1., 0.],\n",
       "       [1., 0., 0.],\n",
       "       [1., 0., 0.],\n",
       "       [0., 0., 1.],\n",
       "       [1., 0., 0.],\n",
       "       [0., 1., 0.],\n",
       "       [1., 0., 0.],\n",
       "       [1., 0., 0.],\n",
       "       [0., 1., 0.],\n",
       "       [1., 0., 0.],\n",
       "       [1., 0., 0.],\n",
       "       [0., 0., 1.],\n",
       "       [0., 0., 1.],\n",
       "       [1., 0., 0.],\n",
       "       [0., 0., 1.],\n",
       "       [0., 1., 0.],\n",
       "       [0., 0., 1.],\n",
       "       [0., 0., 1.],\n",
       "       [0., 0., 1.],\n",
       "       [0., 1., 0.],\n",
       "       [1., 0., 0.],\n",
       "       [0., 0., 1.],\n",
       "       [0., 1., 0.],\n",
       "       [0., 0., 1.],\n",
       "       [0., 1., 0.],\n",
       "       [0., 0., 1.],\n",
       "       [1., 0., 0.],\n",
       "       [0., 1., 0.],\n",
       "       [0., 1., 0.],\n",
       "       [1., 0., 0.],\n",
       "       [0., 0., 1.],\n",
       "       [1., 0., 0.],\n",
       "       [0., 0., 1.],\n",
       "       [1., 0., 0.],\n",
       "       [1., 0., 0.],\n",
       "       [1., 0., 0.],\n",
       "       [0., 0., 1.],\n",
       "       [1., 0., 0.],\n",
       "       [1., 0., 0.],\n",
       "       [1., 0., 0.],\n",
       "       [0., 0., 1.],\n",
       "       [1., 0., 0.],\n",
       "       [0., 0., 1.],\n",
       "       [1., 0., 0.],\n",
       "       [0., 1., 0.],\n",
       "       [0., 1., 0.],\n",
       "       [1., 0., 0.],\n",
       "       [0., 1., 0.],\n",
       "       [0., 0., 1.],\n",
       "       [0., 1., 0.],\n",
       "       [0., 1., 0.],\n",
       "       [0., 1., 0.],\n",
       "       [0., 0., 1.],\n",
       "       [0., 0., 1.],\n",
       "       [0., 1., 0.],\n",
       "       [1., 0., 0.],\n",
       "       [0., 0., 1.],\n",
       "       [0., 0., 1.],\n",
       "       [0., 1., 0.],\n",
       "       [0., 0., 1.],\n",
       "       [0., 0., 1.],\n",
       "       [0., 1., 0.],\n",
       "       [0., 0., 1.],\n",
       "       [0., 0., 1.],\n",
       "       [1., 0., 0.],\n",
       "       [0., 1., 0.],\n",
       "       [0., 0., 1.],\n",
       "       [0., 0., 1.],\n",
       "       [0., 0., 1.],\n",
       "       [0., 1., 0.],\n",
       "       [0., 1., 0.],\n",
       "       [1., 0., 0.],\n",
       "       [1., 0., 0.],\n",
       "       [0., 0., 1.],\n",
       "       [0., 0., 1.],\n",
       "       [1., 0., 0.],\n",
       "       [0., 0., 1.],\n",
       "       [0., 1., 0.],\n",
       "       [0., 0., 1.],\n",
       "       [1., 0., 0.],\n",
       "       [0., 0., 1.],\n",
       "       [1., 0., 0.],\n",
       "       [0., 0., 1.],\n",
       "       [0., 1., 0.],\n",
       "       [0., 1., 0.],\n",
       "       [0., 0., 1.],\n",
       "       [0., 0., 1.],\n",
       "       [0., 1., 0.],\n",
       "       [1., 0., 0.],\n",
       "       [0., 1., 0.],\n",
       "       [1., 0., 0.],\n",
       "       [1., 0., 0.],\n",
       "       [0., 1., 0.],\n",
       "       [0., 1., 0.],\n",
       "       [0., 0., 1.],\n",
       "       [0., 1., 0.],\n",
       "       [1., 0., 0.],\n",
       "       [0., 1., 0.],\n",
       "       [1., 0., 0.],\n",
       "       [0., 1., 0.],\n",
       "       [0., 1., 0.],\n",
       "       [1., 0., 0.],\n",
       "       [1., 0., 0.],\n",
       "       [1., 0., 0.],\n",
       "       [0., 1., 0.],\n",
       "       [1., 0., 0.],\n",
       "       [0., 1., 0.],\n",
       "       [1., 0., 0.],\n",
       "       [0., 1., 0.],\n",
       "       [0., 1., 0.],\n",
       "       [0., 1., 0.],\n",
       "       [0., 1., 0.],\n",
       "       [0., 1., 0.],\n",
       "       [0., 1., 0.],\n",
       "       [0., 0., 1.],\n",
       "       [0., 0., 1.],\n",
       "       [1., 0., 0.],\n",
       "       [1., 0., 0.],\n",
       "       [1., 0., 0.],\n",
       "       [0., 0., 1.],\n",
       "       [0., 1., 0.],\n",
       "       [0., 1., 0.],\n",
       "       [1., 0., 0.],\n",
       "       [0., 1., 0.],\n",
       "       [0., 0., 1.],\n",
       "       [0., 0., 1.],\n",
       "       [1., 0., 0.],\n",
       "       [1., 0., 0.],\n",
       "       [0., 0., 1.],\n",
       "       [1., 0., 0.],\n",
       "       [1., 0., 0.],\n",
       "       [0., 1., 0.],\n",
       "       [1., 0., 0.],\n",
       "       [0., 1., 0.],\n",
       "       [1., 0., 0.],\n",
       "       [0., 1., 0.],\n",
       "       [0., 1., 0.],\n",
       "       [1., 0., 0.],\n",
       "       [1., 0., 0.],\n",
       "       [1., 0., 0.],\n",
       "       [0., 0., 1.],\n",
       "       [0., 1., 0.],\n",
       "       [0., 1., 0.],\n",
       "       [0., 0., 1.],\n",
       "       [0., 0., 1.],\n",
       "       [0., 1., 0.],\n",
       "       [0., 1., 0.],\n",
       "       [1., 0., 0.],\n",
       "       [0., 0., 1.],\n",
       "       [0., 0., 1.],\n",
       "       [0., 1., 0.],\n",
       "       [0., 1., 0.],\n",
       "       [0., 1., 0.]], dtype=float32)>"
      ]
     },
     "execution_count": 95,
     "metadata": {},
     "output_type": "execute_result"
    }
   ],
   "execution_count": 95
  },
  {
   "metadata": {
    "ExecuteTime": {
     "end_time": "2024-06-27T13:16:19.620229Z",
     "start_time": "2024-06-27T13:16:10.428710Z"
    }
   },
   "cell_type": "code",
   "source": [
    "from sklearn.model_selection import train_test_split\n",
    "from sklearn.metrics import confusion_matrix\n",
    "from tensorflow import keras\n",
    "from tensorflow.keras import layers \n",
    "from tensorflow.keras.callbacks import EarlyStopping\n",
    "from tensorflow.keras.layers import Embedding,LSTM\n",
    "\n",
    "\n",
    "\n",
    "\n",
    "\n",
    "# Set parameters for data splitting and training\n",
    "TEST_SIZE = 0.2\n",
    "BATCH_SIZE = 512\n",
    "EPOCHS = 30\n",
    "\n",
    "\n",
    "# Encode the labels using One-Hot-Encoding\n",
    "y_train_encoded = tf.one_hot(indices=sk_y_train, depth=3)\n",
    "\n",
    "checkpoint_filepath = 'bestpractice.weights.h5'\n",
    "model_checkpoint_callback = keras.callbacks.ModelCheckpoint(\n",
    "            filepath=checkpoint_filepath,\n",
    "            save_weights_only=True,\n",
    "            monitor='val_accuracy',\n",
    "            mode='max',\n",
    "            save_best_only=True,\n",
    "            verbose = 1\n",
    ")\n",
    "\n",
    "\n",
    "early_stopping = EarlyStopping(monitor='val_loss', patience=10, restore_best_weights=True)\n",
    "\n",
    "\n",
    "\n",
    "# Train model using validation split\n",
    "history = model1.fit(x=sk_X_train, y=y_train_encoded, validation_split=TEST_SIZE, epochs=EPOCHS, batch_size=BATCH_SIZE, callbacks=[early_stopping, model_checkpoint_callback])\n",
    "\n",
    "\n",
    "# Plot the training histroy\n",
    "fig, axs = plt.subplots(2)\n",
    "fig.set_size_inches(12, 8)\n",
    "fig.suptitle('Training History', fontsize=16)\n",
    "axs[0].plot(history.epoch, history.history['loss'], history.history['val_loss'])\n",
    "axs[0].set(title='Loss', xlabel='Epoch', ylabel='Loss')\n",
    "axs[0].legend(['loss', 'val_loss'])\n",
    "axs[1].plot(history.epoch, history.history['accuracy'], history.history['val_accuracy'])\n",
    "axs[1].set(title='Accuracy', xlabel='Epoch', ylabel='Accuracy')\n",
    "axs[1].legend(['accuracy', 'val_accuracy'])\n",
    "plt.show()\n",
    "\n"
   ],
   "id": "e2a2e1b88e8d5720",
   "outputs": [
    {
     "name": "stdout",
     "output_type": "stream",
     "text": [
      "Epoch 1/30\n",
      "\u001B[1m1/1\u001B[0m \u001B[32m━━━━━━━━━━━━━━━━━━━━\u001B[0m\u001B[37m\u001B[0m \u001B[1m0s\u001B[0m 3s/step - accuracy: 0.5053 - loss: 1.0764\n",
      "Epoch 1: val_accuracy improved from -inf to 0.72917, saving model to bestpractice.weights.h5\n",
      "\u001B[1m1/1\u001B[0m \u001B[32m━━━━━━━━━━━━━━━━━━━━\u001B[0m\u001B[37m\u001B[0m \u001B[1m3s\u001B[0m 3s/step - accuracy: 0.5053 - loss: 1.0764 - val_accuracy: 0.7292 - val_loss: 1.0447\n",
      "Epoch 2/30\n",
      "\u001B[1m1/1\u001B[0m \u001B[32m━━━━━━━━━━━━━━━━━━━━\u001B[0m\u001B[37m\u001B[0m \u001B[1m0s\u001B[0m 251ms/step - accuracy: 0.7340 - loss: 1.0458\n",
      "Epoch 2: val_accuracy improved from 0.72917 to 0.89583, saving model to bestpractice.weights.h5\n",
      "\u001B[1m1/1\u001B[0m \u001B[32m━━━━━━━━━━━━━━━━━━━━\u001B[0m\u001B[37m\u001B[0m \u001B[1m0s\u001B[0m 368ms/step - accuracy: 0.7340 - loss: 1.0458 - val_accuracy: 0.8958 - val_loss: 1.0139\n",
      "Epoch 3/30\n",
      "\u001B[1m1/1\u001B[0m \u001B[32m━━━━━━━━━━━━━━━━━━━━\u001B[0m\u001B[37m\u001B[0m \u001B[1m0s\u001B[0m 244ms/step - accuracy: 0.9521 - loss: 1.0149\n",
      "Epoch 3: val_accuracy improved from 0.89583 to 0.95833, saving model to bestpractice.weights.h5\n",
      "\u001B[1m1/1\u001B[0m \u001B[32m━━━━━━━━━━━━━━━━━━━━\u001B[0m\u001B[37m\u001B[0m \u001B[1m0s\u001B[0m 356ms/step - accuracy: 0.9521 - loss: 1.0149 - val_accuracy: 0.9583 - val_loss: 0.9821\n",
      "Epoch 4/30\n",
      "\u001B[1m1/1\u001B[0m \u001B[32m━━━━━━━━━━━━━━━━━━━━\u001B[0m\u001B[37m\u001B[0m \u001B[1m0s\u001B[0m 248ms/step - accuracy: 0.9787 - loss: 0.9830\n",
      "Epoch 4: val_accuracy did not improve from 0.95833\n",
      "\u001B[1m1/1\u001B[0m \u001B[32m━━━━━━━━━━━━━━━━━━━━\u001B[0m\u001B[37m\u001B[0m \u001B[1m0s\u001B[0m 324ms/step - accuracy: 0.9787 - loss: 0.9830 - val_accuracy: 0.9583 - val_loss: 0.9481\n",
      "Epoch 5/30\n",
      "\u001B[1m1/1\u001B[0m \u001B[32m━━━━━━━━━━━━━━━━━━━━\u001B[0m\u001B[37m\u001B[0m \u001B[1m0s\u001B[0m 241ms/step - accuracy: 0.9840 - loss: 0.9493\n",
      "Epoch 5: val_accuracy did not improve from 0.95833\n",
      "\u001B[1m1/1\u001B[0m \u001B[32m━━━━━━━━━━━━━━━━━━━━\u001B[0m\u001B[37m\u001B[0m \u001B[1m0s\u001B[0m 326ms/step - accuracy: 0.9840 - loss: 0.9493 - val_accuracy: 0.9583 - val_loss: 0.9103\n",
      "Epoch 6/30\n",
      "\u001B[1m1/1\u001B[0m \u001B[32m━━━━━━━━━━━━━━━━━━━━\u001B[0m\u001B[37m\u001B[0m \u001B[1m0s\u001B[0m 251ms/step - accuracy: 0.9840 - loss: 0.9122\n",
      "Epoch 6: val_accuracy did not improve from 0.95833\n",
      "\u001B[1m1/1\u001B[0m \u001B[32m━━━━━━━━━━━━━━━━━━━━\u001B[0m\u001B[37m\u001B[0m \u001B[1m0s\u001B[0m 334ms/step - accuracy: 0.9840 - loss: 0.9122 - val_accuracy: 0.9583 - val_loss: 0.8653\n",
      "Epoch 7/30\n",
      "\u001B[1m1/1\u001B[0m \u001B[32m━━━━━━━━━━━━━━━━━━━━\u001B[0m\u001B[37m\u001B[0m \u001B[1m0s\u001B[0m 256ms/step - accuracy: 0.9840 - loss: 0.8686\n",
      "Epoch 7: val_accuracy improved from 0.95833 to 1.00000, saving model to bestpractice.weights.h5\n",
      "\u001B[1m1/1\u001B[0m \u001B[32m━━━━━━━━━━━━━━━━━━━━\u001B[0m\u001B[37m\u001B[0m \u001B[1m0s\u001B[0m 380ms/step - accuracy: 0.9840 - loss: 0.8686 - val_accuracy: 1.0000 - val_loss: 0.7947\n",
      "Epoch 8/30\n",
      "\u001B[1m1/1\u001B[0m \u001B[32m━━━━━━━━━━━━━━━━━━━━\u001B[0m\u001B[37m\u001B[0m \u001B[1m0s\u001B[0m 236ms/step - accuracy: 0.9574 - loss: 8.7086\n",
      "Epoch 8: val_accuracy did not improve from 1.00000\n",
      "\u001B[1m1/1\u001B[0m \u001B[32m━━━━━━━━━━━━━━━━━━━━\u001B[0m\u001B[37m\u001B[0m \u001B[1m0s\u001B[0m 318ms/step - accuracy: 0.9574 - loss: 8.7086 - val_accuracy: 0.9792 - val_loss: 0.8198\n",
      "Epoch 9/30\n",
      "\u001B[1m1/1\u001B[0m \u001B[32m━━━━━━━━━━━━━━━━━━━━\u001B[0m\u001B[37m\u001B[0m \u001B[1m0s\u001B[0m 237ms/step - accuracy: 0.9840 - loss: 0.8235\n",
      "Epoch 9: val_accuracy did not improve from 1.00000\n",
      "\u001B[1m1/1\u001B[0m \u001B[32m━━━━━━━━━━━━━━━━━━━━\u001B[0m\u001B[37m\u001B[0m \u001B[1m0s\u001B[0m 319ms/step - accuracy: 0.9840 - loss: 0.8235 - val_accuracy: 0.9792 - val_loss: 0.8300\n",
      "Epoch 10/30\n",
      "\u001B[1m1/1\u001B[0m \u001B[32m━━━━━━━━━━━━━━━━━━━━\u001B[0m\u001B[37m\u001B[0m \u001B[1m0s\u001B[0m 250ms/step - accuracy: 0.9840 - loss: 0.8312\n",
      "Epoch 10: val_accuracy did not improve from 1.00000\n",
      "\u001B[1m1/1\u001B[0m \u001B[32m━━━━━━━━━━━━━━━━━━━━\u001B[0m\u001B[37m\u001B[0m \u001B[1m0s\u001B[0m 327ms/step - accuracy: 0.9840 - loss: 0.8312 - val_accuracy: 0.9792 - val_loss: 0.8355\n",
      "Epoch 11/30\n",
      "\u001B[1m1/1\u001B[0m \u001B[32m━━━━━━━━━━━━━━━━━━━━\u001B[0m\u001B[37m\u001B[0m \u001B[1m0s\u001B[0m 249ms/step - accuracy: 0.9894 - loss: 0.8352\n",
      "Epoch 11: val_accuracy did not improve from 1.00000\n",
      "\u001B[1m1/1\u001B[0m \u001B[32m━━━━━━━━━━━━━━━━━━━━\u001B[0m\u001B[37m\u001B[0m \u001B[1m0s\u001B[0m 332ms/step - accuracy: 0.9894 - loss: 0.8352 - val_accuracy: 0.9792 - val_loss: 0.8386\n",
      "Epoch 12/30\n",
      "\u001B[1m1/1\u001B[0m \u001B[32m━━━━━━━━━━━━━━━━━━━━\u001B[0m\u001B[37m\u001B[0m \u001B[1m0s\u001B[0m 246ms/step - accuracy: 0.9894 - loss: 0.8372\n",
      "Epoch 12: val_accuracy did not improve from 1.00000\n",
      "\u001B[1m1/1\u001B[0m \u001B[32m━━━━━━━━━━━━━━━━━━━━\u001B[0m\u001B[37m\u001B[0m \u001B[1m0s\u001B[0m 334ms/step - accuracy: 0.9894 - loss: 0.8372 - val_accuracy: 0.9792 - val_loss: 0.8401\n",
      "Epoch 13/30\n",
      "\u001B[1m1/1\u001B[0m \u001B[32m━━━━━━━━━━━━━━━━━━━━\u001B[0m\u001B[37m\u001B[0m \u001B[1m0s\u001B[0m 284ms/step - accuracy: 0.9894 - loss: 0.8378\n",
      "Epoch 13: val_accuracy did not improve from 1.00000\n",
      "\u001B[1m1/1\u001B[0m \u001B[32m━━━━━━━━━━━━━━━━━━━━\u001B[0m\u001B[37m\u001B[0m \u001B[1m0s\u001B[0m 363ms/step - accuracy: 0.9894 - loss: 0.8378 - val_accuracy: 0.9792 - val_loss: 0.8407\n",
      "Epoch 14/30\n",
      "\u001B[1m1/1\u001B[0m \u001B[32m━━━━━━━━━━━━━━━━━━━━\u001B[0m\u001B[37m\u001B[0m \u001B[1m0s\u001B[0m 243ms/step - accuracy: 0.9894 - loss: 0.8375\n",
      "Epoch 14: val_accuracy did not improve from 1.00000\n",
      "\u001B[1m1/1\u001B[0m \u001B[32m━━━━━━━━━━━━━━━━━━━━\u001B[0m\u001B[37m\u001B[0m \u001B[1m0s\u001B[0m 326ms/step - accuracy: 0.9894 - loss: 0.8375 - val_accuracy: 0.9792 - val_loss: 0.8403\n",
      "Epoch 15/30\n",
      "\u001B[1m1/1\u001B[0m \u001B[32m━━━━━━━━━━━━━━━━━━━━\u001B[0m\u001B[37m\u001B[0m \u001B[1m0s\u001B[0m 245ms/step - accuracy: 0.9894 - loss: 0.8365\n",
      "Epoch 15: val_accuracy did not improve from 1.00000\n",
      "\u001B[1m1/1\u001B[0m \u001B[32m━━━━━━━━━━━━━━━━━━━━\u001B[0m\u001B[37m\u001B[0m \u001B[1m0s\u001B[0m 329ms/step - accuracy: 0.9894 - loss: 0.8365 - val_accuracy: 0.9792 - val_loss: 0.8393\n",
      "Epoch 16/30\n",
      "\u001B[1m1/1\u001B[0m \u001B[32m━━━━━━━━━━━━━━━━━━━━\u001B[0m\u001B[37m\u001B[0m \u001B[1m0s\u001B[0m 243ms/step - accuracy: 0.9894 - loss: 0.8349\n",
      "Epoch 16: val_accuracy did not improve from 1.00000\n",
      "\u001B[1m1/1\u001B[0m \u001B[32m━━━━━━━━━━━━━━━━━━━━\u001B[0m\u001B[37m\u001B[0m \u001B[1m0s\u001B[0m 333ms/step - accuracy: 0.9894 - loss: 0.8349 - val_accuracy: 0.9792 - val_loss: 0.8376\n",
      "Epoch 17/30\n",
      "\u001B[1m1/1\u001B[0m \u001B[32m━━━━━━━━━━━━━━━━━━━━\u001B[0m\u001B[37m\u001B[0m \u001B[1m0s\u001B[0m 281ms/step - accuracy: 0.9894 - loss: 0.8327\n",
      "Epoch 17: val_accuracy did not improve from 1.00000\n",
      "\u001B[1m1/1\u001B[0m \u001B[32m━━━━━━━━━━━━━━━━━━━━\u001B[0m\u001B[37m\u001B[0m \u001B[1m0s\u001B[0m 367ms/step - accuracy: 0.9894 - loss: 0.8327 - val_accuracy: 0.9792 - val_loss: 0.8353\n"
     ]
    },
    {
     "data": {
      "text/plain": [
       "<Figure size 1200x800 with 2 Axes>"
      ],
      "image/png": "[encoded data removed]"
     },
     "metadata": {},
     "output_type": "display_data"
    }
   ],
   "execution_count": 102
  },
  {
   "metadata": {
    "ExecuteTime": {
     "end_time": "2024-06-27T13:16:41.632466Z",
     "start_time": "2024-06-27T13:16:41.031771Z"
    }
   },
   "cell_type": "code",
   "source": [
    "y_pred = model1.predict(sk_X_test)\n",
    "y_pred_labels = np.argmax(y_pred, axis=1)\n",
    "#y_true = np.argmax(sk_y_test, axis=1)\n",
    "conf_matrix = confusion_matrix(sk_y_test, y_pred_labels)\n",
    "conf_matrix"
   ],
   "id": "be14eddfa98ff5f7",
   "outputs": [
    {
     "name": "stdout",
     "output_type": "stream",
     "text": [
      "\u001B[1m2/2\u001B[0m \u001B[32m━━━━━━━━━━━━━━━━━━━━\u001B[0m\u001B[37m\u001B[0m \u001B[1m1s\u001B[0m 263ms/step\n"
     ]
    },
    {
     "data": {
      "text/plain": [
       "array([[18,  0,  0],\n",
       "       [ 0, 16,  0],\n",
       "       [ 0,  3, 23]], dtype=int64)"
      ]
     },
     "execution_count": 103,
     "metadata": {},
     "output_type": "execute_result"
    }
   ],
   "execution_count": 103
  },
  {
   "metadata": {
    "ExecuteTime": {
     "end_time": "2024-06-27T11:17:55.213369Z",
     "start_time": "2024-06-27T11:17:53.953297Z"
    }
   },
   "cell_type": "code",
   "source": [
    "from sklearn.model_selection import train_test_split\n",
    "from sklearn.metrics import confusion_matrix\n",
    "#-----kein plan digger\n",
    "sk_X_train, sk_X_test, sk_y_train, sk_y_test = train_test_split(x_train, y_train, test_size=0.2)\n",
    "y_pred = model1.predict(sk_X_test)\n",
    "y_pred_labels = np.argmax(y_pred, axis=1)\n",
    "#y_true = np.argmax(sk_y_test, axis=1)\n",
    "conf_matrix = confusion_matrix(sk_y_test, y_pred_labels)\n",
    "conf_matrix"
   ],
   "id": "d7982552165903d1",
   "outputs": [
    {
     "name": "stdout",
     "output_type": "stream",
     "text": [
      "\u001B[1m2/2\u001B[0m \u001B[32m━━━━━━━━━━━━━━━━━━━━\u001B[0m\u001B[37m\u001B[0m \u001B[1m1s\u001B[0m 619ms/step\n"
     ]
    },
    {
     "data": {
      "text/plain": [
       "array([[23,  0,  0],\n",
       "       [20,  0,  0],\n",
       "       [16,  0,  0]], dtype=int64)"
      ]
     },
     "execution_count": 14,
     "metadata": {},
     "output_type": "execute_result"
    }
   ],
   "execution_count": 14
  },
  {
   "metadata": {},
   "cell_type": "code",
   "outputs": [],
   "execution_count": null,
   "source": "",
   "id": "2e14d6577794b97e"
  },
  {
   "metadata": {},
   "cell_type": "code",
   "outputs": [],
   "execution_count": null,
   "source": "",
   "id": "6e04d94a0e0b2eba"
  },
  {
   "metadata": {
    "ExecuteTime": {
     "end_time": "2024-06-27T13:17:08.217474Z",
     "start_time": "2024-06-27T13:17:07.405871Z"
    }
   },
   "cell_type": "code",
   "source": [
    "y_predicted = np.argmax(model1.predict(x=x_train), axis=1)\n",
    "confusion_matrix = tf.math.confusion_matrix(labels=y_train, predictions=y_predicted)\n",
    "fig = plt.figure()\n",
    "fig.set_size_inches(12, 8)\n",
    "sns.heatmap(confusion_matrix, xticklabels=LABELS, yticklabels=LABELS, annot=True, fmt='g')\n",
    "plt.xlabel('Prediction')\n",
    "plt.ylabel('Label')\n",
    "plt.show()"
   ],
   "id": "f427e9b7ad2f28c8",
   "outputs": [
    {
     "name": "stdout",
     "output_type": "stream",
     "text": [
      "\u001B[1m10/10\u001B[0m \u001B[32m━━━━━━━━━━━━━━━━━━━━\u001B[0m\u001B[37m\u001B[0m \u001B[1m0s\u001B[0m 39ms/step\n"
     ]
    },
    {
     "data": {
      "text/plain": [
       "<Figure size 1200x800 with 2 Axes>"
      ],
      "image/png": "[encoded data removed]"
     },
     "metadata": {},
     "output_type": "display_data"
    }
   ],
   "execution_count": 104
  },
  {
   "metadata": {},
   "cell_type": "code",
   "outputs": [],
   "execution_count": null,
   "source": "model.",
   "id": "4ee29b279f08b151"
  }
 ],
 "metadata": {
  "kernelspec": {
   "display_name": "Python 3",
   "language": "python",
   "name": "python3"
  },
  "language_info": {
   "codemirror_mode": {
    "name": "ipython",
    "version": 2
   },
   "file_extension": ".py",
   "mimetype": "text/x-python",
   "name": "python",
   "nbconvert_exporter": "python",
   "pygments_lexer": "ipython2",
   "version": "2.7.6"
  }
 },
 "nbformat": 4,
 "nbformat_minor": 5
}
